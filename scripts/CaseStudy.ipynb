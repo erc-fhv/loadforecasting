{
 "cells": [
  {
   "cell_type": "code",
   "execution_count": 1,
   "metadata": {},
   "outputs": [],
   "source": [
    "#from pyomo.environ import ConcreteModel, Var, Objective, Constraint, ConstraintList, SolverFactory, NonNegativeReals, minimize, value\n",
    "from pyomo.environ import *\n",
    "\n",
    "import sys\n",
    "import time\n",
    "import pickle\n",
    "import pandas as pd\n",
    "import numpy as np\n",
    "\n",
    "import math\n",
    "import random\n",
    "import matplotlib\n",
    "import matplotlib.pyplot as plt"
   ]
  },
  {
   "cell_type": "code",
   "execution_count": 2,
   "metadata": {},
   "outputs": [
    {
     "name": "stdout",
     "output_type": "stream",
     "text": [
      "Pyomo version: 6.7.0\n",
      "Python version: 3.11.8 | packaged by conda-forge | (main, Feb 16 2024, 20:49:36) [Clang 16.0.6 ]\n"
     ]
    }
   ],
   "source": [
    "# Print versions of the imported libraries\n",
    "print(\"Pyomo version:\", pyomo.version.__version__)\n",
    "# Print the Python version\n",
    "print(\"Python version:\", sys.version)"
   ]
  },
  {
   "cell_type": "code",
   "execution_count": 3,
   "metadata": {},
   "outputs": [],
   "source": [
    "# Update font size globally\n",
    "plt.rcParams.update({'font.size': 8})\n",
    "\n",
    "# Set specific parameters for tick labels, axis labels, and legend\n",
    "plt.rcParams.update({\n",
    "    'axes.labelsize': 8,      # Axis labels\n",
    "    'xtick.labelsize': 8,     # X-axis tick labels\n",
    "    'ytick.labelsize': 8,     # Y-axis tick labels\n",
    "    'legend.fontsize': 8,     # Legend text\n",
    "    'lines.linewidth': 1,     # Line width\n",
    "    'axes.titlesize': 8       # Title size\n",
    "})"
   ]
  },
  {
   "cell_type": "code",
   "execution_count": 4,
   "metadata": {},
   "outputs": [],
   "source": [
    "# load data\n",
    "# electrical load in W\n",
    "names = {0: 'Perfect', 1: 'Synth', 2: 'KNN', 3: 'Persistence', 4: 'xLSTM', 5: 'LSTM', 6: 'Transformer'}\n",
    "\n",
    "with open('example_predictions.pkl', 'rb') as f: \n",
    "    (P_el_predicted, startdate) = pickle.load(f)\n",
    "# energy price in €/Wh\n",
    "with open('exaa_prices_1h.pkl', 'rb') as f:\n",
    "    price = pickle.load(f)\n",
    "    \n",
    "P_el_predicted = np.array(P_el_predicted)"
   ]
  },
  {
   "cell_type": "code",
   "execution_count": 5,
   "metadata": {},
   "outputs": [
    {
     "data": {
      "text/plain": [
       "(3144,)"
      ]
     },
     "execution_count": 5,
     "metadata": {},
     "output_type": "execute_result"
    }
   ],
   "source": [
    "price.shape"
   ]
  },
  {
   "cell_type": "code",
   "execution_count": null,
   "metadata": {},
   "outputs": [],
   "source": []
  },
  {
   "cell_type": "code",
   "execution_count": 7,
   "metadata": {},
   "outputs": [
    {
     "data": {
      "text/plain": [
       "(7, 3144)"
      ]
     },
     "execution_count": 7,
     "metadata": {},
     "output_type": "execute_result"
    }
   ],
   "source": [
    "P_el_predicted.shape"
   ]
  },
  {
   "cell_type": "code",
   "execution_count": 8,
   "metadata": {},
   "outputs": [],
   "source": [
    "P_el_real = P_el_predicted[0,:]"
   ]
  },
  {
   "cell_type": "code",
   "execution_count": 9,
   "metadata": {},
   "outputs": [
    {
     "data": {
      "text/plain": [
       "(3144,)"
      ]
     },
     "execution_count": 9,
     "metadata": {},
     "output_type": "execute_result"
    }
   ],
   "source": [
    "P_el_real.shape"
   ]
  },
  {
   "cell_type": "code",
   "execution_count": 10,
   "metadata": {},
   "outputs": [
    {
     "data": {
      "text/plain": [
       "Timestamp('2013-10-20 00:00:00+0000', tz='UTC')"
      ]
     },
     "execution_count": 10,
     "metadata": {},
     "output_type": "execute_result"
    }
   ],
   "source": [
    "startdate"
   ]
  },
  {
   "cell_type": "markdown",
   "metadata": {},
   "source": [
    "## Reference"
   ]
  },
  {
   "cell_type": "code",
   "execution_count": 11,
   "metadata": {},
   "outputs": [
    {
     "name": "stdout",
     "output_type": "stream",
     "text": [
      "Non-optimized reference costs: 6037.91 €\n"
     ]
    }
   ],
   "source": [
    "delta_t = 1\n",
    "reference_costs = (price * P_el_real * delta_t).sum()\n",
    "print(f\"Non-optimized reference costs: {reference_costs:.2f} €\")"
   ]
  },
  {
   "cell_type": "markdown",
   "metadata": {},
   "source": [
    "## Optimization"
   ]
  },
  {
   "cell_type": "code",
   "execution_count": 12,
   "metadata": {},
   "outputs": [
    {
     "name": "stdout",
     "output_type": "stream",
     "text": [
      "Non-optimized reference costs = 6037.91 €\n",
      "------------------------------------------\n",
      "Electricity costs for predictor Perfect     = 3845.92 €\n",
      "Electricity costs for predictor Synth       = 4188.46 €\n",
      "Electricity costs for predictor KNN         = 4155.93 €\n",
      "Electricity costs for predictor Persistence = 4159.02 €\n",
      "Electricity costs for predictor xLSTM       = 4072.12 €\n",
      "Electricity costs for predictor LSTM        = 4071.49 €\n",
      "Electricity costs for predictor Transformer = 4091.66 €\n",
      "------------------------------------------\n",
      "Profit for predictor Perfect     = 2191.99 €\n",
      "Profit for predictor Synth       = 1849.45 €\n",
      "Profit for predictor KNN         = 1881.99 €\n",
      "Profit for predictor Persistence = 1878.90 €\n",
      "Profit for predictor xLSTM       = 1965.79 €\n",
      "Profit for predictor LSTM        = 1966.42 €\n",
      "Profit for predictor Transformer = 1946.25 €\n"
     ]
    }
   ],
   "source": [
    "### Parameters\n",
    "# Battery Energy Storage\n",
    "C = 1000000.0   # Capacity (1MWh) in Wh\n",
    "P_el_max = C / 4 # Maximum charge Power in kW\n",
    "eta_ch = 0.975\n",
    "eta_dis = 0.975\n",
    "\n",
    "# Number of different predictors\n",
    "nb_preds = P_el_predicted.shape[0]\n",
    "\n",
    "# Time parameters\n",
    "time_steps_per_day = 24\n",
    "test_days = int(P_el_predicted.shape[1] / time_steps_per_day)\n",
    "delta_t = 1 # 1h\n",
    "\n",
    "# Array to store the total costs for each predictor\n",
    "sol_total_costs = np.zeros(nb_preds)\n",
    "\n",
    "# Open-source solver HiGHS:\n",
    "# https://github.com/ERGO-Code/HiGHS\n",
    "# https://pyomo.readthedocs.io/en/6.8.0/library_reference/appsi/appsi.solvers.highs.html\n",
    "solver = SolverFactory(\"appsi_highs\")  \n",
    "\n",
    "### Optimization Problem\n",
    "for pred_type in range(nb_preds):\n",
    "    # Initialize variables to store optimization results\n",
    "    optimal_P_batt = np.zeros(test_days * time_steps_per_day)\n",
    "\n",
    "    # Initial battery state (50% full)\n",
    "    E_start = C / 2\n",
    "    E_final = C / 2\n",
    "\n",
    "    for day in range(test_days):\n",
    "        start_hour = day * time_steps_per_day\n",
    "\n",
    "        # Initialize Pyomo m\n",
    "        m = ConcreteModel()\n",
    "        m.T = range(time_steps_per_day)\n",
    "        m.T_ext = range(time_steps_per_day + 1)\n",
    "\n",
    "        # Define variables\n",
    "        m.P_grid = Var(m.T, within=NonNegativeReals)\n",
    "        m.P_ch = Var(m.T, bounds=(0, P_el_max))\n",
    "        m.P_dis = Var(m.T, bounds=(0, P_el_max))\n",
    "        m.E_batt = Var(m.T_ext, bounds=(0, C))\n",
    "        \n",
    "        m.b_ch = Var(m.T, within=Binary)\n",
    "        m.b_dis = Var(m.T, within=Binary)\n",
    "\n",
    "        # Objective function: minimize grid costs\n",
    "        m.obj = Objective(\n",
    "            expr=sum(price[start_hour + t] * m.P_grid[t] * delta_t for t in m.T),\n",
    "            sense=minimize\n",
    "        )\n",
    "\n",
    "        # Constraints\n",
    "        m.InitialSOC = Constraint(expr=m.E_batt[0] == E_start)\n",
    "        m.FinalSOC = Constraint(expr=m.E_batt[time_steps_per_day] == E_final)\n",
    "\n",
    "        m.PowerBalance = ConstraintList()\n",
    "        m.EnergyBalance = ConstraintList()\n",
    "        m.ChargingIndicator = ConstraintList()\n",
    "        m.DishargingIndicator = ConstraintList()\n",
    "        m.SOS1 = ConstraintList()\n",
    "\n",
    "        for t in m.T:\n",
    "            # Power balance: power in = power out\n",
    "            m.PowerBalance.add(m.P_grid[t] + m.P_dis[t] == m.P_ch[t] + P_el_predicted[pred_type, start_hour + t])\n",
    "            # Energy balance of the battery\n",
    "            m.EnergyBalance.add(m.E_batt[t + 1] == m.E_batt[t] + (m.P_ch[t]*eta_ch - m.P_dis[t]/eta_dis) * delta_t)\n",
    "\n",
    "            # Binary variables to ensure that the battery cannot charge and discharge at the same time\n",
    "            m.ChargingIndicator.add(m.P_ch[t] <= m.b_ch[t] * P_el_max)\n",
    "            m.DishargingIndicator.add(m.P_dis[t] <= m.b_dis[t] * P_el_max)\n",
    "            m.SOS1.add(m.b_ch[t] + m.b_dis[t] == 1)\n",
    "\n",
    "        # Solve the m\n",
    "        result = solver.solve(m)\n",
    "\n",
    "        # Store Solutions\n",
    "        for t in m.T:\n",
    "            optimal_P_batt[start_hour + t] = value(m.P_ch[t]) - value(m.P_dis[t])\n",
    "        E_start = value(m.E_batt[time_steps_per_day])\n",
    "       \n",
    "    # Final cost calculation without profit for feed-in (feed-in tariff = 0 €/Wh)\n",
    "    # Calculate the resulting grid power for consumption\n",
    "    P_total = np.maximum(optimal_P_batt + P_el_real, 0)\n",
    "    costs_year = np.sum(P_total * price * delta_t)\n",
    "\n",
    "    # Store the annual cost for the current predictor\n",
    "    sol_total_costs[pred_type] = costs_year\n",
    "\n",
    "### Results\n",
    "# Comparison with reference costs\n",
    "print(f\"Non-optimized reference costs = {reference_costs:.2f} €\")\n",
    "print(42*'-')\n",
    "for pred_type in range(nb_preds):\n",
    "    print(f\"Electricity costs for predictor {names[pred_type]:12s}= {sol_total_costs[pred_type]:.2f} €\")\n",
    "print(42*'-')\n",
    "for pred_type in range(nb_preds):\n",
    "    profit = reference_costs - sol_total_costs[pred_type]\n",
    "    print(f\"Profit for predictor {names[pred_type]:12s}= {profit:.2f} €\")"
   ]
  },
  {
   "cell_type": "code",
   "execution_count": null,
   "metadata": {},
   "outputs": [],
   "source": []
  },
  {
   "cell_type": "code",
   "execution_count": null,
   "metadata": {},
   "outputs": [],
   "source": []
  },
  {
   "cell_type": "code",
   "execution_count": null,
   "metadata": {},
   "outputs": [],
   "source": []
  },
  {
   "cell_type": "code",
   "execution_count": null,
   "metadata": {},
   "outputs": [],
   "source": []
  }
 ],
 "metadata": {
  "kernelspec": {
   "display_name": "Python 3 (ipykernel)",
   "language": "python",
   "name": "python3"
  },
  "language_info": {
   "codemirror_mode": {
    "name": "ipython",
    "version": 3
   },
   "file_extension": ".py",
   "mimetype": "text/x-python",
   "name": "python",
   "nbconvert_exporter": "python",
   "pygments_lexer": "ipython3",
   "version": "3.11.8"
  }
 },
 "nbformat": 4,
 "nbformat_minor": 4
}
