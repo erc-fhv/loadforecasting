{
 "cells": [
  {
   "cell_type": "markdown",
   "metadata": {},
   "source": [
    "# Import Libraries"
   ]
  },
  {
   "cell_type": "code",
   "execution_count": 1,
   "metadata": {},
   "outputs": [],
   "source": [
    "import os\n",
    "import pickle\n",
    "import torch\n",
    "import torch.nn as nn\n",
    "import pandas as pd\n",
    "import importlib\n",
    "from collections import defaultdict\n",
    "import numpy as np\n",
    "\n",
    "# All imports are done relative to the \n",
    "# root of the project.\n",
    "#\n",
    "project_root = '../../'\n",
    "if 'change_directory_to_root' not in globals():\n",
    "    change_directory_to_root = True\n",
    "    os.chdir(project_root)\n",
    "\n",
    "# Imports own modules.\n",
    "#\n",
    "import scripts.case_study.OptimizeBESS as OptimizeBESS\n",
    "import scripts.Utils as utils\n",
    "import scripts.Simulation_config as Simulation_config\n",
    "from scripts.Simulation_config import *\n"
   ]
  },
  {
   "cell_type": "markdown",
   "metadata": {},
   "source": [
    "# Import Price Signal"
   ]
  },
  {
   "cell_type": "code",
   "execution_count": 2,
   "metadata": {},
   "outputs": [],
   "source": [
    "# Import energy price in €/Wh\n",
    "#\n",
    "with open('data/exaa_prices_1h.pkl', 'rb') as f:\n",
    "    price_signal = pickle.load(f)\n"
   ]
  },
  {
   "cell_type": "markdown",
   "metadata": {},
   "source": [
    "# Import last Load Forecasts"
   ]
  },
  {
   "cell_type": "code",
   "execution_count": null,
   "metadata": {},
   "outputs": [],
   "source": [
    "# Import electrical load forecast in W\n",
    "#\n",
    "importlib.reload(utils)\n",
    "importlib.reload(Simulation_config)\n",
    "\n",
    "########\n",
    "# Setup the test setup configuration\n",
    "#\n",
    "resuts_filename = 'scripts/outputs/all_train_histories.pkl'\n",
    "expected_configs = [\n",
    "    Config_of_one_run(ModelSize._5k, DoPretraining.YES, DoTransferLearning.YES, Aggregation_Count._1_HOUSEHOLD, NrOfComunities._20, \n",
    "            TrainingHistory._12_MONTH, TestSize._3_MONTH, TrainingFuture._0_MONTH, DevSize._2_MONTH, UsedModels.ALL, Epochs.DEFAULT),\n",
    "    Config_of_one_run(ModelSize._5k, DoPretraining.YES, DoTransferLearning.YES, Aggregation_Count._2_HOUSEHOLDS, NrOfComunities._20, \n",
    "            TrainingHistory._12_MONTH, TestSize._3_MONTH, TrainingFuture._0_MONTH, DevSize._2_MONTH, UsedModels.ALL, Epochs.DEFAULT),\n",
    "    Config_of_one_run(ModelSize._5k, DoPretraining.YES, DoTransferLearning.YES, Aggregation_Count._10_HOUSEHOLDS, NrOfComunities._20, \n",
    "            TrainingHistory._12_MONTH, TestSize._3_MONTH, TrainingFuture._0_MONTH, DevSize._2_MONTH, UsedModels.ALL, Epochs.DEFAULT),\n",
    "    Config_of_one_run(ModelSize._5k, DoPretraining.YES, DoTransferLearning.YES, Aggregation_Count._50_HOUSEHOLDS, NrOfComunities._20, \n",
    "            TrainingHistory._12_MONTH, TestSize._3_MONTH, TrainingFuture._0_MONTH, DevSize._2_MONTH, UsedModels.ALL, Epochs.DEFAULT),\n",
    "    Config_of_one_run(ModelSize._5k, DoPretraining.YES, DoTransferLearning.YES, Aggregation_Count._100_HOUSEHOLDS, NrOfComunities._20, \n",
    "            TrainingHistory._12_MONTH, TestSize._3_MONTH, TrainingFuture._0_MONTH, DevSize._2_MONTH, UsedModels.ALL, Epochs.DEFAULT),\n",
    "    ]\n",
    "########\n",
    "\n",
    "# Get the stored results file from the last test run\n",
    "result_dict = utils.Evaluate_Models.print_results(resuts_filename, print_style = 'predicted_profiles')\n",
    "\n",
    "# Check, if all data are available\n",
    "# and create a nested dictionary of shape 'profiles_by_community_size[community_size][model][community_id]'\n",
    "#\n",
    "profiles_by_community_size = defaultdict(dict)\n",
    "for expected_config in expected_configs:\n",
    "    for available_config in result_dict:\n",
    "        if expected_config == available_config:\n",
    "            community_size = expected_config.aggregation_Count[0]\n",
    "            profiles_by_community_size[community_size] = result_dict[expected_config]\n",
    "assert len(profiles_by_community_size) == len(expected_configs), \\\n",
    "    f\"Not all expected test-runs found: {len(profiles_by_community_size)} != {len(expected_configs)}.\"\n"
   ]
  },
  {
   "cell_type": "markdown",
   "metadata": {},
   "source": [
    "## MILP Optimization"
   ]
  },
  {
   "cell_type": "code",
   "execution_count": 4,
   "metadata": {},
   "outputs": [
    {
     "name": "stdout",
     "output_type": "stream",
     "text": [
      "Run community size 1 with model \"Perfect\"\n"
     ]
    },
    {
     "name": "stdout",
     "output_type": "stream",
     "text": [
      "Run community size 1 with model \"KNN\"\n",
      "Run community size 1 with model \"PersistencePrediction\"\n",
      "Run community size 1 with model \"xLSTM\"\n",
      "Run community size 1 with model \"LSTM\"\n",
      "Run community size 1 with model \"Transformer_Encoder_Only\"\n",
      "Run community size 2 with model \"Perfect\"\n",
      "Run community size 2 with model \"KNN\"\n",
      "Run community size 2 with model \"PersistencePrediction\"\n",
      "Run community size 2 with model \"xLSTM\"\n",
      "Run community size 2 with model \"LSTM\"\n",
      "Run community size 2 with model \"Transformer_Encoder_Only\"\n",
      "Run community size 10 with model \"Perfect\"\n",
      "Run community size 10 with model \"KNN\"\n",
      "Run community size 10 with model \"PersistencePrediction\"\n",
      "Run community size 10 with model \"xLSTM\"\n",
      "Run community size 10 with model \"LSTM\"\n",
      "Run community size 10 with model \"Transformer_Encoder_Only\"\n",
      "Run community size 50 with model \"Perfect\"\n",
      "Run community size 50 with model \"KNN\"\n",
      "Run community size 50 with model \"PersistencePrediction\"\n",
      "Run community size 50 with model \"xLSTM\"\n",
      "Run community size 50 with model \"LSTM\"\n",
      "Run community size 50 with model \"Transformer_Encoder_Only\"\n",
      "Run community size 100 with model \"Perfect\"\n",
      "Run community size 100 with model \"KNN\"\n",
      "Run community size 100 with model \"PersistencePrediction\"\n",
      "Run community size 100 with model \"xLSTM\"\n",
      "Run community size 100 with model \"LSTM\"\n",
      "Run community size 100 with model \"Transformer_Encoder_Only\"\n"
     ]
    }
   ],
   "source": [
    "importlib.reload(OptimizeBESS)\n",
    "\n",
    "# Run the MILP optimziation for all communities and model sizes.\n",
    "#\n",
    "costs_per_community_size = defaultdict(lambda: defaultdict(lambda: defaultdict(dict)))\n",
    "for community_size, profiles_per_model in profiles_by_community_size.items():\n",
    "    for model_name, profiles_per_community in profiles_per_model.items():\n",
    "        print(f'Optimize community size {community_size} with model \"{model_name}\"')\n",
    "        for community_id, profile in enumerate(profiles_per_community):\n",
    "            perfect_prediction = profiles_per_model['Perfect'][community_id]\n",
    "            myOptimization = OptimizeBESS.OptimizeBESS( profile, \n",
    "                                                        community_size, \n",
    "                                                        price_signal, \n",
    "                                                        perfect_prediction)\n",
    "            optimization_result = myOptimization.run()\n",
    "            costs_per_community_size[community_size][model_name][community_id] = optimization_result\n"
   ]
  },
  {
   "cell_type": "markdown",
   "metadata": {},
   "source": [
    "# Evaluation"
   ]
  },
  {
   "cell_type": "code",
   "execution_count": 5,
   "metadata": {},
   "outputs": [
    {
     "name": "stdout",
     "output_type": "stream",
     "text": [
      "\n",
      "Community Size: 1 household(s).\n",
      "------------------------------------------\n",
      "      Model nMAE (%)  Costs (€) Savings (€) Savings (%)\n",
      "Unoptimized              299.06                        \n",
      "    Perfect      0.0     280.65       18.41        6.16\n",
      "        KNN    53.84     295.38        3.68        1.23\n",
      "Persistence    57.25     296.85        2.21        0.74\n",
      "      xLSTM    50.32     293.22        5.84        1.95\n",
      "       LSTM    50.06     292.70        6.36        2.13\n",
      "Transformer     50.7     292.67        6.38        2.13\n",
      "\n",
      "Community Size: 2 household(s).\n",
      "------------------------------------------\n",
      "      Model nMAE (%)  Costs (€) Savings (€) Savings (%)\n",
      "Unoptimized              495.71                        \n",
      "    Perfect      0.0     456.94       38.78        7.82\n",
      "        KNN    39.04     480.94       14.77        2.98\n",
      "Persistence    44.98     483.49       12.22        2.47\n",
      "      xLSTM    37.57     477.25       18.47        3.72\n",
      "       LSTM    37.46     478.62       17.09        3.45\n",
      "Transformer    36.81     478.19       17.52        3.54\n",
      "\n",
      "Community Size: 10 household(s).\n",
      "------------------------------------------\n",
      "      Model nMAE (%)  Costs (€) Savings (€) Savings (%)\n",
      "Unoptimized             2218.93                        \n",
      "    Perfect      0.0    2019.65      199.28        8.98\n",
      "        KNN    21.63    2082.80      136.13        6.14\n",
      "Persistence    24.86    2101.80      117.13        5.28\n",
      "      xLSTM     21.3    2089.69      129.24        5.82\n",
      "       LSTM    20.97    2090.02      128.91        5.81\n",
      "Transformer    21.28    2094.26      124.67        5.62\n",
      "\n",
      "Community Size: 50 household(s).\n",
      "------------------------------------------\n",
      "      Model nMAE (%)  Costs (€) Savings (€) Savings (%)\n",
      "Unoptimized            11601.29                        \n",
      "    Perfect      0.0   10581.28     1020.01        8.79\n",
      "        KNN    11.24   10722.03      879.27        7.58\n",
      "Persistence    12.79   10784.99       816.3        7.04\n",
      "      xLSTM    11.01   10761.83      839.47        7.24\n",
      "       LSTM    10.76   10741.70      859.59        7.41\n",
      "Transformer    11.01   10766.86      834.43        7.19\n",
      "\n",
      "Community Size: 100 household(s).\n",
      "------------------------------------------\n",
      "      Model nMAE (%)  Costs (€) Savings (€) Savings (%)\n",
      "Unoptimized            22590.18                        \n",
      "    Perfect      0.0   20562.84     2027.33        8.97\n",
      "        KNN     8.94   20774.40     1815.77        8.04\n",
      "Persistence     10.1   20855.35     1734.83        7.68\n",
      "      xLSTM     8.55   20833.24     1756.94        7.78\n",
      "       LSTM     8.45   20822.10     1768.08        7.83\n",
      "Transformer     8.35   20877.78      1712.4        7.58\n"
     ]
    }
   ],
   "source": [
    "# Calc the normalized mean absolut error:\n",
    "#\n",
    "def calc_nMAE(Y_perfect, Y_model):\n",
    "    loss_fn = nn.L1Loss()\n",
    "    Y_perfect = torch.Tensor(Y_perfect)\n",
    "    Y_model = torch.Tensor(Y_model)\n",
    "    loss = loss_fn(Y_perfect, Y_model)\n",
    "    reference = float(torch.mean(Y_perfect))\n",
    "    nMAE = 100.0 * loss / reference\n",
    "    return float(nMAE)\n",
    "\n",
    "# Print all Results\n",
    "#\n",
    "for nr_of_households, costs_per_model in costs_per_community_size.items():\n",
    "    print('\\nCommunity Size:', nr_of_households, 'household(s).')\n",
    "    print(42*'-')\n",
    "    \n",
    "    # Calculate the average costs without optimization\n",
    "    reference_costs = []\n",
    "    perfect_profiles = profiles_by_community_size[nr_of_households]['Perfect']\n",
    "    for perfect_profile in perfect_profiles:\n",
    "        assert price_signal.shape == perfect_profile.shape, \"Arrays must be the same shape\"\n",
    "        assert price_signal.ndim == 1, \"price_signal must be a 1D array\"\n",
    "        costs = np.sum(price_signal * perfect_profile)\n",
    "        reference_costs.append(costs)\n",
    "    avg_reference_costs = np.mean(reference_costs)\n",
    "    \n",
    "    # Store the result\n",
    "    results = [{\n",
    "            \"Model\": 'Unoptimized',\n",
    "            \"nMAE (%)\": '',\n",
    "            \"Costs (€)\": round(avg_reference_costs, 2),\n",
    "            \"Savings (€)\": '',\n",
    "            \"Savings (%)\": ''\n",
    "        }]\n",
    "    \n",
    "    for model_name, costs_per_community in costs_per_model.items():\n",
    "\n",
    "        # Calc the average costs with optimization per model over all communities\n",
    "        all_costs = list(costs_per_community.values())\n",
    "        costs_avg = np.mean(all_costs)\n",
    "        savings_avg = np.mean([(avg_reference_costs - costs) for costs in all_costs])\n",
    "        savings_percent_avg = np.mean([100*(avg_reference_costs - costs)/avg_reference_costs for costs in all_costs])\n",
    "        profile_per_community = profiles_by_community_size[nr_of_households][model_name]\n",
    "        nMAE_avg = np.mean([calc_nMAE(perfect_profiles[i], profile)\n",
    "                            for i, profile in enumerate(profile_per_community)])\n",
    "\n",
    "        # Optionally rename model for printing\n",
    "        if model_name == 'Transformer_Encoder_Only':\n",
    "            model_name = 'Transformer'\n",
    "        elif model_name == 'PersistencePrediction':\n",
    "            model_name = 'Persistence'\n",
    "\n",
    "        results.append({\n",
    "            \"Model\": model_name,\n",
    "            \"nMAE (%)\": round(nMAE_avg, 2),\n",
    "            \"Costs (€)\": round(costs_avg, 2),\n",
    "            \"Savings (€)\": round(savings_avg, 2),\n",
    "            \"Savings (%)\": round(savings_percent_avg, 2)\n",
    "        })\n",
    "\n",
    "    df = pd.DataFrame(results)\n",
    "    print(df.to_string(index=False))\n"
   ]
  },
  {
   "cell_type": "code",
   "execution_count": null,
   "metadata": {},
   "outputs": [],
   "source": []
  }
 ],
 "metadata": {
  "kernelspec": {
   "display_name": "load_forecasting2",
   "language": "python",
   "name": "python3"
  },
  "language_info": {
   "codemirror_mode": {
    "name": "ipython",
    "version": 3
   },
   "file_extension": ".py",
   "mimetype": "text/x-python",
   "name": "python",
   "nbconvert_exporter": "python",
   "pygments_lexer": "ipython3",
   "version": "3.11.9"
  }
 },
 "nbformat": 4,
 "nbformat_minor": 4
}
