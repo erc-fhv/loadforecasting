{
 "cells": [
  {
   "cell_type": "code",
   "execution_count": 2,
   "metadata": {},
   "outputs": [
    {
     "name": "stderr",
     "output_type": "stream",
     "text": [
      "/home/molu/miniconda3/envs/xlstm/lib/python3.11/site-packages/torch/cuda/__init__.py:141: UserWarning: CUDA initialization: The NVIDIA driver on your system is too old (found version 11040). Please update your GPU driver by downloading and installing a new version from the URL: http://www.nvidia.com/Download/index.aspx Alternatively, go to: https://pytorch.org to install a PyTorch version that has been compiled with your version of the CUDA driver. (Triggered internally at /opt/conda/conda-bld/pytorch_1704987288773/work/c10/cuda/CUDAFunctions.cpp:108.)\n",
      "  return torch._C._cuda_getDeviceCount() > 0\n",
      "No CUDA runtime is found, using CUDA_HOME='/home/molu/miniconda3/envs/xlstm'\n"
     ]
    }
   ],
   "source": [
    "# Import python libraries\n",
    "#\n",
    "import importlib\n",
    "import pickle\n",
    "import os\n",
    "import torch\n",
    "\n",
    "# Go one directory back, because all imports are done\n",
    "# relative to the root of the project.\n",
    "#\n",
    "project_root = '..'\n",
    "if 'change_directory_to_root' not in globals():\n",
    "    change_directory_to_root = True\n",
    "    os.chdir(project_root)\n",
    "\n",
    "# Imports own modules.\n",
    "#\n",
    "import scripts.Visualization as Visualization\n",
    "import scripts.ModelTrainer as ModelTrainer\n",
    "import scripts.Utils as utils\n",
    "import scripts.Simulation_config as Simulation_config\n",
    "from scripts.Simulation_config import *\n",
    "import scripts.Model as model\n",
    "import scripts.ModelAdapter as ModelAdapter\n"
   ]
  },
  {
   "cell_type": "code",
   "execution_count": 16,
   "metadata": {},
   "outputs": [
    {
     "name": "stdout",
     "output_type": "stream",
     "text": [
      "(\"Configuration: Config_of_one_run(modelSize='MEDIUM', doPretraining=True, \"\n",
      " 'doTransferLearning=True, '\n",
      " \"aggregation_Count='data/london_loadprofiles_37households_each.pkl', \"\n",
      " 'nrOfComunities=20, trainingHistory=466, modelInputHistory=24, '\n",
      " \"usedModels=('SyntheticLoadProfile', 'KNN', 'PersistencePrediction'), \"\n",
      " 'epochs=100)')\n",
      "Latex Summary for this Configuration:  & 34.05 (7.92) & 17.13 (2.69) & 14.39 (1.45)\n",
      "(\"Configuration: Config_of_one_run(modelSize='SMALL', doPretraining=True, \"\n",
      " 'doTransferLearning=True, '\n",
      " \"aggregation_Count='data/london_loadprofiles_37households_each.pkl', \"\n",
      " 'nrOfComunities=20, trainingHistory=466, modelInputHistory=24, '\n",
      " \"usedModels=('SyntheticLoadProfile', 'KNN', 'PersistencePrediction'), \"\n",
      " 'epochs=100)')\n",
      "Latex Summary for this Configuration:  & 34.05 (7.92) & 17.13 (2.69) & 14.39 (1.45)\n",
      "(\"Configuration: Config_of_one_run(modelSize='LARGE', doPretraining=True, \"\n",
      " 'doTransferLearning=True, '\n",
      " \"aggregation_Count='data/london_loadprofiles_37households_each.pkl', \"\n",
      " 'nrOfComunities=20, trainingHistory=466, modelInputHistory=24, '\n",
      " \"usedModels=('SyntheticLoadProfile', 'KNN', 'PersistencePrediction'), \"\n",
      " 'epochs=100)')\n",
      "Latex Summary for this Configuration:  & 34.05 (7.92) & 17.13 (2.69) & 14.39 (1.45)\n",
      "(\"Configuration: Config_of_one_run(modelSize='MEDIUM', doPretraining=True, \"\n",
      " 'doTransferLearning=True, '\n",
      " \"aggregation_Count='data/london_loadprofiles_1household_each.pkl', \"\n",
      " 'nrOfComunities=20, trainingHistory=466, modelInputHistory=24, '\n",
      " \"usedModels=('SyntheticLoadProfile', 'KNN', 'PersistencePrediction'), \"\n",
      " 'epochs=100)')\n",
      "Latex Summary for this Configuration:  & 98.09 (31.77) & 63.58 (22.44) & 52.91 (13.53)\n",
      "(\"Configuration: Config_of_one_run(modelSize='MEDIUM', doPretraining=True, \"\n",
      " 'doTransferLearning=True, '\n",
      " \"aggregation_Count='data/london_loadprofiles_10households_each.pkl', \"\n",
      " 'nrOfComunities=20, trainingHistory=466, modelInputHistory=24, '\n",
      " \"usedModels=('SyntheticLoadProfile', 'KNN', 'PersistencePrediction'), \"\n",
      " 'epochs=100)')\n",
      "Latex Summary for this Configuration:  & 36.43 (9.81) & 30.70 (5.39) & 25.56 (4.67)\n",
      "(\"Configuration: Config_of_one_run(modelSize='MEDIUM', doPretraining=True, \"\n",
      " 'doTransferLearning=True, '\n",
      " \"aggregation_Count='data/london_loadprofiles_74households_each.pkl', \"\n",
      " 'nrOfComunities=20, trainingHistory=466, modelInputHistory=24, '\n",
      " \"usedModels=('SyntheticLoadProfile', 'KNN', 'PersistencePrediction'), \"\n",
      " 'epochs=100)')\n",
      "Latex Summary for this Configuration:  & 34.01 (6.46) & 12.89 (1.21) & 11.16 (0.67)\n",
      "(\"Configuration: Config_of_one_run(modelSize='MEDIUM', doPretraining=True, \"\n",
      " 'doTransferLearning=True, '\n",
      " \"aggregation_Count='data/london_loadprofiles_37households_each.pkl', \"\n",
      " 'nrOfComunities=20, trainingHistory=61, modelInputHistory=24, '\n",
      " \"usedModels=('SyntheticLoadProfile', 'KNN', 'PersistencePrediction'), \"\n",
      " 'epochs=100)')\n",
      "Latex Summary for this Configuration:  & 45.96 (10.73) & 33.10 (7.04) & 14.39 (1.45)\n",
      "(\"Configuration: Config_of_one_run(modelSize='MEDIUM', doPretraining=True, \"\n",
      " 'doTransferLearning=True, '\n",
      " \"aggregation_Count='data/london_loadprofiles_37households_each.pkl', \"\n",
      " 'nrOfComunities=20, trainingHistory=183, modelInputHistory=24, '\n",
      " \"usedModels=('SyntheticLoadProfile', 'KNN', 'PersistencePrediction'), \"\n",
      " 'epochs=100)')\n",
      "Latex Summary for this Configuration:  & 55.80 (10.72) & 22.83 (4.42) & 14.39 (1.45)\n",
      "(\"Configuration: Config_of_one_run(modelSize='MEDIUM', doPretraining=True, \"\n",
      " 'doTransferLearning=True, '\n",
      " \"aggregation_Count='data/london_loadprofiles_37households_each.pkl', \"\n",
      " 'nrOfComunities=20, trainingHistory=365, modelInputHistory=24, '\n",
      " \"usedModels=('SyntheticLoadProfile', 'KNN', 'PersistencePrediction'), \"\n",
      " 'epochs=100)')\n",
      "Latex Summary for this Configuration:  & 32.41 (7.69) & 17.11 (2.66) & 14.39 (1.45)\n",
      "(\"Configuration: Config_of_one_run(modelSize='MEDIUM', doPretraining=True, \"\n",
      " 'doTransferLearning=True, '\n",
      " \"aggregation_Count='data/london_loadprofiles_37households_each.pkl', \"\n",
      " 'nrOfComunities=20, trainingHistory=466, modelInputHistory=144, '\n",
      " \"usedModels=('SyntheticLoadProfile', 'KNN', 'PersistencePrediction'), \"\n",
      " 'epochs=100)')\n",
      "Latex Summary for this Configuration:  & 34.06 (7.92) & 17.65 (3.05) & 14.39 (1.45)\n"
     ]
    }
   ],
   "source": [
    "importlib.reload(model)\n",
    "importlib.reload(ModelTrainer)\n",
    "importlib.reload(Simulation_config)\n",
    "importlib.reload(utils)\n",
    "\n",
    "# Run the whole simulation\n",
    "#\n",
    "train_all_models = False\n",
    "if train_all_models:\n",
    "    configs = Simulation_config.configs\n",
    "    ModelTrainer.ModelTrainer().run(configs)\n",
    "\n",
    "# Print the sumarized simulation results\n",
    "#\n",
    "utils.Evaluate_Models.print_results('scripts/outputs/all_train_histories_20241031_1138.pkl')\n"
   ]
  },
  {
   "cell_type": "code",
   "execution_count": 6,
   "metadata": {},
   "outputs": [
    {
     "name": "stdout",
     "output_type": "stream",
     "text": [
      "Plotted Config:\n",
      "(\"Config_of_one_run(modelSize='MEDIUM', doPretraining=True, \"\n",
      " 'doTransferLearning=True, '\n",
      " \"aggregation_Count='data/london_loadprofiles_37households_each.pkl', \"\n",
      " 'nrOfComunities=20, trainingHistory=466, modelInputHistory=24, '\n",
      " \"usedModels=('SyntheticLoadProfile', 'KNN', 'PersistencePrediction'), \"\n",
      " 'epochs=100)')\n"
     ]
    },
    {
     "data": {
      "application/vnd.plotly.v1+json": {
       "config": {
        "plotlyServerURL": "https://plot.ly"
       },
       "data": [
        {
         "hovertemplate": "Run=('SyntheticLoadProfile', 'data/london_loadprofiles_37households_each.pkl', 'MEDIUM')<br>Epoch=%{x}<br>Training Loss=%{y}<extra></extra>",
         "legendgroup": "('SyntheticLoadProfile', 'data/london_loadprofiles_37households_each.pkl', 'MEDIUM')",
         "marker": {
          "color": "#636efa",
          "size": 5,
          "symbol": "circle"
         },
         "mode": "markers",
         "name": "('SyntheticLoadProfile', 'data/london_loadprofiles_37households_each.pkl', 'MEDIUM')",
         "orientation": "v",
         "showlegend": true,
         "type": "scatter",
         "x": [
          1,
          1,
          1,
          1,
          1,
          1,
          1,
          1,
          1,
          1,
          1,
          1,
          1,
          1,
          1,
          1,
          1,
          1,
          1,
          1
         ],
         "xaxis": "x",
         "y": [
          0,
          0,
          0,
          0,
          0,
          0,
          0,
          0,
          0,
          0,
          0,
          0,
          0,
          0,
          0,
          0,
          0,
          0,
          0,
          0
         ],
         "yaxis": "y"
        },
        {
         "hovertemplate": "Run=('KNN', 'data/london_loadprofiles_37households_each.pkl', 'MEDIUM')<br>Epoch=%{x}<br>Training Loss=%{y}<extra></extra>",
         "legendgroup": "('KNN', 'data/london_loadprofiles_37households_each.pkl', 'MEDIUM')",
         "marker": {
          "color": "#EF553B",
          "size": 5,
          "symbol": "circle"
         },
         "mode": "markers",
         "name": "('KNN', 'data/london_loadprofiles_37households_each.pkl', 'MEDIUM')",
         "orientation": "v",
         "showlegend": true,
         "type": "scatter",
         "x": [
          1,
          1,
          1,
          1,
          1,
          1,
          1,
          1,
          1,
          1,
          1,
          1,
          1,
          1,
          1,
          1,
          1,
          1,
          1,
          1
         ],
         "xaxis": "x",
         "y": [
          0,
          0,
          0,
          0,
          0,
          0,
          0,
          0,
          0,
          0,
          0,
          0,
          0,
          0,
          0,
          0,
          0,
          0,
          0,
          0
         ],
         "yaxis": "y"
        },
        {
         "hovertemplate": "Run=('PersistencePrediction', 'data/london_loadprofiles_37households_each.pkl', 'MEDIUM')<br>Epoch=%{x}<br>Training Loss=%{y}<extra></extra>",
         "legendgroup": "('PersistencePrediction', 'data/london_loadprofiles_37households_each.pkl', 'MEDIUM')",
         "marker": {
          "color": "#00cc96",
          "size": 5,
          "symbol": "circle"
         },
         "mode": "markers",
         "name": "('PersistencePrediction', 'data/london_loadprofiles_37households_each.pkl', 'MEDIUM')",
         "orientation": "v",
         "showlegend": true,
         "type": "scatter",
         "x": [
          1,
          1,
          1,
          1,
          1,
          1,
          1,
          1,
          1,
          1,
          1,
          1,
          1,
          1,
          1,
          1,
          1,
          1,
          1,
          1
         ],
         "xaxis": "x",
         "y": [
          0,
          0,
          0,
          0,
          0,
          0,
          0,
          0,
          0,
          0,
          0,
          0,
          0,
          0,
          0,
          0,
          0,
          0,
          0,
          0
         ],
         "yaxis": "y"
        }
       ],
       "layout": {
        "legend": {
         "title": {
          "text": "Run"
         },
         "tracegroupgap": 0
        },
        "showlegend": false,
        "template": {
         "data": {
          "bar": [
           {
            "error_x": {
             "color": "#2a3f5f"
            },
            "error_y": {
             "color": "#2a3f5f"
            },
            "marker": {
             "line": {
              "color": "#E5ECF6",
              "width": 0.5
             },
             "pattern": {
              "fillmode": "overlay",
              "size": 10,
              "solidity": 0.2
             }
            },
            "type": "bar"
           }
          ],
          "barpolar": [
           {
            "marker": {
             "line": {
              "color": "#E5ECF6",
              "width": 0.5
             },
             "pattern": {
              "fillmode": "overlay",
              "size": 10,
              "solidity": 0.2
             }
            },
            "type": "barpolar"
           }
          ],
          "carpet": [
           {
            "aaxis": {
             "endlinecolor": "#2a3f5f",
             "gridcolor": "white",
             "linecolor": "white",
             "minorgridcolor": "white",
             "startlinecolor": "#2a3f5f"
            },
            "baxis": {
             "endlinecolor": "#2a3f5f",
             "gridcolor": "white",
             "linecolor": "white",
             "minorgridcolor": "white",
             "startlinecolor": "#2a3f5f"
            },
            "type": "carpet"
           }
          ],
          "choropleth": [
           {
            "colorbar": {
             "outlinewidth": 0,
             "ticks": ""
            },
            "type": "choropleth"
           }
          ],
          "contour": [
           {
            "colorbar": {
             "outlinewidth": 0,
             "ticks": ""
            },
            "colorscale": [
             [
              0,
              "#0d0887"
             ],
             [
              0.1111111111111111,
              "#46039f"
             ],
             [
              0.2222222222222222,
              "#7201a8"
             ],
             [
              0.3333333333333333,
              "#9c179e"
             ],
             [
              0.4444444444444444,
              "#bd3786"
             ],
             [
              0.5555555555555556,
              "#d8576b"
             ],
             [
              0.6666666666666666,
              "#ed7953"
             ],
             [
              0.7777777777777778,
              "#fb9f3a"
             ],
             [
              0.8888888888888888,
              "#fdca26"
             ],
             [
              1,
              "#f0f921"
             ]
            ],
            "type": "contour"
           }
          ],
          "contourcarpet": [
           {
            "colorbar": {
             "outlinewidth": 0,
             "ticks": ""
            },
            "type": "contourcarpet"
           }
          ],
          "heatmap": [
           {
            "colorbar": {
             "outlinewidth": 0,
             "ticks": ""
            },
            "colorscale": [
             [
              0,
              "#0d0887"
             ],
             [
              0.1111111111111111,
              "#46039f"
             ],
             [
              0.2222222222222222,
              "#7201a8"
             ],
             [
              0.3333333333333333,
              "#9c179e"
             ],
             [
              0.4444444444444444,
              "#bd3786"
             ],
             [
              0.5555555555555556,
              "#d8576b"
             ],
             [
              0.6666666666666666,
              "#ed7953"
             ],
             [
              0.7777777777777778,
              "#fb9f3a"
             ],
             [
              0.8888888888888888,
              "#fdca26"
             ],
             [
              1,
              "#f0f921"
             ]
            ],
            "type": "heatmap"
           }
          ],
          "heatmapgl": [
           {
            "colorbar": {
             "outlinewidth": 0,
             "ticks": ""
            },
            "colorscale": [
             [
              0,
              "#0d0887"
             ],
             [
              0.1111111111111111,
              "#46039f"
             ],
             [
              0.2222222222222222,
              "#7201a8"
             ],
             [
              0.3333333333333333,
              "#9c179e"
             ],
             [
              0.4444444444444444,
              "#bd3786"
             ],
             [
              0.5555555555555556,
              "#d8576b"
             ],
             [
              0.6666666666666666,
              "#ed7953"
             ],
             [
              0.7777777777777778,
              "#fb9f3a"
             ],
             [
              0.8888888888888888,
              "#fdca26"
             ],
             [
              1,
              "#f0f921"
             ]
            ],
            "type": "heatmapgl"
           }
          ],
          "histogram": [
           {
            "marker": {
             "pattern": {
              "fillmode": "overlay",
              "size": 10,
              "solidity": 0.2
             }
            },
            "type": "histogram"
           }
          ],
          "histogram2d": [
           {
            "colorbar": {
             "outlinewidth": 0,
             "ticks": ""
            },
            "colorscale": [
             [
              0,
              "#0d0887"
             ],
             [
              0.1111111111111111,
              "#46039f"
             ],
             [
              0.2222222222222222,
              "#7201a8"
             ],
             [
              0.3333333333333333,
              "#9c179e"
             ],
             [
              0.4444444444444444,
              "#bd3786"
             ],
             [
              0.5555555555555556,
              "#d8576b"
             ],
             [
              0.6666666666666666,
              "#ed7953"
             ],
             [
              0.7777777777777778,
              "#fb9f3a"
             ],
             [
              0.8888888888888888,
              "#fdca26"
             ],
             [
              1,
              "#f0f921"
             ]
            ],
            "type": "histogram2d"
           }
          ],
          "histogram2dcontour": [
           {
            "colorbar": {
             "outlinewidth": 0,
             "ticks": ""
            },
            "colorscale": [
             [
              0,
              "#0d0887"
             ],
             [
              0.1111111111111111,
              "#46039f"
             ],
             [
              0.2222222222222222,
              "#7201a8"
             ],
             [
              0.3333333333333333,
              "#9c179e"
             ],
             [
              0.4444444444444444,
              "#bd3786"
             ],
             [
              0.5555555555555556,
              "#d8576b"
             ],
             [
              0.6666666666666666,
              "#ed7953"
             ],
             [
              0.7777777777777778,
              "#fb9f3a"
             ],
             [
              0.8888888888888888,
              "#fdca26"
             ],
             [
              1,
              "#f0f921"
             ]
            ],
            "type": "histogram2dcontour"
           }
          ],
          "mesh3d": [
           {
            "colorbar": {
             "outlinewidth": 0,
             "ticks": ""
            },
            "type": "mesh3d"
           }
          ],
          "parcoords": [
           {
            "line": {
             "colorbar": {
              "outlinewidth": 0,
              "ticks": ""
             }
            },
            "type": "parcoords"
           }
          ],
          "pie": [
           {
            "automargin": true,
            "type": "pie"
           }
          ],
          "scatter": [
           {
            "fillpattern": {
             "fillmode": "overlay",
             "size": 10,
             "solidity": 0.2
            },
            "type": "scatter"
           }
          ],
          "scatter3d": [
           {
            "line": {
             "colorbar": {
              "outlinewidth": 0,
              "ticks": ""
             }
            },
            "marker": {
             "colorbar": {
              "outlinewidth": 0,
              "ticks": ""
             }
            },
            "type": "scatter3d"
           }
          ],
          "scattercarpet": [
           {
            "marker": {
             "colorbar": {
              "outlinewidth": 0,
              "ticks": ""
             }
            },
            "type": "scattercarpet"
           }
          ],
          "scattergeo": [
           {
            "marker": {
             "colorbar": {
              "outlinewidth": 0,
              "ticks": ""
             }
            },
            "type": "scattergeo"
           }
          ],
          "scattergl": [
           {
            "marker": {
             "colorbar": {
              "outlinewidth": 0,
              "ticks": ""
             }
            },
            "type": "scattergl"
           }
          ],
          "scattermapbox": [
           {
            "marker": {
             "colorbar": {
              "outlinewidth": 0,
              "ticks": ""
             }
            },
            "type": "scattermapbox"
           }
          ],
          "scatterpolar": [
           {
            "marker": {
             "colorbar": {
              "outlinewidth": 0,
              "ticks": ""
             }
            },
            "type": "scatterpolar"
           }
          ],
          "scatterpolargl": [
           {
            "marker": {
             "colorbar": {
              "outlinewidth": 0,
              "ticks": ""
             }
            },
            "type": "scatterpolargl"
           }
          ],
          "scatterternary": [
           {
            "marker": {
             "colorbar": {
              "outlinewidth": 0,
              "ticks": ""
             }
            },
            "type": "scatterternary"
           }
          ],
          "surface": [
           {
            "colorbar": {
             "outlinewidth": 0,
             "ticks": ""
            },
            "colorscale": [
             [
              0,
              "#0d0887"
             ],
             [
              0.1111111111111111,
              "#46039f"
             ],
             [
              0.2222222222222222,
              "#7201a8"
             ],
             [
              0.3333333333333333,
              "#9c179e"
             ],
             [
              0.4444444444444444,
              "#bd3786"
             ],
             [
              0.5555555555555556,
              "#d8576b"
             ],
             [
              0.6666666666666666,
              "#ed7953"
             ],
             [
              0.7777777777777778,
              "#fb9f3a"
             ],
             [
              0.8888888888888888,
              "#fdca26"
             ],
             [
              1,
              "#f0f921"
             ]
            ],
            "type": "surface"
           }
          ],
          "table": [
           {
            "cells": {
             "fill": {
              "color": "#EBF0F8"
             },
             "line": {
              "color": "white"
             }
            },
            "header": {
             "fill": {
              "color": "#C8D4E3"
             },
             "line": {
              "color": "white"
             }
            },
            "type": "table"
           }
          ]
         },
         "layout": {
          "annotationdefaults": {
           "arrowcolor": "#2a3f5f",
           "arrowhead": 0,
           "arrowwidth": 1
          },
          "autotypenumbers": "strict",
          "coloraxis": {
           "colorbar": {
            "outlinewidth": 0,
            "ticks": ""
           }
          },
          "colorscale": {
           "diverging": [
            [
             0,
             "#8e0152"
            ],
            [
             0.1,
             "#c51b7d"
            ],
            [
             0.2,
             "#de77ae"
            ],
            [
             0.3,
             "#f1b6da"
            ],
            [
             0.4,
             "#fde0ef"
            ],
            [
             0.5,
             "#f7f7f7"
            ],
            [
             0.6,
             "#e6f5d0"
            ],
            [
             0.7,
             "#b8e186"
            ],
            [
             0.8,
             "#7fbc41"
            ],
            [
             0.9,
             "#4d9221"
            ],
            [
             1,
             "#276419"
            ]
           ],
           "sequential": [
            [
             0,
             "#0d0887"
            ],
            [
             0.1111111111111111,
             "#46039f"
            ],
            [
             0.2222222222222222,
             "#7201a8"
            ],
            [
             0.3333333333333333,
             "#9c179e"
            ],
            [
             0.4444444444444444,
             "#bd3786"
            ],
            [
             0.5555555555555556,
             "#d8576b"
            ],
            [
             0.6666666666666666,
             "#ed7953"
            ],
            [
             0.7777777777777778,
             "#fb9f3a"
            ],
            [
             0.8888888888888888,
             "#fdca26"
            ],
            [
             1,
             "#f0f921"
            ]
           ],
           "sequentialminus": [
            [
             0,
             "#0d0887"
            ],
            [
             0.1111111111111111,
             "#46039f"
            ],
            [
             0.2222222222222222,
             "#7201a8"
            ],
            [
             0.3333333333333333,
             "#9c179e"
            ],
            [
             0.4444444444444444,
             "#bd3786"
            ],
            [
             0.5555555555555556,
             "#d8576b"
            ],
            [
             0.6666666666666666,
             "#ed7953"
            ],
            [
             0.7777777777777778,
             "#fb9f3a"
            ],
            [
             0.8888888888888888,
             "#fdca26"
            ],
            [
             1,
             "#f0f921"
            ]
           ]
          },
          "colorway": [
           "#636efa",
           "#EF553B",
           "#00cc96",
           "#ab63fa",
           "#FFA15A",
           "#19d3f3",
           "#FF6692",
           "#B6E880",
           "#FF97FF",
           "#FECB52"
          ],
          "font": {
           "color": "#2a3f5f"
          },
          "geo": {
           "bgcolor": "white",
           "lakecolor": "white",
           "landcolor": "#E5ECF6",
           "showlakes": true,
           "showland": true,
           "subunitcolor": "white"
          },
          "hoverlabel": {
           "align": "left"
          },
          "hovermode": "closest",
          "mapbox": {
           "style": "light"
          },
          "paper_bgcolor": "white",
          "plot_bgcolor": "#E5ECF6",
          "polar": {
           "angularaxis": {
            "gridcolor": "white",
            "linecolor": "white",
            "ticks": ""
           },
           "bgcolor": "#E5ECF6",
           "radialaxis": {
            "gridcolor": "white",
            "linecolor": "white",
            "ticks": ""
           }
          },
          "scene": {
           "xaxis": {
            "backgroundcolor": "#E5ECF6",
            "gridcolor": "white",
            "gridwidth": 2,
            "linecolor": "white",
            "showbackground": true,
            "ticks": "",
            "zerolinecolor": "white"
           },
           "yaxis": {
            "backgroundcolor": "#E5ECF6",
            "gridcolor": "white",
            "gridwidth": 2,
            "linecolor": "white",
            "showbackground": true,
            "ticks": "",
            "zerolinecolor": "white"
           },
           "zaxis": {
            "backgroundcolor": "#E5ECF6",
            "gridcolor": "white",
            "gridwidth": 2,
            "linecolor": "white",
            "showbackground": true,
            "ticks": "",
            "zerolinecolor": "white"
           }
          },
          "shapedefaults": {
           "line": {
            "color": "#2a3f5f"
           }
          },
          "ternary": {
           "aaxis": {
            "gridcolor": "white",
            "linecolor": "white",
            "ticks": ""
           },
           "baxis": {
            "gridcolor": "white",
            "linecolor": "white",
            "ticks": ""
           },
           "bgcolor": "#E5ECF6",
           "caxis": {
            "gridcolor": "white",
            "linecolor": "white",
            "ticks": ""
           }
          },
          "title": {
           "x": 0.05
          },
          "xaxis": {
           "automargin": true,
           "gridcolor": "white",
           "linecolor": "white",
           "ticks": "",
           "title": {
            "standoff": 15
           },
           "zerolinecolor": "white",
           "zerolinewidth": 2
          },
          "yaxis": {
           "automargin": true,
           "gridcolor": "white",
           "linecolor": "white",
           "ticks": "",
           "title": {
            "standoff": 15
           },
           "zerolinecolor": "white",
           "zerolinewidth": 2
          }
         }
        },
        "title": {
         "text": "Training Loss Over Epochs for Different Runs"
        },
        "xaxis": {
         "anchor": "y",
         "domain": [
          0,
          1
         ],
         "title": {
          "text": "Epoch"
         }
        },
        "yaxis": {
         "anchor": "x",
         "domain": [
          0,
          1
         ],
         "range": [
          0,
          1
         ],
         "title": {
          "text": "Training Loss"
         }
        }
       }
      },
      "text/html": [
       "<div>                            <div id=\"ec433822-d4a0-4a71-929c-b8d837bb6924\" class=\"plotly-graph-div\" style=\"height:525px; width:100%;\"></div>            <script type=\"text/javascript\">                require([\"plotly\"], function(Plotly) {                    window.PLOTLYENV=window.PLOTLYENV || {};                                    if (document.getElementById(\"ec433822-d4a0-4a71-929c-b8d837bb6924\")) {                    Plotly.newPlot(                        \"ec433822-d4a0-4a71-929c-b8d837bb6924\",                        [{\"hovertemplate\":\"Run=('SyntheticLoadProfile', 'data\\u002flondon_loadprofiles_37households_each.pkl', 'MEDIUM')\\u003cbr\\u003eEpoch=%{x}\\u003cbr\\u003eTraining Loss=%{y}\\u003cextra\\u003e\\u003c\\u002fextra\\u003e\",\"legendgroup\":\"('SyntheticLoadProfile', 'data\\u002flondon_loadprofiles_37households_each.pkl', 'MEDIUM')\",\"marker\":{\"color\":\"#636efa\",\"symbol\":\"circle\",\"size\":5},\"mode\":\"markers\",\"name\":\"('SyntheticLoadProfile', 'data\\u002flondon_loadprofiles_37households_each.pkl', 'MEDIUM')\",\"orientation\":\"v\",\"showlegend\":true,\"x\":[1,1,1,1,1,1,1,1,1,1,1,1,1,1,1,1,1,1,1,1],\"xaxis\":\"x\",\"y\":[0.0,0.0,0.0,0.0,0.0,0.0,0.0,0.0,0.0,0.0,0.0,0.0,0.0,0.0,0.0,0.0,0.0,0.0,0.0,0.0],\"yaxis\":\"y\",\"type\":\"scatter\"},{\"hovertemplate\":\"Run=('KNN', 'data\\u002flondon_loadprofiles_37households_each.pkl', 'MEDIUM')\\u003cbr\\u003eEpoch=%{x}\\u003cbr\\u003eTraining Loss=%{y}\\u003cextra\\u003e\\u003c\\u002fextra\\u003e\",\"legendgroup\":\"('KNN', 'data\\u002flondon_loadprofiles_37households_each.pkl', 'MEDIUM')\",\"marker\":{\"color\":\"#EF553B\",\"symbol\":\"circle\",\"size\":5},\"mode\":\"markers\",\"name\":\"('KNN', 'data\\u002flondon_loadprofiles_37households_each.pkl', 'MEDIUM')\",\"orientation\":\"v\",\"showlegend\":true,\"x\":[1,1,1,1,1,1,1,1,1,1,1,1,1,1,1,1,1,1,1,1],\"xaxis\":\"x\",\"y\":[0.0,0.0,0.0,0.0,0.0,0.0,0.0,0.0,0.0,0.0,0.0,0.0,0.0,0.0,0.0,0.0,0.0,0.0,0.0,0.0],\"yaxis\":\"y\",\"type\":\"scatter\"},{\"hovertemplate\":\"Run=('PersistencePrediction', 'data\\u002flondon_loadprofiles_37households_each.pkl', 'MEDIUM')\\u003cbr\\u003eEpoch=%{x}\\u003cbr\\u003eTraining Loss=%{y}\\u003cextra\\u003e\\u003c\\u002fextra\\u003e\",\"legendgroup\":\"('PersistencePrediction', 'data\\u002flondon_loadprofiles_37households_each.pkl', 'MEDIUM')\",\"marker\":{\"color\":\"#00cc96\",\"symbol\":\"circle\",\"size\":5},\"mode\":\"markers\",\"name\":\"('PersistencePrediction', 'data\\u002flondon_loadprofiles_37households_each.pkl', 'MEDIUM')\",\"orientation\":\"v\",\"showlegend\":true,\"x\":[1,1,1,1,1,1,1,1,1,1,1,1,1,1,1,1,1,1,1,1],\"xaxis\":\"x\",\"y\":[0.0,0.0,0.0,0.0,0.0,0.0,0.0,0.0,0.0,0.0,0.0,0.0,0.0,0.0,0.0,0.0,0.0,0.0,0.0,0.0],\"yaxis\":\"y\",\"type\":\"scatter\"}],                        {\"template\":{\"data\":{\"histogram2dcontour\":[{\"type\":\"histogram2dcontour\",\"colorbar\":{\"outlinewidth\":0,\"ticks\":\"\"},\"colorscale\":[[0.0,\"#0d0887\"],[0.1111111111111111,\"#46039f\"],[0.2222222222222222,\"#7201a8\"],[0.3333333333333333,\"#9c179e\"],[0.4444444444444444,\"#bd3786\"],[0.5555555555555556,\"#d8576b\"],[0.6666666666666666,\"#ed7953\"],[0.7777777777777778,\"#fb9f3a\"],[0.8888888888888888,\"#fdca26\"],[1.0,\"#f0f921\"]]}],\"choropleth\":[{\"type\":\"choropleth\",\"colorbar\":{\"outlinewidth\":0,\"ticks\":\"\"}}],\"histogram2d\":[{\"type\":\"histogram2d\",\"colorbar\":{\"outlinewidth\":0,\"ticks\":\"\"},\"colorscale\":[[0.0,\"#0d0887\"],[0.1111111111111111,\"#46039f\"],[0.2222222222222222,\"#7201a8\"],[0.3333333333333333,\"#9c179e\"],[0.4444444444444444,\"#bd3786\"],[0.5555555555555556,\"#d8576b\"],[0.6666666666666666,\"#ed7953\"],[0.7777777777777778,\"#fb9f3a\"],[0.8888888888888888,\"#fdca26\"],[1.0,\"#f0f921\"]]}],\"heatmap\":[{\"type\":\"heatmap\",\"colorbar\":{\"outlinewidth\":0,\"ticks\":\"\"},\"colorscale\":[[0.0,\"#0d0887\"],[0.1111111111111111,\"#46039f\"],[0.2222222222222222,\"#7201a8\"],[0.3333333333333333,\"#9c179e\"],[0.4444444444444444,\"#bd3786\"],[0.5555555555555556,\"#d8576b\"],[0.6666666666666666,\"#ed7953\"],[0.7777777777777778,\"#fb9f3a\"],[0.8888888888888888,\"#fdca26\"],[1.0,\"#f0f921\"]]}],\"heatmapgl\":[{\"type\":\"heatmapgl\",\"colorbar\":{\"outlinewidth\":0,\"ticks\":\"\"},\"colorscale\":[[0.0,\"#0d0887\"],[0.1111111111111111,\"#46039f\"],[0.2222222222222222,\"#7201a8\"],[0.3333333333333333,\"#9c179e\"],[0.4444444444444444,\"#bd3786\"],[0.5555555555555556,\"#d8576b\"],[0.6666666666666666,\"#ed7953\"],[0.7777777777777778,\"#fb9f3a\"],[0.8888888888888888,\"#fdca26\"],[1.0,\"#f0f921\"]]}],\"contourcarpet\":[{\"type\":\"contourcarpet\",\"colorbar\":{\"outlinewidth\":0,\"ticks\":\"\"}}],\"contour\":[{\"type\":\"contour\",\"colorbar\":{\"outlinewidth\":0,\"ticks\":\"\"},\"colorscale\":[[0.0,\"#0d0887\"],[0.1111111111111111,\"#46039f\"],[0.2222222222222222,\"#7201a8\"],[0.3333333333333333,\"#9c179e\"],[0.4444444444444444,\"#bd3786\"],[0.5555555555555556,\"#d8576b\"],[0.6666666666666666,\"#ed7953\"],[0.7777777777777778,\"#fb9f3a\"],[0.8888888888888888,\"#fdca26\"],[1.0,\"#f0f921\"]]}],\"surface\":[{\"type\":\"surface\",\"colorbar\":{\"outlinewidth\":0,\"ticks\":\"\"},\"colorscale\":[[0.0,\"#0d0887\"],[0.1111111111111111,\"#46039f\"],[0.2222222222222222,\"#7201a8\"],[0.3333333333333333,\"#9c179e\"],[0.4444444444444444,\"#bd3786\"],[0.5555555555555556,\"#d8576b\"],[0.6666666666666666,\"#ed7953\"],[0.7777777777777778,\"#fb9f3a\"],[0.8888888888888888,\"#fdca26\"],[1.0,\"#f0f921\"]]}],\"mesh3d\":[{\"type\":\"mesh3d\",\"colorbar\":{\"outlinewidth\":0,\"ticks\":\"\"}}],\"scatter\":[{\"fillpattern\":{\"fillmode\":\"overlay\",\"size\":10,\"solidity\":0.2},\"type\":\"scatter\"}],\"parcoords\":[{\"type\":\"parcoords\",\"line\":{\"colorbar\":{\"outlinewidth\":0,\"ticks\":\"\"}}}],\"scatterpolargl\":[{\"type\":\"scatterpolargl\",\"marker\":{\"colorbar\":{\"outlinewidth\":0,\"ticks\":\"\"}}}],\"bar\":[{\"error_x\":{\"color\":\"#2a3f5f\"},\"error_y\":{\"color\":\"#2a3f5f\"},\"marker\":{\"line\":{\"color\":\"#E5ECF6\",\"width\":0.5},\"pattern\":{\"fillmode\":\"overlay\",\"size\":10,\"solidity\":0.2}},\"type\":\"bar\"}],\"scattergeo\":[{\"type\":\"scattergeo\",\"marker\":{\"colorbar\":{\"outlinewidth\":0,\"ticks\":\"\"}}}],\"scatterpolar\":[{\"type\":\"scatterpolar\",\"marker\":{\"colorbar\":{\"outlinewidth\":0,\"ticks\":\"\"}}}],\"histogram\":[{\"marker\":{\"pattern\":{\"fillmode\":\"overlay\",\"size\":10,\"solidity\":0.2}},\"type\":\"histogram\"}],\"scattergl\":[{\"type\":\"scattergl\",\"marker\":{\"colorbar\":{\"outlinewidth\":0,\"ticks\":\"\"}}}],\"scatter3d\":[{\"type\":\"scatter3d\",\"line\":{\"colorbar\":{\"outlinewidth\":0,\"ticks\":\"\"}},\"marker\":{\"colorbar\":{\"outlinewidth\":0,\"ticks\":\"\"}}}],\"scattermapbox\":[{\"type\":\"scattermapbox\",\"marker\":{\"colorbar\":{\"outlinewidth\":0,\"ticks\":\"\"}}}],\"scatterternary\":[{\"type\":\"scatterternary\",\"marker\":{\"colorbar\":{\"outlinewidth\":0,\"ticks\":\"\"}}}],\"scattercarpet\":[{\"type\":\"scattercarpet\",\"marker\":{\"colorbar\":{\"outlinewidth\":0,\"ticks\":\"\"}}}],\"carpet\":[{\"aaxis\":{\"endlinecolor\":\"#2a3f5f\",\"gridcolor\":\"white\",\"linecolor\":\"white\",\"minorgridcolor\":\"white\",\"startlinecolor\":\"#2a3f5f\"},\"baxis\":{\"endlinecolor\":\"#2a3f5f\",\"gridcolor\":\"white\",\"linecolor\":\"white\",\"minorgridcolor\":\"white\",\"startlinecolor\":\"#2a3f5f\"},\"type\":\"carpet\"}],\"table\":[{\"cells\":{\"fill\":{\"color\":\"#EBF0F8\"},\"line\":{\"color\":\"white\"}},\"header\":{\"fill\":{\"color\":\"#C8D4E3\"},\"line\":{\"color\":\"white\"}},\"type\":\"table\"}],\"barpolar\":[{\"marker\":{\"line\":{\"color\":\"#E5ECF6\",\"width\":0.5},\"pattern\":{\"fillmode\":\"overlay\",\"size\":10,\"solidity\":0.2}},\"type\":\"barpolar\"}],\"pie\":[{\"automargin\":true,\"type\":\"pie\"}]},\"layout\":{\"autotypenumbers\":\"strict\",\"colorway\":[\"#636efa\",\"#EF553B\",\"#00cc96\",\"#ab63fa\",\"#FFA15A\",\"#19d3f3\",\"#FF6692\",\"#B6E880\",\"#FF97FF\",\"#FECB52\"],\"font\":{\"color\":\"#2a3f5f\"},\"hovermode\":\"closest\",\"hoverlabel\":{\"align\":\"left\"},\"paper_bgcolor\":\"white\",\"plot_bgcolor\":\"#E5ECF6\",\"polar\":{\"bgcolor\":\"#E5ECF6\",\"angularaxis\":{\"gridcolor\":\"white\",\"linecolor\":\"white\",\"ticks\":\"\"},\"radialaxis\":{\"gridcolor\":\"white\",\"linecolor\":\"white\",\"ticks\":\"\"}},\"ternary\":{\"bgcolor\":\"#E5ECF6\",\"aaxis\":{\"gridcolor\":\"white\",\"linecolor\":\"white\",\"ticks\":\"\"},\"baxis\":{\"gridcolor\":\"white\",\"linecolor\":\"white\",\"ticks\":\"\"},\"caxis\":{\"gridcolor\":\"white\",\"linecolor\":\"white\",\"ticks\":\"\"}},\"coloraxis\":{\"colorbar\":{\"outlinewidth\":0,\"ticks\":\"\"}},\"colorscale\":{\"sequential\":[[0.0,\"#0d0887\"],[0.1111111111111111,\"#46039f\"],[0.2222222222222222,\"#7201a8\"],[0.3333333333333333,\"#9c179e\"],[0.4444444444444444,\"#bd3786\"],[0.5555555555555556,\"#d8576b\"],[0.6666666666666666,\"#ed7953\"],[0.7777777777777778,\"#fb9f3a\"],[0.8888888888888888,\"#fdca26\"],[1.0,\"#f0f921\"]],\"sequentialminus\":[[0.0,\"#0d0887\"],[0.1111111111111111,\"#46039f\"],[0.2222222222222222,\"#7201a8\"],[0.3333333333333333,\"#9c179e\"],[0.4444444444444444,\"#bd3786\"],[0.5555555555555556,\"#d8576b\"],[0.6666666666666666,\"#ed7953\"],[0.7777777777777778,\"#fb9f3a\"],[0.8888888888888888,\"#fdca26\"],[1.0,\"#f0f921\"]],\"diverging\":[[0,\"#8e0152\"],[0.1,\"#c51b7d\"],[0.2,\"#de77ae\"],[0.3,\"#f1b6da\"],[0.4,\"#fde0ef\"],[0.5,\"#f7f7f7\"],[0.6,\"#e6f5d0\"],[0.7,\"#b8e186\"],[0.8,\"#7fbc41\"],[0.9,\"#4d9221\"],[1,\"#276419\"]]},\"xaxis\":{\"gridcolor\":\"white\",\"linecolor\":\"white\",\"ticks\":\"\",\"title\":{\"standoff\":15},\"zerolinecolor\":\"white\",\"automargin\":true,\"zerolinewidth\":2},\"yaxis\":{\"gridcolor\":\"white\",\"linecolor\":\"white\",\"ticks\":\"\",\"title\":{\"standoff\":15},\"zerolinecolor\":\"white\",\"automargin\":true,\"zerolinewidth\":2},\"scene\":{\"xaxis\":{\"backgroundcolor\":\"#E5ECF6\",\"gridcolor\":\"white\",\"linecolor\":\"white\",\"showbackground\":true,\"ticks\":\"\",\"zerolinecolor\":\"white\",\"gridwidth\":2},\"yaxis\":{\"backgroundcolor\":\"#E5ECF6\",\"gridcolor\":\"white\",\"linecolor\":\"white\",\"showbackground\":true,\"ticks\":\"\",\"zerolinecolor\":\"white\",\"gridwidth\":2},\"zaxis\":{\"backgroundcolor\":\"#E5ECF6\",\"gridcolor\":\"white\",\"linecolor\":\"white\",\"showbackground\":true,\"ticks\":\"\",\"zerolinecolor\":\"white\",\"gridwidth\":2}},\"shapedefaults\":{\"line\":{\"color\":\"#2a3f5f\"}},\"annotationdefaults\":{\"arrowcolor\":\"#2a3f5f\",\"arrowhead\":0,\"arrowwidth\":1},\"geo\":{\"bgcolor\":\"white\",\"landcolor\":\"#E5ECF6\",\"subunitcolor\":\"white\",\"showland\":true,\"showlakes\":true,\"lakecolor\":\"white\"},\"title\":{\"x\":0.05},\"mapbox\":{\"style\":\"light\"}}},\"xaxis\":{\"anchor\":\"y\",\"domain\":[0.0,1.0],\"title\":{\"text\":\"Epoch\"}},\"yaxis\":{\"anchor\":\"x\",\"domain\":[0.0,1.0],\"title\":{\"text\":\"Training Loss\"},\"range\":[0,1]},\"legend\":{\"title\":{\"text\":\"Run\"},\"tracegroupgap\":0},\"title\":{\"text\":\"Training Loss Over Epochs for Different Runs\"},\"showlegend\":false},                        {\"responsive\": true}                    ).then(function(){\n",
       "                            \n",
       "var gd = document.getElementById('ec433822-d4a0-4a71-929c-b8d837bb6924');\n",
       "var x = new MutationObserver(function (mutations, observer) {{\n",
       "        var display = window.getComputedStyle(gd).display;\n",
       "        if (!display || display === 'none') {{\n",
       "            console.log([gd, 'removed!']);\n",
       "            Plotly.purge(gd);\n",
       "            observer.disconnect();\n",
       "        }}\n",
       "}});\n",
       "\n",
       "// Listen for the removal of the full notebook cells\n",
       "var notebookContainer = gd.closest('#notebook-container');\n",
       "if (notebookContainer) {{\n",
       "    x.observe(notebookContainer, {childList: true});\n",
       "}}\n",
       "\n",
       "// Listen for the clearing of the current output cell\n",
       "var outputEl = gd.closest('.output');\n",
       "if (outputEl) {{\n",
       "    x.observe(outputEl, {childList: true});\n",
       "}}\n",
       "\n",
       "                        })                };                });            </script>        </div>"
      ]
     },
     "metadata": {},
     "output_type": "display_data"
    }
   ],
   "source": [
    "# Plot the losses over the training.\n",
    "# (To see, if the models are trained stable.)\n",
    "#\n",
    "importlib.reload(utils)\n",
    "\n",
    "plot_only_single_config = True\n",
    "plotted_config = Config_of_one_run(ModelSize.MEDIUM, DoPretraining.YES, DoTransferLearning.YES, Aggregation_Count._37_HOUSEHOLDS, \n",
    "    NrOfComunities._20, TrainingHistory._15_MONTH, ModelInputHistory._1_DAY, UsedModels.ALL, Epochs.DEFAULT)\n",
    "\n",
    "utils.Evaluate_Models.plot_training_losses_over_epochs('scripts/outputs/all_train_histories.pkl',\n",
    "                                                       plot_only_single_config,\n",
    "                                                       plotted_config\n",
    "                                                       )\n"
   ]
  },
  {
   "cell_type": "code",
   "execution_count": null,
   "metadata": {},
   "outputs": [
    {
     "data": {
      "text/html": [
       "\n",
       "        <iframe\n",
       "            width=\"100%\"\n",
       "            height=\"650\"\n",
       "            src=\"http://127.0.0.1:8060/\"\n",
       "            frameborder=\"0\"\n",
       "            allowfullscreen\n",
       "            \n",
       "        ></iframe>\n",
       "        "
      ],
      "text/plain": [
       "<IPython.lib.display.IFrame at 0x7f3f2dfd3190>"
      ]
     },
     "metadata": {},
     "output_type": "display_data"
    },
    {
     "name": "stdout",
     "output_type": "stream",
     "text": [
      "---------------------------------------------------------------------------\n",
      "AssertionError                            Traceback (most recent call last)\n",
      "File ~/loadforecasting/scripts/Visualization.py:132, in PlotlyApp.update_date_plot(\n",
      "    self=<scripts.Visualization.PlotlyApp object>,\n",
      "    selected_dataset='train',\n",
      "    selected_date=1\n",
      ")\n",
      "    131 else:\n",
      "--> 132     Y_pred = self.model_plot.predict(X_selected, Y_selected)\n",
      "        X_selected = tensor([[[ 2.6708, -0.4160, -0.4160,  ...,  1.2889,  0.7238,  0.9566],\n",
      "         [ 2.6708, -0.4160, -0.4160,  ...,  1.2889,  1.1622,  0.9572],\n",
      "         [ 2.6708, -0.4160, -0.4160,  ...,  1.3688,  1.3815,  0.9586],\n",
      "         ...,\n",
      "         [-0.3744,  2.4037, -0.4160,  ..., -0.8665, -0.8593, -1.0390],\n",
      "         [-0.3744,  2.4037, -0.4160,  ..., -0.8665, -0.8593, -1.0390],\n",
      "         [-0.3744,  2.4037, -0.4160,  ..., -0.8665, -0.8593, -1.0390]],\n",
      "\n",
      "        [[-0.3744,  2.4037, -0.4160,  ...,  1.3688, -0.4209,  0.9830],\n",
      "         [-0.3744,  2.4037, -0.4160,  ...,  1.0494, -0.2017,  0.9832],\n",
      "         [-0.3744,  2.4037, -0.4160,  ...,  1.0494,  0.2854,  0.9840],\n",
      "         ...,\n",
      "         [-0.3744, -0.4160,  2.4037,  ..., -0.8665, -0.8593, -1.0390],\n",
      "         [-0.3744, -0.4160,  2.4037,  ..., -0.8665, -0.8593, -1.0390],\n",
      "         [-0.3744, -0.4160,  2.4037,  ..., -0.8665, -0.8593, -1.0390]],\n",
      "\n",
      "        [[-0.3744, -0.4160,  2.4037,  ...,  1.1293,  0.7238,  0.9824],\n",
      "         [-0.3744, -0.4160,  2.4037,  ...,  0.9696,  0.5046,  0.9813],\n",
      "         [-0.3744, -0.4160,  2.4037,  ...,  0.8898,  0.5046,  0.9809],\n",
      "         ...,\n",
      "         [-0.3744, -0.4160, -0.4160,  ..., -0.8665, -0.8593, -1.0390],\n",
      "         [-0.3744, -0.4160, -0.4160,  ..., -0.8665, -0.8593, -1.0390],\n",
      "         [-0.3744, -0.4160, -0.4160,  ..., -0.8665, -0.8593, -1.0390]],\n",
      "\n",
      "        ...,\n",
      "\n",
      "        [[-0.3744, -0.4160,  2.4037,  ...,  1.2091, -0.2017,  0.9602],\n",
      "         [-0.3744, -0.4160,  2.4037,  ...,  1.2091,  0.0662,  0.9602],\n",
      "         [-0.3744, -0.4160,  2.4037,  ...,  0.8100, -0.2017,  0.9594],\n",
      "         ...,\n",
      "         [-0.3744, -0.4160, -0.4160,  ..., -0.8665, -0.8593, -1.0390],\n",
      "         [-0.3744, -0.4160, -0.4160,  ..., -0.8665, -0.8593, -1.0390],\n",
      "         [-0.3744, -0.4160, -0.4160,  ..., -0.8665, -0.8593, -1.0390]],\n",
      "\n",
      "        [[-0.3744, -0.4160, -0.4160,  ...,  1.0494,  2.0756,  0.9492],\n",
      "         [-0.3744, -0.4160, -0.4160,  ...,  1.1293,  1.8564,  0.9503],\n",
      "         [-0.3744, -0.4160, -0.4160,  ...,  1.1293,  1.8564,  0.9509],\n",
      "         ...,\n",
      "         [-0.3744, -0.4160, -0.4160,  ..., -0.8665, -0.8593, -1.0390],\n",
      "         [-0.3744, -0.4160, -0.4160,  ..., -0.8665, -0.8593, -1.0390],\n",
      "         [-0.3744, -0.4160, -0.4160,  ..., -0.8665, -0.8593, -1.0390]],\n",
      "\n",
      "        [[-0.3744, -0.4160, -0.4160,  ...,  0.6503, -0.4209,  0.9625],\n",
      "         [-0.3744, -0.4160, -0.4160,  ...,  0.7301, -0.4209,  0.9629],\n",
      "         [-0.3744, -0.4160, -0.4160,  ...,  0.8100,  0.2854,  0.9633],\n",
      "         ...,\n",
      "         [-0.3744, -0.4160, -0.4160,  ..., -0.8665, -0.8593, -1.0390],\n",
      "         [-0.3744, -0.4160, -0.4160,  ..., -0.8665, -0.8593, -1.0390],\n",
      "         [-0.3744, -0.4160, -0.4160,  ..., -0.8665, -0.8593, -1.0390]]],\n",
      "       dtype=torch.float64)\n",
      "        Y_selected = tensor([[[2.3015],\n",
      "         [1.6391],\n",
      "         [1.3306],\n",
      "         ...,\n",
      "         [2.9703],\n",
      "         [2.6895],\n",
      "         [2.1824]],\n",
      "\n",
      "        [[2.2802],\n",
      "         [1.6360],\n",
      "         [1.3585],\n",
      "         ...,\n",
      "         [3.4934],\n",
      "         [2.7531],\n",
      "         [2.2419]],\n",
      "\n",
      "        [[2.2930],\n",
      "         [1.8728],\n",
      "         [1.5452],\n",
      "         ...,\n",
      "         [2.7695],\n",
      "         [2.6033],\n",
      "         [1.7277]],\n",
      "\n",
      "        ...,\n",
      "\n",
      "        [[2.7113],\n",
      "         [2.7303],\n",
      "         [1.7062],\n",
      "         ...,\n",
      "         [3.6838],\n",
      "         [3.1263],\n",
      "         [2.2087]],\n",
      "\n",
      "        [[3.0989],\n",
      "         [1.8931],\n",
      "         [1.3456],\n",
      "         ...,\n",
      "         [3.2453],\n",
      "         [2.2220],\n",
      "         [2.0040]],\n",
      "\n",
      "        [[2.7366],\n",
      "         [2.0329],\n",
      "         [2.1288],\n",
      "         ...,\n",
      "         [3.6032],\n",
      "         [2.7322],\n",
      "         [2.7488]]], dtype=torch.float64)\n",
      "        self = <scripts.Visualization.PlotlyApp object at 0x7f3f2e1a40d0>\n",
      "        self.model_plot = <scripts.Model.Model object at 0x7f3f2d62ad10>\n",
      "    133     Y_pred = Y_pred[selected_date,:,0]\n",
      "\n",
      "File ~/loadforecasting/scripts/Model.py:43, in Model.predict(\n",
      "    self=<scripts.Model.Model object>,\n",
      "    X=tensor([[[ 2.6708, -0.4160, -0.4160,  ...,  1.28... -0.8593, -1.0390]]],\n",
      "       dtype=torch.float64),\n",
      "    Y=tensor([[[2.3015],\n",
      "         [1.6391],\n",
      "         [....7322],\n",
      "         [2.7488]]], dtype=torch.float64)\n",
      ")\n",
      "     42     else:\n",
      "---> 43         output = self.my_model.forward(X)\n",
      "        self.my_model = <scripts.Model.SyntheticLoadProfile object at 0x7f3f2eadb950>\n",
      "        self = <scripts.Model.Model object at 0x7f3f2d62ad10>\n",
      "        X = tensor([[[ 2.6708, -0.4160, -0.4160,  ...,  1.2889,  0.7238,  0.9566],\n",
      "         [ 2.6708, -0.4160, -0.4160,  ...,  1.2889,  1.1622,  0.9572],\n",
      "         [ 2.6708, -0.4160, -0.4160,  ...,  1.3688,  1.3815,  0.9586],\n",
      "         ...,\n",
      "         [-0.3744,  2.4037, -0.4160,  ..., -0.8665, -0.8593, -1.0390],\n",
      "         [-0.3744,  2.4037, -0.4160,  ..., -0.8665, -0.8593, -1.0390],\n",
      "         [-0.3744,  2.4037, -0.4160,  ..., -0.8665, -0.8593, -1.0390]],\n",
      "\n",
      "        [[-0.3744,  2.4037, -0.4160,  ...,  1.3688, -0.4209,  0.9830],\n",
      "         [-0.3744,  2.4037, -0.4160,  ...,  1.0494, -0.2017,  0.9832],\n",
      "         [-0.3744,  2.4037, -0.4160,  ...,  1.0494,  0.2854,  0.9840],\n",
      "         ...,\n",
      "         [-0.3744, -0.4160,  2.4037,  ..., -0.8665, -0.8593, -1.0390],\n",
      "         [-0.3744, -0.4160,  2.4037,  ..., -0.8665, -0.8593, -1.0390],\n",
      "         [-0.3744, -0.4160,  2.4037,  ..., -0.8665, -0.8593, -1.0390]],\n",
      "\n",
      "        [[-0.3744, -0.4160,  2.4037,  ...,  1.1293,  0.7238,  0.9824],\n",
      "         [-0.3744, -0.4160,  2.4037,  ...,  0.9696,  0.5046,  0.9813],\n",
      "         [-0.3744, -0.4160,  2.4037,  ...,  0.8898,  0.5046,  0.9809],\n",
      "         ...,\n",
      "         [-0.3744, -0.4160, -0.4160,  ..., -0.8665, -0.8593, -1.0390],\n",
      "         [-0.3744, -0.4160, -0.4160,  ..., -0.8665, -0.8593, -1.0390],\n",
      "         [-0.3744, -0.4160, -0.4160,  ..., -0.8665, -0.8593, -1.0390]],\n",
      "\n",
      "        ...,\n",
      "\n",
      "        [[-0.3744, -0.4160,  2.4037,  ...,  1.2091, -0.2017,  0.9602],\n",
      "         [-0.3744, -0.4160,  2.4037,  ...,  1.2091,  0.0662,  0.9602],\n",
      "         [-0.3744, -0.4160,  2.4037,  ...,  0.8100, -0.2017,  0.9594],\n",
      "         ...,\n",
      "         [-0.3744, -0.4160, -0.4160,  ..., -0.8665, -0.8593, -1.0390],\n",
      "         [-0.3744, -0.4160, -0.4160,  ..., -0.8665, -0.8593, -1.0390],\n",
      "         [-0.3744, -0.4160, -0.4160,  ..., -0.8665, -0.8593, -1.0390]],\n",
      "\n",
      "        [[-0.3744, -0.4160, -0.4160,  ...,  1.0494,  2.0756,  0.9492],\n",
      "         [-0.3744, -0.4160, -0.4160,  ...,  1.1293,  1.8564,  0.9503],\n",
      "         [-0.3744, -0.4160, -0.4160,  ...,  1.1293,  1.8564,  0.9509],\n",
      "         ...,\n",
      "         [-0.3744, -0.4160, -0.4160,  ..., -0.8665, -0.8593, -1.0390],\n",
      "         [-0.3744, -0.4160, -0.4160,  ..., -0.8665, -0.8593, -1.0390],\n",
      "         [-0.3744, -0.4160, -0.4160,  ..., -0.8665, -0.8593, -1.0390]],\n",
      "\n",
      "        [[-0.3744, -0.4160, -0.4160,  ...,  0.6503, -0.4209,  0.9625],\n",
      "         [-0.3744, -0.4160, -0.4160,  ...,  0.7301, -0.4209,  0.9629],\n",
      "         [-0.3744, -0.4160, -0.4160,  ...,  0.8100,  0.2854,  0.9633],\n",
      "         ...,\n",
      "         [-0.3744, -0.4160, -0.4160,  ..., -0.8665, -0.8593, -1.0390],\n",
      "         [-0.3744, -0.4160, -0.4160,  ..., -0.8665, -0.8593, -1.0390],\n",
      "         [-0.3744, -0.4160, -0.4160,  ..., -0.8665, -0.8593, -1.0390]]],\n",
      "       dtype=torch.float64)\n",
      "     44 return output\n",
      "\n",
      "File ~/loadforecasting/scripts/Model.py:421, in SyntheticLoadProfile.forward(\n",
      "    self=<scripts.Model.SyntheticLoadProfile object>,\n",
      "    x=tensor([[[ 2.6708, -0.4160, -0.4160,  ...,  1.28... -0.8593, -1.0390]]],\n",
      "       dtype=torch.float64)\n",
      ")\n",
      "    420 else:\n",
      "--> 421     assert False, f\"Unexpected shape received: {nr_of_days}\"\n",
      "        nr_of_days = 61\n",
      "    423 return y_pred\n",
      "\n",
      "AssertionError: Unexpected shape received: 61\n",
      "\n",
      "The above exception was the direct cause of the following exception:\n",
      "\n",
      "RuntimeError                              Traceback (most recent call last)\n",
      "File ~/loadforecasting/scripts/Visualization.py:189, in PlotlyApp.update_date_plot(\n",
      "    self=<scripts.Visualization.PlotlyApp object>,\n",
      "    selected_dataset='train',\n",
      "    selected_date=1\n",
      ")\n",
      "    186     return fig_Y, fig_X\n",
      "    188 except Exception as e:\n",
      "--> 189     raise RuntimeError(\"An error occurred during visualization!\") from e\n",
      "\n",
      "RuntimeError: An error occurred during visualization!\n",
      "\n"
     ]
    }
   ],
   "source": [
    "# Evaluate specific model of given power profiles and given configurations\n",
    "#\n",
    "\n",
    "importlib.reload(Visualization)\n",
    "importlib.reload(model)\n",
    "importlib.reload(utils)\n",
    "importlib.reload(ModelAdapter)\n",
    "\n",
    "# Define a specific configuration\n",
    "#\n",
    "test_profile = \"scripts/outputs/file_0.pkl\"\n",
    "with open(test_profile, 'rb') as f:\n",
    "    (X, Y, modelAdapter) = pickle.load(f)\n",
    "path_to_trained_parameters = 'scripts/outputs/all_trained_models.pth'\n",
    "model_type = 'SyntheticLoadProfile'\n",
    "num_of_features = X['train'].shape[2]\n",
    "myConfig = Config_of_one_run(ModelSize.MEDIUM, DoPretraining.YES, DoTransferLearning.YES, Aggregation_Count._37_HOUSEHOLDS, \n",
    "                NrOfComunities._20, TrainingHistory._2_MONTH, ModelInputHistory._1_DAY, UsedModels.ALL, Epochs.DEFAULT)\n",
    "\n",
    "# Plot the chosen model\n",
    "#\n",
    "myModel = utils.Deserialize.get_trained_model(path_to_trained_parameters, model_type, test_profile, myConfig, num_of_features)\n",
    "plotlyApp = Visualization.PlotlyApp(X, Y, myModel, modelAdapter, None, 'UTC+00:00')\n",
    "plotlyApp.run(myport=8060)\n"
   ]
  },
  {
   "cell_type": "code",
   "execution_count": 5,
   "metadata": {},
   "outputs": [
    {
     "ename": "RuntimeError",
     "evalue": "X1 and X2 must have the same number of columns. X1: 3024 X2: 864",
     "output_type": "error",
     "traceback": [
      "\u001b[0;31m---------------------------------------------------------------------------\u001b[0m",
      "\u001b[0;31mRuntimeError\u001b[0m                              Traceback (most recent call last)",
      "Cell \u001b[0;32mIn[5], line 23\u001b[0m\n\u001b[1;32m     21\u001b[0m \u001b[38;5;28;01mfor\u001b[39;00m model_type \u001b[38;5;129;01min\u001b[39;00m Simulation_config\u001b[38;5;241m.\u001b[39mUsedModels\u001b[38;5;241m.\u001b[39mALL:\n\u001b[1;32m     22\u001b[0m     my_Model \u001b[38;5;241m=\u001b[39m utils\u001b[38;5;241m.\u001b[39mDeserialize\u001b[38;5;241m.\u001b[39mget_trained_model(path_to_trained_parameters, model_type, test_profile, myConfig, num_of_features)\n\u001b[0;32m---> 23\u001b[0m     Y_pred \u001b[38;5;241m=\u001b[39m torch\u001b[38;5;241m.\u001b[39mTensor(modelAdapter\u001b[38;5;241m.\u001b[39mdeNormalizeY(\u001b[43mmy_Model\u001b[49m\u001b[38;5;241;43m.\u001b[39;49m\u001b[43mpredict\u001b[49m\u001b[43m(\u001b[49m\u001b[43mX\u001b[49m\u001b[43m[\u001b[49m\u001b[38;5;124;43m'\u001b[39;49m\u001b[38;5;124;43mtest\u001b[39;49m\u001b[38;5;124;43m'\u001b[39;49m\u001b[43m]\u001b[49m\u001b[43m,\u001b[49m\u001b[43m \u001b[49m\u001b[43mY\u001b[49m\u001b[43m[\u001b[49m\u001b[38;5;124;43m'\u001b[39;49m\u001b[38;5;124;43mtest\u001b[39;49m\u001b[38;5;124;43m'\u001b[39;49m\u001b[43m]\u001b[49m\u001b[43m)\u001b[49m)\u001b[38;5;241m.\u001b[39mflatten())    \n\u001b[1;32m     24\u001b[0m     P_el_predicted \u001b[38;5;241m=\u001b[39m torch\u001b[38;5;241m.\u001b[39mcat([P_el_predicted, Y_pred], dim\u001b[38;5;241m=\u001b[39m\u001b[38;5;241m0\u001b[39m)    \n\u001b[1;32m     26\u001b[0m startdate \u001b[38;5;241m=\u001b[39m modelAdapter\u001b[38;5;241m.\u001b[39mgetStartDateFromIndex(\u001b[38;5;124m'\u001b[39m\u001b[38;5;124mtest\u001b[39m\u001b[38;5;124m'\u001b[39m, \u001b[38;5;241m0\u001b[39m)\n",
      "File \u001b[0;32m~/loadforecasting/scripts/Model.py:43\u001b[0m, in \u001b[0;36mModel.predict\u001b[0;34m(self, X, Y)\u001b[0m\n\u001b[1;32m     41\u001b[0m         output \u001b[38;5;241m=\u001b[39m \u001b[38;5;28mself\u001b[39m\u001b[38;5;241m.\u001b[39mmy_model\u001b[38;5;241m.\u001b[39mforward(X, Y)\n\u001b[1;32m     42\u001b[0m     \u001b[38;5;28;01melse\u001b[39;00m:\n\u001b[0;32m---> 43\u001b[0m         output \u001b[38;5;241m=\u001b[39m \u001b[38;5;28;43mself\u001b[39;49m\u001b[38;5;241;43m.\u001b[39;49m\u001b[43mmy_model\u001b[49m\u001b[38;5;241;43m.\u001b[39;49m\u001b[43mforward\u001b[49m\u001b[43m(\u001b[49m\u001b[43mX\u001b[49m\u001b[43m)\u001b[49m\n\u001b[1;32m     44\u001b[0m \u001b[38;5;28;01mreturn\u001b[39;00m output\n",
      "File \u001b[0;32m~/loadforecasting/scripts/Model.py:369\u001b[0m, in \u001b[0;36mKNN.forward\u001b[0;34m(self, x)\u001b[0m\n\u001b[1;32m    366\u001b[0m x_flat \u001b[38;5;241m=\u001b[39m x\u001b[38;5;241m.\u001b[39mview(batch_size, \u001b[38;5;241m-\u001b[39m\u001b[38;5;241m1\u001b[39m)  \u001b[38;5;66;03m# Flatten input to (batch_size, 24*num_of_features)\u001b[39;00m\n\u001b[1;32m    367\u001b[0m \u001b[38;5;28;01massert\u001b[39;00m x_flat\u001b[38;5;241m.\u001b[39mshape \u001b[38;5;241m==\u001b[39m torch\u001b[38;5;241m.\u001b[39mSize([batch_size, nr_of_timesteps \u001b[38;5;241m*\u001b[39m \u001b[38;5;28mself\u001b[39m\u001b[38;5;241m.\u001b[39mnum_of_features]), \\\n\u001b[1;32m    368\u001b[0m     \u001b[38;5;124mf\u001b[39m\u001b[38;5;124m\"\u001b[39m\u001b[38;5;124mShape mismatch: got \u001b[39m\u001b[38;5;132;01m{\u001b[39;00mx_flat\u001b[38;5;241m.\u001b[39mshape\u001b[38;5;132;01m}\u001b[39;00m\u001b[38;5;124m, expected (\u001b[39m\u001b[38;5;132;01m{\u001b[39;00mbatch_size\u001b[38;5;132;01m}\u001b[39;00m\u001b[38;5;124m, \u001b[39m\u001b[38;5;132;01m{\u001b[39;00mnr_of_timesteps\u001b[38;5;250m \u001b[39m\u001b[38;5;241m*\u001b[39m\u001b[38;5;250m \u001b[39m\u001b[38;5;28mself\u001b[39m\u001b[38;5;241m.\u001b[39mnum_of_features\u001b[38;5;132;01m}\u001b[39;00m\u001b[38;5;124m)\u001b[39m\u001b[38;5;124m\"\u001b[39m\n\u001b[0;32m--> 369\u001b[0m distances \u001b[38;5;241m=\u001b[39m \u001b[43mtorch\u001b[49m\u001b[38;5;241;43m.\u001b[39;49m\u001b[43mcdist\u001b[49m\u001b[43m(\u001b[49m\u001b[43mx_flat\u001b[49m\u001b[43m,\u001b[49m\u001b[43m \u001b[49m\u001b[38;5;28;43mself\u001b[39;49m\u001b[38;5;241;43m.\u001b[39;49m\u001b[43mX_train\u001b[49m\u001b[43m)\u001b[49m  \u001b[38;5;66;03m# Compute pairwise distances\u001b[39;00m\n\u001b[1;32m    370\u001b[0m \u001b[38;5;28;01massert\u001b[39;00m distances\u001b[38;5;241m.\u001b[39mshape \u001b[38;5;241m==\u001b[39m torch\u001b[38;5;241m.\u001b[39mSize([batch_size, \u001b[38;5;28mself\u001b[39m\u001b[38;5;241m.\u001b[39mX_train\u001b[38;5;241m.\u001b[39mshape[\u001b[38;5;241m0\u001b[39m]]), \\\n\u001b[1;32m    371\u001b[0m     \u001b[38;5;124mf\u001b[39m\u001b[38;5;124m\"\u001b[39m\u001b[38;5;124mShape mismatch: got \u001b[39m\u001b[38;5;132;01m{\u001b[39;00mdistances\u001b[38;5;241m.\u001b[39mshape\u001b[38;5;132;01m}\u001b[39;00m\u001b[38;5;124m, expected (\u001b[39m\u001b[38;5;132;01m{\u001b[39;00mbatch_size\u001b[38;5;132;01m}\u001b[39;00m\u001b[38;5;124m, \u001b[39m\u001b[38;5;132;01m{\u001b[39;00m\u001b[38;5;28mself\u001b[39m\u001b[38;5;241m.\u001b[39mY_train\u001b[38;5;241m.\u001b[39mshape[\u001b[38;5;241m0\u001b[39m]\u001b[38;5;132;01m}\u001b[39;00m\u001b[38;5;124m)\u001b[39m\u001b[38;5;124m\"\u001b[39m\n\u001b[1;32m    372\u001b[0m nearest_neighbors \u001b[38;5;241m=\u001b[39m torch\u001b[38;5;241m.\u001b[39margmin(distances, dim\u001b[38;5;241m=\u001b[39m\u001b[38;5;241m1\u001b[39m)  \u001b[38;5;66;03m# Get nearest neighbor index\u001b[39;00m\n",
      "File \u001b[0;32m~/miniconda3/envs/xlstm/lib/python3.11/site-packages/torch/functional.py:1330\u001b[0m, in \u001b[0;36mcdist\u001b[0;34m(x1, x2, p, compute_mode)\u001b[0m\n\u001b[1;32m   1327\u001b[0m     \u001b[38;5;28;01mreturn\u001b[39;00m handle_torch_function(\n\u001b[1;32m   1328\u001b[0m         cdist, (x1, x2), x1, x2, p\u001b[38;5;241m=\u001b[39mp, compute_mode\u001b[38;5;241m=\u001b[39mcompute_mode)\n\u001b[1;32m   1329\u001b[0m \u001b[38;5;28;01mif\u001b[39;00m compute_mode \u001b[38;5;241m==\u001b[39m \u001b[38;5;124m'\u001b[39m\u001b[38;5;124muse_mm_for_euclid_dist_if_necessary\u001b[39m\u001b[38;5;124m'\u001b[39m:\n\u001b[0;32m-> 1330\u001b[0m     \u001b[38;5;28;01mreturn\u001b[39;00m \u001b[43m_VF\u001b[49m\u001b[38;5;241;43m.\u001b[39;49m\u001b[43mcdist\u001b[49m\u001b[43m(\u001b[49m\u001b[43mx1\u001b[49m\u001b[43m,\u001b[49m\u001b[43m \u001b[49m\u001b[43mx2\u001b[49m\u001b[43m,\u001b[49m\u001b[43m \u001b[49m\u001b[43mp\u001b[49m\u001b[43m,\u001b[49m\u001b[43m \u001b[49m\u001b[38;5;28;43;01mNone\u001b[39;49;00m\u001b[43m)\u001b[49m  \u001b[38;5;66;03m# type: ignore[attr-defined]\u001b[39;00m\n\u001b[1;32m   1331\u001b[0m \u001b[38;5;28;01melif\u001b[39;00m compute_mode \u001b[38;5;241m==\u001b[39m \u001b[38;5;124m'\u001b[39m\u001b[38;5;124muse_mm_for_euclid_dist\u001b[39m\u001b[38;5;124m'\u001b[39m:\n\u001b[1;32m   1332\u001b[0m     \u001b[38;5;28;01mreturn\u001b[39;00m _VF\u001b[38;5;241m.\u001b[39mcdist(x1, x2, p, \u001b[38;5;241m1\u001b[39m)  \u001b[38;5;66;03m# type: ignore[attr-defined]\u001b[39;00m\n",
      "\u001b[0;31mRuntimeError\u001b[0m: X1 and X2 must have the same number of columns. X1: 3024 X2: 864"
     ]
    }
   ],
   "source": [
    "# Store specific predictions, for the paper 'use case' section.\n",
    "#\n",
    "\n",
    "import numpy as np\n",
    "importlib.reload(model)\n",
    "importlib.reload(utils)\n",
    "\n",
    "# Define a specific configuration\n",
    "#\n",
    "test_profile = \"scripts/outputs/file_0.pkl\"\n",
    "with open(test_profile, 'rb') as f:\n",
    "    (X, Y, modelAdapter) = pickle.load(f)\n",
    "path_to_trained_parameters = 'scripts/outputs/all_trained_models.pth'\n",
    "num_of_features = X['train'].shape[2]\n",
    "myConfig = Config_of_one_run(ModelSize.MEDIUM, DoPretraining.YES, DoTransferLearning.YES, Aggregation_Count._37_HOUSEHOLDS, \n",
    "                NrOfComunities._20, TrainingHistory._15_MONTH, ModelInputHistory._1_DAY, UsedModels.ALL, Epochs.DEFAULT)\n",
    "P_el_predicted = modelAdapter.deNormalizeY(Y['test']).flatten()\n",
    "\n",
    "# Store the predicted power profiles\n",
    "#\n",
    "for model_type in Simulation_config.UsedModels.ALL:\n",
    "    my_Model = utils.Deserialize.get_trained_model(path_to_trained_parameters, model_type, test_profile, myConfig, num_of_features)\n",
    "    Y_pred = torch.Tensor(modelAdapter.deNormalizeY(my_Model.predict(X['test'], Y['test'])).flatten())    \n",
    "    P_el_predicted = torch.cat([P_el_predicted, Y_pred], dim=0)    \n",
    "\n",
    "startdate = modelAdapter.getStartDateFromIndex('test', 0)\n",
    "file_path = \"scripts/outputs/example_predictions.pkl\"\n",
    "with open(file_path, 'wb') as file:\n",
    "    pickle.dump((P_el_predicted, startdate), file)\n",
    "\n",
    "print(P_el_predicted.shape)\n",
    "print(startdate)\n"
   ]
  },
  {
   "cell_type": "code",
   "execution_count": null,
   "metadata": {},
   "outputs": [
    {
     "name": "stdout",
     "output_type": "stream",
     "text": [
      "xLSTM - SMALL has 19791 parameters.\n",
      "xLSTM - MEDIUM has 26411 parameters.\n",
      "xLSTM - LARGE has 97679 parameters.\n",
      "LSTM - SMALL has 17463 parameters.\n",
      "LSTM - MEDIUM has 44031 parameters.\n",
      "LSTM - LARGE has 104831 parameters.\n",
      "Transformer - SMALL has 24423 parameters.\n",
      "Transformer - MEDIUM has 50863 parameters.\n",
      "Transformer - LARGE has 113351 parameters.\n"
     ]
    }
   ],
   "source": [
    "# Print the model parameter sizes\n",
    "#\n",
    "\n",
    "importlib.reload(model)\n",
    "\n",
    "model_types = ['xLSTM', 'LSTM', 'Transformer']\n",
    "for model_type in model_types:\n",
    "    for model_size in ['SMALL', 'MEDIUM', 'LARGE']:\n",
    "\n",
    "        # Test, if the model is run-able\n",
    "        num_of_features = 18\n",
    "        m = model.Model(model_type, model_size, num_of_features)\n",
    "        x = torch.zeros((7, 24*22, num_of_features))\n",
    "        m.my_model(x)\n",
    "\n",
    "        # Print the model's parameter count\n",
    "        nr_of_parameters = m.get_nr_of_parameters(do_print=False)\n",
    "        print(f\"{model_type} - {model_size} has {nr_of_parameters} parameters.\")\n"
   ]
  },
  {
   "cell_type": "code",
   "execution_count": null,
   "metadata": {},
   "outputs": [
    {
     "data": {
      "text/plain": [
       "{'custom_var1': 1}"
      ]
     },
     "execution_count": 16,
     "metadata": {},
     "output_type": "execute_result"
    }
   ],
   "source": [
    "\n",
    "class MeinModul():\n",
    "    def __init__(self):\n",
    "        self.custom_var1 = 1\n",
    "\n",
    "# Saving the model\n",
    "model = MeinModul()\n",
    "torch.save(model, \"model_with_custom_vars.pth\")\n",
    "\n",
    "# Loading the model\n",
    "model1 = MeinModul()\n",
    "state_dict = torch.load(\"model_with_custom_vars.pth\")\n",
    "# model.load_state_dict(state_dict)\n",
    "\n",
    "model1.__dict__\n"
   ]
  },
  {
   "cell_type": "code",
   "execution_count": null,
   "metadata": {},
   "outputs": [],
   "source": [
    "\n",
    "\n"
   ]
  }
 ],
 "metadata": {
  "kernelspec": {
   "display_name": "xlstm",
   "language": "python",
   "name": "python3"
  },
  "language_info": {
   "codemirror_mode": {
    "name": "ipython",
    "version": 3
   },
   "file_extension": ".py",
   "mimetype": "text/x-python",
   "name": "python",
   "nbconvert_exporter": "python",
   "pygments_lexer": "ipython3",
   "version": "3.11.9"
  }
 },
 "nbformat": 4,
 "nbformat_minor": 2
}
