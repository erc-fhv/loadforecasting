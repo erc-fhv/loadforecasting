{
 "cells": [
  {
   "cell_type": "markdown",
   "metadata": {},
   "source": [
    "# Shortterm Load Prediction using Transfer Learning"
   ]
  },
  {
   "cell_type": "code",
   "execution_count": 56,
   "metadata": {},
   "outputs": [],
   "source": [
    "# Import python libraries\n",
    "#\n",
    "import pandas as pd\n",
    "import numpy as np\n",
    "import importlib\n",
    "from tqdm import tqdm\n",
    "import pickle\n",
    "import holidays\n",
    "import pytz\n",
    "from joblib import Parallel, delayed\n",
    "import torch\n",
    "import plotly.graph_objects as go\n",
    "\n",
    "# Imports own modules.\n",
    "# All imports are done relative to the root of the project.\n",
    "# Therefore please add the project root to your environment variables.\n",
    "#\n",
    "import sys\n",
    "sys.path.append('../')\n",
    "import Model_xLSTM as model\n",
    "import data.weather_data as weather_data\n",
    "import data.demandprofiles_readout as demandprofiles\n",
    "import data.standardprofiles_readout as standardprofiles\n",
    "import LstmAdapter as LstmAdapter\n",
    "import visualization as visualization\n"
   ]
  },
  {
   "cell_type": "code",
   "execution_count": 57,
   "metadata": {},
   "outputs": [
    {
     "name": "stderr",
     "output_type": "stream",
     "text": [
      "FutureWarning: 'H' is deprecated and will be removed in a future version, please use 'h' instead.\n"
     ]
    }
   ],
   "source": [
    "importlib.reload(weather_data)\n",
    "importlib.reload(demandprofiles)\n",
    "importlib.reload(standardprofiles)\n",
    "importlib.reload(LstmAdapter)\n",
    "\n",
    "# Readout the preprocessed power profiles\n",
    "#\n",
    "household_loads_train = pd.read_pickle('../data/loadprofiles_1h_train.pkl')\n",
    "household_loads_test = pd.read_pickle('../data/loadprofiles_1h_test.pkl')\n",
    "household_loads_train['Aggregated_Power'] = household_loads_train.sum(axis=1)\n",
    "powerProfile = -1.0 * household_loads_train['Aggregated_Power']\n",
    "\n",
    "# Readout the weather data\n",
    "#\n",
    "startDate = powerProfile.index[0].to_pydatetime().replace(tzinfo=None)\n",
    "endDate = powerProfile.index[-1].to_pydatetime().replace(tzinfo=None)\n",
    "weather_measurements = weather_data.WeatherMeasurements()\n",
    "weatherData = weather_measurements.get_data(\n",
    "            startDate = startDate, \n",
    "            endDate = endDate,\n",
    "            lat = 51.4817,      # Location:\n",
    "            lon = 7.2165,       # Bochum Germany,\n",
    "            alt = 102,          # Meteostat weatherstation   \n",
    "            sample_periode = 'hourly', \n",
    "            tz = 'Europe/Vienna',\n",
    "            )\n",
    "selected_columns = ['temp', 'prcp', 'wspd', 'tsun']     # select weather data\n",
    "weatherData = weatherData.loc[:, selected_columns]\n",
    "\n",
    "# Load the public holiday calendar\n",
    "public_holidays_dict = holidays.CountryHoliday('DE', years=range(2013, 2014))\n",
    "public_holidays_timestamps = [pd.Timestamp(date, tzinfo=pytz.timezone('Europe/Vienna')) for date in public_holidays_dict.keys()]\n",
    "\n",
    "# Bring the aggregated characteristic power profiles to the format needed by the model\n",
    "#\n",
    "lstmAdapter = LstmAdapter.LstmAdapter(public_holidays_timestamps, train_size = 263, dev_size = 0, \n",
    "                                            add_tda_features=False, addLaggedPower=True, \n",
    "                                            shuffle_data=False, seed=0)\n",
    "X_model, Y_model = lstmAdapter.transformData(powerProfile, weatherData)\n",
    "\n",
    "# Readout the standard power profiles (for pretraining)\n",
    "# and bring it to the format needed by the model\n",
    "#\n",
    "demandProfiles_Readout = standardprofiles.StandardProfiles_Readout()\n",
    "standardprofiles_scaled = demandProfiles_Readout.get_scaled_standardprofiles(powerProfile)\n",
    "lstmAdapter_pretrain = LstmAdapter.LstmAdapter(public_holidays_timestamps, train_size = 263, dev_size = 0, \n",
    "                                            add_tda_features=False, addLaggedPower=True, \n",
    "                                            shuffle_data=False, seed=0)\n",
    "X_model_pretrain, Y_model_pretrain = lstmAdapter_pretrain.transformData(standardprofiles_scaled, None)\n"
   ]
  },
  {
   "cell_type": "code",
   "execution_count": 58,
   "metadata": {},
   "outputs": [],
   "source": [
    "importlib.reload(model)\n",
    "importlib.reload(visualization)\n",
    "\n",
    "# Pretrain the power profile model\n",
    "#\n",
    "pretrain_model = False\n",
    "if pretrain_model == True:\n",
    "\n",
    "    optimizer = model.Optimizer(maxEpochs=300, set_learning_rates=[0.015, 0.005, 0.003, 0.002, 0.001, 0.001, 0.001])\n",
    "    model_pretraining = model.Model(optimizer, reg_strength = 0.00)\n",
    "    model_pretraining.compile(metrics=[])\n",
    "    history_pretraining = model_pretraining.model.fit(x=X_model_pretrain['train'], y=Y_model_pretrain['train'], \n",
    "                        validation_data=(X_model_pretrain['dev'], Y_model_pretrain['dev']),\n",
    "                        batch_size=optimizer.miniBatchSize,\n",
    "                        epochs=optimizer.maxEpochs,\n",
    "                        shuffle=True, verbose='auto',\n",
    "                        callbacks=[\n",
    "                            optimizer.get_lr_callback(), \n",
    "                            #optimizer.get_early_stopping_callbacks()\n",
    "                            ]\n",
    "                        )\n",
    "    \n",
    "    # Store the results\n",
    "    #\n",
    "    model_pretraining.save_weights('lstm_pretrain_weights.h5')\n",
    "    with open('lstm_pretrain_results.pkl', 'wb') as file:\n",
    "        pickle.dump((history_pretraining, model_pretraining.model), file)\n",
    "\n",
    "    # Evaluate the pretrained model\n",
    "    #\n",
    "    # plotlyApp = visualization.PlotlyApp(X_model_pretrain, Y_model_pretrain, model_pretraining, lstmAdapter_pretrain)\n",
    "    # plotlyApp.run(myport=8055)\n",
    "    "
   ]
  },
  {
   "cell_type": "code",
   "execution_count": 81,
   "metadata": {},
   "outputs": [],
   "source": [
    "# Train with moving horizon\n",
    "#\n",
    "\n",
    "# Reload the model module\n",
    "importlib.reload(model)\n",
    "\n",
    "# Define the training days. Train not every day-of-year, but\n",
    "# only the first 14 days and weekly afterwards.\n",
    "training_days = list(range(1, X_model['all'].shape[0], 31))\n",
    "# training_days = [300]\n",
    "\n",
    "def train_on_day(i, use_transfer_learning, X, Y):\n",
    "    X_past = X['all'][:i, :, :]\n",
    "    Y_past = Y['all'][:i, :, :]    \n",
    "\n",
    "    num_of_features = X_past.shape[2]\n",
    "    myModel = model.Model(num_of_features)\n",
    "    if use_transfer_learning == True:\n",
    "        myModel.load_weights('lstm_pretrain_weights.h5')\n",
    "    train_history = myModel.train_model(X_past, Y_past, verbose=1)\n",
    "\n",
    "    return myModel, train_history, i\n",
    "\n",
    "def train_on_day_wrapper(args):\n",
    "    return train_on_day(*args)\n",
    "\n",
    "def start_training(use_transfer_learning):\n",
    "    num_workers = 1\n",
    "    results = Parallel(n_jobs=num_workers)(\n",
    "        delayed(train_on_day)(i, use_transfer_learning, X_model, Y_model) for i in training_days\n",
    "    )\n",
    "\n",
    "    models_list, train_histories_list, day_indices = zip(*results)\n",
    "    train_histories = {i: history for i, history in zip(day_indices, train_histories_list)}\n",
    "    models = {i: model for i, model in zip(day_indices, models_list)}\n",
    "\n",
    "    return train_histories, models\n",
    "\n",
    "def evaluate_results(models):\n",
    "    evaluations = {}\n",
    "    predictions = {}\n",
    "\n",
    "    for i in tqdm(range(1, X_model['all'].shape[0]), desc=\"Evaluation and Prediction Progress\"):\n",
    "        \n",
    "        # Get the last trained model to a given day\n",
    "        last_training_day = max(filter(lambda key: key <= i, models.keys()))\n",
    "        last_available_model = models[last_training_day]\n",
    "\n",
    "        # Evaluate and predict\n",
    "        X_future = X_model['all'][i, np.newaxis, :, :]\n",
    "        Y_future = Y_model['all'][i, np.newaxis, :, :]\n",
    "        evaluations[i] = last_available_model.evaluate(X_future, Y_future)\n",
    "        predictions[i] = last_available_model.predict(torch.from_numpy(X_future).float())\n",
    "\n",
    "    return evaluations, predictions\n"
   ]
  },
  {
   "cell_type": "code",
   "execution_count": 82,
   "metadata": {},
   "outputs": [
    {
     "name": "stderr",
     "output_type": "stream",
     "text": [
      "UserWarning: Using a target size (torch.Size([24])) that is different to the input size (torch.Size([24, 1])). This will likely lead to incorrect results due to broadcasting. Please ensure they have the same size.\n"
     ]
    },
    {
     "name": "stdout",
     "output_type": "stream",
     "text": [
      "Epoch 1/100 - Loss: 11.8260 - LR = 0.01\n",
      "Epoch 2/100 - Loss: 11.5849 - LR = 0.01\n",
      "Epoch 3/100 - Loss: 11.4457 - LR = 0.01\n",
      "Epoch 4/100 - Loss: 11.2793 - LR = 0.01\n",
      "Epoch 5/100 - Loss: 11.1256 - LR = 0.01\n",
      "Epoch 6/100 - Loss: 10.9202 - LR = 0.01\n",
      "Epoch 7/100 - Loss: 10.5252 - LR = 0.01\n",
      "Epoch 8/100 - Loss: 9.6527 - LR = 0.01\n",
      "Epoch 9/100 - Loss: 8.7303 - LR = 0.01\n",
      "Epoch 10/100 - Loss: 7.9204 - LR = 0.01\n",
      "Epoch 11/100 - Loss: 7.1530 - LR = 0.01\n",
      "Epoch 12/100 - Loss: 6.3913 - LR = 0.01\n",
      "Epoch 13/100 - Loss: 5.6470 - LR = 0.01\n",
      "Epoch 14/100 - Loss: 4.8845 - LR = 0.01\n",
      "Epoch 15/100 - Loss: 4.0939 - LR = 0.01\n",
      "Epoch 16/100 - Loss: 3.3478 - LR = 0.01\n",
      "Epoch 17/100 - Loss: 2.6763 - LR = 0.01\n",
      "Epoch 18/100 - Loss: 2.1406 - LR = 0.01\n",
      "Epoch 19/100 - Loss: 1.8164 - LR = 0.01\n",
      "Epoch 20/100 - Loss: 1.7681 - LR = 0.01\n",
      "Epoch 21/100 - Loss: 1.9977 - LR = 0.01\n",
      "Epoch 22/100 - Loss: 2.3706 - LR = 0.01\n",
      "Epoch 23/100 - Loss: 2.6363 - LR = 0.01\n",
      "Epoch 24/100 - Loss: 2.5966 - LR = 0.01\n",
      "Epoch 25/100 - Loss: 2.2410 - LR = 0.01\n",
      "Epoch 26/100 - Loss: 1.8249 - LR = 0.01\n",
      "Epoch 27/100 - Loss: 1.9439 - LR = 0.01\n",
      "Epoch 28/100 - Loss: 1.9373 - LR = 0.01\n",
      "Epoch 29/100 - Loss: 1.8334 - LR = 0.01\n",
      "Epoch 30/100 - Loss: 1.7683 - LR = 0.01\n",
      "Epoch 31/100 - Loss: 1.7514 - LR = 0.01\n",
      "Epoch 32/100 - Loss: 1.7587 - LR = 0.01\n",
      "Epoch 33/100 - Loss: 1.7695 - LR = 0.01\n",
      "Epoch 34/100 - Loss: 1.7738 - LR = 0.01\n",
      "Epoch 35/100 - Loss: 1.7704 - LR = 0.01\n",
      "Epoch 36/100 - Loss: 1.7627 - LR = 0.01\n",
      "Epoch 37/100 - Loss: 1.7553 - LR = 0.01\n",
      "Epoch 38/100 - Loss: 1.7515 - LR = 0.01\n",
      "Epoch 39/100 - Loss: 1.7522 - LR = 0.01\n",
      "Epoch 40/100 - Loss: 1.7557 - LR = 0.01\n",
      "Epoch 41/100 - Loss: 1.7597 - LR = 0.01\n",
      "Epoch 42/100 - Loss: 1.7620 - LR = 0.01\n",
      "Epoch 43/100 - Loss: 1.7615 - LR = 0.01\n",
      "Epoch 44/100 - Loss: 1.7589 - LR = 0.01\n",
      "Epoch 45/100 - Loss: 1.7554 - LR = 0.01\n",
      "Epoch 46/100 - Loss: 1.7526 - LR = 0.01\n",
      "Epoch 47/100 - Loss: 1.7513 - LR = 0.01\n",
      "Epoch 48/100 - Loss: 1.7518 - LR = 0.01\n",
      "Epoch 49/100 - Loss: 1.7532 - LR = 0.01\n",
      "Epoch 50/100 - Loss: 1.7547 - LR = 0.01\n",
      "Epoch 51/100 - Loss: 1.7554 - LR = 0.01\n",
      "Epoch 52/100 - Loss: 1.7551 - LR = 0.01\n",
      "Epoch 53/100 - Loss: 1.7539 - LR = 0.01\n",
      "Epoch 54/100 - Loss: 1.7526 - LR = 0.01\n",
      "Epoch 55/100 - Loss: 1.7516 - LR = 0.01\n",
      "Epoch 56/100 - Loss: 1.7513 - LR = 0.01\n",
      "Epoch 57/100 - Loss: 1.7516 - LR = 0.01\n",
      "Epoch 58/100 - Loss: 1.7523 - LR = 0.01\n",
      "Epoch 59/100 - Loss: 1.7528 - LR = 0.01\n",
      "Epoch 60/100 - Loss: 1.7530 - LR = 0.01\n",
      "Epoch 61/100 - Loss: 1.7527 - LR = 0.01\n",
      "Epoch 62/100 - Loss: 1.7522 - LR = 0.01\n",
      "Epoch 63/100 - Loss: 1.7517 - LR = 0.01\n",
      "Epoch 64/100 - Loss: 1.7513 - LR = 0.01\n",
      "Epoch 65/100 - Loss: 1.7513 - LR = 0.01\n",
      "Epoch 66/100 - Loss: 1.7516 - LR = 0.01\n",
      "Epoch 67/100 - Loss: 1.7518 - LR = 0.01\n",
      "Epoch 68/100 - Loss: 1.7520 - LR = 0.01\n",
      "Epoch 69/100 - Loss: 1.7520 - LR = 0.01\n",
      "Epoch 70/100 - Loss: 1.7518 - LR = 0.01\n",
      "Epoch 71/100 - Loss: 1.7515 - LR = 0.01\n",
      "Epoch 72/100 - Loss: 1.7514 - LR = 0.01\n",
      "Epoch 73/100 - Loss: 1.7513 - LR = 0.01\n",
      "Epoch 74/100 - Loss: 1.7514 - LR = 0.01\n",
      "Epoch 75/100 - Loss: 1.7515 - LR = 0.01\n",
      "Epoch 76/100 - Loss: 1.7516 - LR = 0.01\n",
      "Epoch 77/100 - Loss: 1.7516 - LR = 0.01\n",
      "Epoch 78/100 - Loss: 1.7515 - LR = 0.01\n",
      "Epoch 79/100 - Loss: 1.7514 - LR = 0.01\n",
      "Epoch 80/100 - Loss: 1.7513 - LR = 0.01\n",
      "Epoch 81/100 - Loss: 1.7513 - LR = 0.01\n",
      "Epoch 82/100 - Loss: 1.7513 - LR = 0.01\n",
      "Epoch 83/100 - Loss: 1.7514 - LR = 0.01\n",
      "Epoch 84/100 - Loss: 1.7514 - LR = 0.01\n",
      "Epoch 85/100 - Loss: 1.7514 - LR = 0.01\n",
      "Epoch 86/100 - Loss: 1.7514 - LR = 0.01\n",
      "Epoch 87/100 - Loss: 1.7514 - LR = 0.01\n",
      "Epoch 88/100 - Loss: 1.7513 - LR = 0.01\n",
      "Epoch 89/100 - Loss: 1.7513 - LR = 0.01\n",
      "Epoch 90/100 - Loss: 1.7513 - LR = 0.01\n",
      "Epoch 91/100 - Loss: 1.7513 - LR = 0.01\n",
      "Epoch 92/100 - Loss: 1.7514 - LR = 0.01\n",
      "Epoch 93/100 - Loss: 1.7514 - LR = 0.01\n",
      "Epoch 94/100 - Loss: 1.7513 - LR = 0.01\n",
      "Epoch 95/100 - Loss: 1.7513 - LR = 0.01\n",
      "Epoch 96/100 - Loss: 1.7513 - LR = 0.01\n",
      "Epoch 97/100 - Loss: 1.7513 - LR = 0.01\n",
      "Epoch 98/100 - Loss: 1.7513 - LR = 0.01\n",
      "Epoch 99/100 - Loss: 1.7513 - LR = 0.01\n",
      "Epoch 100/100 - Loss: 1.7513 - LR = 0.01\n"
     ]
    },
    {
     "name": "stderr",
     "output_type": "stream",
     "text": [
      "UserWarning: Using a target size (torch.Size([768])) that is different to the input size (torch.Size([768, 1])). This will likely lead to incorrect results due to broadcasting. Please ensure they have the same size.\n"
     ]
    },
    {
     "name": "stdout",
     "output_type": "stream",
     "text": [
      "Epoch 1/100 - Loss: 10.3067 - LR = 0.01\n",
      "Epoch 2/100 - Loss: 8.9592 - LR = 0.01\n",
      "Epoch 3/100 - Loss: 7.7970 - LR = 0.01\n",
      "Epoch 4/100 - Loss: 6.7836 - LR = 0.01\n",
      "Epoch 5/100 - Loss: 5.8515 - LR = 0.01\n",
      "Epoch 6/100 - Loss: 4.9116 - LR = 0.01\n",
      "Epoch 7/100 - Loss: 3.9875 - LR = 0.01\n",
      "Epoch 8/100 - Loss: 3.1120 - LR = 0.01\n",
      "Epoch 9/100 - Loss: 2.2987 - LR = 0.01\n",
      "Epoch 10/100 - Loss: 1.6646 - LR = 0.01\n",
      "Epoch 11/100 - Loss: 1.3319 - LR = 0.01\n",
      "Epoch 12/100 - Loss: 1.3831 - LR = 0.01\n",
      "Epoch 13/100 - Loss: 1.7521 - LR = 0.01\n",
      "Epoch 14/100 - Loss: 2.1268 - LR = 0.01\n",
      "Epoch 15/100 - Loss: 2.2093 - LR = 0.01\n",
      "Epoch 16/100 - Loss: 1.9589 - LR = 0.01\n",
      "Epoch 17/100 - Loss: 1.5458 - LR = 0.01\n",
      "Epoch 18/100 - Loss: 1.3115 - LR = 0.01\n",
      "Epoch 19/100 - Loss: 1.4590 - LR = 0.01\n",
      "Epoch 20/100 - Loss: 1.3352 - LR = 0.01\n",
      "Epoch 21/100 - Loss: 1.3486 - LR = 0.01\n",
      "Epoch 22/100 - Loss: 1.3435 - LR = 0.01\n",
      "Epoch 23/100 - Loss: 1.3257 - LR = 0.01\n",
      "Epoch 24/100 - Loss: 1.3102 - LR = 0.01\n",
      "Epoch 25/100 - Loss: 1.3054 - LR = 0.01\n",
      "Epoch 26/100 - Loss: 1.3101 - LR = 0.01\n",
      "Epoch 27/100 - Loss: 1.3155 - LR = 0.01\n",
      "Epoch 28/100 - Loss: 1.3155 - LR = 0.01\n",
      "Epoch 29/100 - Loss: 1.3111 - LR = 0.01\n",
      "Epoch 30/100 - Loss: 1.3064 - LR = 0.01\n",
      "Epoch 31/100 - Loss: 1.3044 - LR = 0.01\n",
      "Epoch 32/100 - Loss: 1.3055 - LR = 0.01\n",
      "Epoch 33/100 - Loss: 1.3080 - LR = 0.01\n",
      "Epoch 34/100 - Loss: 1.3097 - LR = 0.01\n",
      "Epoch 35/100 - Loss: 1.3095 - LR = 0.01\n",
      "Epoch 36/100 - Loss: 1.3075 - LR = 0.01\n",
      "Epoch 37/100 - Loss: 1.3053 - LR = 0.01\n",
      "Epoch 38/100 - Loss: 1.3043 - LR = 0.01\n",
      "Epoch 39/100 - Loss: 1.3048 - LR = 0.01\n",
      "Epoch 40/100 - Loss: 1.3062 - LR = 0.01\n",
      "Epoch 41/100 - Loss: 1.3071 - LR = 0.01\n",
      "Epoch 42/100 - Loss: 1.3068 - LR = 0.01\n",
      "Epoch 43/100 - Loss: 1.3056 - LR = 0.01\n",
      "Epoch 44/100 - Loss: 1.3045 - LR = 0.01\n",
      "Epoch 45/100 - Loss: 1.3042 - LR = 0.01\n",
      "Epoch 46/100 - Loss: 1.3048 - LR = 0.01\n",
      "Epoch 47/100 - Loss: 1.3054 - LR = 0.01\n",
      "Epoch 48/100 - Loss: 1.3057 - LR = 0.01\n",
      "Epoch 49/100 - Loss: 1.3053 - LR = 0.01\n",
      "Epoch 50/100 - Loss: 1.3047 - LR = 0.01\n",
      "Epoch 51/100 - Loss: 1.3043 - LR = 0.01\n",
      "Epoch 52/100 - Loss: 1.3043 - LR = 0.01\n",
      "Epoch 53/100 - Loss: 1.3046 - LR = 0.01\n",
      "Epoch 54/100 - Loss: 1.3049 - LR = 0.01\n",
      "Epoch 55/100 - Loss: 1.3049 - LR = 0.01\n",
      "Epoch 56/100 - Loss: 1.3046 - LR = 0.01\n",
      "Epoch 57/100 - Loss: 1.3043 - LR = 0.01\n",
      "Epoch 58/100 - Loss: 1.3042 - LR = 0.01\n",
      "Epoch 59/100 - Loss: 1.3044 - LR = 0.01\n",
      "Epoch 60/100 - Loss: 1.3046 - LR = 0.01\n",
      "Epoch 61/100 - Loss: 1.3046 - LR = 0.01\n",
      "Epoch 62/100 - Loss: 1.3045 - LR = 0.01\n",
      "Epoch 63/100 - Loss: 1.3043 - LR = 0.01\n",
      "Epoch 64/100 - Loss: 1.3042 - LR = 0.01\n",
      "Epoch 65/100 - Loss: 1.3043 - LR = 0.01\n",
      "Epoch 66/100 - Loss: 1.3044 - LR = 0.01\n",
      "Epoch 67/100 - Loss: 1.3044 - LR = 0.01\n",
      "Epoch 68/100 - Loss: 1.3044 - LR = 0.01\n",
      "Epoch 69/100 - Loss: 1.3043 - LR = 0.01\n",
      "Epoch 70/100 - Loss: 1.3042 - LR = 0.01\n",
      "Epoch 71/100 - Loss: 1.3042 - LR = 0.01\n",
      "Epoch 72/100 - Loss: 1.3043 - LR = 0.01\n",
      "Epoch 73/100 - Loss: 1.3043 - LR = 0.01\n",
      "Epoch 74/100 - Loss: 1.3043 - LR = 0.01\n",
      "Epoch 75/100 - Loss: 1.3042 - LR = 0.01\n",
      "Epoch 76/100 - Loss: 1.3042 - LR = 0.01\n",
      "Epoch 77/100 - Loss: 1.3042 - LR = 0.01\n",
      "Epoch 78/100 - Loss: 1.3043 - LR = 0.01\n",
      "Epoch 79/100 - Loss: 1.3043 - LR = 0.01\n",
      "Epoch 80/100 - Loss: 1.3043 - LR = 0.01\n",
      "Epoch 81/100 - Loss: 1.3042 - LR = 0.01\n",
      "Epoch 82/100 - Loss: 1.3042 - LR = 0.01\n",
      "Epoch 83/100 - Loss: 1.3042 - LR = 0.01\n",
      "Epoch 84/100 - Loss: 1.3042 - LR = 0.01\n",
      "Epoch 85/100 - Loss: 1.3042 - LR = 0.01\n",
      "Epoch 86/100 - Loss: 1.3042 - LR = 0.01\n",
      "Epoch 87/100 - Loss: 1.3042 - LR = 0.01\n",
      "Epoch 88/100 - Loss: 1.3042 - LR = 0.01\n",
      "Epoch 89/100 - Loss: 1.3042 - LR = 0.01\n",
      "Epoch 90/100 - Loss: 1.3042 - LR = 0.01\n",
      "Epoch 91/100 - Loss: 1.3042 - LR = 0.01\n",
      "Epoch 92/100 - Loss: 1.3042 - LR = 0.01\n",
      "Epoch 93/100 - Loss: 1.3042 - LR = 0.01\n",
      "Epoch 94/100 - Loss: 1.3042 - LR = 0.01\n",
      "Epoch 95/100 - Loss: 1.3042 - LR = 0.01\n",
      "Epoch 96/100 - Loss: 1.3042 - LR = 0.01\n",
      "Epoch 97/100 - Loss: 1.3042 - LR = 0.01\n",
      "Epoch 98/100 - Loss: 1.3042 - LR = 0.01\n",
      "Epoch 99/100 - Loss: 1.3042 - LR = 0.01\n",
      "Epoch 100/100 - Loss: 1.3042 - LR = 0.01\n"
     ]
    },
    {
     "name": "stderr",
     "output_type": "stream",
     "text": [
      "UserWarning: Using a target size (torch.Size([1512])) that is different to the input size (torch.Size([1512, 1])). This will likely lead to incorrect results due to broadcasting. Please ensure they have the same size.\n"
     ]
    },
    {
     "name": "stdout",
     "output_type": "stream",
     "text": [
      "Epoch 1/100 - Loss: 11.0389 - LR = 0.01\n",
      "Epoch 2/100 - Loss: 9.1685 - LR = 0.01\n",
      "Epoch 3/100 - Loss: 8.0115 - LR = 0.01\n",
      "Epoch 4/100 - Loss: 7.0132 - LR = 0.01\n",
      "Epoch 5/100 - Loss: 6.0512 - LR = 0.01\n",
      "Epoch 6/100 - Loss: 5.2207 - LR = 0.01\n",
      "Epoch 7/100 - Loss: 4.4102 - LR = 0.01\n",
      "Epoch 8/100 - Loss: 3.5903 - LR = 0.01\n",
      "Epoch 9/100 - Loss: 2.7954 - LR = 0.01\n",
      "Epoch 10/100 - Loss: 2.0897 - LR = 0.01\n",
      "Epoch 11/100 - Loss: 1.5500 - LR = 0.01\n",
      "Epoch 12/100 - Loss: 1.2593 - LR = 0.01\n",
      "Epoch 13/100 - Loss: 1.2768 - LR = 0.01\n",
      "Epoch 14/100 - Loss: 1.5690 - LR = 0.01\n",
      "Epoch 15/100 - Loss: 1.9440 - LR = 0.01\n",
      "Epoch 16/100 - Loss: 2.1585 - LR = 0.01\n",
      "Epoch 17/100 - Loss: 2.1048 - LR = 0.01\n",
      "Epoch 18/100 - Loss: 1.8320 - LR = 0.01\n",
      "Epoch 19/100 - Loss: 1.4861 - LR = 0.01\n",
      "Epoch 20/100 - Loss: 1.2530 - LR = 0.01\n",
      "Epoch 21/100 - Loss: 1.2736 - LR = 0.01\n",
      "Epoch 22/100 - Loss: 1.4429 - LR = 0.01\n",
      "Epoch 23/100 - Loss: 1.5071 - LR = 0.01\n",
      "Epoch 24/100 - Loss: 1.4562 - LR = 0.01\n",
      "Epoch 25/100 - Loss: 1.3660 - LR = 0.01\n",
      "Epoch 26/100 - Loss: 1.2879 - LR = 0.01\n",
      "Epoch 27/100 - Loss: 1.2406 - LR = 0.01\n",
      "Epoch 28/100 - Loss: 1.2279 - LR = 0.01\n",
      "Epoch 29/100 - Loss: 1.2412 - LR = 0.01\n",
      "Epoch 30/100 - Loss: 1.2635 - LR = 0.01\n",
      "Epoch 31/100 - Loss: 1.2778 - LR = 0.01\n",
      "Epoch 32/100 - Loss: 1.2767 - LR = 0.01\n",
      "Epoch 33/100 - Loss: 1.2633 - LR = 0.01\n",
      "Epoch 34/100 - Loss: 1.2459 - LR = 0.01\n",
      "Epoch 35/100 - Loss: 1.2327 - LR = 0.01\n",
      "Epoch 36/100 - Loss: 1.2278 - LR = 0.01\n",
      "Epoch 37/100 - Loss: 1.2309 - LR = 0.01\n",
      "Epoch 38/100 - Loss: 1.2384 - LR = 0.01\n",
      "Epoch 39/100 - Loss: 1.2457 - LR = 0.01\n",
      "Epoch 40/100 - Loss: 1.2494 - LR = 0.01\n",
      "Epoch 41/100 - Loss: 1.2482 - LR = 0.01\n",
      "Epoch 42/100 - Loss: 1.2432 - LR = 0.01\n",
      "Epoch 43/100 - Loss: 1.2365 - LR = 0.01\n",
      "Epoch 44/100 - Loss: 1.2308 - LR = 0.01\n",
      "Epoch 45/100 - Loss: 1.2280 - LR = 0.01\n",
      "Epoch 46/100 - Loss: 1.2284 - LR = 0.01\n",
      "Epoch 47/100 - Loss: 1.2311 - LR = 0.01\n",
      "Epoch 48/100 - Loss: 1.2342 - LR = 0.01\n",
      "Epoch 49/100 - Loss: 1.2360 - LR = 0.01\n",
      "Epoch 50/100 - Loss: 1.2357 - LR = 0.01\n",
      "Epoch 51/100 - Loss: 1.2336 - LR = 0.01\n",
      "Epoch 52/100 - Loss: 1.2309 - LR = 0.01\n",
      "Epoch 53/100 - Loss: 1.2287 - LR = 0.01\n",
      "Epoch 54/100 - Loss: 1.2278 - LR = 0.01\n",
      "Epoch 55/100 - Loss: 1.2282 - LR = 0.01\n",
      "Epoch 56/100 - Loss: 1.2294 - LR = 0.01\n",
      "Epoch 57/100 - Loss: 1.2306 - LR = 0.01\n",
      "Epoch 58/100 - Loss: 1.2312 - LR = 0.01\n",
      "Epoch 59/100 - Loss: 1.2309 - LR = 0.01\n",
      "Epoch 60/100 - Loss: 1.2300 - LR = 0.01\n",
      "Epoch 61/100 - Loss: 1.2289 - LR = 0.01\n",
      "Epoch 62/100 - Loss: 1.2281 - LR = 0.01\n",
      "Epoch 63/100 - Loss: 1.2278 - LR = 0.01\n",
      "Epoch 64/100 - Loss: 1.2281 - LR = 0.01\n",
      "Epoch 65/100 - Loss: 1.2286 - LR = 0.01\n",
      "Epoch 66/100 - Loss: 1.2291 - LR = 0.01\n",
      "Epoch 67/100 - Loss: 1.2292 - LR = 0.01\n",
      "Epoch 68/100 - Loss: 1.2289 - LR = 0.01\n",
      "Epoch 69/100 - Loss: 1.2285 - LR = 0.01\n",
      "Epoch 70/100 - Loss: 1.2280 - LR = 0.01\n",
      "Epoch 71/100 - Loss: 1.2278 - LR = 0.01\n",
      "Epoch 72/100 - Loss: 1.2278 - LR = 0.01\n",
      "Epoch 73/100 - Loss: 1.2280 - LR = 0.01\n",
      "Epoch 74/100 - Loss: 1.2283 - LR = 0.01\n",
      "Epoch 75/100 - Loss: 1.2284 - LR = 0.01\n",
      "Epoch 76/100 - Loss: 1.2283 - LR = 0.01\n",
      "Epoch 77/100 - Loss: 1.2282 - LR = 0.01\n",
      "Epoch 78/100 - Loss: 1.2280 - LR = 0.01\n",
      "Epoch 79/100 - Loss: 1.2278 - LR = 0.01\n",
      "Epoch 80/100 - Loss: 1.2278 - LR = 0.01\n",
      "Epoch 81/100 - Loss: 1.2279 - LR = 0.01\n",
      "Epoch 82/100 - Loss: 1.2280 - LR = 0.01\n",
      "Epoch 83/100 - Loss: 1.2280 - LR = 0.01\n",
      "Epoch 84/100 - Loss: 1.2280 - LR = 0.01\n",
      "Epoch 85/100 - Loss: 1.2280 - LR = 0.01\n",
      "Epoch 86/100 - Loss: 1.2279 - LR = 0.01\n",
      "Epoch 87/100 - Loss: 1.2278 - LR = 0.01\n",
      "Epoch 88/100 - Loss: 1.2278 - LR = 0.01\n",
      "Epoch 89/100 - Loss: 1.2278 - LR = 0.01\n",
      "Epoch 90/100 - Loss: 1.2279 - LR = 0.01\n",
      "Epoch 91/100 - Loss: 1.2279 - LR = 0.01\n",
      "Epoch 92/100 - Loss: 1.2279 - LR = 0.01\n",
      "Epoch 93/100 - Loss: 1.2279 - LR = 0.01\n",
      "Epoch 94/100 - Loss: 1.2278 - LR = 0.01\n",
      "Epoch 95/100 - Loss: 1.2278 - LR = 0.01\n",
      "Epoch 96/100 - Loss: 1.2278 - LR = 0.01\n",
      "Epoch 97/100 - Loss: 1.2278 - LR = 0.01\n",
      "Epoch 98/100 - Loss: 1.2278 - LR = 0.01\n",
      "Epoch 99/100 - Loss: 1.2278 - LR = 0.01\n",
      "Epoch 100/100 - Loss: 1.2278 - LR = 0.01\n"
     ]
    },
    {
     "name": "stderr",
     "output_type": "stream",
     "text": [
      "UserWarning: Using a target size (torch.Size([2256])) that is different to the input size (torch.Size([2256, 1])). This will likely lead to incorrect results due to broadcasting. Please ensure they have the same size.\n"
     ]
    },
    {
     "name": "stdout",
     "output_type": "stream",
     "text": [
      "Epoch 1/100 - Loss: 8.7440 - LR = 0.01\n",
      "Epoch 2/100 - Loss: 8.1686 - LR = 0.01\n",
      "Epoch 3/100 - Loss: 7.8058 - LR = 0.01\n",
      "Epoch 4/100 - Loss: 7.3273 - LR = 0.01\n",
      "Epoch 5/100 - Loss: 6.8249 - LR = 0.01\n",
      "Epoch 6/100 - Loss: 6.3085 - LR = 0.01\n",
      "Epoch 7/100 - Loss: 5.7710 - LR = 0.01\n",
      "Epoch 8/100 - Loss: 5.2095 - LR = 0.01\n",
      "Epoch 9/100 - Loss: 4.6507 - LR = 0.01\n",
      "Epoch 10/100 - Loss: 4.0528 - LR = 0.01\n",
      "Epoch 11/100 - Loss: 3.3585 - LR = 0.01\n",
      "Epoch 12/100 - Loss: 2.6690 - LR = 0.01\n",
      "Epoch 13/100 - Loss: 2.0495 - LR = 0.01\n",
      "Epoch 14/100 - Loss: 1.5381 - LR = 0.01\n",
      "Epoch 15/100 - Loss: 1.2027 - LR = 0.01\n",
      "Epoch 16/100 - Loss: 1.1262 - LR = 0.01\n",
      "Epoch 17/100 - Loss: 1.3331 - LR = 0.01\n",
      "Epoch 18/100 - Loss: 1.6654 - LR = 0.01\n",
      "Epoch 19/100 - Loss: 1.8446 - LR = 0.01\n",
      "Epoch 20/100 - Loss: 1.7411 - LR = 0.01\n",
      "Epoch 21/100 - Loss: 1.4300 - LR = 0.01\n",
      "Epoch 22/100 - Loss: 1.1442 - LR = 0.01\n",
      "Epoch 23/100 - Loss: 1.2444 - LR = 0.01\n",
      "Epoch 24/100 - Loss: 1.2995 - LR = 0.01\n",
      "Epoch 25/100 - Loss: 1.2162 - LR = 0.01\n",
      "Epoch 26/100 - Loss: 1.1466 - LR = 0.01\n",
      "Epoch 27/100 - Loss: 1.1236 - LR = 0.01\n",
      "Epoch 28/100 - Loss: 1.1177 - LR = 0.01\n",
      "Epoch 29/100 - Loss: 1.1214 - LR = 0.01\n",
      "Epoch 30/100 - Loss: 1.1277 - LR = 0.01\n",
      "Epoch 31/100 - Loss: 1.1313 - LR = 0.01\n",
      "Epoch 32/100 - Loss: 1.1302 - LR = 0.01\n",
      "Epoch 33/100 - Loss: 1.1264 - LR = 0.01\n",
      "Epoch 34/100 - Loss: 1.1217 - LR = 0.01\n",
      "Epoch 35/100 - Loss: 1.1184 - LR = 0.01\n",
      "Epoch 36/100 - Loss: 1.1177 - LR = 0.01\n",
      "Epoch 37/100 - Loss: 1.1192 - LR = 0.01\n",
      "Epoch 38/100 - Loss: 1.1216 - LR = 0.01\n",
      "Epoch 39/100 - Loss: 1.1234 - LR = 0.01\n",
      "Epoch 40/100 - Loss: 1.1237 - LR = 0.01\n",
      "Epoch 41/100 - Loss: 1.1224 - LR = 0.01\n",
      "Epoch 42/100 - Loss: 1.1203 - LR = 0.01\n",
      "Epoch 43/100 - Loss: 1.1185 - LR = 0.01\n",
      "Epoch 44/100 - Loss: 1.1177 - LR = 0.01\n",
      "Epoch 45/100 - Loss: 1.1179 - LR = 0.01\n",
      "Epoch 46/100 - Loss: 1.1188 - LR = 0.01\n",
      "Epoch 47/100 - Loss: 1.1197 - LR = 0.01\n",
      "Epoch 48/100 - Loss: 1.1201 - LR = 0.01\n",
      "Epoch 49/100 - Loss: 1.1198 - LR = 0.01\n",
      "Epoch 50/100 - Loss: 1.1190 - LR = 0.01\n",
      "Epoch 51/100 - Loss: 1.1182 - LR = 0.01\n",
      "Epoch 52/100 - Loss: 1.1177 - LR = 0.01\n",
      "Epoch 53/100 - Loss: 1.1177 - LR = 0.01\n",
      "Epoch 54/100 - Loss: 1.1180 - LR = 0.01\n",
      "Epoch 55/100 - Loss: 1.1184 - LR = 0.01\n",
      "Epoch 56/100 - Loss: 1.1187 - LR = 0.01\n",
      "Epoch 57/100 - Loss: 1.1186 - LR = 0.01\n",
      "Epoch 58/100 - Loss: 1.1183 - LR = 0.01\n",
      "Epoch 59/100 - Loss: 1.1179 - LR = 0.01\n",
      "Epoch 60/100 - Loss: 1.1177 - LR = 0.01\n",
      "Epoch 61/100 - Loss: 1.1176 - LR = 0.01\n",
      "Epoch 62/100 - Loss: 1.1178 - LR = 0.01\n",
      "Epoch 63/100 - Loss: 1.1180 - LR = 0.01\n",
      "Epoch 64/100 - Loss: 1.1181 - LR = 0.01\n",
      "Epoch 65/100 - Loss: 1.1180 - LR = 0.01\n",
      "Epoch 66/100 - Loss: 1.1179 - LR = 0.01\n",
      "Epoch 67/100 - Loss: 1.1177 - LR = 0.01\n",
      "Epoch 68/100 - Loss: 1.1176 - LR = 0.01\n",
      "Epoch 69/100 - Loss: 1.1176 - LR = 0.01\n",
      "Epoch 70/100 - Loss: 1.1177 - LR = 0.01\n",
      "Epoch 71/100 - Loss: 1.1178 - LR = 0.01\n",
      "Epoch 72/100 - Loss: 1.1178 - LR = 0.01\n",
      "Epoch 73/100 - Loss: 1.1178 - LR = 0.01\n",
      "Epoch 74/100 - Loss: 1.1177 - LR = 0.01\n",
      "Epoch 75/100 - Loss: 1.1176 - LR = 0.01\n",
      "Epoch 76/100 - Loss: 1.1176 - LR = 0.01\n",
      "Epoch 77/100 - Loss: 1.1176 - LR = 0.01\n",
      "Epoch 78/100 - Loss: 1.1177 - LR = 0.01\n",
      "Epoch 79/100 - Loss: 1.1177 - LR = 0.01\n",
      "Epoch 80/100 - Loss: 1.1177 - LR = 0.01\n",
      "Epoch 81/100 - Loss: 1.1177 - LR = 0.01\n",
      "Epoch 82/100 - Loss: 1.1176 - LR = 0.01\n",
      "Epoch 83/100 - Loss: 1.1176 - LR = 0.01\n",
      "Epoch 84/100 - Loss: 1.1176 - LR = 0.01\n",
      "Epoch 85/100 - Loss: 1.1176 - LR = 0.01\n",
      "Epoch 86/100 - Loss: 1.1176 - LR = 0.01\n",
      "Epoch 87/100 - Loss: 1.1176 - LR = 0.01\n",
      "Epoch 88/100 - Loss: 1.1176 - LR = 0.01\n",
      "Epoch 89/100 - Loss: 1.1176 - LR = 0.01\n",
      "Epoch 90/100 - Loss: 1.1176 - LR = 0.01\n",
      "Epoch 91/100 - Loss: 1.1176 - LR = 0.01\n",
      "Epoch 92/100 - Loss: 1.1176 - LR = 0.01\n",
      "Epoch 93/100 - Loss: 1.1176 - LR = 0.01\n",
      "Epoch 94/100 - Loss: 1.1176 - LR = 0.01\n",
      "Epoch 95/100 - Loss: 1.1176 - LR = 0.01\n",
      "Epoch 96/100 - Loss: 1.1176 - LR = 0.01\n",
      "Epoch 97/100 - Loss: 1.1176 - LR = 0.01\n",
      "Epoch 98/100 - Loss: 1.1176 - LR = 0.01\n",
      "Epoch 99/100 - Loss: 1.1176 - LR = 0.01\n",
      "Epoch 100/100 - Loss: 1.1176 - LR = 0.01\n"
     ]
    },
    {
     "name": "stderr",
     "output_type": "stream",
     "text": [
      "UserWarning: Using a target size (torch.Size([3000])) that is different to the input size (torch.Size([3000, 1])). This will likely lead to incorrect results due to broadcasting. Please ensure they have the same size.\n"
     ]
    },
    {
     "name": "stdout",
     "output_type": "stream",
     "text": [
      "Epoch 1/100 - Loss: 8.6426 - LR = 0.01\n",
      "Epoch 2/100 - Loss: 7.6484 - LR = 0.01\n",
      "Epoch 3/100 - Loss: 6.6225 - LR = 0.01\n",
      "Epoch 4/100 - Loss: 5.8341 - LR = 0.01\n",
      "Epoch 5/100 - Loss: 5.1163 - LR = 0.01\n",
      "Epoch 6/100 - Loss: 4.4003 - LR = 0.01\n",
      "Epoch 7/100 - Loss: 3.6884 - LR = 0.01\n",
      "Epoch 8/100 - Loss: 2.9819 - LR = 0.01\n",
      "Epoch 9/100 - Loss: 2.3129 - LR = 0.01\n",
      "Epoch 10/100 - Loss: 1.7246 - LR = 0.01\n",
      "Epoch 11/100 - Loss: 1.2831 - LR = 0.01\n",
      "Epoch 12/100 - Loss: 1.0603 - LR = 0.01\n",
      "Epoch 13/100 - Loss: 1.1143 - LR = 0.01\n",
      "Epoch 14/100 - Loss: 1.3963 - LR = 0.01\n",
      "Epoch 15/100 - Loss: 1.7124 - LR = 0.01\n",
      "Epoch 16/100 - Loss: 1.8524 - LR = 0.01\n",
      "Epoch 17/100 - Loss: 1.7524 - LR = 0.01\n",
      "Epoch 18/100 - Loss: 1.4811 - LR = 0.01\n",
      "Epoch 19/100 - Loss: 1.1664 - LR = 0.01\n",
      "Epoch 20/100 - Loss: 1.0538 - LR = 0.01\n",
      "Epoch 21/100 - Loss: 1.1776 - LR = 0.01\n",
      "Epoch 22/100 - Loss: 1.1579 - LR = 0.01\n",
      "Epoch 23/100 - Loss: 1.1124 - LR = 0.01\n",
      "Epoch 24/100 - Loss: 1.0800 - LR = 0.01\n",
      "Epoch 25/100 - Loss: 1.0610 - LR = 0.01\n",
      "Epoch 26/100 - Loss: 1.0510 - LR = 0.01\n",
      "Epoch 27/100 - Loss: 1.0467 - LR = 0.01\n",
      "Epoch 28/100 - Loss: 1.0460 - LR = 0.01\n",
      "Epoch 29/100 - Loss: 1.0470 - LR = 0.01\n",
      "Epoch 30/100 - Loss: 1.0482 - LR = 0.01\n",
      "Epoch 31/100 - Loss: 1.0488 - LR = 0.01\n",
      "Epoch 32/100 - Loss: 1.0486 - LR = 0.01\n",
      "Epoch 33/100 - Loss: 1.0479 - LR = 0.01\n",
      "Epoch 34/100 - Loss: 1.0469 - LR = 0.01\n",
      "Epoch 35/100 - Loss: 1.0462 - LR = 0.01\n",
      "Epoch 36/100 - Loss: 1.0459 - LR = 0.01\n",
      "Epoch 37/100 - Loss: 1.0461 - LR = 0.01\n",
      "Epoch 38/100 - Loss: 1.0465 - LR = 0.01\n",
      "Epoch 39/100 - Loss: 1.0470 - LR = 0.01\n",
      "Epoch 40/100 - Loss: 1.0472 - LR = 0.01\n",
      "Epoch 41/100 - Loss: 1.0472 - LR = 0.01\n",
      "Epoch 42/100 - Loss: 1.0466 - LR = 0.01\n",
      "Epoch 43/100 - Loss: 1.0460 - LR = 0.01\n",
      "Epoch 44/100 - Loss: 1.0460 - LR = 0.01\n",
      "Epoch 45/100 - Loss: 1.0464 - LR = 0.01\n",
      "Epoch 46/100 - Loss: 1.0467 - LR = 0.01\n",
      "Epoch 47/100 - Loss: 1.0465 - LR = 0.01\n",
      "Epoch 48/100 - Loss: 1.0461 - LR = 0.01\n",
      "Epoch 49/100 - Loss: 1.0459 - LR = 0.01\n",
      "Epoch 50/100 - Loss: 1.0461 - LR = 0.01\n",
      "Epoch 51/100 - Loss: 1.0463 - LR = 0.01\n",
      "Epoch 52/100 - Loss: 1.0463 - LR = 0.01\n",
      "Epoch 53/100 - Loss: 1.0462 - LR = 0.01\n",
      "Epoch 54/100 - Loss: 1.0460 - LR = 0.01\n",
      "Epoch 55/100 - Loss: 1.0459 - LR = 0.01\n",
      "Epoch 56/100 - Loss: 1.0460 - LR = 0.01\n",
      "Epoch 57/100 - Loss: 1.0461 - LR = 0.01\n",
      "Epoch 58/100 - Loss: 1.0461 - LR = 0.01\n",
      "Epoch 59/100 - Loss: 1.0460 - LR = 0.01\n",
      "Epoch 60/100 - Loss: 1.0459 - LR = 0.01\n",
      "Epoch 61/100 - Loss: 1.0459 - LR = 0.01\n",
      "Epoch 62/100 - Loss: 1.0460 - LR = 0.01\n",
      "Epoch 63/100 - Loss: 1.0460 - LR = 0.01\n",
      "Epoch 64/100 - Loss: 1.0460 - LR = 0.01\n",
      "Epoch 65/100 - Loss: 1.0460 - LR = 0.01\n",
      "Epoch 66/100 - Loss: 1.0459 - LR = 0.01\n",
      "Epoch 67/100 - Loss: 1.0459 - LR = 0.01\n",
      "Epoch 68/100 - Loss: 1.0460 - LR = 0.01\n",
      "Epoch 69/100 - Loss: 1.0460 - LR = 0.01\n",
      "Epoch 70/100 - Loss: 1.0460 - LR = 0.01\n",
      "Epoch 71/100 - Loss: 1.0459 - LR = 0.01\n",
      "Epoch 72/100 - Loss: 1.0459 - LR = 0.01\n",
      "Epoch 73/100 - Loss: 1.0459 - LR = 0.01\n",
      "Epoch 74/100 - Loss: 1.0460 - LR = 0.01\n",
      "Epoch 75/100 - Loss: 1.0460 - LR = 0.01\n",
      "Epoch 76/100 - Loss: 1.0459 - LR = 0.01\n",
      "Epoch 77/100 - Loss: 1.0459 - LR = 0.01\n",
      "Epoch 78/100 - Loss: 1.0459 - LR = 0.01\n",
      "Epoch 79/100 - Loss: 1.0459 - LR = 0.01\n",
      "Epoch 80/100 - Loss: 1.0459 - LR = 0.01\n",
      "Epoch 81/100 - Loss: 1.0459 - LR = 0.01\n",
      "Epoch 82/100 - Loss: 1.0459 - LR = 0.01\n",
      "Epoch 83/100 - Loss: 1.0459 - LR = 0.01\n",
      "Epoch 84/100 - Loss: 1.0459 - LR = 0.01\n",
      "Epoch 85/100 - Loss: 1.0459 - LR = 0.01\n",
      "Epoch 86/100 - Loss: 1.0459 - LR = 0.01\n",
      "Epoch 87/100 - Loss: 1.0459 - LR = 0.01\n",
      "Epoch 88/100 - Loss: 1.0459 - LR = 0.01\n",
      "Epoch 89/100 - Loss: 1.0459 - LR = 0.01\n",
      "Epoch 90/100 - Loss: 1.0459 - LR = 0.01\n",
      "Epoch 91/100 - Loss: 1.0459 - LR = 0.01\n",
      "Epoch 92/100 - Loss: 1.0459 - LR = 0.01\n",
      "Epoch 93/100 - Loss: 1.0459 - LR = 0.01\n",
      "Epoch 94/100 - Loss: 1.0459 - LR = 0.01\n",
      "Epoch 95/100 - Loss: 1.0459 - LR = 0.01\n",
      "Epoch 96/100 - Loss: 1.0459 - LR = 0.01\n",
      "Epoch 97/100 - Loss: 1.0459 - LR = 0.01\n",
      "Epoch 98/100 - Loss: 1.0459 - LR = 0.01\n",
      "Epoch 99/100 - Loss: 1.0459 - LR = 0.01\n",
      "Epoch 100/100 - Loss: 1.0459 - LR = 0.01\n"
     ]
    },
    {
     "name": "stderr",
     "output_type": "stream",
     "text": [
      "UserWarning: Using a target size (torch.Size([3744])) that is different to the input size (torch.Size([3744, 1])). This will likely lead to incorrect results due to broadcasting. Please ensure they have the same size.\n"
     ]
    },
    {
     "name": "stdout",
     "output_type": "stream",
     "text": [
      "Epoch 1/100 - Loss: 6.9596 - LR = 0.01\n",
      "Epoch 2/100 - Loss: 6.3239 - LR = 0.01\n",
      "Epoch 3/100 - Loss: 5.6817 - LR = 0.01\n",
      "Epoch 4/100 - Loss: 5.0027 - LR = 0.01\n",
      "Epoch 5/100 - Loss: 4.2390 - LR = 0.01\n",
      "Epoch 6/100 - Loss: 3.4040 - LR = 0.01\n",
      "Epoch 7/100 - Loss: 2.5586 - LR = 0.01\n",
      "Epoch 8/100 - Loss: 1.7193 - LR = 0.01\n",
      "Epoch 9/100 - Loss: 1.1324 - LR = 0.01\n",
      "Epoch 10/100 - Loss: 0.9892 - LR = 0.01\n",
      "Epoch 11/100 - Loss: 1.2612 - LR = 0.01\n",
      "Epoch 12/100 - Loss: 1.5580 - LR = 0.01\n",
      "Epoch 13/100 - Loss: 1.5417 - LR = 0.01\n",
      "Epoch 14/100 - Loss: 1.2765 - LR = 0.01\n",
      "Epoch 15/100 - Loss: 1.0205 - LR = 0.01\n",
      "Epoch 16/100 - Loss: 1.0357 - LR = 0.01\n",
      "Epoch 17/100 - Loss: 1.1337 - LR = 0.01\n",
      "Epoch 18/100 - Loss: 1.1149 - LR = 0.01\n",
      "Epoch 19/100 - Loss: 1.0537 - LR = 0.01\n",
      "Epoch 20/100 - Loss: 1.0092 - LR = 0.01\n",
      "Epoch 21/100 - Loss: 0.9850 - LR = 0.01\n",
      "Epoch 22/100 - Loss: 0.9803 - LR = 0.01\n",
      "Epoch 23/100 - Loss: 0.9879 - LR = 0.01\n",
      "Epoch 24/100 - Loss: 0.9972 - LR = 0.01\n",
      "Epoch 25/100 - Loss: 0.9981 - LR = 0.01\n",
      "Epoch 26/100 - Loss: 0.9920 - LR = 0.01\n",
      "Epoch 27/100 - Loss: 0.9855 - LR = 0.01\n",
      "Epoch 28/100 - Loss: 0.9808 - LR = 0.01\n",
      "Epoch 29/100 - Loss: 0.9800 - LR = 0.01\n",
      "Epoch 30/100 - Loss: 0.9826 - LR = 0.01\n",
      "Epoch 31/100 - Loss: 0.9860 - LR = 0.01\n",
      "Epoch 32/100 - Loss: 0.9877 - LR = 0.01\n",
      "Epoch 33/100 - Loss: 0.9867 - LR = 0.01\n",
      "Epoch 34/100 - Loss: 0.9839 - LR = 0.01\n",
      "Epoch 35/100 - Loss: 0.9811 - LR = 0.01\n",
      "Epoch 36/100 - Loss: 0.9800 - LR = 0.01\n",
      "Epoch 37/100 - Loss: 0.9814 - LR = 0.01\n",
      "Epoch 38/100 - Loss: 0.9829 - LR = 0.01\n",
      "Epoch 39/100 - Loss: 0.9833 - LR = 0.01\n",
      "Epoch 40/100 - Loss: 0.9826 - LR = 0.01\n",
      "Epoch 41/100 - Loss: 0.9812 - LR = 0.01\n",
      "Epoch 42/100 - Loss: 0.9801 - LR = 0.01\n",
      "Epoch 43/100 - Loss: 0.9798 - LR = 0.01\n",
      "Epoch 44/100 - Loss: 0.9803 - LR = 0.01\n",
      "Epoch 45/100 - Loss: 0.9811 - LR = 0.01\n",
      "Epoch 46/100 - Loss: 0.9815 - LR = 0.01\n",
      "Epoch 47/100 - Loss: 0.9813 - LR = 0.01\n",
      "Epoch 48/100 - Loss: 0.9807 - LR = 0.01\n",
      "Epoch 49/100 - Loss: 0.9801 - LR = 0.01\n",
      "Epoch 50/100 - Loss: 0.9798 - LR = 0.01\n",
      "Epoch 51/100 - Loss: 0.9800 - LR = 0.01\n",
      "Epoch 52/100 - Loss: 0.9804 - LR = 0.01\n",
      "Epoch 53/100 - Loss: 0.9806 - LR = 0.01\n",
      "Epoch 54/100 - Loss: 0.9806 - LR = 0.01\n",
      "Epoch 55/100 - Loss: 0.9802 - LR = 0.01\n",
      "Epoch 56/100 - Loss: 0.9799 - LR = 0.01\n",
      "Epoch 57/100 - Loss: 0.9798 - LR = 0.01\n",
      "Epoch 58/100 - Loss: 0.9799 - LR = 0.01\n",
      "Epoch 59/100 - Loss: 0.9801 - LR = 0.01\n",
      "Epoch 60/100 - Loss: 0.9802 - LR = 0.01\n",
      "Epoch 61/100 - Loss: 0.9802 - LR = 0.01\n",
      "Epoch 62/100 - Loss: 0.9800 - LR = 0.01\n",
      "Epoch 63/100 - Loss: 0.9799 - LR = 0.01\n",
      "Epoch 64/100 - Loss: 0.9798 - LR = 0.01\n",
      "Epoch 65/100 - Loss: 0.9799 - LR = 0.01\n",
      "Epoch 66/100 - Loss: 0.9800 - LR = 0.01\n",
      "Epoch 67/100 - Loss: 0.9800 - LR = 0.01\n",
      "Epoch 68/100 - Loss: 0.9800 - LR = 0.01\n",
      "Epoch 69/100 - Loss: 0.9799 - LR = 0.01\n",
      "Epoch 70/100 - Loss: 0.9798 - LR = 0.01\n",
      "Epoch 71/100 - Loss: 0.9798 - LR = 0.01\n",
      "Epoch 72/100 - Loss: 0.9799 - LR = 0.01\n",
      "Epoch 73/100 - Loss: 0.9799 - LR = 0.01\n",
      "Epoch 74/100 - Loss: 0.9799 - LR = 0.01\n",
      "Epoch 75/100 - Loss: 0.9799 - LR = 0.01\n",
      "Epoch 76/100 - Loss: 0.9798 - LR = 0.01\n",
      "Epoch 77/100 - Loss: 0.9798 - LR = 0.01\n",
      "Epoch 78/100 - Loss: 0.9798 - LR = 0.01\n",
      "Epoch 79/100 - Loss: 0.9799 - LR = 0.01\n",
      "Epoch 80/100 - Loss: 0.9799 - LR = 0.01\n",
      "Epoch 81/100 - Loss: 0.9799 - LR = 0.01\n",
      "Epoch 82/100 - Loss: 0.9798 - LR = 0.01\n",
      "Epoch 83/100 - Loss: 0.9798 - LR = 0.01\n",
      "Epoch 84/100 - Loss: 0.9798 - LR = 0.01\n",
      "Epoch 85/100 - Loss: 0.9798 - LR = 0.01\n",
      "Epoch 86/100 - Loss: 0.9798 - LR = 0.01\n",
      "Epoch 87/100 - Loss: 0.9798 - LR = 0.01\n",
      "Epoch 88/100 - Loss: 0.9798 - LR = 0.01\n",
      "Epoch 89/100 - Loss: 0.9798 - LR = 0.01\n",
      "Epoch 90/100 - Loss: 0.9798 - LR = 0.01\n",
      "Epoch 91/100 - Loss: 0.9798 - LR = 0.01\n",
      "Epoch 92/100 - Loss: 0.9798 - LR = 0.01\n",
      "Epoch 93/100 - Loss: 0.9798 - LR = 0.01\n",
      "Epoch 94/100 - Loss: 0.9798 - LR = 0.01\n",
      "Epoch 95/100 - Loss: 0.9798 - LR = 0.01\n",
      "Epoch 96/100 - Loss: 0.9798 - LR = 0.01\n",
      "Epoch 97/100 - Loss: 0.9798 - LR = 0.01\n",
      "Epoch 98/100 - Loss: 0.9798 - LR = 0.01\n",
      "Epoch 99/100 - Loss: 0.9798 - LR = 0.01\n",
      "Epoch 100/100 - Loss: 0.9798 - LR = 0.01\n"
     ]
    },
    {
     "name": "stderr",
     "output_type": "stream",
     "text": [
      "UserWarning: Using a target size (torch.Size([4488])) that is different to the input size (torch.Size([4488, 1])). This will likely lead to incorrect results due to broadcasting. Please ensure they have the same size.\n"
     ]
    },
    {
     "name": "stdout",
     "output_type": "stream",
     "text": [
      "Epoch 1/100 - Loss: 6.4583 - LR = 0.01\n",
      "Epoch 2/100 - Loss: 5.0670 - LR = 0.01\n",
      "Epoch 3/100 - Loss: 3.9074 - LR = 0.01\n",
      "Epoch 4/100 - Loss: 2.8158 - LR = 0.01\n",
      "Epoch 5/100 - Loss: 1.9159 - LR = 0.01\n",
      "Epoch 6/100 - Loss: 1.2790 - LR = 0.01\n",
      "Epoch 7/100 - Loss: 0.9511 - LR = 0.01\n",
      "Epoch 8/100 - Loss: 1.0377 - LR = 0.01\n",
      "Epoch 9/100 - Loss: 1.2807 - LR = 0.01\n",
      "Epoch 10/100 - Loss: 1.2489 - LR = 0.01\n",
      "Epoch 11/100 - Loss: 1.0481 - LR = 0.01\n",
      "Epoch 12/100 - Loss: 0.9221 - LR = 0.01\n",
      "Epoch 13/100 - Loss: 1.0325 - LR = 0.01\n",
      "Epoch 14/100 - Loss: 1.0019 - LR = 0.01\n",
      "Epoch 15/100 - Loss: 0.9308 - LR = 0.01\n",
      "Epoch 16/100 - Loss: 0.9233 - LR = 0.01\n",
      "Epoch 17/100 - Loss: 0.9464 - LR = 0.01\n",
      "Epoch 18/100 - Loss: 0.9540 - LR = 0.01\n",
      "Epoch 19/100 - Loss: 0.9399 - LR = 0.01\n",
      "Epoch 20/100 - Loss: 0.9226 - LR = 0.01\n",
      "Epoch 21/100 - Loss: 0.9191 - LR = 0.01\n",
      "Epoch 22/100 - Loss: 0.9287 - LR = 0.01\n",
      "Epoch 23/100 - Loss: 0.9374 - LR = 0.01\n",
      "Epoch 24/100 - Loss: 0.9354 - LR = 0.01\n",
      "Epoch 25/100 - Loss: 0.9258 - LR = 0.01\n",
      "Epoch 26/100 - Loss: 0.9188 - LR = 0.01\n",
      "Epoch 27/100 - Loss: 0.9197 - LR = 0.01\n",
      "Epoch 28/100 - Loss: 0.9254 - LR = 0.01\n",
      "Epoch 29/100 - Loss: 0.9286 - LR = 0.01\n",
      "Epoch 30/100 - Loss: 0.9260 - LR = 0.01\n",
      "Epoch 31/100 - Loss: 0.9207 - LR = 0.01\n",
      "Epoch 32/100 - Loss: 0.9181 - LR = 0.01\n",
      "Epoch 33/100 - Loss: 0.9197 - LR = 0.01\n",
      "Epoch 34/100 - Loss: 0.9228 - LR = 0.01\n",
      "Epoch 35/100 - Loss: 0.9238 - LR = 0.01\n",
      "Epoch 36/100 - Loss: 0.9217 - LR = 0.01\n",
      "Epoch 37/100 - Loss: 0.9189 - LR = 0.01\n",
      "Epoch 38/100 - Loss: 0.9181 - LR = 0.01\n",
      "Epoch 39/100 - Loss: 0.9194 - LR = 0.01\n",
      "Epoch 40/100 - Loss: 0.9210 - LR = 0.01\n",
      "Epoch 41/100 - Loss: 0.9210 - LR = 0.01\n",
      "Epoch 42/100 - Loss: 0.9194 - LR = 0.01\n",
      "Epoch 43/100 - Loss: 0.9181 - LR = 0.01\n",
      "Epoch 44/100 - Loss: 0.9182 - LR = 0.01\n",
      "Epoch 45/100 - Loss: 0.9192 - LR = 0.01\n",
      "Epoch 46/100 - Loss: 0.9198 - LR = 0.01\n",
      "Epoch 47/100 - Loss: 0.9193 - LR = 0.01\n",
      "Epoch 48/100 - Loss: 0.9184 - LR = 0.01\n",
      "Epoch 49/100 - Loss: 0.9179 - LR = 0.01\n",
      "Epoch 50/100 - Loss: 0.9183 - LR = 0.01\n",
      "Epoch 51/100 - Loss: 0.9189 - LR = 0.01\n",
      "Epoch 52/100 - Loss: 0.9189 - LR = 0.01\n",
      "Epoch 53/100 - Loss: 0.9184 - LR = 0.01\n",
      "Epoch 54/100 - Loss: 0.9180 - LR = 0.01\n",
      "Epoch 55/100 - Loss: 0.9180 - LR = 0.01\n",
      "Epoch 56/100 - Loss: 0.9184 - LR = 0.01\n",
      "Epoch 57/100 - Loss: 0.9185 - LR = 0.01\n",
      "Epoch 58/100 - Loss: 0.9183 - LR = 0.01\n",
      "Epoch 59/100 - Loss: 0.9180 - LR = 0.01\n",
      "Epoch 60/100 - Loss: 0.9179 - LR = 0.01\n",
      "Epoch 61/100 - Loss: 0.9181 - LR = 0.01\n",
      "Epoch 62/100 - Loss: 0.9183 - LR = 0.01\n",
      "Epoch 63/100 - Loss: 0.9182 - LR = 0.01\n",
      "Epoch 64/100 - Loss: 0.9180 - LR = 0.01\n",
      "Epoch 65/100 - Loss: 0.9179 - LR = 0.01\n",
      "Epoch 66/100 - Loss: 0.9180 - LR = 0.01\n",
      "Epoch 67/100 - Loss: 0.9181 - LR = 0.01\n",
      "Epoch 68/100 - Loss: 0.9181 - LR = 0.01\n",
      "Epoch 69/100 - Loss: 0.9180 - LR = 0.01\n",
      "Epoch 70/100 - Loss: 0.9179 - LR = 0.01\n",
      "Epoch 71/100 - Loss: 0.9179 - LR = 0.01\n",
      "Epoch 72/100 - Loss: 0.9180 - LR = 0.01\n",
      "Epoch 73/100 - Loss: 0.9180 - LR = 0.01\n",
      "Epoch 74/100 - Loss: 0.9179 - LR = 0.01\n",
      "Epoch 75/100 - Loss: 0.9179 - LR = 0.01\n",
      "Epoch 76/100 - Loss: 0.9179 - LR = 0.01\n",
      "Epoch 77/100 - Loss: 0.9180 - LR = 0.01\n",
      "Epoch 78/100 - Loss: 0.9179 - LR = 0.01\n",
      "Epoch 79/100 - Loss: 0.9179 - LR = 0.01\n",
      "Epoch 80/100 - Loss: 0.9179 - LR = 0.01\n",
      "Epoch 81/100 - Loss: 0.9179 - LR = 0.01\n",
      "Epoch 82/100 - Loss: 0.9179 - LR = 0.01\n",
      "Epoch 83/100 - Loss: 0.9179 - LR = 0.01\n",
      "Epoch 84/100 - Loss: 0.9179 - LR = 0.01\n",
      "Epoch 85/100 - Loss: 0.9179 - LR = 0.01\n",
      "Epoch 86/100 - Loss: 0.9179 - LR = 0.01\n",
      "Epoch 87/100 - Loss: 0.9179 - LR = 0.01\n",
      "Epoch 88/100 - Loss: 0.9179 - LR = 0.01\n",
      "Epoch 89/100 - Loss: 0.9179 - LR = 0.01\n",
      "Epoch 90/100 - Loss: 0.9179 - LR = 0.01\n",
      "Epoch 91/100 - Loss: 0.9179 - LR = 0.01\n",
      "Epoch 92/100 - Loss: 0.9179 - LR = 0.01\n",
      "Epoch 93/100 - Loss: 0.9179 - LR = 0.01\n",
      "Epoch 94/100 - Loss: 0.9179 - LR = 0.01\n",
      "Epoch 95/100 - Loss: 0.9179 - LR = 0.01\n",
      "Epoch 96/100 - Loss: 0.9179 - LR = 0.01\n",
      "Epoch 97/100 - Loss: 0.9179 - LR = 0.01\n",
      "Epoch 98/100 - Loss: 0.9179 - LR = 0.01\n",
      "Epoch 99/100 - Loss: 0.9179 - LR = 0.01\n",
      "Epoch 100/100 - Loss: 0.9179 - LR = 0.01\n"
     ]
    },
    {
     "name": "stderr",
     "output_type": "stream",
     "text": [
      "UserWarning: Using a target size (torch.Size([5232])) that is different to the input size (torch.Size([5232, 1])). This will likely lead to incorrect results due to broadcasting. Please ensure they have the same size.\n"
     ]
    },
    {
     "name": "stdout",
     "output_type": "stream",
     "text": [
      "Epoch 1/100 - Loss: 7.2469 - LR = 0.01\n",
      "Epoch 2/100 - Loss: 6.2081 - LR = 0.01\n",
      "Epoch 3/100 - Loss: 5.0024 - LR = 0.01\n",
      "Epoch 4/100 - Loss: 3.7977 - LR = 0.01\n",
      "Epoch 5/100 - Loss: 2.7041 - LR = 0.01\n",
      "Epoch 6/100 - Loss: 1.8543 - LR = 0.01\n",
      "Epoch 7/100 - Loss: 1.2178 - LR = 0.01\n",
      "Epoch 8/100 - Loss: 0.8967 - LR = 0.01\n",
      "Epoch 9/100 - Loss: 0.9639 - LR = 0.01\n",
      "Epoch 10/100 - Loss: 1.2923 - LR = 0.01\n",
      "Epoch 11/100 - Loss: 1.5143 - LR = 0.01\n",
      "Epoch 12/100 - Loss: 1.3965 - LR = 0.01\n",
      "Epoch 13/100 - Loss: 1.0626 - LR = 0.01\n",
      "Epoch 14/100 - Loss: 0.8790 - LR = 0.01\n",
      "Epoch 15/100 - Loss: 1.0807 - LR = 0.01\n",
      "Epoch 16/100 - Loss: 0.9576 - LR = 0.01\n",
      "Epoch 17/100 - Loss: 0.8908 - LR = 0.01\n",
      "Epoch 18/100 - Loss: 0.8760 - LR = 0.01\n",
      "Epoch 19/100 - Loss: 0.8812 - LR = 0.01\n",
      "Epoch 20/100 - Loss: 0.8886 - LR = 0.01\n",
      "Epoch 21/100 - Loss: 0.8900 - LR = 0.01\n",
      "Epoch 22/100 - Loss: 0.8854 - LR = 0.01\n",
      "Epoch 23/100 - Loss: 0.8792 - LR = 0.01\n",
      "Epoch 24/100 - Loss: 0.8758 - LR = 0.01\n",
      "Epoch 25/100 - Loss: 0.8767 - LR = 0.01\n",
      "Epoch 26/100 - Loss: 0.8803 - LR = 0.01\n",
      "Epoch 27/100 - Loss: 0.8834 - LR = 0.01\n",
      "Epoch 28/100 - Loss: 0.8839 - LR = 0.01\n",
      "Epoch 29/100 - Loss: 0.8817 - LR = 0.01\n",
      "Epoch 30/100 - Loss: 0.8779 - LR = 0.01\n",
      "Epoch 31/100 - Loss: 0.8758 - LR = 0.01\n",
      "Epoch 32/100 - Loss: 0.8760 - LR = 0.01\n",
      "Epoch 33/100 - Loss: 0.8776 - LR = 0.01\n",
      "Epoch 34/100 - Loss: 0.8791 - LR = 0.01\n",
      "Epoch 35/100 - Loss: 0.8792 - LR = 0.01\n",
      "Epoch 36/100 - Loss: 0.8780 - LR = 0.01\n",
      "Epoch 37/100 - Loss: 0.8764 - LR = 0.01\n",
      "Epoch 38/100 - Loss: 0.8757 - LR = 0.01\n",
      "Epoch 39/100 - Loss: 0.8760 - LR = 0.01\n",
      "Epoch 40/100 - Loss: 0.8769 - LR = 0.01\n",
      "Epoch 41/100 - Loss: 0.8775 - LR = 0.01\n",
      "Epoch 42/100 - Loss: 0.8774 - LR = 0.01\n",
      "Epoch 43/100 - Loss: 0.8767 - LR = 0.01\n",
      "Epoch 44/100 - Loss: 0.8759 - LR = 0.01\n",
      "Epoch 45/100 - Loss: 0.8757 - LR = 0.01\n",
      "Epoch 46/100 - Loss: 0.8759 - LR = 0.01\n",
      "Epoch 47/100 - Loss: 0.8764 - LR = 0.01\n",
      "Epoch 48/100 - Loss: 0.8766 - LR = 0.01\n",
      "Epoch 49/100 - Loss: 0.8764 - LR = 0.01\n",
      "Epoch 50/100 - Loss: 0.8760 - LR = 0.01\n",
      "Epoch 51/100 - Loss: 0.8757 - LR = 0.01\n",
      "Epoch 52/100 - Loss: 0.8757 - LR = 0.01\n",
      "Epoch 53/100 - Loss: 0.8759 - LR = 0.01\n",
      "Epoch 54/100 - Loss: 0.8761 - LR = 0.01\n",
      "Epoch 55/100 - Loss: 0.8761 - LR = 0.01\n",
      "Epoch 56/100 - Loss: 0.8759 - LR = 0.01\n",
      "Epoch 57/100 - Loss: 0.8757 - LR = 0.01\n",
      "Epoch 58/100 - Loss: 0.8757 - LR = 0.01\n",
      "Epoch 59/100 - Loss: 0.8758 - LR = 0.01\n",
      "Epoch 60/100 - Loss: 0.8759 - LR = 0.01\n",
      "Epoch 61/100 - Loss: 0.8759 - LR = 0.01\n",
      "Epoch 62/100 - Loss: 0.8758 - LR = 0.01\n",
      "Epoch 63/100 - Loss: 0.8757 - LR = 0.01\n",
      "Epoch 64/100 - Loss: 0.8757 - LR = 0.01\n",
      "Epoch 65/100 - Loss: 0.8757 - LR = 0.01\n",
      "Epoch 66/100 - Loss: 0.8758 - LR = 0.01\n",
      "Epoch 67/100 - Loss: 0.8758 - LR = 0.01\n",
      "Epoch 68/100 - Loss: 0.8758 - LR = 0.01\n",
      "Epoch 69/100 - Loss: 0.8757 - LR = 0.01\n",
      "Epoch 70/100 - Loss: 0.8757 - LR = 0.01\n",
      "Epoch 71/100 - Loss: 0.8757 - LR = 0.01\n",
      "Epoch 72/100 - Loss: 0.8757 - LR = 0.01\n",
      "Epoch 73/100 - Loss: 0.8757 - LR = 0.01\n",
      "Epoch 74/100 - Loss: 0.8757 - LR = 0.01\n",
      "Epoch 75/100 - Loss: 0.8757 - LR = 0.01\n",
      "Epoch 76/100 - Loss: 0.8757 - LR = 0.01\n",
      "Epoch 77/100 - Loss: 0.8757 - LR = 0.01\n",
      "Epoch 78/100 - Loss: 0.8757 - LR = 0.01\n",
      "Epoch 79/100 - Loss: 0.8757 - LR = 0.01\n",
      "Epoch 80/100 - Loss: 0.8757 - LR = 0.01\n",
      "Epoch 81/100 - Loss: 0.8757 - LR = 0.01\n",
      "Epoch 82/100 - Loss: 0.8757 - LR = 0.01\n",
      "Epoch 83/100 - Loss: 0.8757 - LR = 0.01\n",
      "Epoch 84/100 - Loss: 0.8757 - LR = 0.01\n",
      "Epoch 85/100 - Loss: 0.8757 - LR = 0.01\n",
      "Epoch 86/100 - Loss: 0.8757 - LR = 0.01\n",
      "Epoch 87/100 - Loss: 0.8757 - LR = 0.01\n",
      "Epoch 88/100 - Loss: 0.8757 - LR = 0.01\n",
      "Epoch 89/100 - Loss: 0.8757 - LR = 0.01\n",
      "Epoch 90/100 - Loss: 0.8757 - LR = 0.01\n",
      "Epoch 91/100 - Loss: 0.8757 - LR = 0.01\n",
      "Epoch 92/100 - Loss: 0.8757 - LR = 0.01\n",
      "Epoch 93/100 - Loss: 0.8757 - LR = 0.01\n",
      "Epoch 94/100 - Loss: 0.8757 - LR = 0.01\n",
      "Epoch 95/100 - Loss: 0.8757 - LR = 0.01\n",
      "Epoch 96/100 - Loss: 0.8757 - LR = 0.01\n",
      "Epoch 97/100 - Loss: 0.8757 - LR = 0.01\n",
      "Epoch 98/100 - Loss: 0.8757 - LR = 0.01\n",
      "Epoch 99/100 - Loss: 0.8757 - LR = 0.01\n",
      "Epoch 100/100 - Loss: 0.8757 - LR = 0.01\n"
     ]
    },
    {
     "name": "stderr",
     "output_type": "stream",
     "text": [
      "UserWarning: Using a target size (torch.Size([5976])) that is different to the input size (torch.Size([5976, 1])). This will likely lead to incorrect results due to broadcasting. Please ensure they have the same size.\n"
     ]
    },
    {
     "name": "stdout",
     "output_type": "stream",
     "text": [
      "Epoch 1/100 - Loss: 6.6109 - LR = 0.01\n",
      "Epoch 2/100 - Loss: 5.6394 - LR = 0.01\n",
      "Epoch 3/100 - Loss: 4.5164 - LR = 0.01\n",
      "Epoch 4/100 - Loss: 3.3471 - LR = 0.01\n",
      "Epoch 5/100 - Loss: 2.3904 - LR = 0.01\n",
      "Epoch 6/100 - Loss: 1.7147 - LR = 0.01\n",
      "Epoch 7/100 - Loss: 1.2156 - LR = 0.01\n",
      "Epoch 8/100 - Loss: 0.9193 - LR = 0.01\n",
      "Epoch 9/100 - Loss: 0.8712 - LR = 0.01\n",
      "Epoch 10/100 - Loss: 1.0461 - LR = 0.01\n",
      "Epoch 11/100 - Loss: 1.2496 - LR = 0.01\n",
      "Epoch 12/100 - Loss: 1.2715 - LR = 0.01\n",
      "Epoch 13/100 - Loss: 1.1024 - LR = 0.01\n",
      "Epoch 14/100 - Loss: 0.8901 - LR = 0.01\n",
      "Epoch 15/100 - Loss: 0.9487 - LR = 0.01\n",
      "Epoch 16/100 - Loss: 0.9590 - LR = 0.01\n",
      "Epoch 17/100 - Loss: 0.8923 - LR = 0.01\n",
      "Epoch 18/100 - Loss: 0.8623 - LR = 0.01\n",
      "Epoch 19/100 - Loss: 0.8580 - LR = 0.01\n",
      "Epoch 20/100 - Loss: 0.8635 - LR = 0.01\n",
      "Epoch 21/100 - Loss: 0.8675 - LR = 0.01\n",
      "Epoch 22/100 - Loss: 0.8674 - LR = 0.01\n",
      "Epoch 23/100 - Loss: 0.8636 - LR = 0.01\n",
      "Epoch 24/100 - Loss: 0.8592 - LR = 0.01\n",
      "Epoch 25/100 - Loss: 0.8573 - LR = 0.01\n",
      "Epoch 26/100 - Loss: 0.8588 - LR = 0.01\n",
      "Epoch 27/100 - Loss: 0.8611 - LR = 0.01\n",
      "Epoch 28/100 - Loss: 0.8630 - LR = 0.01\n",
      "Epoch 29/100 - Loss: 0.8628 - LR = 0.01\n",
      "Epoch 30/100 - Loss: 0.8608 - LR = 0.01\n",
      "Epoch 31/100 - Loss: 0.8585 - LR = 0.01\n",
      "Epoch 32/100 - Loss: 0.8573 - LR = 0.01\n",
      "Epoch 33/100 - Loss: 0.8575 - LR = 0.01\n",
      "Epoch 34/100 - Loss: 0.8586 - LR = 0.01\n",
      "Epoch 35/100 - Loss: 0.8596 - LR = 0.01\n",
      "Epoch 36/100 - Loss: 0.8598 - LR = 0.01\n",
      "Epoch 37/100 - Loss: 0.8590 - LR = 0.01\n",
      "Epoch 38/100 - Loss: 0.8579 - LR = 0.01\n",
      "Epoch 39/100 - Loss: 0.8572 - LR = 0.01\n",
      "Epoch 40/100 - Loss: 0.8572 - LR = 0.01\n",
      "Epoch 41/100 - Loss: 0.8577 - LR = 0.01\n",
      "Epoch 42/100 - Loss: 0.8583 - LR = 0.01\n",
      "Epoch 43/100 - Loss: 0.8584 - LR = 0.01\n",
      "Epoch 44/100 - Loss: 0.8581 - LR = 0.01\n",
      "Epoch 45/100 - Loss: 0.8576 - LR = 0.01\n",
      "Epoch 46/100 - Loss: 0.8572 - LR = 0.01\n",
      "Epoch 47/100 - Loss: 0.8572 - LR = 0.01\n",
      "Epoch 48/100 - Loss: 0.8574 - LR = 0.01\n",
      "Epoch 49/100 - Loss: 0.8577 - LR = 0.01\n",
      "Epoch 50/100 - Loss: 0.8578 - LR = 0.01\n",
      "Epoch 51/100 - Loss: 0.8576 - LR = 0.01\n",
      "Epoch 52/100 - Loss: 0.8573 - LR = 0.01\n",
      "Epoch 53/100 - Loss: 0.8572 - LR = 0.01\n",
      "Epoch 54/100 - Loss: 0.8572 - LR = 0.01\n",
      "Epoch 55/100 - Loss: 0.8573 - LR = 0.01\n",
      "Epoch 56/100 - Loss: 0.8574 - LR = 0.01\n",
      "Epoch 57/100 - Loss: 0.8574 - LR = 0.01\n",
      "Epoch 58/100 - Loss: 0.8573 - LR = 0.01\n",
      "Epoch 59/100 - Loss: 0.8572 - LR = 0.01\n",
      "Epoch 60/100 - Loss: 0.8571 - LR = 0.01\n",
      "Epoch 61/100 - Loss: 0.8571 - LR = 0.01\n",
      "Epoch 62/100 - Loss: 0.8572 - LR = 0.01\n",
      "Epoch 63/100 - Loss: 0.8573 - LR = 0.01\n",
      "Epoch 64/100 - Loss: 0.8573 - LR = 0.01\n",
      "Epoch 65/100 - Loss: 0.8572 - LR = 0.01\n",
      "Epoch 66/100 - Loss: 0.8571 - LR = 0.01\n",
      "Epoch 67/100 - Loss: 0.8571 - LR = 0.01\n",
      "Epoch 68/100 - Loss: 0.8571 - LR = 0.01\n",
      "Epoch 69/100 - Loss: 0.8572 - LR = 0.01\n",
      "Epoch 70/100 - Loss: 0.8572 - LR = 0.01\n",
      "Epoch 71/100 - Loss: 0.8572 - LR = 0.01\n",
      "Epoch 72/100 - Loss: 0.8571 - LR = 0.01\n",
      "Epoch 73/100 - Loss: 0.8571 - LR = 0.01\n",
      "Epoch 74/100 - Loss: 0.8571 - LR = 0.01\n",
      "Epoch 75/100 - Loss: 0.8571 - LR = 0.01\n",
      "Epoch 76/100 - Loss: 0.8572 - LR = 0.01\n",
      "Epoch 77/100 - Loss: 0.8571 - LR = 0.01\n",
      "Epoch 78/100 - Loss: 0.8571 - LR = 0.01\n",
      "Epoch 79/100 - Loss: 0.8571 - LR = 0.01\n",
      "Epoch 80/100 - Loss: 0.8571 - LR = 0.01\n",
      "Epoch 81/100 - Loss: 0.8571 - LR = 0.01\n",
      "Epoch 82/100 - Loss: 0.8571 - LR = 0.01\n",
      "Epoch 83/100 - Loss: 0.8571 - LR = 0.01\n",
      "Epoch 84/100 - Loss: 0.8571 - LR = 0.01\n",
      "Epoch 85/100 - Loss: 0.8571 - LR = 0.01\n",
      "Epoch 86/100 - Loss: 0.8571 - LR = 0.01\n",
      "Epoch 87/100 - Loss: 0.8571 - LR = 0.01\n",
      "Epoch 88/100 - Loss: 0.8571 - LR = 0.01\n",
      "Epoch 89/100 - Loss: 0.8571 - LR = 0.01\n",
      "Epoch 90/100 - Loss: 0.8571 - LR = 0.01\n",
      "Epoch 91/100 - Loss: 0.8571 - LR = 0.01\n",
      "Epoch 92/100 - Loss: 0.8571 - LR = 0.01\n",
      "Epoch 93/100 - Loss: 0.8571 - LR = 0.01\n",
      "Epoch 94/100 - Loss: 0.8571 - LR = 0.01\n",
      "Epoch 95/100 - Loss: 0.8571 - LR = 0.01\n",
      "Epoch 96/100 - Loss: 0.8571 - LR = 0.01\n",
      "Epoch 97/100 - Loss: 0.8571 - LR = 0.01\n",
      "Epoch 98/100 - Loss: 0.8571 - LR = 0.01\n",
      "Epoch 99/100 - Loss: 0.8571 - LR = 0.01\n",
      "Epoch 100/100 - Loss: 0.8571 - LR = 0.01\n"
     ]
    },
    {
     "name": "stderr",
     "output_type": "stream",
     "text": [
      "UserWarning: Using a target size (torch.Size([6720])) that is different to the input size (torch.Size([6720, 1])). This will likely lead to incorrect results due to broadcasting. Please ensure they have the same size.\n"
     ]
    },
    {
     "name": "stdout",
     "output_type": "stream",
     "text": [
      "Epoch 1/100 - Loss: 7.5836 - LR = 0.01\n",
      "Epoch 2/100 - Loss: 6.9357 - LR = 0.01\n",
      "Epoch 3/100 - Loss: 6.3820 - LR = 0.01\n",
      "Epoch 4/100 - Loss: 5.7731 - LR = 0.01\n",
      "Epoch 5/100 - Loss: 5.1089 - LR = 0.01\n",
      "Epoch 6/100 - Loss: 4.5030 - LR = 0.01\n",
      "Epoch 7/100 - Loss: 3.9395 - LR = 0.01\n",
      "Epoch 8/100 - Loss: 3.3802 - LR = 0.01\n",
      "Epoch 9/100 - Loss: 2.8215 - LR = 0.01\n",
      "Epoch 10/100 - Loss: 2.2721 - LR = 0.01\n",
      "Epoch 11/100 - Loss: 1.7689 - LR = 0.01\n",
      "Epoch 12/100 - Loss: 1.3423 - LR = 0.01\n",
      "Epoch 13/100 - Loss: 1.0336 - LR = 0.01\n",
      "Epoch 14/100 - Loss: 0.8995 - LR = 0.01\n",
      "Epoch 15/100 - Loss: 0.9724 - LR = 0.01\n",
      "Epoch 16/100 - Loss: 1.1908 - LR = 0.01\n",
      "Epoch 17/100 - Loss: 1.3827 - LR = 0.01\n",
      "Epoch 18/100 - Loss: 1.4065 - LR = 0.01\n",
      "Epoch 19/100 - Loss: 1.2519 - LR = 0.01\n",
      "Epoch 20/100 - Loss: 1.0195 - LR = 0.01\n",
      "Epoch 21/100 - Loss: 0.8859 - LR = 0.01\n",
      "Epoch 22/100 - Loss: 0.9768 - LR = 0.01\n",
      "Epoch 23/100 - Loss: 1.0339 - LR = 0.01\n",
      "Epoch 24/100 - Loss: 0.9931 - LR = 0.01\n",
      "Epoch 25/100 - Loss: 0.9307 - LR = 0.01\n",
      "Epoch 26/100 - Loss: 0.8875 - LR = 0.01\n",
      "Epoch 27/100 - Loss: 0.8718 - LR = 0.01\n",
      "Epoch 28/100 - Loss: 0.8742 - LR = 0.01\n",
      "Epoch 29/100 - Loss: 0.8823 - LR = 0.01\n",
      "Epoch 30/100 - Loss: 0.8880 - LR = 0.01\n",
      "Epoch 31/100 - Loss: 0.8888 - LR = 0.01\n",
      "Epoch 32/100 - Loss: 0.8856 - LR = 0.01\n",
      "Epoch 33/100 - Loss: 0.8806 - LR = 0.01\n",
      "Epoch 34/100 - Loss: 0.8754 - LR = 0.01\n",
      "Epoch 35/100 - Loss: 0.8715 - LR = 0.01\n",
      "Epoch 36/100 - Loss: 0.8702 - LR = 0.01\n",
      "Epoch 37/100 - Loss: 0.8713 - LR = 0.01\n",
      "Epoch 38/100 - Loss: 0.8740 - LR = 0.01\n",
      "Epoch 39/100 - Loss: 0.8766 - LR = 0.01\n",
      "Epoch 40/100 - Loss: 0.8776 - LR = 0.01\n",
      "Epoch 41/100 - Loss: 0.8767 - LR = 0.01\n",
      "Epoch 42/100 - Loss: 0.8743 - LR = 0.01\n",
      "Epoch 43/100 - Loss: 0.8717 - LR = 0.01\n",
      "Epoch 44/100 - Loss: 0.8699 - LR = 0.01\n",
      "Epoch 45/100 - Loss: 0.8695 - LR = 0.01\n",
      "Epoch 46/100 - Loss: 0.8701 - LR = 0.01\n",
      "Epoch 47/100 - Loss: 0.8711 - LR = 0.01\n",
      "Epoch 48/100 - Loss: 0.8720 - LR = 0.01\n",
      "Epoch 49/100 - Loss: 0.8723 - LR = 0.01\n",
      "Epoch 50/100 - Loss: 0.8720 - LR = 0.01\n",
      "Epoch 51/100 - Loss: 0.8713 - LR = 0.01\n",
      "Epoch 52/100 - Loss: 0.8704 - LR = 0.01\n",
      "Epoch 53/100 - Loss: 0.8697 - LR = 0.01\n",
      "Epoch 54/100 - Loss: 0.8694 - LR = 0.01\n",
      "Epoch 55/100 - Loss: 0.8695 - LR = 0.01\n",
      "Epoch 56/100 - Loss: 0.8700 - LR = 0.01\n",
      "Epoch 57/100 - Loss: 0.8704 - LR = 0.01\n",
      "Epoch 58/100 - Loss: 0.8706 - LR = 0.01\n",
      "Epoch 59/100 - Loss: 0.8704 - LR = 0.01\n",
      "Epoch 60/100 - Loss: 0.8700 - LR = 0.01\n",
      "Epoch 61/100 - Loss: 0.8696 - LR = 0.01\n",
      "Epoch 62/100 - Loss: 0.8694 - LR = 0.01\n",
      "Epoch 63/100 - Loss: 0.8694 - LR = 0.01\n",
      "Epoch 64/100 - Loss: 0.8694 - LR = 0.01\n",
      "Epoch 65/100 - Loss: 0.8696 - LR = 0.01\n",
      "Epoch 66/100 - Loss: 0.8697 - LR = 0.01\n",
      "Epoch 67/100 - Loss: 0.8698 - LR = 0.01\n",
      "Epoch 68/100 - Loss: 0.8697 - LR = 0.01\n",
      "Epoch 69/100 - Loss: 0.8696 - LR = 0.01\n",
      "Epoch 70/100 - Loss: 0.8694 - LR = 0.01\n",
      "Epoch 71/100 - Loss: 0.8693 - LR = 0.01\n",
      "Epoch 72/100 - Loss: 0.8693 - LR = 0.01\n",
      "Epoch 73/100 - Loss: 0.8694 - LR = 0.01\n",
      "Epoch 74/100 - Loss: 0.8695 - LR = 0.01\n",
      "Epoch 75/100 - Loss: 0.8695 - LR = 0.01\n",
      "Epoch 76/100 - Loss: 0.8695 - LR = 0.01\n",
      "Epoch 77/100 - Loss: 0.8694 - LR = 0.01\n",
      "Epoch 78/100 - Loss: 0.8693 - LR = 0.01\n",
      "Epoch 79/100 - Loss: 0.8693 - LR = 0.01\n",
      "Epoch 80/100 - Loss: 0.8693 - LR = 0.01\n",
      "Epoch 81/100 - Loss: 0.8693 - LR = 0.01\n",
      "Epoch 82/100 - Loss: 0.8693 - LR = 0.01\n",
      "Epoch 83/100 - Loss: 0.8694 - LR = 0.01\n",
      "Epoch 84/100 - Loss: 0.8694 - LR = 0.01\n",
      "Epoch 85/100 - Loss: 0.8693 - LR = 0.01\n",
      "Epoch 86/100 - Loss: 0.8693 - LR = 0.01\n",
      "Epoch 87/100 - Loss: 0.8693 - LR = 0.01\n",
      "Epoch 88/100 - Loss: 0.8693 - LR = 0.01\n",
      "Epoch 89/100 - Loss: 0.8693 - LR = 0.01\n",
      "Epoch 90/100 - Loss: 0.8693 - LR = 0.01\n",
      "Epoch 91/100 - Loss: 0.8693 - LR = 0.01\n",
      "Epoch 92/100 - Loss: 0.8693 - LR = 0.01\n",
      "Epoch 93/100 - Loss: 0.8693 - LR = 0.01\n",
      "Epoch 94/100 - Loss: 0.8693 - LR = 0.01\n",
      "Epoch 95/100 - Loss: 0.8693 - LR = 0.01\n",
      "Epoch 96/100 - Loss: 0.8693 - LR = 0.01\n",
      "Epoch 97/100 - Loss: 0.8693 - LR = 0.01\n",
      "Epoch 98/100 - Loss: 0.8693 - LR = 0.01\n",
      "Epoch 99/100 - Loss: 0.8693 - LR = 0.01\n",
      "Epoch 100/100 - Loss: 0.8693 - LR = 0.01\n"
     ]
    },
    {
     "name": "stderr",
     "output_type": "stream",
     "text": [
      "UserWarning: Using a target size (torch.Size([7464])) that is different to the input size (torch.Size([7464, 1])). This will likely lead to incorrect results due to broadcasting. Please ensure they have the same size.\n"
     ]
    },
    {
     "name": "stdout",
     "output_type": "stream",
     "text": [
      "Epoch 1/100 - Loss: 4.9709 - LR = 0.01\n",
      "Epoch 2/100 - Loss: 4.3448 - LR = 0.01\n",
      "Epoch 3/100 - Loss: 3.7851 - LR = 0.01\n",
      "Epoch 4/100 - Loss: 3.2227 - LR = 0.01\n",
      "Epoch 5/100 - Loss: 2.6436 - LR = 0.01\n",
      "Epoch 6/100 - Loss: 2.0803 - LR = 0.01\n",
      "Epoch 7/100 - Loss: 1.5896 - LR = 0.01\n",
      "Epoch 8/100 - Loss: 1.1983 - LR = 0.01\n",
      "Epoch 9/100 - Loss: 0.9531 - LR = 0.01\n",
      "Epoch 10/100 - Loss: 0.9278 - LR = 0.01\n",
      "Epoch 11/100 - Loss: 1.1221 - LR = 0.01\n",
      "Epoch 12/100 - Loss: 1.3278 - LR = 0.01\n",
      "Epoch 13/100 - Loss: 1.3372 - LR = 0.01\n",
      "Epoch 14/100 - Loss: 1.1477 - LR = 0.01\n",
      "Epoch 15/100 - Loss: 0.9326 - LR = 0.01\n",
      "Epoch 16/100 - Loss: 0.9821 - LR = 0.01\n",
      "Epoch 17/100 - Loss: 1.0126 - LR = 0.01\n",
      "Epoch 18/100 - Loss: 0.9621 - LR = 0.01\n",
      "Epoch 19/100 - Loss: 0.9245 - LR = 0.01\n",
      "Epoch 20/100 - Loss: 0.9096 - LR = 0.01\n",
      "Epoch 21/100 - Loss: 0.9084 - LR = 0.01\n",
      "Epoch 22/100 - Loss: 0.9124 - LR = 0.01\n",
      "Epoch 23/100 - Loss: 0.9161 - LR = 0.01\n",
      "Epoch 24/100 - Loss: 0.9168 - LR = 0.01\n",
      "Epoch 25/100 - Loss: 0.9146 - LR = 0.01\n",
      "Epoch 26/100 - Loss: 0.9113 - LR = 0.01\n",
      "Epoch 27/100 - Loss: 0.9086 - LR = 0.01\n",
      "Epoch 28/100 - Loss: 0.9078 - LR = 0.01\n",
      "Epoch 29/100 - Loss: 0.9087 - LR = 0.01\n",
      "Epoch 30/100 - Loss: 0.9105 - LR = 0.01\n",
      "Epoch 31/100 - Loss: 0.9119 - LR = 0.01\n",
      "Epoch 32/100 - Loss: 0.9122 - LR = 0.01\n",
      "Epoch 33/100 - Loss: 0.9114 - LR = 0.01\n",
      "Epoch 34/100 - Loss: 0.9098 - LR = 0.01\n",
      "Epoch 35/100 - Loss: 0.9085 - LR = 0.01\n",
      "Epoch 36/100 - Loss: 0.9078 - LR = 0.01\n",
      "Epoch 37/100 - Loss: 0.9080 - LR = 0.01\n",
      "Epoch 38/100 - Loss: 0.9087 - LR = 0.01\n",
      "Epoch 39/100 - Loss: 0.9094 - LR = 0.01\n",
      "Epoch 40/100 - Loss: 0.9097 - LR = 0.01\n",
      "Epoch 41/100 - Loss: 0.9094 - LR = 0.01\n",
      "Epoch 42/100 - Loss: 0.9087 - LR = 0.01\n",
      "Epoch 43/100 - Loss: 0.9081 - LR = 0.01\n",
      "Epoch 44/100 - Loss: 0.9078 - LR = 0.01\n",
      "Epoch 45/100 - Loss: 0.9078 - LR = 0.01\n",
      "Epoch 46/100 - Loss: 0.9082 - LR = 0.01\n",
      "Epoch 47/100 - Loss: 0.9085 - LR = 0.01\n",
      "Epoch 48/100 - Loss: 0.9086 - LR = 0.01\n",
      "Epoch 49/100 - Loss: 0.9085 - LR = 0.01\n",
      "Epoch 50/100 - Loss: 0.9082 - LR = 0.01\n",
      "Epoch 51/100 - Loss: 0.9079 - LR = 0.01\n",
      "Epoch 52/100 - Loss: 0.9078 - LR = 0.01\n",
      "Epoch 53/100 - Loss: 0.9078 - LR = 0.01\n",
      "Epoch 54/100 - Loss: 0.9080 - LR = 0.01\n",
      "Epoch 55/100 - Loss: 0.9081 - LR = 0.01\n",
      "Epoch 56/100 - Loss: 0.9081 - LR = 0.01\n",
      "Epoch 57/100 - Loss: 0.9080 - LR = 0.01\n",
      "Epoch 58/100 - Loss: 0.9079 - LR = 0.01\n",
      "Epoch 59/100 - Loss: 0.9078 - LR = 0.01\n",
      "Epoch 60/100 - Loss: 0.9078 - LR = 0.01\n",
      "Epoch 61/100 - Loss: 0.9078 - LR = 0.01\n",
      "Epoch 62/100 - Loss: 0.9079 - LR = 0.01\n",
      "Epoch 63/100 - Loss: 0.9079 - LR = 0.01\n",
      "Epoch 64/100 - Loss: 0.9079 - LR = 0.01\n",
      "Epoch 65/100 - Loss: 0.9078 - LR = 0.01\n",
      "Epoch 66/100 - Loss: 0.9078 - LR = 0.01\n",
      "Epoch 67/100 - Loss: 0.9077 - LR = 0.01\n",
      "Epoch 68/100 - Loss: 0.9078 - LR = 0.01\n",
      "Epoch 69/100 - Loss: 0.9078 - LR = 0.01\n",
      "Epoch 70/100 - Loss: 0.9078 - LR = 0.01\n",
      "Epoch 71/100 - Loss: 0.9078 - LR = 0.01\n",
      "Epoch 72/100 - Loss: 0.9078 - LR = 0.01\n",
      "Epoch 73/100 - Loss: 0.9078 - LR = 0.01\n",
      "Epoch 74/100 - Loss: 0.9077 - LR = 0.01\n",
      "Epoch 75/100 - Loss: 0.9078 - LR = 0.01\n",
      "Epoch 76/100 - Loss: 0.9078 - LR = 0.01\n",
      "Epoch 77/100 - Loss: 0.9078 - LR = 0.01\n",
      "Epoch 78/100 - Loss: 0.9078 - LR = 0.01\n",
      "Epoch 79/100 - Loss: 0.9078 - LR = 0.01\n",
      "Epoch 80/100 - Loss: 0.9078 - LR = 0.01\n",
      "Epoch 81/100 - Loss: 0.9077 - LR = 0.01\n",
      "Epoch 82/100 - Loss: 0.9077 - LR = 0.01\n",
      "Epoch 83/100 - Loss: 0.9078 - LR = 0.01\n",
      "Epoch 84/100 - Loss: 0.9078 - LR = 0.01\n",
      "Epoch 85/100 - Loss: 0.9078 - LR = 0.01\n",
      "Epoch 86/100 - Loss: 0.9078 - LR = 0.01\n",
      "Epoch 87/100 - Loss: 0.9077 - LR = 0.01\n",
      "Epoch 88/100 - Loss: 0.9077 - LR = 0.01\n",
      "Epoch 89/100 - Loss: 0.9077 - LR = 0.01\n",
      "Epoch 90/100 - Loss: 0.9078 - LR = 0.01\n",
      "Epoch 91/100 - Loss: 0.9078 - LR = 0.01\n",
      "Epoch 92/100 - Loss: 0.9078 - LR = 0.01\n",
      "Epoch 93/100 - Loss: 0.9077 - LR = 0.01\n",
      "Epoch 94/100 - Loss: 0.9077 - LR = 0.01\n",
      "Epoch 95/100 - Loss: 0.9077 - LR = 0.01\n",
      "Epoch 96/100 - Loss: 0.9077 - LR = 0.01\n",
      "Epoch 97/100 - Loss: 0.9077 - LR = 0.01\n",
      "Epoch 98/100 - Loss: 0.9077 - LR = 0.01\n",
      "Epoch 99/100 - Loss: 0.9077 - LR = 0.01\n",
      "Epoch 100/100 - Loss: 0.9077 - LR = 0.01\n"
     ]
    },
    {
     "name": "stderr",
     "output_type": "stream",
     "text": [
      "UserWarning: Using a target size (torch.Size([8208])) that is different to the input size (torch.Size([8208, 1])). This will likely lead to incorrect results due to broadcasting. Please ensure they have the same size.\n"
     ]
    },
    {
     "name": "stdout",
     "output_type": "stream",
     "text": [
      "Epoch 1/100 - Loss: 5.7327 - LR = 0.01\n",
      "Epoch 2/100 - Loss: 5.1048 - LR = 0.01\n",
      "Epoch 3/100 - Loss: 4.5540 - LR = 0.01\n",
      "Epoch 4/100 - Loss: 3.9731 - LR = 0.01\n",
      "Epoch 5/100 - Loss: 3.4407 - LR = 0.01\n",
      "Epoch 6/100 - Loss: 2.9536 - LR = 0.01\n",
      "Epoch 7/100 - Loss: 2.4592 - LR = 0.01\n",
      "Epoch 8/100 - Loss: 1.9821 - LR = 0.01\n",
      "Epoch 9/100 - Loss: 1.5537 - LR = 0.01\n",
      "Epoch 10/100 - Loss: 1.2204 - LR = 0.01\n",
      "Epoch 11/100 - Loss: 1.0258 - LR = 0.01\n",
      "Epoch 12/100 - Loss: 1.0203 - LR = 0.01\n",
      "Epoch 13/100 - Loss: 1.1951 - LR = 0.01\n",
      "Epoch 14/100 - Loss: 1.3776 - LR = 0.01\n",
      "Epoch 15/100 - Loss: 1.3996 - LR = 0.01\n",
      "Epoch 16/100 - Loss: 1.2473 - LR = 0.01\n",
      "Epoch 17/100 - Loss: 1.0484 - LR = 0.01\n",
      "Epoch 18/100 - Loss: 1.0196 - LR = 0.01\n",
      "Epoch 19/100 - Loss: 1.1242 - LR = 0.01\n",
      "Epoch 20/100 - Loss: 1.0944 - LR = 0.01\n",
      "Epoch 21/100 - Loss: 1.0399 - LR = 0.01\n",
      "Epoch 22/100 - Loss: 1.0061 - LR = 0.01\n",
      "Epoch 23/100 - Loss: 0.9973 - LR = 0.01\n",
      "Epoch 24/100 - Loss: 1.0022 - LR = 0.01\n",
      "Epoch 25/100 - Loss: 1.0107 - LR = 0.01\n",
      "Epoch 26/100 - Loss: 1.0149 - LR = 0.01\n",
      "Epoch 27/100 - Loss: 1.0125 - LR = 0.01\n",
      "Epoch 28/100 - Loss: 1.0059 - LR = 0.01\n",
      "Epoch 29/100 - Loss: 0.9997 - LR = 0.01\n",
      "Epoch 30/100 - Loss: 0.9972 - LR = 0.01\n",
      "Epoch 31/100 - Loss: 0.9987 - LR = 0.01\n",
      "Epoch 32/100 - Loss: 1.0020 - LR = 0.01\n",
      "Epoch 33/100 - Loss: 1.0047 - LR = 0.01\n",
      "Epoch 34/100 - Loss: 1.0048 - LR = 0.01\n",
      "Epoch 35/100 - Loss: 1.0026 - LR = 0.01\n",
      "Epoch 36/100 - Loss: 0.9996 - LR = 0.01\n",
      "Epoch 37/100 - Loss: 0.9975 - LR = 0.01\n",
      "Epoch 38/100 - Loss: 0.9973 - LR = 0.01\n",
      "Epoch 39/100 - Loss: 0.9985 - LR = 0.01\n",
      "Epoch 40/100 - Loss: 1.0000 - LR = 0.01\n",
      "Epoch 41/100 - Loss: 1.0007 - LR = 0.01\n",
      "Epoch 42/100 - Loss: 1.0001 - LR = 0.01\n",
      "Epoch 43/100 - Loss: 0.9988 - LR = 0.01\n",
      "Epoch 44/100 - Loss: 0.9976 - LR = 0.01\n",
      "Epoch 45/100 - Loss: 0.9972 - LR = 0.01\n",
      "Epoch 46/100 - Loss: 0.9975 - LR = 0.01\n",
      "Epoch 47/100 - Loss: 0.9983 - LR = 0.01\n",
      "Epoch 48/100 - Loss: 0.9988 - LR = 0.01\n",
      "Epoch 49/100 - Loss: 0.9987 - LR = 0.01\n",
      "Epoch 50/100 - Loss: 0.9982 - LR = 0.01\n",
      "Epoch 51/100 - Loss: 0.9976 - LR = 0.01\n",
      "Epoch 52/100 - Loss: 0.9972 - LR = 0.01\n",
      "Epoch 53/100 - Loss: 0.9972 - LR = 0.01\n",
      "Epoch 54/100 - Loss: 0.9976 - LR = 0.01\n",
      "Epoch 55/100 - Loss: 0.9979 - LR = 0.01\n",
      "Epoch 56/100 - Loss: 0.9980 - LR = 0.01\n",
      "Epoch 57/100 - Loss: 0.9977 - LR = 0.01\n",
      "Epoch 58/100 - Loss: 0.9974 - LR = 0.01\n",
      "Epoch 59/100 - Loss: 0.9972 - LR = 0.01\n",
      "Epoch 60/100 - Loss: 0.9972 - LR = 0.01\n",
      "Epoch 61/100 - Loss: 0.9973 - LR = 0.01\n",
      "Epoch 62/100 - Loss: 0.9975 - LR = 0.01\n",
      "Epoch 63/100 - Loss: 0.9976 - LR = 0.01\n",
      "Epoch 64/100 - Loss: 0.9975 - LR = 0.01\n",
      "Epoch 65/100 - Loss: 0.9973 - LR = 0.01\n",
      "Epoch 66/100 - Loss: 0.9972 - LR = 0.01\n",
      "Epoch 67/100 - Loss: 0.9972 - LR = 0.01\n",
      "Epoch 68/100 - Loss: 0.9973 - LR = 0.01\n",
      "Epoch 69/100 - Loss: 0.9973 - LR = 0.01\n",
      "Epoch 70/100 - Loss: 0.9974 - LR = 0.01\n",
      "Epoch 71/100 - Loss: 0.9973 - LR = 0.01\n",
      "Epoch 72/100 - Loss: 0.9972 - LR = 0.01\n",
      "Epoch 73/100 - Loss: 0.9972 - LR = 0.01\n",
      "Epoch 74/100 - Loss: 0.9972 - LR = 0.01\n",
      "Epoch 75/100 - Loss: 0.9972 - LR = 0.01\n",
      "Epoch 76/100 - Loss: 0.9973 - LR = 0.01\n",
      "Epoch 77/100 - Loss: 0.9973 - LR = 0.01\n",
      "Epoch 78/100 - Loss: 0.9972 - LR = 0.01\n",
      "Epoch 79/100 - Loss: 0.9972 - LR = 0.01\n",
      "Epoch 80/100 - Loss: 0.9972 - LR = 0.01\n",
      "Epoch 81/100 - Loss: 0.9972 - LR = 0.01\n",
      "Epoch 82/100 - Loss: 0.9972 - LR = 0.01\n",
      "Epoch 83/100 - Loss: 0.9972 - LR = 0.01\n",
      "Epoch 84/100 - Loss: 0.9972 - LR = 0.01\n",
      "Epoch 85/100 - Loss: 0.9972 - LR = 0.01\n",
      "Epoch 86/100 - Loss: 0.9972 - LR = 0.01\n",
      "Epoch 87/100 - Loss: 0.9972 - LR = 0.01\n",
      "Epoch 88/100 - Loss: 0.9972 - LR = 0.01\n",
      "Epoch 89/100 - Loss: 0.9972 - LR = 0.01\n",
      "Epoch 90/100 - Loss: 0.9972 - LR = 0.01\n",
      "Epoch 91/100 - Loss: 0.9972 - LR = 0.01\n",
      "Epoch 92/100 - Loss: 0.9972 - LR = 0.01\n",
      "Epoch 93/100 - Loss: 0.9972 - LR = 0.01\n",
      "Epoch 94/100 - Loss: 0.9972 - LR = 0.01\n",
      "Epoch 95/100 - Loss: 0.9972 - LR = 0.01\n",
      "Epoch 96/100 - Loss: 0.9972 - LR = 0.01\n",
      "Epoch 97/100 - Loss: 0.9972 - LR = 0.01\n",
      "Epoch 98/100 - Loss: 0.9972 - LR = 0.01\n",
      "Epoch 99/100 - Loss: 0.9972 - LR = 0.01\n",
      "Epoch 100/100 - Loss: 0.9972 - LR = 0.01\n"
     ]
    }
   ],
   "source": [
    "train_histories, models = start_training(use_transfer_learning=False)\n"
   ]
  },
  {
   "cell_type": "code",
   "execution_count": 99,
   "metadata": {},
   "outputs": [
    {
     "name": "stderr",
     "output_type": "stream",
     "text": [
      "Evaluation and Prediction Progress:   0%|          | 0/342 [00:00<?, ?it/s]"
     ]
    },
    {
     "name": "stderr",
     "output_type": "stream",
     "text": [
      "Evaluation and Prediction Progress: 100%|██████████| 342/342 [00:18<00:00, 18.09it/s]\n"
     ]
    }
   ],
   "source": [
    "importlib.reload(model)\n",
    "\n",
    "evaluations, predictions = evaluate_results(models)\n"
   ]
  },
  {
   "cell_type": "code",
   "execution_count": 100,
   "metadata": {},
   "outputs": [
    {
     "data": {
      "text/plain": [
       "{1: (1.8321099281311035, 1.8321099281311035),\n",
       " 2: (1.304588794708252, 1.304588794708252),\n",
       " 3: (1.2797602415084839, 1.2797602415084839),\n",
       " 4: (1.3393349647521973, 1.3393349647521973),\n",
       " 5: (1.1763032674789429, 1.1763032674789429),\n",
       " 6: (1.15060555934906, 1.15060555934906),\n",
       " 7: (1.6309655904769897, 1.6309655904769897),\n",
       " 8: (1.859804391860962, 1.859804391860962),\n",
       " 9: (1.350881814956665, 1.350881814956665),\n",
       " 10: (1.2883440256118774, 1.2883440256118774),\n",
       " 11: (1.3113495111465454, 1.3113495111465454),\n",
       " 12: (1.3853710889816284, 1.3853710889816284),\n",
       " 13: (1.3314929008483887, 1.3314929008483887),\n",
       " 14: (1.5640177726745605, 1.5640177726745605),\n",
       " 15: (2.237881660461426, 2.237881660461426),\n",
       " 16: (1.357262134552002, 1.357262134552002),\n",
       " 17: (1.2731077671051025, 1.2731077671051025),\n",
       " 18: (1.2636250257492065, 1.2636250257492065),\n",
       " 19: (1.4915651082992554, 1.4915651082992554),\n",
       " 20: (1.304419755935669, 1.304419755935669),\n",
       " 21: (1.5455949306488037, 1.5455949306488037),\n",
       " 22: (1.780385136604309, 1.780385136604309),\n",
       " 23: (1.2851883172988892, 1.2851883172988892),\n",
       " 24: (1.449927568435669, 1.449927568435669),\n",
       " 25: (1.5027451515197754, 1.5027451515197754),\n",
       " 26: (1.3183143138885498, 1.3183143138885498),\n",
       " 27: (1.4039379358291626, 1.4039379358291626),\n",
       " 28: (1.576454758644104, 1.576454758644104),\n",
       " 29: (2.0288827419281006, 2.0288827419281006),\n",
       " 30: (1.4171137809753418, 1.4171137809753418),\n",
       " 31: (1.2794855833053589, 1.2794855833053589),\n",
       " 32: (1.0119550228118896, 1.0119550228118896),\n",
       " 33: (1.1534805297851562, 1.1534805297851562),\n",
       " 34: (1.0433659553527832, 1.0433659553527832),\n",
       " 35: (1.1245465278625488, 1.1245465278625488),\n",
       " 36: (2.1577446460723877, 2.1577446460723877),\n",
       " 37: (1.104453206062317, 1.104453206062317),\n",
       " 38: (0.9510484337806702, 0.9510484337806702),\n",
       " 39: (1.082554578781128, 1.082554578781128),\n",
       " 40: (1.2143903970718384, 1.2143903970718384),\n",
       " 41: (0.9022076725959778, 0.9022076725959778),\n",
       " 42: (1.6382050514221191, 1.6382050514221191),\n",
       " 43: (1.7165398597717285, 1.7165398597717285),\n",
       " 44: (0.9411276578903198, 0.9411276578903198),\n",
       " 45: (1.021899700164795, 1.021899700164795),\n",
       " 46: (1.002387285232544, 1.002387285232544),\n",
       " 47: (0.9112652540206909, 0.9112652540206909),\n",
       " 48: (0.8729394674301147, 0.8729394674301147),\n",
       " 49: (1.322027564048767, 1.322027564048767),\n",
       " 50: (1.9040406942367554, 1.9040406942367554),\n",
       " 51: (1.1013871431350708, 1.1013871431350708),\n",
       " 52: (0.9797136783599854, 0.9797136783599854),\n",
       " 53: (1.1243195533752441, 1.1243195533752441),\n",
       " 54: (1.0958532094955444, 1.0958532094955444),\n",
       " 55: (0.8365662097930908, 0.8365662097930908),\n",
       " 56: (1.143479347229004, 1.143479347229004),\n",
       " 57: (1.801708698272705, 1.801708698272705),\n",
       " 58: (1.2841706275939941, 1.2841706275939941),\n",
       " 59: (1.24909245967865, 1.24909245967865),\n",
       " 60: (1.0242996215820312, 1.0242996215820312),\n",
       " 61: (1.1860299110412598, 1.1860299110412598),\n",
       " 62: (0.8946364521980286, 0.8946364521980286),\n",
       " 63: (0.9324190616607666, 0.9324190616607666),\n",
       " 64: (1.0387966632843018, 1.0387966632843018),\n",
       " 65: (1.110762596130371, 1.110762596130371),\n",
       " 66: (0.8420898914337158, 0.8420898914337158),\n",
       " 67: (0.9143884181976318, 0.9143884181976318),\n",
       " 68: (0.8457992076873779, 0.8457992076873779),\n",
       " 69: (0.8176443576812744, 0.8176443576812744),\n",
       " 70: (1.043400526046753, 1.043400526046753),\n",
       " 71: (0.7902072072029114, 0.7902072072029114),\n",
       " 72: (1.479887843132019, 1.479887843132019),\n",
       " 73: (0.82126784324646, 0.82126784324646),\n",
       " 74: (0.7923533916473389, 0.7923533916473389),\n",
       " 75: (0.8808125853538513, 0.8808125853538513),\n",
       " 76: (0.748643696308136, 0.748643696308136),\n",
       " 77: (1.023987889289856, 1.023987889289856),\n",
       " 78: (1.711918592453003, 1.711918592453003),\n",
       " 79: (0.8656895160675049, 0.8656895160675049),\n",
       " 80: (0.9342441558837891, 0.9342441558837891),\n",
       " 81: (1.0046104192733765, 1.0046104192733765),\n",
       " 82: (0.8346338868141174, 0.8346338868141174),\n",
       " 83: (0.894016683101654, 0.894016683101654),\n",
       " 84: (0.8473254442214966, 0.8473254442214966),\n",
       " 85: (1.1347302198410034, 1.1347302198410034),\n",
       " 86: (0.9247846603393555, 0.9247846603393555),\n",
       " 87: (0.9609478712081909, 0.9609478712081909),\n",
       " 88: (0.7590022087097168, 0.7590022087097168),\n",
       " 89: (0.9742667078971863, 0.9742667078971863),\n",
       " 90: (0.6458419561386108, 0.6458419561386108),\n",
       " 91: (0.8489468097686768, 0.8489468097686768),\n",
       " 92: (1.0577385425567627, 1.0577385425567627),\n",
       " 93: (0.903721272945404, 0.903721272945404),\n",
       " 94: (0.7954896688461304, 0.7954896688461304),\n",
       " 95: (0.8072099685668945, 0.8072099685668945),\n",
       " 96: (0.8518173694610596, 0.8518173694610596),\n",
       " 97: (0.6172792911529541, 0.6172792911529541),\n",
       " 98: (0.9747689366340637, 0.9747689366340637),\n",
       " 99: (1.5913993120193481, 1.5913993120193481),\n",
       " 100: (0.7771652936935425, 0.7771652936935425),\n",
       " 101: (0.7165368795394897, 0.7165368795394897),\n",
       " 102: (0.721855640411377, 0.721855640411377),\n",
       " 103: (0.7752590179443359, 0.7752590179443359),\n",
       " 104: (0.6645545363426208, 0.6645545363426208),\n",
       " 105: (0.98682701587677, 0.98682701587677),\n",
       " 106: (1.068153977394104, 1.068153977394104),\n",
       " 107: (0.7542311549186707, 0.7542311549186707),\n",
       " 108: (0.746740460395813, 0.746740460395813),\n",
       " 109: (0.7941251993179321, 0.7941251993179321),\n",
       " 110: (0.8197670578956604, 0.8197670578956604),\n",
       " 111: (0.840600311756134, 0.840600311756134),\n",
       " 112: (1.2139147520065308, 1.2139147520065308),\n",
       " 113: (1.0772178173065186, 1.0772178173065186),\n",
       " 114: (0.7556081414222717, 0.7556081414222717),\n",
       " 115: (0.7428566217422485, 0.7428566217422485),\n",
       " 116: (0.76596999168396, 0.76596999168396),\n",
       " 117: (0.8050931692123413, 0.8050931692123413),\n",
       " 118: (0.6386289000511169, 0.6386289000511169),\n",
       " 119: (0.7111513018608093, 0.7111513018608093),\n",
       " 120: (0.8920416235923767, 0.8920416235923767),\n",
       " 121: (1.0709702968597412, 1.0709702968597412),\n",
       " 122: (0.8123661279678345, 0.8123661279678345),\n",
       " 123: (0.8808715343475342, 0.8808715343475342),\n",
       " 124: (0.822653591632843, 0.822653591632843),\n",
       " 125: (0.5684459805488586, 0.5684459805488586),\n",
       " 126: (0.7032100558280945, 0.7032100558280945),\n",
       " 127: (1.1497936248779297, 1.1497936248779297),\n",
       " 128: (0.8539392948150635, 0.8539392948150635),\n",
       " 129: (0.7794504761695862, 0.7794504761695862),\n",
       " 130: (0.8046283721923828, 0.8046283721923828),\n",
       " 131: (0.681509256362915, 0.681509256362915),\n",
       " 132: (0.6110643148422241, 0.6110643148422241),\n",
       " 133: (0.7381186485290527, 0.7381186485290527),\n",
       " 134: (0.8866679072380066, 0.8866679072380066),\n",
       " 135: (0.7260550260543823, 0.7260550260543823),\n",
       " 136: (0.7882428169250488, 0.7882428169250488),\n",
       " 137: (0.8031056523323059, 0.8031056523323059),\n",
       " 138: (0.7264415621757507, 0.7264415621757507),\n",
       " 139: (0.6518516540527344, 0.6518516540527344),\n",
       " 140: (0.7303556203842163, 0.7303556203842163),\n",
       " 141: (0.7470734119415283, 0.7470734119415283),\n",
       " 142: (0.7623081803321838, 0.7623081803321838),\n",
       " 143: (0.8299075961112976, 0.8299075961112976),\n",
       " 144: (0.7925541996955872, 0.7925541996955872),\n",
       " 145: (0.8489487171173096, 0.8489487171173096),\n",
       " 146: (0.6646084189414978, 0.6646084189414978),\n",
       " 147: (0.7581546306610107, 0.7581546306610107),\n",
       " 148: (0.974127471446991, 0.974127471446991),\n",
       " 149: (0.676682710647583, 0.676682710647583),\n",
       " 150: (0.6189591884613037, 0.6189591884613037),\n",
       " 151: (0.7089593410491943, 0.7089593410491943),\n",
       " 152: (0.7961346507072449, 0.7961346507072449),\n",
       " 153: (0.6473323106765747, 0.6473323106765747),\n",
       " 154: (0.7085663080215454, 0.7085663080215454),\n",
       " 155: (0.8776156902313232, 0.8776156902313232),\n",
       " 156: (0.7579026222229004, 0.7579026222229004),\n",
       " 157: (0.6785082817077637, 0.6785082817077637),\n",
       " 158: (0.6478288173675537, 0.6478288173675537),\n",
       " 159: (0.775252103805542, 0.775252103805542),\n",
       " 160: (0.6543281674385071, 0.6543281674385071),\n",
       " 161: (0.6923171877861023, 0.6923171877861023),\n",
       " 162: (0.7010228633880615, 0.7010228633880615),\n",
       " 163: (0.6990020275115967, 0.6990020275115967),\n",
       " 164: (0.6851276755332947, 0.6851276755332947),\n",
       " 165: (0.721085786819458, 0.721085786819458),\n",
       " 166: (0.7498519420623779, 0.7498519420623779),\n",
       " 167: (0.6024655699729919, 0.6024655699729919),\n",
       " 168: (0.6368875503540039, 0.6368875503540039),\n",
       " 169: (0.6213937401771545, 0.6213937401771545),\n",
       " 170: (0.6896427273750305, 0.6896427273750305),\n",
       " 171: (0.7496254444122314, 0.7496254444122314),\n",
       " 172: (0.6542250514030457, 0.6542250514030457),\n",
       " 173: (0.6241172552108765, 0.6241172552108765),\n",
       " 174: (0.5505010485649109, 0.5505010485649109),\n",
       " 175: (0.5655738711357117, 0.5655738711357117),\n",
       " 176: (0.5831614136695862, 0.5831614136695862),\n",
       " 177: (0.628561794757843, 0.628561794757843),\n",
       " 178: (0.5680426359176636, 0.5680426359176636),\n",
       " 179: (0.5647720098495483, 0.5647720098495483),\n",
       " 180: (0.6386592388153076, 0.6386592388153076),\n",
       " 181: (0.6289185881614685, 0.6289185881614685),\n",
       " 182: (0.603050708770752, 0.603050708770752),\n",
       " 183: (0.7053022980690002, 0.7053022980690002),\n",
       " 184: (0.6582624316215515, 0.6582624316215515),\n",
       " 185: (0.5594103336334229, 0.5594103336334229),\n",
       " 186: (0.6914353966712952, 0.6914353966712952),\n",
       " 187: (0.5525200366973877, 0.5525200366973877),\n",
       " 188: (0.48484694957733154, 0.48484694957733154),\n",
       " 189: (0.4471210241317749, 0.4471210241317749),\n",
       " 190: (0.6949436664581299, 0.6949436664581299),\n",
       " 191: (0.6419675350189209, 0.6419675350189209),\n",
       " 192: (0.5472572445869446, 0.5472572445869446),\n",
       " 193: (0.6178147196769714, 0.6178147196769714),\n",
       " 194: (0.706392228603363, 0.706392228603363),\n",
       " 195: (0.6182312369346619, 0.6182312369346619),\n",
       " 196: (0.5880451202392578, 0.5880451202392578),\n",
       " 197: (0.9575831890106201, 0.9575831890106201),\n",
       " 198: (0.6695982813835144, 0.6695982813835144),\n",
       " 199: (0.6285407543182373, 0.6285407543182373),\n",
       " 200: (0.6028873324394226, 0.6028873324394226),\n",
       " 201: (0.5512438416481018, 0.5512438416481018),\n",
       " 202: (0.5805118083953857, 0.5805118083953857),\n",
       " 203: (0.7564677000045776, 0.7564677000045776),\n",
       " 204: (1.2393372058868408, 1.2393372058868408),\n",
       " 205: (0.6006314754486084, 0.6006314754486084),\n",
       " 206: (0.6344574689865112, 0.6344574689865112),\n",
       " 207: (0.5688623785972595, 0.5688623785972595),\n",
       " 208: (0.5240480899810791, 0.5240480899810791),\n",
       " 209: (0.5074519515037537, 0.5074519515037537),\n",
       " 210: (0.5583076477050781, 0.5583076477050781),\n",
       " 211: (0.7265226244926453, 0.7265226244926453),\n",
       " 212: (0.5449545979499817, 0.5449545979499817),\n",
       " 213: (0.5255594849586487, 0.5255594849586487),\n",
       " 214: (0.621320366859436, 0.621320366859436),\n",
       " 215: (0.7230346202850342, 0.7230346202850342),\n",
       " 216: (0.5960249900817871, 0.5960249900817871),\n",
       " 217: (0.7268368005752563, 0.7268368005752563),\n",
       " 218: (1.01884126663208, 1.01884126663208),\n",
       " 219: (0.6527479290962219, 0.6527479290962219),\n",
       " 220: (0.5372039675712585, 0.5372039675712585),\n",
       " 221: (0.616005003452301, 0.616005003452301),\n",
       " 222: (0.6703565716743469, 0.6703565716743469),\n",
       " 223: (0.6424570679664612, 0.6424570679664612),\n",
       " 224: (0.8552114963531494, 0.8552114963531494),\n",
       " 225: (0.9663002490997314, 0.9663002490997314),\n",
       " 226: (0.5800001621246338, 0.5800001621246338),\n",
       " 227: (0.5978671908378601, 0.5978671908378601),\n",
       " 228: (0.7369562983512878, 0.7369562983512878),\n",
       " 229: (0.5943329334259033, 0.5943329334259033),\n",
       " 230: (0.5579108595848083, 0.5579108595848083),\n",
       " 231: (0.7882180213928223, 0.7882180213928223),\n",
       " 232: (0.8909047245979309, 0.8909047245979309),\n",
       " 233: (0.6256717443466187, 0.6256717443466187),\n",
       " 234: (0.5923205018043518, 0.5923205018043518),\n",
       " 235: (0.6968650817871094, 0.6968650817871094),\n",
       " 236: (0.7030318975448608, 0.7030318975448608),\n",
       " 237: (0.5733292102813721, 0.5733292102813721),\n",
       " 238: (0.8056294918060303, 0.8056294918060303),\n",
       " 239: (1.1393907070159912, 1.1393907070159912),\n",
       " 240: (0.6354943513870239, 0.6354943513870239),\n",
       " 241: (0.6433026194572449, 0.6433026194572449),\n",
       " 242: (0.6707383990287781, 0.6707383990287781),\n",
       " 243: (0.612348198890686, 0.612348198890686),\n",
       " 244: (0.5572015047073364, 0.5572015047073364),\n",
       " 245: (0.8765029907226562, 0.8765029907226562),\n",
       " 246: (1.281997561454773, 1.281997561454773),\n",
       " 247: (0.7074960470199585, 0.7074960470199585),\n",
       " 248: (0.7250149846076965, 0.7250149846076965),\n",
       " 249: (0.6839706897735596, 0.6839706897735596),\n",
       " 250: (0.6157190799713135, 0.6157190799713135),\n",
       " 251: (0.5594074726104736, 0.5594074726104736),\n",
       " 252: (1.213255524635315, 1.213255524635315),\n",
       " 253: (1.0011022090911865, 1.0011022090911865),\n",
       " 254: (0.6864513754844666, 0.6864513754844666),\n",
       " 255: (0.719304084777832, 0.719304084777832),\n",
       " 256: (0.7063490748405457, 0.7063490748405457),\n",
       " 257: (0.7017347812652588, 0.7017347812652588),\n",
       " 258: (0.7301862835884094, 0.7301862835884094),\n",
       " 259: (0.9632540941238403, 0.9632540941238403),\n",
       " 260: (1.6515165567398071, 1.6515165567398071),\n",
       " 261: (0.8792288303375244, 0.8792288303375244),\n",
       " 262: (0.7386944890022278, 0.7386944890022278),\n",
       " 263: (0.7187539935112, 0.7187539935112),\n",
       " 264: (0.788499653339386, 0.788499653339386),\n",
       " 265: (1.0717496871948242, 1.0717496871948242),\n",
       " 266: (1.5569126605987549, 1.5569126605987549),\n",
       " 267: (1.4462405443191528, 1.4462405443191528),\n",
       " 268: (0.7141170501708984, 0.7141170501708984),\n",
       " 269: (0.7385304570198059, 0.7385304570198059),\n",
       " 270: (0.7435591816902161, 0.7435591816902161),\n",
       " 271: (0.6963474750518799, 0.6963474750518799),\n",
       " 272: (1.1929055452346802, 1.1929055452346802),\n",
       " 273: (1.6622233390808105, 1.6622233390808105),\n",
       " 274: (2.629457473754883, 2.629457473754883),\n",
       " 275: (0.9344255924224854, 0.9344255924224854),\n",
       " 276: (0.8991301655769348, 0.8991301655769348),\n",
       " 277: (0.8351907730102539, 0.8351907730102539),\n",
       " 278: (0.885611891746521, 0.885611891746521),\n",
       " 279: (0.6256592273712158, 0.6256592273712158),\n",
       " 280: (1.2217333316802979, 1.2217333316802979),\n",
       " 281: (1.6037821769714355, 1.6037821769714355),\n",
       " 282: (0.8697571158409119, 0.8697571158409119),\n",
       " 283: (0.6716197729110718, 0.6716197729110718),\n",
       " 284: (0.9741787314414978, 0.9741787314414978),\n",
       " 285: (0.8776342272758484, 0.8776342272758484),\n",
       " 286: (0.7924692630767822, 0.7924692630767822),\n",
       " 287: (1.7588951587677002, 1.7588951587677002),\n",
       " 288: (2.0672311782836914, 2.0672311782836914),\n",
       " 289: (0.9153897166252136, 0.9153897166252136),\n",
       " 290: (0.8171100616455078, 0.8171100616455078),\n",
       " 291: (0.7124401926994324, 0.7124401926994324),\n",
       " 292: (0.7027541995048523, 0.7027541995048523),\n",
       " 293: (0.9124386310577393, 0.9124386310577393),\n",
       " 294: (1.447561502456665, 1.447561502456665),\n",
       " 295: (1.8385511636734009, 1.8385511636734009),\n",
       " 296: (1.0455266237258911, 1.0455266237258911),\n",
       " 297: (0.849454402923584, 0.849454402923584),\n",
       " 298: (1.0994324684143066, 1.0994324684143066),\n",
       " 299: (0.9321576356887817, 0.9321576356887817),\n",
       " 300: (1.2096266746520996, 1.2096266746520996),\n",
       " 301: (1.3786883354187012, 1.3786883354187012),\n",
       " 302: (3.2447125911712646, 3.2447125911712646),\n",
       " 303: (1.1373392343521118, 1.1373392343521118),\n",
       " 304: (1.1493748426437378, 1.1493748426437378),\n",
       " 305: (1.064960241317749, 1.064960241317749),\n",
       " 306: (0.9896374940872192, 0.9896374940872192),\n",
       " 307: (1.1789942979812622, 1.1789942979812622),\n",
       " 308: (1.5487875938415527, 1.5487875938415527),\n",
       " 309: (2.8104350566864014, 2.8104350566864014),\n",
       " 310: (1.323236346244812, 1.323236346244812),\n",
       " 311: (1.0513391494750977, 1.0513391494750977),\n",
       " 312: (1.4600838422775269, 1.4600838422775269),\n",
       " 313: (1.2301528453826904, 1.2301528453826904),\n",
       " 314: (1.2643898725509644, 1.2643898725509644),\n",
       " 315: (1.9922335147857666, 1.9922335147857666),\n",
       " 316: (3.555598020553589, 3.555598020553589),\n",
       " 317: (1.1511846780776978, 1.1511846780776978),\n",
       " 318: (1.410009503364563, 1.410009503364563),\n",
       " 319: (1.5100840330123901, 1.5100840330123901),\n",
       " 320: (0.9260338544845581, 0.9260338544845581),\n",
       " 321: (1.1808074712753296, 1.1808074712753296),\n",
       " 322: (2.39633846282959, 2.39633846282959),\n",
       " 323: (4.599527359008789, 4.599527359008789),\n",
       " 324: (1.2292505502700806, 1.2292505502700806),\n",
       " 325: (1.209052324295044, 1.209052324295044),\n",
       " 326: (1.476433515548706, 1.476433515548706),\n",
       " 327: (1.0755665302276611, 1.0755665302276611),\n",
       " 328: (1.3378499746322632, 1.3378499746322632),\n",
       " 329: (2.1170780658721924, 2.1170780658721924),\n",
       " 330: (3.7526676654815674, 3.7526676654815674),\n",
       " 331: (1.4519803524017334, 1.4519803524017334),\n",
       " 332: (1.9760996103286743, 1.9760996103286743),\n",
       " 333: (1.6710246801376343, 1.6710246801376343),\n",
       " 334: (2.9014856815338135, 2.9014856815338135),\n",
       " 335: (3.7394256591796875, 3.7394256591796875),\n",
       " 336: (3.608663320541382, 3.608663320541382),\n",
       " 337: (2.552553415298462, 2.552553415298462),\n",
       " 338: (1.4999905824661255, 1.4999905824661255),\n",
       " 339: (1.5933711528778076, 1.5933711528778076),\n",
       " 340: (1.4286792278289795, 1.4286792278289795),\n",
       " 341: (1.362805962562561, 1.362805962562561),\n",
       " 342: (1.9752252101898193, 1.9752252101898193)}"
      ]
     },
     "execution_count": 100,
     "metadata": {},
     "output_type": "execute_result"
    }
   ],
   "source": [
    "evaluations"
   ]
  },
  {
   "cell_type": "code",
   "execution_count": 101,
   "metadata": {},
   "outputs": [
    {
     "data": {
      "application/vnd.plotly.v1+json": {
       "config": {
        "plotlyServerURL": "https://plot.ly"
       },
       "data": [
        {
         "mode": "lines",
         "name": "train_loss_with_pretraining",
         "type": "scatter",
         "x": [
          1,
          32,
          63,
          94,
          125,
          156,
          187,
          218,
          249,
          280,
          311,
          342
         ],
         "y": [
          1.751327633857727,
          1.3042075634002686,
          1.2278435230255127,
          1.1176073551177979,
          1.045914888381958,
          0.9798219799995422,
          0.917873203754425,
          0.8756585717201233,
          0.8571076393127441,
          0.8692931532859802,
          0.9077430963516235,
          0.9971582889556885
         ]
        }
       ],
       "layout": {
        "legend": {
         "orientation": "v",
         "traceorder": "normal",
         "x": 1,
         "y": 1
        },
        "template": {
         "data": {
          "bar": [
           {
            "error_x": {
             "color": "#2a3f5f"
            },
            "error_y": {
             "color": "#2a3f5f"
            },
            "marker": {
             "line": {
              "color": "#E5ECF6",
              "width": 0.5
             },
             "pattern": {
              "fillmode": "overlay",
              "size": 10,
              "solidity": 0.2
             }
            },
            "type": "bar"
           }
          ],
          "barpolar": [
           {
            "marker": {
             "line": {
              "color": "#E5ECF6",
              "width": 0.5
             },
             "pattern": {
              "fillmode": "overlay",
              "size": 10,
              "solidity": 0.2
             }
            },
            "type": "barpolar"
           }
          ],
          "carpet": [
           {
            "aaxis": {
             "endlinecolor": "#2a3f5f",
             "gridcolor": "white",
             "linecolor": "white",
             "minorgridcolor": "white",
             "startlinecolor": "#2a3f5f"
            },
            "baxis": {
             "endlinecolor": "#2a3f5f",
             "gridcolor": "white",
             "linecolor": "white",
             "minorgridcolor": "white",
             "startlinecolor": "#2a3f5f"
            },
            "type": "carpet"
           }
          ],
          "choropleth": [
           {
            "colorbar": {
             "outlinewidth": 0,
             "ticks": ""
            },
            "type": "choropleth"
           }
          ],
          "contour": [
           {
            "colorbar": {
             "outlinewidth": 0,
             "ticks": ""
            },
            "colorscale": [
             [
              0,
              "#0d0887"
             ],
             [
              0.1111111111111111,
              "#46039f"
             ],
             [
              0.2222222222222222,
              "#7201a8"
             ],
             [
              0.3333333333333333,
              "#9c179e"
             ],
             [
              0.4444444444444444,
              "#bd3786"
             ],
             [
              0.5555555555555556,
              "#d8576b"
             ],
             [
              0.6666666666666666,
              "#ed7953"
             ],
             [
              0.7777777777777778,
              "#fb9f3a"
             ],
             [
              0.8888888888888888,
              "#fdca26"
             ],
             [
              1,
              "#f0f921"
             ]
            ],
            "type": "contour"
           }
          ],
          "contourcarpet": [
           {
            "colorbar": {
             "outlinewidth": 0,
             "ticks": ""
            },
            "type": "contourcarpet"
           }
          ],
          "heatmap": [
           {
            "colorbar": {
             "outlinewidth": 0,
             "ticks": ""
            },
            "colorscale": [
             [
              0,
              "#0d0887"
             ],
             [
              0.1111111111111111,
              "#46039f"
             ],
             [
              0.2222222222222222,
              "#7201a8"
             ],
             [
              0.3333333333333333,
              "#9c179e"
             ],
             [
              0.4444444444444444,
              "#bd3786"
             ],
             [
              0.5555555555555556,
              "#d8576b"
             ],
             [
              0.6666666666666666,
              "#ed7953"
             ],
             [
              0.7777777777777778,
              "#fb9f3a"
             ],
             [
              0.8888888888888888,
              "#fdca26"
             ],
             [
              1,
              "#f0f921"
             ]
            ],
            "type": "heatmap"
           }
          ],
          "heatmapgl": [
           {
            "colorbar": {
             "outlinewidth": 0,
             "ticks": ""
            },
            "colorscale": [
             [
              0,
              "#0d0887"
             ],
             [
              0.1111111111111111,
              "#46039f"
             ],
             [
              0.2222222222222222,
              "#7201a8"
             ],
             [
              0.3333333333333333,
              "#9c179e"
             ],
             [
              0.4444444444444444,
              "#bd3786"
             ],
             [
              0.5555555555555556,
              "#d8576b"
             ],
             [
              0.6666666666666666,
              "#ed7953"
             ],
             [
              0.7777777777777778,
              "#fb9f3a"
             ],
             [
              0.8888888888888888,
              "#fdca26"
             ],
             [
              1,
              "#f0f921"
             ]
            ],
            "type": "heatmapgl"
           }
          ],
          "histogram": [
           {
            "marker": {
             "pattern": {
              "fillmode": "overlay",
              "size": 10,
              "solidity": 0.2
             }
            },
            "type": "histogram"
           }
          ],
          "histogram2d": [
           {
            "colorbar": {
             "outlinewidth": 0,
             "ticks": ""
            },
            "colorscale": [
             [
              0,
              "#0d0887"
             ],
             [
              0.1111111111111111,
              "#46039f"
             ],
             [
              0.2222222222222222,
              "#7201a8"
             ],
             [
              0.3333333333333333,
              "#9c179e"
             ],
             [
              0.4444444444444444,
              "#bd3786"
             ],
             [
              0.5555555555555556,
              "#d8576b"
             ],
             [
              0.6666666666666666,
              "#ed7953"
             ],
             [
              0.7777777777777778,
              "#fb9f3a"
             ],
             [
              0.8888888888888888,
              "#fdca26"
             ],
             [
              1,
              "#f0f921"
             ]
            ],
            "type": "histogram2d"
           }
          ],
          "histogram2dcontour": [
           {
            "colorbar": {
             "outlinewidth": 0,
             "ticks": ""
            },
            "colorscale": [
             [
              0,
              "#0d0887"
             ],
             [
              0.1111111111111111,
              "#46039f"
             ],
             [
              0.2222222222222222,
              "#7201a8"
             ],
             [
              0.3333333333333333,
              "#9c179e"
             ],
             [
              0.4444444444444444,
              "#bd3786"
             ],
             [
              0.5555555555555556,
              "#d8576b"
             ],
             [
              0.6666666666666666,
              "#ed7953"
             ],
             [
              0.7777777777777778,
              "#fb9f3a"
             ],
             [
              0.8888888888888888,
              "#fdca26"
             ],
             [
              1,
              "#f0f921"
             ]
            ],
            "type": "histogram2dcontour"
           }
          ],
          "mesh3d": [
           {
            "colorbar": {
             "outlinewidth": 0,
             "ticks": ""
            },
            "type": "mesh3d"
           }
          ],
          "parcoords": [
           {
            "line": {
             "colorbar": {
              "outlinewidth": 0,
              "ticks": ""
             }
            },
            "type": "parcoords"
           }
          ],
          "pie": [
           {
            "automargin": true,
            "type": "pie"
           }
          ],
          "scatter": [
           {
            "fillpattern": {
             "fillmode": "overlay",
             "size": 10,
             "solidity": 0.2
            },
            "type": "scatter"
           }
          ],
          "scatter3d": [
           {
            "line": {
             "colorbar": {
              "outlinewidth": 0,
              "ticks": ""
             }
            },
            "marker": {
             "colorbar": {
              "outlinewidth": 0,
              "ticks": ""
             }
            },
            "type": "scatter3d"
           }
          ],
          "scattercarpet": [
           {
            "marker": {
             "colorbar": {
              "outlinewidth": 0,
              "ticks": ""
             }
            },
            "type": "scattercarpet"
           }
          ],
          "scattergeo": [
           {
            "marker": {
             "colorbar": {
              "outlinewidth": 0,
              "ticks": ""
             }
            },
            "type": "scattergeo"
           }
          ],
          "scattergl": [
           {
            "marker": {
             "colorbar": {
              "outlinewidth": 0,
              "ticks": ""
             }
            },
            "type": "scattergl"
           }
          ],
          "scattermapbox": [
           {
            "marker": {
             "colorbar": {
              "outlinewidth": 0,
              "ticks": ""
             }
            },
            "type": "scattermapbox"
           }
          ],
          "scatterpolar": [
           {
            "marker": {
             "colorbar": {
              "outlinewidth": 0,
              "ticks": ""
             }
            },
            "type": "scatterpolar"
           }
          ],
          "scatterpolargl": [
           {
            "marker": {
             "colorbar": {
              "outlinewidth": 0,
              "ticks": ""
             }
            },
            "type": "scatterpolargl"
           }
          ],
          "scatterternary": [
           {
            "marker": {
             "colorbar": {
              "outlinewidth": 0,
              "ticks": ""
             }
            },
            "type": "scatterternary"
           }
          ],
          "surface": [
           {
            "colorbar": {
             "outlinewidth": 0,
             "ticks": ""
            },
            "colorscale": [
             [
              0,
              "#0d0887"
             ],
             [
              0.1111111111111111,
              "#46039f"
             ],
             [
              0.2222222222222222,
              "#7201a8"
             ],
             [
              0.3333333333333333,
              "#9c179e"
             ],
             [
              0.4444444444444444,
              "#bd3786"
             ],
             [
              0.5555555555555556,
              "#d8576b"
             ],
             [
              0.6666666666666666,
              "#ed7953"
             ],
             [
              0.7777777777777778,
              "#fb9f3a"
             ],
             [
              0.8888888888888888,
              "#fdca26"
             ],
             [
              1,
              "#f0f921"
             ]
            ],
            "type": "surface"
           }
          ],
          "table": [
           {
            "cells": {
             "fill": {
              "color": "#EBF0F8"
             },
             "line": {
              "color": "white"
             }
            },
            "header": {
             "fill": {
              "color": "#C8D4E3"
             },
             "line": {
              "color": "white"
             }
            },
            "type": "table"
           }
          ]
         },
         "layout": {
          "annotationdefaults": {
           "arrowcolor": "#2a3f5f",
           "arrowhead": 0,
           "arrowwidth": 1
          },
          "autotypenumbers": "strict",
          "coloraxis": {
           "colorbar": {
            "outlinewidth": 0,
            "ticks": ""
           }
          },
          "colorscale": {
           "diverging": [
            [
             0,
             "#8e0152"
            ],
            [
             0.1,
             "#c51b7d"
            ],
            [
             0.2,
             "#de77ae"
            ],
            [
             0.3,
             "#f1b6da"
            ],
            [
             0.4,
             "#fde0ef"
            ],
            [
             0.5,
             "#f7f7f7"
            ],
            [
             0.6,
             "#e6f5d0"
            ],
            [
             0.7,
             "#b8e186"
            ],
            [
             0.8,
             "#7fbc41"
            ],
            [
             0.9,
             "#4d9221"
            ],
            [
             1,
             "#276419"
            ]
           ],
           "sequential": [
            [
             0,
             "#0d0887"
            ],
            [
             0.1111111111111111,
             "#46039f"
            ],
            [
             0.2222222222222222,
             "#7201a8"
            ],
            [
             0.3333333333333333,
             "#9c179e"
            ],
            [
             0.4444444444444444,
             "#bd3786"
            ],
            [
             0.5555555555555556,
             "#d8576b"
            ],
            [
             0.6666666666666666,
             "#ed7953"
            ],
            [
             0.7777777777777778,
             "#fb9f3a"
            ],
            [
             0.8888888888888888,
             "#fdca26"
            ],
            [
             1,
             "#f0f921"
            ]
           ],
           "sequentialminus": [
            [
             0,
             "#0d0887"
            ],
            [
             0.1111111111111111,
             "#46039f"
            ],
            [
             0.2222222222222222,
             "#7201a8"
            ],
            [
             0.3333333333333333,
             "#9c179e"
            ],
            [
             0.4444444444444444,
             "#bd3786"
            ],
            [
             0.5555555555555556,
             "#d8576b"
            ],
            [
             0.6666666666666666,
             "#ed7953"
            ],
            [
             0.7777777777777778,
             "#fb9f3a"
            ],
            [
             0.8888888888888888,
             "#fdca26"
            ],
            [
             1,
             "#f0f921"
            ]
           ]
          },
          "colorway": [
           "#636efa",
           "#EF553B",
           "#00cc96",
           "#ab63fa",
           "#FFA15A",
           "#19d3f3",
           "#FF6692",
           "#B6E880",
           "#FF97FF",
           "#FECB52"
          ],
          "font": {
           "color": "#2a3f5f"
          },
          "geo": {
           "bgcolor": "white",
           "lakecolor": "white",
           "landcolor": "#E5ECF6",
           "showlakes": true,
           "showland": true,
           "subunitcolor": "white"
          },
          "hoverlabel": {
           "align": "left"
          },
          "hovermode": "closest",
          "mapbox": {
           "style": "light"
          },
          "paper_bgcolor": "white",
          "plot_bgcolor": "#E5ECF6",
          "polar": {
           "angularaxis": {
            "gridcolor": "white",
            "linecolor": "white",
            "ticks": ""
           },
           "bgcolor": "#E5ECF6",
           "radialaxis": {
            "gridcolor": "white",
            "linecolor": "white",
            "ticks": ""
           }
          },
          "scene": {
           "xaxis": {
            "backgroundcolor": "#E5ECF6",
            "gridcolor": "white",
            "gridwidth": 2,
            "linecolor": "white",
            "showbackground": true,
            "ticks": "",
            "zerolinecolor": "white"
           },
           "yaxis": {
            "backgroundcolor": "#E5ECF6",
            "gridcolor": "white",
            "gridwidth": 2,
            "linecolor": "white",
            "showbackground": true,
            "ticks": "",
            "zerolinecolor": "white"
           },
           "zaxis": {
            "backgroundcolor": "#E5ECF6",
            "gridcolor": "white",
            "gridwidth": 2,
            "linecolor": "white",
            "showbackground": true,
            "ticks": "",
            "zerolinecolor": "white"
           }
          },
          "shapedefaults": {
           "line": {
            "color": "#2a3f5f"
           }
          },
          "ternary": {
           "aaxis": {
            "gridcolor": "white",
            "linecolor": "white",
            "ticks": ""
           },
           "baxis": {
            "gridcolor": "white",
            "linecolor": "white",
            "ticks": ""
           },
           "bgcolor": "#E5ECF6",
           "caxis": {
            "gridcolor": "white",
            "linecolor": "white",
            "ticks": ""
           }
          },
          "title": {
           "x": 0.05
          },
          "xaxis": {
           "automargin": true,
           "gridcolor": "white",
           "linecolor": "white",
           "ticks": "",
           "title": {
            "standoff": 15
           },
           "zerolinecolor": "white",
           "zerolinewidth": 2
          },
          "yaxis": {
           "automargin": true,
           "gridcolor": "white",
           "linecolor": "white",
           "ticks": "",
           "title": {
            "standoff": 15
           },
           "zerolinecolor": "white",
           "zerolinewidth": 2
          }
         }
        },
        "title": {
         "text": "Training Loss"
        },
        "xaxis": {
         "title": {
          "text": "Days"
         }
        },
        "yaxis": {
         "title": {
          "text": "MSE"
         }
        }
       }
      },
      "text/html": [
       "<div>                            <div id=\"0a6c9ccb-44e6-43fe-9add-3a4b0a61a23f\" class=\"plotly-graph-div\" style=\"height:525px; width:100%;\"></div>            <script type=\"text/javascript\">                require([\"plotly\"], function(Plotly) {                    window.PLOTLYENV=window.PLOTLYENV || {};                                    if (document.getElementById(\"0a6c9ccb-44e6-43fe-9add-3a4b0a61a23f\")) {                    Plotly.newPlot(                        \"0a6c9ccb-44e6-43fe-9add-3a4b0a61a23f\",                        [{\"mode\":\"lines\",\"name\":\"train_loss_with_pretraining\",\"x\":[1,32,63,94,125,156,187,218,249,280,311,342],\"y\":[1.751327633857727,1.3042075634002686,1.2278435230255127,1.1176073551177979,1.045914888381958,0.9798219799995422,0.917873203754425,0.8756585717201233,0.8571076393127441,0.8692931532859802,0.9077430963516235,0.9971582889556885],\"type\":\"scatter\"}],                        {\"legend\":{\"orientation\":\"v\",\"traceorder\":\"normal\",\"x\":1,\"y\":1},\"title\":{\"text\":\"Training Loss\"},\"xaxis\":{\"title\":{\"text\":\"Days\"}},\"yaxis\":{\"title\":{\"text\":\"MSE\"}},\"template\":{\"data\":{\"histogram2dcontour\":[{\"type\":\"histogram2dcontour\",\"colorbar\":{\"outlinewidth\":0,\"ticks\":\"\"},\"colorscale\":[[0.0,\"#0d0887\"],[0.1111111111111111,\"#46039f\"],[0.2222222222222222,\"#7201a8\"],[0.3333333333333333,\"#9c179e\"],[0.4444444444444444,\"#bd3786\"],[0.5555555555555556,\"#d8576b\"],[0.6666666666666666,\"#ed7953\"],[0.7777777777777778,\"#fb9f3a\"],[0.8888888888888888,\"#fdca26\"],[1.0,\"#f0f921\"]]}],\"choropleth\":[{\"type\":\"choropleth\",\"colorbar\":{\"outlinewidth\":0,\"ticks\":\"\"}}],\"histogram2d\":[{\"type\":\"histogram2d\",\"colorbar\":{\"outlinewidth\":0,\"ticks\":\"\"},\"colorscale\":[[0.0,\"#0d0887\"],[0.1111111111111111,\"#46039f\"],[0.2222222222222222,\"#7201a8\"],[0.3333333333333333,\"#9c179e\"],[0.4444444444444444,\"#bd3786\"],[0.5555555555555556,\"#d8576b\"],[0.6666666666666666,\"#ed7953\"],[0.7777777777777778,\"#fb9f3a\"],[0.8888888888888888,\"#fdca26\"],[1.0,\"#f0f921\"]]}],\"heatmap\":[{\"type\":\"heatmap\",\"colorbar\":{\"outlinewidth\":0,\"ticks\":\"\"},\"colorscale\":[[0.0,\"#0d0887\"],[0.1111111111111111,\"#46039f\"],[0.2222222222222222,\"#7201a8\"],[0.3333333333333333,\"#9c179e\"],[0.4444444444444444,\"#bd3786\"],[0.5555555555555556,\"#d8576b\"],[0.6666666666666666,\"#ed7953\"],[0.7777777777777778,\"#fb9f3a\"],[0.8888888888888888,\"#fdca26\"],[1.0,\"#f0f921\"]]}],\"heatmapgl\":[{\"type\":\"heatmapgl\",\"colorbar\":{\"outlinewidth\":0,\"ticks\":\"\"},\"colorscale\":[[0.0,\"#0d0887\"],[0.1111111111111111,\"#46039f\"],[0.2222222222222222,\"#7201a8\"],[0.3333333333333333,\"#9c179e\"],[0.4444444444444444,\"#bd3786\"],[0.5555555555555556,\"#d8576b\"],[0.6666666666666666,\"#ed7953\"],[0.7777777777777778,\"#fb9f3a\"],[0.8888888888888888,\"#fdca26\"],[1.0,\"#f0f921\"]]}],\"contourcarpet\":[{\"type\":\"contourcarpet\",\"colorbar\":{\"outlinewidth\":0,\"ticks\":\"\"}}],\"contour\":[{\"type\":\"contour\",\"colorbar\":{\"outlinewidth\":0,\"ticks\":\"\"},\"colorscale\":[[0.0,\"#0d0887\"],[0.1111111111111111,\"#46039f\"],[0.2222222222222222,\"#7201a8\"],[0.3333333333333333,\"#9c179e\"],[0.4444444444444444,\"#bd3786\"],[0.5555555555555556,\"#d8576b\"],[0.6666666666666666,\"#ed7953\"],[0.7777777777777778,\"#fb9f3a\"],[0.8888888888888888,\"#fdca26\"],[1.0,\"#f0f921\"]]}],\"surface\":[{\"type\":\"surface\",\"colorbar\":{\"outlinewidth\":0,\"ticks\":\"\"},\"colorscale\":[[0.0,\"#0d0887\"],[0.1111111111111111,\"#46039f\"],[0.2222222222222222,\"#7201a8\"],[0.3333333333333333,\"#9c179e\"],[0.4444444444444444,\"#bd3786\"],[0.5555555555555556,\"#d8576b\"],[0.6666666666666666,\"#ed7953\"],[0.7777777777777778,\"#fb9f3a\"],[0.8888888888888888,\"#fdca26\"],[1.0,\"#f0f921\"]]}],\"mesh3d\":[{\"type\":\"mesh3d\",\"colorbar\":{\"outlinewidth\":0,\"ticks\":\"\"}}],\"scatter\":[{\"fillpattern\":{\"fillmode\":\"overlay\",\"size\":10,\"solidity\":0.2},\"type\":\"scatter\"}],\"parcoords\":[{\"type\":\"parcoords\",\"line\":{\"colorbar\":{\"outlinewidth\":0,\"ticks\":\"\"}}}],\"scatterpolargl\":[{\"type\":\"scatterpolargl\",\"marker\":{\"colorbar\":{\"outlinewidth\":0,\"ticks\":\"\"}}}],\"bar\":[{\"error_x\":{\"color\":\"#2a3f5f\"},\"error_y\":{\"color\":\"#2a3f5f\"},\"marker\":{\"line\":{\"color\":\"#E5ECF6\",\"width\":0.5},\"pattern\":{\"fillmode\":\"overlay\",\"size\":10,\"solidity\":0.2}},\"type\":\"bar\"}],\"scattergeo\":[{\"type\":\"scattergeo\",\"marker\":{\"colorbar\":{\"outlinewidth\":0,\"ticks\":\"\"}}}],\"scatterpolar\":[{\"type\":\"scatterpolar\",\"marker\":{\"colorbar\":{\"outlinewidth\":0,\"ticks\":\"\"}}}],\"histogram\":[{\"marker\":{\"pattern\":{\"fillmode\":\"overlay\",\"size\":10,\"solidity\":0.2}},\"type\":\"histogram\"}],\"scattergl\":[{\"type\":\"scattergl\",\"marker\":{\"colorbar\":{\"outlinewidth\":0,\"ticks\":\"\"}}}],\"scatter3d\":[{\"type\":\"scatter3d\",\"line\":{\"colorbar\":{\"outlinewidth\":0,\"ticks\":\"\"}},\"marker\":{\"colorbar\":{\"outlinewidth\":0,\"ticks\":\"\"}}}],\"scattermapbox\":[{\"type\":\"scattermapbox\",\"marker\":{\"colorbar\":{\"outlinewidth\":0,\"ticks\":\"\"}}}],\"scatterternary\":[{\"type\":\"scatterternary\",\"marker\":{\"colorbar\":{\"outlinewidth\":0,\"ticks\":\"\"}}}],\"scattercarpet\":[{\"type\":\"scattercarpet\",\"marker\":{\"colorbar\":{\"outlinewidth\":0,\"ticks\":\"\"}}}],\"carpet\":[{\"aaxis\":{\"endlinecolor\":\"#2a3f5f\",\"gridcolor\":\"white\",\"linecolor\":\"white\",\"minorgridcolor\":\"white\",\"startlinecolor\":\"#2a3f5f\"},\"baxis\":{\"endlinecolor\":\"#2a3f5f\",\"gridcolor\":\"white\",\"linecolor\":\"white\",\"minorgridcolor\":\"white\",\"startlinecolor\":\"#2a3f5f\"},\"type\":\"carpet\"}],\"table\":[{\"cells\":{\"fill\":{\"color\":\"#EBF0F8\"},\"line\":{\"color\":\"white\"}},\"header\":{\"fill\":{\"color\":\"#C8D4E3\"},\"line\":{\"color\":\"white\"}},\"type\":\"table\"}],\"barpolar\":[{\"marker\":{\"line\":{\"color\":\"#E5ECF6\",\"width\":0.5},\"pattern\":{\"fillmode\":\"overlay\",\"size\":10,\"solidity\":0.2}},\"type\":\"barpolar\"}],\"pie\":[{\"automargin\":true,\"type\":\"pie\"}]},\"layout\":{\"autotypenumbers\":\"strict\",\"colorway\":[\"#636efa\",\"#EF553B\",\"#00cc96\",\"#ab63fa\",\"#FFA15A\",\"#19d3f3\",\"#FF6692\",\"#B6E880\",\"#FF97FF\",\"#FECB52\"],\"font\":{\"color\":\"#2a3f5f\"},\"hovermode\":\"closest\",\"hoverlabel\":{\"align\":\"left\"},\"paper_bgcolor\":\"white\",\"plot_bgcolor\":\"#E5ECF6\",\"polar\":{\"bgcolor\":\"#E5ECF6\",\"angularaxis\":{\"gridcolor\":\"white\",\"linecolor\":\"white\",\"ticks\":\"\"},\"radialaxis\":{\"gridcolor\":\"white\",\"linecolor\":\"white\",\"ticks\":\"\"}},\"ternary\":{\"bgcolor\":\"#E5ECF6\",\"aaxis\":{\"gridcolor\":\"white\",\"linecolor\":\"white\",\"ticks\":\"\"},\"baxis\":{\"gridcolor\":\"white\",\"linecolor\":\"white\",\"ticks\":\"\"},\"caxis\":{\"gridcolor\":\"white\",\"linecolor\":\"white\",\"ticks\":\"\"}},\"coloraxis\":{\"colorbar\":{\"outlinewidth\":0,\"ticks\":\"\"}},\"colorscale\":{\"sequential\":[[0.0,\"#0d0887\"],[0.1111111111111111,\"#46039f\"],[0.2222222222222222,\"#7201a8\"],[0.3333333333333333,\"#9c179e\"],[0.4444444444444444,\"#bd3786\"],[0.5555555555555556,\"#d8576b\"],[0.6666666666666666,\"#ed7953\"],[0.7777777777777778,\"#fb9f3a\"],[0.8888888888888888,\"#fdca26\"],[1.0,\"#f0f921\"]],\"sequentialminus\":[[0.0,\"#0d0887\"],[0.1111111111111111,\"#46039f\"],[0.2222222222222222,\"#7201a8\"],[0.3333333333333333,\"#9c179e\"],[0.4444444444444444,\"#bd3786\"],[0.5555555555555556,\"#d8576b\"],[0.6666666666666666,\"#ed7953\"],[0.7777777777777778,\"#fb9f3a\"],[0.8888888888888888,\"#fdca26\"],[1.0,\"#f0f921\"]],\"diverging\":[[0,\"#8e0152\"],[0.1,\"#c51b7d\"],[0.2,\"#de77ae\"],[0.3,\"#f1b6da\"],[0.4,\"#fde0ef\"],[0.5,\"#f7f7f7\"],[0.6,\"#e6f5d0\"],[0.7,\"#b8e186\"],[0.8,\"#7fbc41\"],[0.9,\"#4d9221\"],[1,\"#276419\"]]},\"xaxis\":{\"gridcolor\":\"white\",\"linecolor\":\"white\",\"ticks\":\"\",\"title\":{\"standoff\":15},\"zerolinecolor\":\"white\",\"automargin\":true,\"zerolinewidth\":2},\"yaxis\":{\"gridcolor\":\"white\",\"linecolor\":\"white\",\"ticks\":\"\",\"title\":{\"standoff\":15},\"zerolinecolor\":\"white\",\"automargin\":true,\"zerolinewidth\":2},\"scene\":{\"xaxis\":{\"backgroundcolor\":\"#E5ECF6\",\"gridcolor\":\"white\",\"linecolor\":\"white\",\"showbackground\":true,\"ticks\":\"\",\"zerolinecolor\":\"white\",\"gridwidth\":2},\"yaxis\":{\"backgroundcolor\":\"#E5ECF6\",\"gridcolor\":\"white\",\"linecolor\":\"white\",\"showbackground\":true,\"ticks\":\"\",\"zerolinecolor\":\"white\",\"gridwidth\":2},\"zaxis\":{\"backgroundcolor\":\"#E5ECF6\",\"gridcolor\":\"white\",\"linecolor\":\"white\",\"showbackground\":true,\"ticks\":\"\",\"zerolinecolor\":\"white\",\"gridwidth\":2}},\"shapedefaults\":{\"line\":{\"color\":\"#2a3f5f\"}},\"annotationdefaults\":{\"arrowcolor\":\"#2a3f5f\",\"arrowhead\":0,\"arrowwidth\":1},\"geo\":{\"bgcolor\":\"white\",\"landcolor\":\"#E5ECF6\",\"subunitcolor\":\"white\",\"showland\":true,\"showlakes\":true,\"lakecolor\":\"white\"},\"title\":{\"x\":0.05},\"mapbox\":{\"style\":\"light\"}}}},                        {\"responsive\": true}                    ).then(function(){\n",
       "                            \n",
       "var gd = document.getElementById('0a6c9ccb-44e6-43fe-9add-3a4b0a61a23f');\n",
       "var x = new MutationObserver(function (mutations, observer) {{\n",
       "        var display = window.getComputedStyle(gd).display;\n",
       "        if (!display || display === 'none') {{\n",
       "            console.log([gd, 'removed!']);\n",
       "            Plotly.purge(gd);\n",
       "            observer.disconnect();\n",
       "        }}\n",
       "}});\n",
       "\n",
       "// Listen for the removal of the full notebook cells\n",
       "var notebookContainer = gd.closest('#notebook-container');\n",
       "if (notebookContainer) {{\n",
       "    x.observe(notebookContainer, {childList: true});\n",
       "}}\n",
       "\n",
       "// Listen for the clearing of the current output cell\n",
       "var outputEl = gd.closest('.output');\n",
       "if (outputEl) {{\n",
       "    x.observe(outputEl, {childList: true});\n",
       "}}\n",
       "\n",
       "                        })                };                });            </script>        </div>"
      ]
     },
     "metadata": {},
     "output_type": "display_data"
    },
    {
     "data": {
      "application/vnd.plotly.v1+json": {
       "config": {
        "plotlyServerURL": "https://plot.ly"
       },
       "data": [
        {
         "mode": "lines",
         "name": "val_loss_with_pretraining",
         "type": "scatter",
         "x": [
          1,
          2,
          3,
          4,
          5,
          6,
          7,
          8,
          9,
          10,
          11,
          12,
          13,
          14,
          15,
          16,
          17,
          18,
          19,
          20,
          21,
          22,
          23,
          24,
          25,
          26,
          27,
          28,
          29,
          30,
          31,
          32,
          33,
          34,
          35,
          36,
          37,
          38,
          39,
          40,
          41,
          42,
          43,
          44,
          45,
          46,
          47,
          48,
          49,
          50,
          51,
          52,
          53,
          54,
          55,
          56,
          57,
          58,
          59,
          60,
          61,
          62,
          63,
          64,
          65,
          66,
          67,
          68,
          69,
          70,
          71,
          72,
          73,
          74,
          75,
          76,
          77,
          78,
          79,
          80,
          81,
          82,
          83,
          84,
          85,
          86,
          87,
          88,
          89,
          90,
          91,
          92,
          93,
          94,
          95,
          96,
          97,
          98,
          99,
          100,
          101,
          102,
          103,
          104,
          105,
          106,
          107,
          108,
          109,
          110,
          111,
          112,
          113,
          114,
          115,
          116,
          117,
          118,
          119,
          120,
          121,
          122,
          123,
          124,
          125,
          126,
          127,
          128,
          129,
          130,
          131,
          132,
          133,
          134,
          135,
          136,
          137,
          138,
          139,
          140,
          141,
          142,
          143,
          144,
          145,
          146,
          147,
          148,
          149,
          150,
          151,
          152,
          153,
          154,
          155,
          156,
          157,
          158,
          159,
          160,
          161,
          162,
          163,
          164,
          165,
          166,
          167,
          168,
          169,
          170,
          171,
          172,
          173,
          174,
          175,
          176,
          177,
          178,
          179,
          180,
          181,
          182,
          183,
          184,
          185,
          186,
          187,
          188,
          189,
          190,
          191,
          192,
          193,
          194,
          195,
          196,
          197,
          198,
          199,
          200,
          201,
          202,
          203,
          204,
          205,
          206,
          207,
          208,
          209,
          210,
          211,
          212,
          213,
          214,
          215,
          216,
          217,
          218,
          219,
          220,
          221,
          222,
          223,
          224,
          225,
          226,
          227,
          228,
          229,
          230,
          231,
          232,
          233,
          234,
          235,
          236,
          237,
          238,
          239,
          240,
          241,
          242,
          243,
          244,
          245,
          246,
          247,
          248,
          249,
          250,
          251,
          252,
          253,
          254,
          255,
          256,
          257,
          258,
          259,
          260,
          261,
          262,
          263,
          264,
          265,
          266,
          267,
          268,
          269,
          270,
          271,
          272,
          273,
          274,
          275,
          276,
          277,
          278,
          279,
          280,
          281,
          282,
          283,
          284,
          285,
          286,
          287,
          288,
          289,
          290,
          291,
          292,
          293,
          294,
          295,
          296,
          297,
          298,
          299,
          300,
          301,
          302,
          303,
          304,
          305,
          306,
          307,
          308,
          309,
          310,
          311,
          312,
          313,
          314,
          315,
          316,
          317,
          318,
          319,
          320,
          321,
          322,
          323,
          324,
          325,
          326,
          327,
          328,
          329,
          330,
          331,
          332,
          333,
          334,
          335,
          336,
          337,
          338,
          339,
          340,
          341,
          342
         ],
         "y": [
          [
           1.8321099281311035,
           1.8321099281311035
          ],
          [
           1.304588794708252,
           1.304588794708252
          ],
          [
           1.2797602415084839,
           1.2797602415084839
          ],
          [
           1.3393349647521973,
           1.3393349647521973
          ],
          [
           1.1763032674789429,
           1.1763032674789429
          ],
          [
           1.15060555934906,
           1.15060555934906
          ],
          [
           1.6309655904769897,
           1.6309655904769897
          ],
          [
           1.859804391860962,
           1.859804391860962
          ],
          [
           1.350881814956665,
           1.350881814956665
          ],
          [
           1.2883440256118774,
           1.2883440256118774
          ],
          [
           1.3113495111465454,
           1.3113495111465454
          ],
          [
           1.3853710889816284,
           1.3853710889816284
          ],
          [
           1.3314929008483887,
           1.3314929008483887
          ],
          [
           1.5640177726745605,
           1.5640177726745605
          ],
          [
           2.237881660461426,
           2.237881660461426
          ],
          [
           1.357262134552002,
           1.357262134552002
          ],
          [
           1.2731077671051025,
           1.2731077671051025
          ],
          [
           1.2636250257492065,
           1.2636250257492065
          ],
          [
           1.4915651082992554,
           1.4915651082992554
          ],
          [
           1.304419755935669,
           1.304419755935669
          ],
          [
           1.5455949306488037,
           1.5455949306488037
          ],
          [
           1.780385136604309,
           1.780385136604309
          ],
          [
           1.2851883172988892,
           1.2851883172988892
          ],
          [
           1.449927568435669,
           1.449927568435669
          ],
          [
           1.5027451515197754,
           1.5027451515197754
          ],
          [
           1.3183143138885498,
           1.3183143138885498
          ],
          [
           1.4039379358291626,
           1.4039379358291626
          ],
          [
           1.576454758644104,
           1.576454758644104
          ],
          [
           2.0288827419281006,
           2.0288827419281006
          ],
          [
           1.4171137809753418,
           1.4171137809753418
          ],
          [
           1.2794855833053589,
           1.2794855833053589
          ],
          [
           1.0119550228118896,
           1.0119550228118896
          ],
          [
           1.1534805297851562,
           1.1534805297851562
          ],
          [
           1.0433659553527832,
           1.0433659553527832
          ],
          [
           1.1245465278625488,
           1.1245465278625488
          ],
          [
           2.1577446460723877,
           2.1577446460723877
          ],
          [
           1.104453206062317,
           1.104453206062317
          ],
          [
           0.9510484337806702,
           0.9510484337806702
          ],
          [
           1.082554578781128,
           1.082554578781128
          ],
          [
           1.2143903970718384,
           1.2143903970718384
          ],
          [
           0.9022076725959778,
           0.9022076725959778
          ],
          [
           1.6382050514221191,
           1.6382050514221191
          ],
          [
           1.7165398597717285,
           1.7165398597717285
          ],
          [
           0.9411276578903198,
           0.9411276578903198
          ],
          [
           1.021899700164795,
           1.021899700164795
          ],
          [
           1.002387285232544,
           1.002387285232544
          ],
          [
           0.9112652540206909,
           0.9112652540206909
          ],
          [
           0.8729394674301147,
           0.8729394674301147
          ],
          [
           1.322027564048767,
           1.322027564048767
          ],
          [
           1.9040406942367554,
           1.9040406942367554
          ],
          [
           1.1013871431350708,
           1.1013871431350708
          ],
          [
           0.9797136783599854,
           0.9797136783599854
          ],
          [
           1.1243195533752441,
           1.1243195533752441
          ],
          [
           1.0958532094955444,
           1.0958532094955444
          ],
          [
           0.8365662097930908,
           0.8365662097930908
          ],
          [
           1.143479347229004,
           1.143479347229004
          ],
          [
           1.801708698272705,
           1.801708698272705
          ],
          [
           1.2841706275939941,
           1.2841706275939941
          ],
          [
           1.24909245967865,
           1.24909245967865
          ],
          [
           1.0242996215820312,
           1.0242996215820312
          ],
          [
           1.1860299110412598,
           1.1860299110412598
          ],
          [
           0.8946364521980286,
           0.8946364521980286
          ],
          [
           0.9324190616607666,
           0.9324190616607666
          ],
          [
           1.0387966632843018,
           1.0387966632843018
          ],
          [
           1.110762596130371,
           1.110762596130371
          ],
          [
           0.8420898914337158,
           0.8420898914337158
          ],
          [
           0.9143884181976318,
           0.9143884181976318
          ],
          [
           0.8457992076873779,
           0.8457992076873779
          ],
          [
           0.8176443576812744,
           0.8176443576812744
          ],
          [
           1.043400526046753,
           1.043400526046753
          ],
          [
           0.7902072072029114,
           0.7902072072029114
          ],
          [
           1.479887843132019,
           1.479887843132019
          ],
          [
           0.82126784324646,
           0.82126784324646
          ],
          [
           0.7923533916473389,
           0.7923533916473389
          ],
          [
           0.8808125853538513,
           0.8808125853538513
          ],
          [
           0.748643696308136,
           0.748643696308136
          ],
          [
           1.023987889289856,
           1.023987889289856
          ],
          [
           1.711918592453003,
           1.711918592453003
          ],
          [
           0.8656895160675049,
           0.8656895160675049
          ],
          [
           0.9342441558837891,
           0.9342441558837891
          ],
          [
           1.0046104192733765,
           1.0046104192733765
          ],
          [
           0.8346338868141174,
           0.8346338868141174
          ],
          [
           0.894016683101654,
           0.894016683101654
          ],
          [
           0.8473254442214966,
           0.8473254442214966
          ],
          [
           1.1347302198410034,
           1.1347302198410034
          ],
          [
           0.9247846603393555,
           0.9247846603393555
          ],
          [
           0.9609478712081909,
           0.9609478712081909
          ],
          [
           0.7590022087097168,
           0.7590022087097168
          ],
          [
           0.9742667078971863,
           0.9742667078971863
          ],
          [
           0.6458419561386108,
           0.6458419561386108
          ],
          [
           0.8489468097686768,
           0.8489468097686768
          ],
          [
           1.0577385425567627,
           1.0577385425567627
          ],
          [
           0.903721272945404,
           0.903721272945404
          ],
          [
           0.7954896688461304,
           0.7954896688461304
          ],
          [
           0.8072099685668945,
           0.8072099685668945
          ],
          [
           0.8518173694610596,
           0.8518173694610596
          ],
          [
           0.6172792911529541,
           0.6172792911529541
          ],
          [
           0.9747689366340637,
           0.9747689366340637
          ],
          [
           1.5913993120193481,
           1.5913993120193481
          ],
          [
           0.7771652936935425,
           0.7771652936935425
          ],
          [
           0.7165368795394897,
           0.7165368795394897
          ],
          [
           0.721855640411377,
           0.721855640411377
          ],
          [
           0.7752590179443359,
           0.7752590179443359
          ],
          [
           0.6645545363426208,
           0.6645545363426208
          ],
          [
           0.98682701587677,
           0.98682701587677
          ],
          [
           1.068153977394104,
           1.068153977394104
          ],
          [
           0.7542311549186707,
           0.7542311549186707
          ],
          [
           0.746740460395813,
           0.746740460395813
          ],
          [
           0.7941251993179321,
           0.7941251993179321
          ],
          [
           0.8197670578956604,
           0.8197670578956604
          ],
          [
           0.840600311756134,
           0.840600311756134
          ],
          [
           1.2139147520065308,
           1.2139147520065308
          ],
          [
           1.0772178173065186,
           1.0772178173065186
          ],
          [
           0.7556081414222717,
           0.7556081414222717
          ],
          [
           0.7428566217422485,
           0.7428566217422485
          ],
          [
           0.76596999168396,
           0.76596999168396
          ],
          [
           0.8050931692123413,
           0.8050931692123413
          ],
          [
           0.6386289000511169,
           0.6386289000511169
          ],
          [
           0.7111513018608093,
           0.7111513018608093
          ],
          [
           0.8920416235923767,
           0.8920416235923767
          ],
          [
           1.0709702968597412,
           1.0709702968597412
          ],
          [
           0.8123661279678345,
           0.8123661279678345
          ],
          [
           0.8808715343475342,
           0.8808715343475342
          ],
          [
           0.822653591632843,
           0.822653591632843
          ],
          [
           0.5684459805488586,
           0.5684459805488586
          ],
          [
           0.7032100558280945,
           0.7032100558280945
          ],
          [
           1.1497936248779297,
           1.1497936248779297
          ],
          [
           0.8539392948150635,
           0.8539392948150635
          ],
          [
           0.7794504761695862,
           0.7794504761695862
          ],
          [
           0.8046283721923828,
           0.8046283721923828
          ],
          [
           0.681509256362915,
           0.681509256362915
          ],
          [
           0.6110643148422241,
           0.6110643148422241
          ],
          [
           0.7381186485290527,
           0.7381186485290527
          ],
          [
           0.8866679072380066,
           0.8866679072380066
          ],
          [
           0.7260550260543823,
           0.7260550260543823
          ],
          [
           0.7882428169250488,
           0.7882428169250488
          ],
          [
           0.8031056523323059,
           0.8031056523323059
          ],
          [
           0.7264415621757507,
           0.7264415621757507
          ],
          [
           0.6518516540527344,
           0.6518516540527344
          ],
          [
           0.7303556203842163,
           0.7303556203842163
          ],
          [
           0.7470734119415283,
           0.7470734119415283
          ],
          [
           0.7623081803321838,
           0.7623081803321838
          ],
          [
           0.8299075961112976,
           0.8299075961112976
          ],
          [
           0.7925541996955872,
           0.7925541996955872
          ],
          [
           0.8489487171173096,
           0.8489487171173096
          ],
          [
           0.6646084189414978,
           0.6646084189414978
          ],
          [
           0.7581546306610107,
           0.7581546306610107
          ],
          [
           0.974127471446991,
           0.974127471446991
          ],
          [
           0.676682710647583,
           0.676682710647583
          ],
          [
           0.6189591884613037,
           0.6189591884613037
          ],
          [
           0.7089593410491943,
           0.7089593410491943
          ],
          [
           0.7961346507072449,
           0.7961346507072449
          ],
          [
           0.6473323106765747,
           0.6473323106765747
          ],
          [
           0.7085663080215454,
           0.7085663080215454
          ],
          [
           0.8776156902313232,
           0.8776156902313232
          ],
          [
           0.7579026222229004,
           0.7579026222229004
          ],
          [
           0.6785082817077637,
           0.6785082817077637
          ],
          [
           0.6478288173675537,
           0.6478288173675537
          ],
          [
           0.775252103805542,
           0.775252103805542
          ],
          [
           0.6543281674385071,
           0.6543281674385071
          ],
          [
           0.6923171877861023,
           0.6923171877861023
          ],
          [
           0.7010228633880615,
           0.7010228633880615
          ],
          [
           0.6990020275115967,
           0.6990020275115967
          ],
          [
           0.6851276755332947,
           0.6851276755332947
          ],
          [
           0.721085786819458,
           0.721085786819458
          ],
          [
           0.7498519420623779,
           0.7498519420623779
          ],
          [
           0.6024655699729919,
           0.6024655699729919
          ],
          [
           0.6368875503540039,
           0.6368875503540039
          ],
          [
           0.6213937401771545,
           0.6213937401771545
          ],
          [
           0.6896427273750305,
           0.6896427273750305
          ],
          [
           0.7496254444122314,
           0.7496254444122314
          ],
          [
           0.6542250514030457,
           0.6542250514030457
          ],
          [
           0.6241172552108765,
           0.6241172552108765
          ],
          [
           0.5505010485649109,
           0.5505010485649109
          ],
          [
           0.5655738711357117,
           0.5655738711357117
          ],
          [
           0.5831614136695862,
           0.5831614136695862
          ],
          [
           0.628561794757843,
           0.628561794757843
          ],
          [
           0.5680426359176636,
           0.5680426359176636
          ],
          [
           0.5647720098495483,
           0.5647720098495483
          ],
          [
           0.6386592388153076,
           0.6386592388153076
          ],
          [
           0.6289185881614685,
           0.6289185881614685
          ],
          [
           0.603050708770752,
           0.603050708770752
          ],
          [
           0.7053022980690002,
           0.7053022980690002
          ],
          [
           0.6582624316215515,
           0.6582624316215515
          ],
          [
           0.5594103336334229,
           0.5594103336334229
          ],
          [
           0.6914353966712952,
           0.6914353966712952
          ],
          [
           0.5525200366973877,
           0.5525200366973877
          ],
          [
           0.48484694957733154,
           0.48484694957733154
          ],
          [
           0.4471210241317749,
           0.4471210241317749
          ],
          [
           0.6949436664581299,
           0.6949436664581299
          ],
          [
           0.6419675350189209,
           0.6419675350189209
          ],
          [
           0.5472572445869446,
           0.5472572445869446
          ],
          [
           0.6178147196769714,
           0.6178147196769714
          ],
          [
           0.706392228603363,
           0.706392228603363
          ],
          [
           0.6182312369346619,
           0.6182312369346619
          ],
          [
           0.5880451202392578,
           0.5880451202392578
          ],
          [
           0.9575831890106201,
           0.9575831890106201
          ],
          [
           0.6695982813835144,
           0.6695982813835144
          ],
          [
           0.6285407543182373,
           0.6285407543182373
          ],
          [
           0.6028873324394226,
           0.6028873324394226
          ],
          [
           0.5512438416481018,
           0.5512438416481018
          ],
          [
           0.5805118083953857,
           0.5805118083953857
          ],
          [
           0.7564677000045776,
           0.7564677000045776
          ],
          [
           1.2393372058868408,
           1.2393372058868408
          ],
          [
           0.6006314754486084,
           0.6006314754486084
          ],
          [
           0.6344574689865112,
           0.6344574689865112
          ],
          [
           0.5688623785972595,
           0.5688623785972595
          ],
          [
           0.5240480899810791,
           0.5240480899810791
          ],
          [
           0.5074519515037537,
           0.5074519515037537
          ],
          [
           0.5583076477050781,
           0.5583076477050781
          ],
          [
           0.7265226244926453,
           0.7265226244926453
          ],
          [
           0.5449545979499817,
           0.5449545979499817
          ],
          [
           0.5255594849586487,
           0.5255594849586487
          ],
          [
           0.621320366859436,
           0.621320366859436
          ],
          [
           0.7230346202850342,
           0.7230346202850342
          ],
          [
           0.5960249900817871,
           0.5960249900817871
          ],
          [
           0.7268368005752563,
           0.7268368005752563
          ],
          [
           1.01884126663208,
           1.01884126663208
          ],
          [
           0.6527479290962219,
           0.6527479290962219
          ],
          [
           0.5372039675712585,
           0.5372039675712585
          ],
          [
           0.616005003452301,
           0.616005003452301
          ],
          [
           0.6703565716743469,
           0.6703565716743469
          ],
          [
           0.6424570679664612,
           0.6424570679664612
          ],
          [
           0.8552114963531494,
           0.8552114963531494
          ],
          [
           0.9663002490997314,
           0.9663002490997314
          ],
          [
           0.5800001621246338,
           0.5800001621246338
          ],
          [
           0.5978671908378601,
           0.5978671908378601
          ],
          [
           0.7369562983512878,
           0.7369562983512878
          ],
          [
           0.5943329334259033,
           0.5943329334259033
          ],
          [
           0.5579108595848083,
           0.5579108595848083
          ],
          [
           0.7882180213928223,
           0.7882180213928223
          ],
          [
           0.8909047245979309,
           0.8909047245979309
          ],
          [
           0.6256717443466187,
           0.6256717443466187
          ],
          [
           0.5923205018043518,
           0.5923205018043518
          ],
          [
           0.6968650817871094,
           0.6968650817871094
          ],
          [
           0.7030318975448608,
           0.7030318975448608
          ],
          [
           0.5733292102813721,
           0.5733292102813721
          ],
          [
           0.8056294918060303,
           0.8056294918060303
          ],
          [
           1.1393907070159912,
           1.1393907070159912
          ],
          [
           0.6354943513870239,
           0.6354943513870239
          ],
          [
           0.6433026194572449,
           0.6433026194572449
          ],
          [
           0.6707383990287781,
           0.6707383990287781
          ],
          [
           0.612348198890686,
           0.612348198890686
          ],
          [
           0.5572015047073364,
           0.5572015047073364
          ],
          [
           0.8765029907226562,
           0.8765029907226562
          ],
          [
           1.281997561454773,
           1.281997561454773
          ],
          [
           0.7074960470199585,
           0.7074960470199585
          ],
          [
           0.7250149846076965,
           0.7250149846076965
          ],
          [
           0.6839706897735596,
           0.6839706897735596
          ],
          [
           0.6157190799713135,
           0.6157190799713135
          ],
          [
           0.5594074726104736,
           0.5594074726104736
          ],
          [
           1.213255524635315,
           1.213255524635315
          ],
          [
           1.0011022090911865,
           1.0011022090911865
          ],
          [
           0.6864513754844666,
           0.6864513754844666
          ],
          [
           0.719304084777832,
           0.719304084777832
          ],
          [
           0.7063490748405457,
           0.7063490748405457
          ],
          [
           0.7017347812652588,
           0.7017347812652588
          ],
          [
           0.7301862835884094,
           0.7301862835884094
          ],
          [
           0.9632540941238403,
           0.9632540941238403
          ],
          [
           1.6515165567398071,
           1.6515165567398071
          ],
          [
           0.8792288303375244,
           0.8792288303375244
          ],
          [
           0.7386944890022278,
           0.7386944890022278
          ],
          [
           0.7187539935112,
           0.7187539935112
          ],
          [
           0.788499653339386,
           0.788499653339386
          ],
          [
           1.0717496871948242,
           1.0717496871948242
          ],
          [
           1.5569126605987549,
           1.5569126605987549
          ],
          [
           1.4462405443191528,
           1.4462405443191528
          ],
          [
           0.7141170501708984,
           0.7141170501708984
          ],
          [
           0.7385304570198059,
           0.7385304570198059
          ],
          [
           0.7435591816902161,
           0.7435591816902161
          ],
          [
           0.6963474750518799,
           0.6963474750518799
          ],
          [
           1.1929055452346802,
           1.1929055452346802
          ],
          [
           1.6622233390808105,
           1.6622233390808105
          ],
          [
           2.629457473754883,
           2.629457473754883
          ],
          [
           0.9344255924224854,
           0.9344255924224854
          ],
          [
           0.8991301655769348,
           0.8991301655769348
          ],
          [
           0.8351907730102539,
           0.8351907730102539
          ],
          [
           0.885611891746521,
           0.885611891746521
          ],
          [
           0.6256592273712158,
           0.6256592273712158
          ],
          [
           1.2217333316802979,
           1.2217333316802979
          ],
          [
           1.6037821769714355,
           1.6037821769714355
          ],
          [
           0.8697571158409119,
           0.8697571158409119
          ],
          [
           0.6716197729110718,
           0.6716197729110718
          ],
          [
           0.9741787314414978,
           0.9741787314414978
          ],
          [
           0.8776342272758484,
           0.8776342272758484
          ],
          [
           0.7924692630767822,
           0.7924692630767822
          ],
          [
           1.7588951587677002,
           1.7588951587677002
          ],
          [
           2.0672311782836914,
           2.0672311782836914
          ],
          [
           0.9153897166252136,
           0.9153897166252136
          ],
          [
           0.8171100616455078,
           0.8171100616455078
          ],
          [
           0.7124401926994324,
           0.7124401926994324
          ],
          [
           0.7027541995048523,
           0.7027541995048523
          ],
          [
           0.9124386310577393,
           0.9124386310577393
          ],
          [
           1.447561502456665,
           1.447561502456665
          ],
          [
           1.8385511636734009,
           1.8385511636734009
          ],
          [
           1.0455266237258911,
           1.0455266237258911
          ],
          [
           0.849454402923584,
           0.849454402923584
          ],
          [
           1.0994324684143066,
           1.0994324684143066
          ],
          [
           0.9321576356887817,
           0.9321576356887817
          ],
          [
           1.2096266746520996,
           1.2096266746520996
          ],
          [
           1.3786883354187012,
           1.3786883354187012
          ],
          [
           3.2447125911712646,
           3.2447125911712646
          ],
          [
           1.1373392343521118,
           1.1373392343521118
          ],
          [
           1.1493748426437378,
           1.1493748426437378
          ],
          [
           1.064960241317749,
           1.064960241317749
          ],
          [
           0.9896374940872192,
           0.9896374940872192
          ],
          [
           1.1789942979812622,
           1.1789942979812622
          ],
          [
           1.5487875938415527,
           1.5487875938415527
          ],
          [
           2.8104350566864014,
           2.8104350566864014
          ],
          [
           1.323236346244812,
           1.323236346244812
          ],
          [
           1.0513391494750977,
           1.0513391494750977
          ],
          [
           1.4600838422775269,
           1.4600838422775269
          ],
          [
           1.2301528453826904,
           1.2301528453826904
          ],
          [
           1.2643898725509644,
           1.2643898725509644
          ],
          [
           1.9922335147857666,
           1.9922335147857666
          ],
          [
           3.555598020553589,
           3.555598020553589
          ],
          [
           1.1511846780776978,
           1.1511846780776978
          ],
          [
           1.410009503364563,
           1.410009503364563
          ],
          [
           1.5100840330123901,
           1.5100840330123901
          ],
          [
           0.9260338544845581,
           0.9260338544845581
          ],
          [
           1.1808074712753296,
           1.1808074712753296
          ],
          [
           2.39633846282959,
           2.39633846282959
          ],
          [
           4.599527359008789,
           4.599527359008789
          ],
          [
           1.2292505502700806,
           1.2292505502700806
          ],
          [
           1.209052324295044,
           1.209052324295044
          ],
          [
           1.476433515548706,
           1.476433515548706
          ],
          [
           1.0755665302276611,
           1.0755665302276611
          ],
          [
           1.3378499746322632,
           1.3378499746322632
          ],
          [
           2.1170780658721924,
           2.1170780658721924
          ],
          [
           3.7526676654815674,
           3.7526676654815674
          ],
          [
           1.4519803524017334,
           1.4519803524017334
          ],
          [
           1.9760996103286743,
           1.9760996103286743
          ],
          [
           1.6710246801376343,
           1.6710246801376343
          ],
          [
           2.9014856815338135,
           2.9014856815338135
          ],
          [
           3.7394256591796875,
           3.7394256591796875
          ],
          [
           3.608663320541382,
           3.608663320541382
          ],
          [
           2.552553415298462,
           2.552553415298462
          ],
          [
           1.4999905824661255,
           1.4999905824661255
          ],
          [
           1.5933711528778076,
           1.5933711528778076
          ],
          [
           1.4286792278289795,
           1.4286792278289795
          ],
          [
           1.362805962562561,
           1.362805962562561
          ],
          [
           1.9752252101898193,
           1.9752252101898193
          ]
         ]
        }
       ],
       "layout": {
        "legend": {
         "orientation": "v",
         "traceorder": "normal",
         "x": 1,
         "y": 1
        },
        "template": {
         "data": {
          "bar": [
           {
            "error_x": {
             "color": "#2a3f5f"
            },
            "error_y": {
             "color": "#2a3f5f"
            },
            "marker": {
             "line": {
              "color": "#E5ECF6",
              "width": 0.5
             },
             "pattern": {
              "fillmode": "overlay",
              "size": 10,
              "solidity": 0.2
             }
            },
            "type": "bar"
           }
          ],
          "barpolar": [
           {
            "marker": {
             "line": {
              "color": "#E5ECF6",
              "width": 0.5
             },
             "pattern": {
              "fillmode": "overlay",
              "size": 10,
              "solidity": 0.2
             }
            },
            "type": "barpolar"
           }
          ],
          "carpet": [
           {
            "aaxis": {
             "endlinecolor": "#2a3f5f",
             "gridcolor": "white",
             "linecolor": "white",
             "minorgridcolor": "white",
             "startlinecolor": "#2a3f5f"
            },
            "baxis": {
             "endlinecolor": "#2a3f5f",
             "gridcolor": "white",
             "linecolor": "white",
             "minorgridcolor": "white",
             "startlinecolor": "#2a3f5f"
            },
            "type": "carpet"
           }
          ],
          "choropleth": [
           {
            "colorbar": {
             "outlinewidth": 0,
             "ticks": ""
            },
            "type": "choropleth"
           }
          ],
          "contour": [
           {
            "colorbar": {
             "outlinewidth": 0,
             "ticks": ""
            },
            "colorscale": [
             [
              0,
              "#0d0887"
             ],
             [
              0.1111111111111111,
              "#46039f"
             ],
             [
              0.2222222222222222,
              "#7201a8"
             ],
             [
              0.3333333333333333,
              "#9c179e"
             ],
             [
              0.4444444444444444,
              "#bd3786"
             ],
             [
              0.5555555555555556,
              "#d8576b"
             ],
             [
              0.6666666666666666,
              "#ed7953"
             ],
             [
              0.7777777777777778,
              "#fb9f3a"
             ],
             [
              0.8888888888888888,
              "#fdca26"
             ],
             [
              1,
              "#f0f921"
             ]
            ],
            "type": "contour"
           }
          ],
          "contourcarpet": [
           {
            "colorbar": {
             "outlinewidth": 0,
             "ticks": ""
            },
            "type": "contourcarpet"
           }
          ],
          "heatmap": [
           {
            "colorbar": {
             "outlinewidth": 0,
             "ticks": ""
            },
            "colorscale": [
             [
              0,
              "#0d0887"
             ],
             [
              0.1111111111111111,
              "#46039f"
             ],
             [
              0.2222222222222222,
              "#7201a8"
             ],
             [
              0.3333333333333333,
              "#9c179e"
             ],
             [
              0.4444444444444444,
              "#bd3786"
             ],
             [
              0.5555555555555556,
              "#d8576b"
             ],
             [
              0.6666666666666666,
              "#ed7953"
             ],
             [
              0.7777777777777778,
              "#fb9f3a"
             ],
             [
              0.8888888888888888,
              "#fdca26"
             ],
             [
              1,
              "#f0f921"
             ]
            ],
            "type": "heatmap"
           }
          ],
          "heatmapgl": [
           {
            "colorbar": {
             "outlinewidth": 0,
             "ticks": ""
            },
            "colorscale": [
             [
              0,
              "#0d0887"
             ],
             [
              0.1111111111111111,
              "#46039f"
             ],
             [
              0.2222222222222222,
              "#7201a8"
             ],
             [
              0.3333333333333333,
              "#9c179e"
             ],
             [
              0.4444444444444444,
              "#bd3786"
             ],
             [
              0.5555555555555556,
              "#d8576b"
             ],
             [
              0.6666666666666666,
              "#ed7953"
             ],
             [
              0.7777777777777778,
              "#fb9f3a"
             ],
             [
              0.8888888888888888,
              "#fdca26"
             ],
             [
              1,
              "#f0f921"
             ]
            ],
            "type": "heatmapgl"
           }
          ],
          "histogram": [
           {
            "marker": {
             "pattern": {
              "fillmode": "overlay",
              "size": 10,
              "solidity": 0.2
             }
            },
            "type": "histogram"
           }
          ],
          "histogram2d": [
           {
            "colorbar": {
             "outlinewidth": 0,
             "ticks": ""
            },
            "colorscale": [
             [
              0,
              "#0d0887"
             ],
             [
              0.1111111111111111,
              "#46039f"
             ],
             [
              0.2222222222222222,
              "#7201a8"
             ],
             [
              0.3333333333333333,
              "#9c179e"
             ],
             [
              0.4444444444444444,
              "#bd3786"
             ],
             [
              0.5555555555555556,
              "#d8576b"
             ],
             [
              0.6666666666666666,
              "#ed7953"
             ],
             [
              0.7777777777777778,
              "#fb9f3a"
             ],
             [
              0.8888888888888888,
              "#fdca26"
             ],
             [
              1,
              "#f0f921"
             ]
            ],
            "type": "histogram2d"
           }
          ],
          "histogram2dcontour": [
           {
            "colorbar": {
             "outlinewidth": 0,
             "ticks": ""
            },
            "colorscale": [
             [
              0,
              "#0d0887"
             ],
             [
              0.1111111111111111,
              "#46039f"
             ],
             [
              0.2222222222222222,
              "#7201a8"
             ],
             [
              0.3333333333333333,
              "#9c179e"
             ],
             [
              0.4444444444444444,
              "#bd3786"
             ],
             [
              0.5555555555555556,
              "#d8576b"
             ],
             [
              0.6666666666666666,
              "#ed7953"
             ],
             [
              0.7777777777777778,
              "#fb9f3a"
             ],
             [
              0.8888888888888888,
              "#fdca26"
             ],
             [
              1,
              "#f0f921"
             ]
            ],
            "type": "histogram2dcontour"
           }
          ],
          "mesh3d": [
           {
            "colorbar": {
             "outlinewidth": 0,
             "ticks": ""
            },
            "type": "mesh3d"
           }
          ],
          "parcoords": [
           {
            "line": {
             "colorbar": {
              "outlinewidth": 0,
              "ticks": ""
             }
            },
            "type": "parcoords"
           }
          ],
          "pie": [
           {
            "automargin": true,
            "type": "pie"
           }
          ],
          "scatter": [
           {
            "fillpattern": {
             "fillmode": "overlay",
             "size": 10,
             "solidity": 0.2
            },
            "type": "scatter"
           }
          ],
          "scatter3d": [
           {
            "line": {
             "colorbar": {
              "outlinewidth": 0,
              "ticks": ""
             }
            },
            "marker": {
             "colorbar": {
              "outlinewidth": 0,
              "ticks": ""
             }
            },
            "type": "scatter3d"
           }
          ],
          "scattercarpet": [
           {
            "marker": {
             "colorbar": {
              "outlinewidth": 0,
              "ticks": ""
             }
            },
            "type": "scattercarpet"
           }
          ],
          "scattergeo": [
           {
            "marker": {
             "colorbar": {
              "outlinewidth": 0,
              "ticks": ""
             }
            },
            "type": "scattergeo"
           }
          ],
          "scattergl": [
           {
            "marker": {
             "colorbar": {
              "outlinewidth": 0,
              "ticks": ""
             }
            },
            "type": "scattergl"
           }
          ],
          "scattermapbox": [
           {
            "marker": {
             "colorbar": {
              "outlinewidth": 0,
              "ticks": ""
             }
            },
            "type": "scattermapbox"
           }
          ],
          "scatterpolar": [
           {
            "marker": {
             "colorbar": {
              "outlinewidth": 0,
              "ticks": ""
             }
            },
            "type": "scatterpolar"
           }
          ],
          "scatterpolargl": [
           {
            "marker": {
             "colorbar": {
              "outlinewidth": 0,
              "ticks": ""
             }
            },
            "type": "scatterpolargl"
           }
          ],
          "scatterternary": [
           {
            "marker": {
             "colorbar": {
              "outlinewidth": 0,
              "ticks": ""
             }
            },
            "type": "scatterternary"
           }
          ],
          "surface": [
           {
            "colorbar": {
             "outlinewidth": 0,
             "ticks": ""
            },
            "colorscale": [
             [
              0,
              "#0d0887"
             ],
             [
              0.1111111111111111,
              "#46039f"
             ],
             [
              0.2222222222222222,
              "#7201a8"
             ],
             [
              0.3333333333333333,
              "#9c179e"
             ],
             [
              0.4444444444444444,
              "#bd3786"
             ],
             [
              0.5555555555555556,
              "#d8576b"
             ],
             [
              0.6666666666666666,
              "#ed7953"
             ],
             [
              0.7777777777777778,
              "#fb9f3a"
             ],
             [
              0.8888888888888888,
              "#fdca26"
             ],
             [
              1,
              "#f0f921"
             ]
            ],
            "type": "surface"
           }
          ],
          "table": [
           {
            "cells": {
             "fill": {
              "color": "#EBF0F8"
             },
             "line": {
              "color": "white"
             }
            },
            "header": {
             "fill": {
              "color": "#C8D4E3"
             },
             "line": {
              "color": "white"
             }
            },
            "type": "table"
           }
          ]
         },
         "layout": {
          "annotationdefaults": {
           "arrowcolor": "#2a3f5f",
           "arrowhead": 0,
           "arrowwidth": 1
          },
          "autotypenumbers": "strict",
          "coloraxis": {
           "colorbar": {
            "outlinewidth": 0,
            "ticks": ""
           }
          },
          "colorscale": {
           "diverging": [
            [
             0,
             "#8e0152"
            ],
            [
             0.1,
             "#c51b7d"
            ],
            [
             0.2,
             "#de77ae"
            ],
            [
             0.3,
             "#f1b6da"
            ],
            [
             0.4,
             "#fde0ef"
            ],
            [
             0.5,
             "#f7f7f7"
            ],
            [
             0.6,
             "#e6f5d0"
            ],
            [
             0.7,
             "#b8e186"
            ],
            [
             0.8,
             "#7fbc41"
            ],
            [
             0.9,
             "#4d9221"
            ],
            [
             1,
             "#276419"
            ]
           ],
           "sequential": [
            [
             0,
             "#0d0887"
            ],
            [
             0.1111111111111111,
             "#46039f"
            ],
            [
             0.2222222222222222,
             "#7201a8"
            ],
            [
             0.3333333333333333,
             "#9c179e"
            ],
            [
             0.4444444444444444,
             "#bd3786"
            ],
            [
             0.5555555555555556,
             "#d8576b"
            ],
            [
             0.6666666666666666,
             "#ed7953"
            ],
            [
             0.7777777777777778,
             "#fb9f3a"
            ],
            [
             0.8888888888888888,
             "#fdca26"
            ],
            [
             1,
             "#f0f921"
            ]
           ],
           "sequentialminus": [
            [
             0,
             "#0d0887"
            ],
            [
             0.1111111111111111,
             "#46039f"
            ],
            [
             0.2222222222222222,
             "#7201a8"
            ],
            [
             0.3333333333333333,
             "#9c179e"
            ],
            [
             0.4444444444444444,
             "#bd3786"
            ],
            [
             0.5555555555555556,
             "#d8576b"
            ],
            [
             0.6666666666666666,
             "#ed7953"
            ],
            [
             0.7777777777777778,
             "#fb9f3a"
            ],
            [
             0.8888888888888888,
             "#fdca26"
            ],
            [
             1,
             "#f0f921"
            ]
           ]
          },
          "colorway": [
           "#636efa",
           "#EF553B",
           "#00cc96",
           "#ab63fa",
           "#FFA15A",
           "#19d3f3",
           "#FF6692",
           "#B6E880",
           "#FF97FF",
           "#FECB52"
          ],
          "font": {
           "color": "#2a3f5f"
          },
          "geo": {
           "bgcolor": "white",
           "lakecolor": "white",
           "landcolor": "#E5ECF6",
           "showlakes": true,
           "showland": true,
           "subunitcolor": "white"
          },
          "hoverlabel": {
           "align": "left"
          },
          "hovermode": "closest",
          "mapbox": {
           "style": "light"
          },
          "paper_bgcolor": "white",
          "plot_bgcolor": "#E5ECF6",
          "polar": {
           "angularaxis": {
            "gridcolor": "white",
            "linecolor": "white",
            "ticks": ""
           },
           "bgcolor": "#E5ECF6",
           "radialaxis": {
            "gridcolor": "white",
            "linecolor": "white",
            "ticks": ""
           }
          },
          "scene": {
           "xaxis": {
            "backgroundcolor": "#E5ECF6",
            "gridcolor": "white",
            "gridwidth": 2,
            "linecolor": "white",
            "showbackground": true,
            "ticks": "",
            "zerolinecolor": "white"
           },
           "yaxis": {
            "backgroundcolor": "#E5ECF6",
            "gridcolor": "white",
            "gridwidth": 2,
            "linecolor": "white",
            "showbackground": true,
            "ticks": "",
            "zerolinecolor": "white"
           },
           "zaxis": {
            "backgroundcolor": "#E5ECF6",
            "gridcolor": "white",
            "gridwidth": 2,
            "linecolor": "white",
            "showbackground": true,
            "ticks": "",
            "zerolinecolor": "white"
           }
          },
          "shapedefaults": {
           "line": {
            "color": "#2a3f5f"
           }
          },
          "ternary": {
           "aaxis": {
            "gridcolor": "white",
            "linecolor": "white",
            "ticks": ""
           },
           "baxis": {
            "gridcolor": "white",
            "linecolor": "white",
            "ticks": ""
           },
           "bgcolor": "#E5ECF6",
           "caxis": {
            "gridcolor": "white",
            "linecolor": "white",
            "ticks": ""
           }
          },
          "title": {
           "x": 0.05
          },
          "xaxis": {
           "automargin": true,
           "gridcolor": "white",
           "linecolor": "white",
           "ticks": "",
           "title": {
            "standoff": 15
           },
           "zerolinecolor": "white",
           "zerolinewidth": 2
          },
          "yaxis": {
           "automargin": true,
           "gridcolor": "white",
           "linecolor": "white",
           "ticks": "",
           "title": {
            "standoff": 15
           },
           "zerolinecolor": "white",
           "zerolinewidth": 2
          }
         }
        },
        "title": {
         "text": "Validation Loss"
        },
        "xaxis": {
         "title": {
          "text": "Days"
         }
        },
        "yaxis": {
         "title": {
          "text": "MSE"
         }
        }
       }
      },
      "text/html": [
       "<div>                            <div id=\"071f4523-30ea-4077-9099-9fb3afc846d0\" class=\"plotly-graph-div\" style=\"height:525px; width:100%;\"></div>            <script type=\"text/javascript\">                require([\"plotly\"], function(Plotly) {                    window.PLOTLYENV=window.PLOTLYENV || {};                                    if (document.getElementById(\"071f4523-30ea-4077-9099-9fb3afc846d0\")) {                    Plotly.newPlot(                        \"071f4523-30ea-4077-9099-9fb3afc846d0\",                        [{\"mode\":\"lines\",\"name\":\"val_loss_with_pretraining\",\"x\":[1,2,3,4,5,6,7,8,9,10,11,12,13,14,15,16,17,18,19,20,21,22,23,24,25,26,27,28,29,30,31,32,33,34,35,36,37,38,39,40,41,42,43,44,45,46,47,48,49,50,51,52,53,54,55,56,57,58,59,60,61,62,63,64,65,66,67,68,69,70,71,72,73,74,75,76,77,78,79,80,81,82,83,84,85,86,87,88,89,90,91,92,93,94,95,96,97,98,99,100,101,102,103,104,105,106,107,108,109,110,111,112,113,114,115,116,117,118,119,120,121,122,123,124,125,126,127,128,129,130,131,132,133,134,135,136,137,138,139,140,141,142,143,144,145,146,147,148,149,150,151,152,153,154,155,156,157,158,159,160,161,162,163,164,165,166,167,168,169,170,171,172,173,174,175,176,177,178,179,180,181,182,183,184,185,186,187,188,189,190,191,192,193,194,195,196,197,198,199,200,201,202,203,204,205,206,207,208,209,210,211,212,213,214,215,216,217,218,219,220,221,222,223,224,225,226,227,228,229,230,231,232,233,234,235,236,237,238,239,240,241,242,243,244,245,246,247,248,249,250,251,252,253,254,255,256,257,258,259,260,261,262,263,264,265,266,267,268,269,270,271,272,273,274,275,276,277,278,279,280,281,282,283,284,285,286,287,288,289,290,291,292,293,294,295,296,297,298,299,300,301,302,303,304,305,306,307,308,309,310,311,312,313,314,315,316,317,318,319,320,321,322,323,324,325,326,327,328,329,330,331,332,333,334,335,336,337,338,339,340,341,342],\"y\":[[1.8321099281311035,1.8321099281311035],[1.304588794708252,1.304588794708252],[1.2797602415084839,1.2797602415084839],[1.3393349647521973,1.3393349647521973],[1.1763032674789429,1.1763032674789429],[1.15060555934906,1.15060555934906],[1.6309655904769897,1.6309655904769897],[1.859804391860962,1.859804391860962],[1.350881814956665,1.350881814956665],[1.2883440256118774,1.2883440256118774],[1.3113495111465454,1.3113495111465454],[1.3853710889816284,1.3853710889816284],[1.3314929008483887,1.3314929008483887],[1.5640177726745605,1.5640177726745605],[2.237881660461426,2.237881660461426],[1.357262134552002,1.357262134552002],[1.2731077671051025,1.2731077671051025],[1.2636250257492065,1.2636250257492065],[1.4915651082992554,1.4915651082992554],[1.304419755935669,1.304419755935669],[1.5455949306488037,1.5455949306488037],[1.780385136604309,1.780385136604309],[1.2851883172988892,1.2851883172988892],[1.449927568435669,1.449927568435669],[1.5027451515197754,1.5027451515197754],[1.3183143138885498,1.3183143138885498],[1.4039379358291626,1.4039379358291626],[1.576454758644104,1.576454758644104],[2.0288827419281006,2.0288827419281006],[1.4171137809753418,1.4171137809753418],[1.2794855833053589,1.2794855833053589],[1.0119550228118896,1.0119550228118896],[1.1534805297851562,1.1534805297851562],[1.0433659553527832,1.0433659553527832],[1.1245465278625488,1.1245465278625488],[2.1577446460723877,2.1577446460723877],[1.104453206062317,1.104453206062317],[0.9510484337806702,0.9510484337806702],[1.082554578781128,1.082554578781128],[1.2143903970718384,1.2143903970718384],[0.9022076725959778,0.9022076725959778],[1.6382050514221191,1.6382050514221191],[1.7165398597717285,1.7165398597717285],[0.9411276578903198,0.9411276578903198],[1.021899700164795,1.021899700164795],[1.002387285232544,1.002387285232544],[0.9112652540206909,0.9112652540206909],[0.8729394674301147,0.8729394674301147],[1.322027564048767,1.322027564048767],[1.9040406942367554,1.9040406942367554],[1.1013871431350708,1.1013871431350708],[0.9797136783599854,0.9797136783599854],[1.1243195533752441,1.1243195533752441],[1.0958532094955444,1.0958532094955444],[0.8365662097930908,0.8365662097930908],[1.143479347229004,1.143479347229004],[1.801708698272705,1.801708698272705],[1.2841706275939941,1.2841706275939941],[1.24909245967865,1.24909245967865],[1.0242996215820312,1.0242996215820312],[1.1860299110412598,1.1860299110412598],[0.8946364521980286,0.8946364521980286],[0.9324190616607666,0.9324190616607666],[1.0387966632843018,1.0387966632843018],[1.110762596130371,1.110762596130371],[0.8420898914337158,0.8420898914337158],[0.9143884181976318,0.9143884181976318],[0.8457992076873779,0.8457992076873779],[0.8176443576812744,0.8176443576812744],[1.043400526046753,1.043400526046753],[0.7902072072029114,0.7902072072029114],[1.479887843132019,1.479887843132019],[0.82126784324646,0.82126784324646],[0.7923533916473389,0.7923533916473389],[0.8808125853538513,0.8808125853538513],[0.748643696308136,0.748643696308136],[1.023987889289856,1.023987889289856],[1.711918592453003,1.711918592453003],[0.8656895160675049,0.8656895160675049],[0.9342441558837891,0.9342441558837891],[1.0046104192733765,1.0046104192733765],[0.8346338868141174,0.8346338868141174],[0.894016683101654,0.894016683101654],[0.8473254442214966,0.8473254442214966],[1.1347302198410034,1.1347302198410034],[0.9247846603393555,0.9247846603393555],[0.9609478712081909,0.9609478712081909],[0.7590022087097168,0.7590022087097168],[0.9742667078971863,0.9742667078971863],[0.6458419561386108,0.6458419561386108],[0.8489468097686768,0.8489468097686768],[1.0577385425567627,1.0577385425567627],[0.903721272945404,0.903721272945404],[0.7954896688461304,0.7954896688461304],[0.8072099685668945,0.8072099685668945],[0.8518173694610596,0.8518173694610596],[0.6172792911529541,0.6172792911529541],[0.9747689366340637,0.9747689366340637],[1.5913993120193481,1.5913993120193481],[0.7771652936935425,0.7771652936935425],[0.7165368795394897,0.7165368795394897],[0.721855640411377,0.721855640411377],[0.7752590179443359,0.7752590179443359],[0.6645545363426208,0.6645545363426208],[0.98682701587677,0.98682701587677],[1.068153977394104,1.068153977394104],[0.7542311549186707,0.7542311549186707],[0.746740460395813,0.746740460395813],[0.7941251993179321,0.7941251993179321],[0.8197670578956604,0.8197670578956604],[0.840600311756134,0.840600311756134],[1.2139147520065308,1.2139147520065308],[1.0772178173065186,1.0772178173065186],[0.7556081414222717,0.7556081414222717],[0.7428566217422485,0.7428566217422485],[0.76596999168396,0.76596999168396],[0.8050931692123413,0.8050931692123413],[0.6386289000511169,0.6386289000511169],[0.7111513018608093,0.7111513018608093],[0.8920416235923767,0.8920416235923767],[1.0709702968597412,1.0709702968597412],[0.8123661279678345,0.8123661279678345],[0.8808715343475342,0.8808715343475342],[0.822653591632843,0.822653591632843],[0.5684459805488586,0.5684459805488586],[0.7032100558280945,0.7032100558280945],[1.1497936248779297,1.1497936248779297],[0.8539392948150635,0.8539392948150635],[0.7794504761695862,0.7794504761695862],[0.8046283721923828,0.8046283721923828],[0.681509256362915,0.681509256362915],[0.6110643148422241,0.6110643148422241],[0.7381186485290527,0.7381186485290527],[0.8866679072380066,0.8866679072380066],[0.7260550260543823,0.7260550260543823],[0.7882428169250488,0.7882428169250488],[0.8031056523323059,0.8031056523323059],[0.7264415621757507,0.7264415621757507],[0.6518516540527344,0.6518516540527344],[0.7303556203842163,0.7303556203842163],[0.7470734119415283,0.7470734119415283],[0.7623081803321838,0.7623081803321838],[0.8299075961112976,0.8299075961112976],[0.7925541996955872,0.7925541996955872],[0.8489487171173096,0.8489487171173096],[0.6646084189414978,0.6646084189414978],[0.7581546306610107,0.7581546306610107],[0.974127471446991,0.974127471446991],[0.676682710647583,0.676682710647583],[0.6189591884613037,0.6189591884613037],[0.7089593410491943,0.7089593410491943],[0.7961346507072449,0.7961346507072449],[0.6473323106765747,0.6473323106765747],[0.7085663080215454,0.7085663080215454],[0.8776156902313232,0.8776156902313232],[0.7579026222229004,0.7579026222229004],[0.6785082817077637,0.6785082817077637],[0.6478288173675537,0.6478288173675537],[0.775252103805542,0.775252103805542],[0.6543281674385071,0.6543281674385071],[0.6923171877861023,0.6923171877861023],[0.7010228633880615,0.7010228633880615],[0.6990020275115967,0.6990020275115967],[0.6851276755332947,0.6851276755332947],[0.721085786819458,0.721085786819458],[0.7498519420623779,0.7498519420623779],[0.6024655699729919,0.6024655699729919],[0.6368875503540039,0.6368875503540039],[0.6213937401771545,0.6213937401771545],[0.6896427273750305,0.6896427273750305],[0.7496254444122314,0.7496254444122314],[0.6542250514030457,0.6542250514030457],[0.6241172552108765,0.6241172552108765],[0.5505010485649109,0.5505010485649109],[0.5655738711357117,0.5655738711357117],[0.5831614136695862,0.5831614136695862],[0.628561794757843,0.628561794757843],[0.5680426359176636,0.5680426359176636],[0.5647720098495483,0.5647720098495483],[0.6386592388153076,0.6386592388153076],[0.6289185881614685,0.6289185881614685],[0.603050708770752,0.603050708770752],[0.7053022980690002,0.7053022980690002],[0.6582624316215515,0.6582624316215515],[0.5594103336334229,0.5594103336334229],[0.6914353966712952,0.6914353966712952],[0.5525200366973877,0.5525200366973877],[0.48484694957733154,0.48484694957733154],[0.4471210241317749,0.4471210241317749],[0.6949436664581299,0.6949436664581299],[0.6419675350189209,0.6419675350189209],[0.5472572445869446,0.5472572445869446],[0.6178147196769714,0.6178147196769714],[0.706392228603363,0.706392228603363],[0.6182312369346619,0.6182312369346619],[0.5880451202392578,0.5880451202392578],[0.9575831890106201,0.9575831890106201],[0.6695982813835144,0.6695982813835144],[0.6285407543182373,0.6285407543182373],[0.6028873324394226,0.6028873324394226],[0.5512438416481018,0.5512438416481018],[0.5805118083953857,0.5805118083953857],[0.7564677000045776,0.7564677000045776],[1.2393372058868408,1.2393372058868408],[0.6006314754486084,0.6006314754486084],[0.6344574689865112,0.6344574689865112],[0.5688623785972595,0.5688623785972595],[0.5240480899810791,0.5240480899810791],[0.5074519515037537,0.5074519515037537],[0.5583076477050781,0.5583076477050781],[0.7265226244926453,0.7265226244926453],[0.5449545979499817,0.5449545979499817],[0.5255594849586487,0.5255594849586487],[0.621320366859436,0.621320366859436],[0.7230346202850342,0.7230346202850342],[0.5960249900817871,0.5960249900817871],[0.7268368005752563,0.7268368005752563],[1.01884126663208,1.01884126663208],[0.6527479290962219,0.6527479290962219],[0.5372039675712585,0.5372039675712585],[0.616005003452301,0.616005003452301],[0.6703565716743469,0.6703565716743469],[0.6424570679664612,0.6424570679664612],[0.8552114963531494,0.8552114963531494],[0.9663002490997314,0.9663002490997314],[0.5800001621246338,0.5800001621246338],[0.5978671908378601,0.5978671908378601],[0.7369562983512878,0.7369562983512878],[0.5943329334259033,0.5943329334259033],[0.5579108595848083,0.5579108595848083],[0.7882180213928223,0.7882180213928223],[0.8909047245979309,0.8909047245979309],[0.6256717443466187,0.6256717443466187],[0.5923205018043518,0.5923205018043518],[0.6968650817871094,0.6968650817871094],[0.7030318975448608,0.7030318975448608],[0.5733292102813721,0.5733292102813721],[0.8056294918060303,0.8056294918060303],[1.1393907070159912,1.1393907070159912],[0.6354943513870239,0.6354943513870239],[0.6433026194572449,0.6433026194572449],[0.6707383990287781,0.6707383990287781],[0.612348198890686,0.612348198890686],[0.5572015047073364,0.5572015047073364],[0.8765029907226562,0.8765029907226562],[1.281997561454773,1.281997561454773],[0.7074960470199585,0.7074960470199585],[0.7250149846076965,0.7250149846076965],[0.6839706897735596,0.6839706897735596],[0.6157190799713135,0.6157190799713135],[0.5594074726104736,0.5594074726104736],[1.213255524635315,1.213255524635315],[1.0011022090911865,1.0011022090911865],[0.6864513754844666,0.6864513754844666],[0.719304084777832,0.719304084777832],[0.7063490748405457,0.7063490748405457],[0.7017347812652588,0.7017347812652588],[0.7301862835884094,0.7301862835884094],[0.9632540941238403,0.9632540941238403],[1.6515165567398071,1.6515165567398071],[0.8792288303375244,0.8792288303375244],[0.7386944890022278,0.7386944890022278],[0.7187539935112,0.7187539935112],[0.788499653339386,0.788499653339386],[1.0717496871948242,1.0717496871948242],[1.5569126605987549,1.5569126605987549],[1.4462405443191528,1.4462405443191528],[0.7141170501708984,0.7141170501708984],[0.7385304570198059,0.7385304570198059],[0.7435591816902161,0.7435591816902161],[0.6963474750518799,0.6963474750518799],[1.1929055452346802,1.1929055452346802],[1.6622233390808105,1.6622233390808105],[2.629457473754883,2.629457473754883],[0.9344255924224854,0.9344255924224854],[0.8991301655769348,0.8991301655769348],[0.8351907730102539,0.8351907730102539],[0.885611891746521,0.885611891746521],[0.6256592273712158,0.6256592273712158],[1.2217333316802979,1.2217333316802979],[1.6037821769714355,1.6037821769714355],[0.8697571158409119,0.8697571158409119],[0.6716197729110718,0.6716197729110718],[0.9741787314414978,0.9741787314414978],[0.8776342272758484,0.8776342272758484],[0.7924692630767822,0.7924692630767822],[1.7588951587677002,1.7588951587677002],[2.0672311782836914,2.0672311782836914],[0.9153897166252136,0.9153897166252136],[0.8171100616455078,0.8171100616455078],[0.7124401926994324,0.7124401926994324],[0.7027541995048523,0.7027541995048523],[0.9124386310577393,0.9124386310577393],[1.447561502456665,1.447561502456665],[1.8385511636734009,1.8385511636734009],[1.0455266237258911,1.0455266237258911],[0.849454402923584,0.849454402923584],[1.0994324684143066,1.0994324684143066],[0.9321576356887817,0.9321576356887817],[1.2096266746520996,1.2096266746520996],[1.3786883354187012,1.3786883354187012],[3.2447125911712646,3.2447125911712646],[1.1373392343521118,1.1373392343521118],[1.1493748426437378,1.1493748426437378],[1.064960241317749,1.064960241317749],[0.9896374940872192,0.9896374940872192],[1.1789942979812622,1.1789942979812622],[1.5487875938415527,1.5487875938415527],[2.8104350566864014,2.8104350566864014],[1.323236346244812,1.323236346244812],[1.0513391494750977,1.0513391494750977],[1.4600838422775269,1.4600838422775269],[1.2301528453826904,1.2301528453826904],[1.2643898725509644,1.2643898725509644],[1.9922335147857666,1.9922335147857666],[3.555598020553589,3.555598020553589],[1.1511846780776978,1.1511846780776978],[1.410009503364563,1.410009503364563],[1.5100840330123901,1.5100840330123901],[0.9260338544845581,0.9260338544845581],[1.1808074712753296,1.1808074712753296],[2.39633846282959,2.39633846282959],[4.599527359008789,4.599527359008789],[1.2292505502700806,1.2292505502700806],[1.209052324295044,1.209052324295044],[1.476433515548706,1.476433515548706],[1.0755665302276611,1.0755665302276611],[1.3378499746322632,1.3378499746322632],[2.1170780658721924,2.1170780658721924],[3.7526676654815674,3.7526676654815674],[1.4519803524017334,1.4519803524017334],[1.9760996103286743,1.9760996103286743],[1.6710246801376343,1.6710246801376343],[2.9014856815338135,2.9014856815338135],[3.7394256591796875,3.7394256591796875],[3.608663320541382,3.608663320541382],[2.552553415298462,2.552553415298462],[1.4999905824661255,1.4999905824661255],[1.5933711528778076,1.5933711528778076],[1.4286792278289795,1.4286792278289795],[1.362805962562561,1.362805962562561],[1.9752252101898193,1.9752252101898193]],\"type\":\"scatter\"}],                        {\"legend\":{\"orientation\":\"v\",\"traceorder\":\"normal\",\"x\":1,\"y\":1},\"title\":{\"text\":\"Validation Loss\"},\"xaxis\":{\"title\":{\"text\":\"Days\"}},\"yaxis\":{\"title\":{\"text\":\"MSE\"}},\"template\":{\"data\":{\"histogram2dcontour\":[{\"type\":\"histogram2dcontour\",\"colorbar\":{\"outlinewidth\":0,\"ticks\":\"\"},\"colorscale\":[[0.0,\"#0d0887\"],[0.1111111111111111,\"#46039f\"],[0.2222222222222222,\"#7201a8\"],[0.3333333333333333,\"#9c179e\"],[0.4444444444444444,\"#bd3786\"],[0.5555555555555556,\"#d8576b\"],[0.6666666666666666,\"#ed7953\"],[0.7777777777777778,\"#fb9f3a\"],[0.8888888888888888,\"#fdca26\"],[1.0,\"#f0f921\"]]}],\"choropleth\":[{\"type\":\"choropleth\",\"colorbar\":{\"outlinewidth\":0,\"ticks\":\"\"}}],\"histogram2d\":[{\"type\":\"histogram2d\",\"colorbar\":{\"outlinewidth\":0,\"ticks\":\"\"},\"colorscale\":[[0.0,\"#0d0887\"],[0.1111111111111111,\"#46039f\"],[0.2222222222222222,\"#7201a8\"],[0.3333333333333333,\"#9c179e\"],[0.4444444444444444,\"#bd3786\"],[0.5555555555555556,\"#d8576b\"],[0.6666666666666666,\"#ed7953\"],[0.7777777777777778,\"#fb9f3a\"],[0.8888888888888888,\"#fdca26\"],[1.0,\"#f0f921\"]]}],\"heatmap\":[{\"type\":\"heatmap\",\"colorbar\":{\"outlinewidth\":0,\"ticks\":\"\"},\"colorscale\":[[0.0,\"#0d0887\"],[0.1111111111111111,\"#46039f\"],[0.2222222222222222,\"#7201a8\"],[0.3333333333333333,\"#9c179e\"],[0.4444444444444444,\"#bd3786\"],[0.5555555555555556,\"#d8576b\"],[0.6666666666666666,\"#ed7953\"],[0.7777777777777778,\"#fb9f3a\"],[0.8888888888888888,\"#fdca26\"],[1.0,\"#f0f921\"]]}],\"heatmapgl\":[{\"type\":\"heatmapgl\",\"colorbar\":{\"outlinewidth\":0,\"ticks\":\"\"},\"colorscale\":[[0.0,\"#0d0887\"],[0.1111111111111111,\"#46039f\"],[0.2222222222222222,\"#7201a8\"],[0.3333333333333333,\"#9c179e\"],[0.4444444444444444,\"#bd3786\"],[0.5555555555555556,\"#d8576b\"],[0.6666666666666666,\"#ed7953\"],[0.7777777777777778,\"#fb9f3a\"],[0.8888888888888888,\"#fdca26\"],[1.0,\"#f0f921\"]]}],\"contourcarpet\":[{\"type\":\"contourcarpet\",\"colorbar\":{\"outlinewidth\":0,\"ticks\":\"\"}}],\"contour\":[{\"type\":\"contour\",\"colorbar\":{\"outlinewidth\":0,\"ticks\":\"\"},\"colorscale\":[[0.0,\"#0d0887\"],[0.1111111111111111,\"#46039f\"],[0.2222222222222222,\"#7201a8\"],[0.3333333333333333,\"#9c179e\"],[0.4444444444444444,\"#bd3786\"],[0.5555555555555556,\"#d8576b\"],[0.6666666666666666,\"#ed7953\"],[0.7777777777777778,\"#fb9f3a\"],[0.8888888888888888,\"#fdca26\"],[1.0,\"#f0f921\"]]}],\"surface\":[{\"type\":\"surface\",\"colorbar\":{\"outlinewidth\":0,\"ticks\":\"\"},\"colorscale\":[[0.0,\"#0d0887\"],[0.1111111111111111,\"#46039f\"],[0.2222222222222222,\"#7201a8\"],[0.3333333333333333,\"#9c179e\"],[0.4444444444444444,\"#bd3786\"],[0.5555555555555556,\"#d8576b\"],[0.6666666666666666,\"#ed7953\"],[0.7777777777777778,\"#fb9f3a\"],[0.8888888888888888,\"#fdca26\"],[1.0,\"#f0f921\"]]}],\"mesh3d\":[{\"type\":\"mesh3d\",\"colorbar\":{\"outlinewidth\":0,\"ticks\":\"\"}}],\"scatter\":[{\"fillpattern\":{\"fillmode\":\"overlay\",\"size\":10,\"solidity\":0.2},\"type\":\"scatter\"}],\"parcoords\":[{\"type\":\"parcoords\",\"line\":{\"colorbar\":{\"outlinewidth\":0,\"ticks\":\"\"}}}],\"scatterpolargl\":[{\"type\":\"scatterpolargl\",\"marker\":{\"colorbar\":{\"outlinewidth\":0,\"ticks\":\"\"}}}],\"bar\":[{\"error_x\":{\"color\":\"#2a3f5f\"},\"error_y\":{\"color\":\"#2a3f5f\"},\"marker\":{\"line\":{\"color\":\"#E5ECF6\",\"width\":0.5},\"pattern\":{\"fillmode\":\"overlay\",\"size\":10,\"solidity\":0.2}},\"type\":\"bar\"}],\"scattergeo\":[{\"type\":\"scattergeo\",\"marker\":{\"colorbar\":{\"outlinewidth\":0,\"ticks\":\"\"}}}],\"scatterpolar\":[{\"type\":\"scatterpolar\",\"marker\":{\"colorbar\":{\"outlinewidth\":0,\"ticks\":\"\"}}}],\"histogram\":[{\"marker\":{\"pattern\":{\"fillmode\":\"overlay\",\"size\":10,\"solidity\":0.2}},\"type\":\"histogram\"}],\"scattergl\":[{\"type\":\"scattergl\",\"marker\":{\"colorbar\":{\"outlinewidth\":0,\"ticks\":\"\"}}}],\"scatter3d\":[{\"type\":\"scatter3d\",\"line\":{\"colorbar\":{\"outlinewidth\":0,\"ticks\":\"\"}},\"marker\":{\"colorbar\":{\"outlinewidth\":0,\"ticks\":\"\"}}}],\"scattermapbox\":[{\"type\":\"scattermapbox\",\"marker\":{\"colorbar\":{\"outlinewidth\":0,\"ticks\":\"\"}}}],\"scatterternary\":[{\"type\":\"scatterternary\",\"marker\":{\"colorbar\":{\"outlinewidth\":0,\"ticks\":\"\"}}}],\"scattercarpet\":[{\"type\":\"scattercarpet\",\"marker\":{\"colorbar\":{\"outlinewidth\":0,\"ticks\":\"\"}}}],\"carpet\":[{\"aaxis\":{\"endlinecolor\":\"#2a3f5f\",\"gridcolor\":\"white\",\"linecolor\":\"white\",\"minorgridcolor\":\"white\",\"startlinecolor\":\"#2a3f5f\"},\"baxis\":{\"endlinecolor\":\"#2a3f5f\",\"gridcolor\":\"white\",\"linecolor\":\"white\",\"minorgridcolor\":\"white\",\"startlinecolor\":\"#2a3f5f\"},\"type\":\"carpet\"}],\"table\":[{\"cells\":{\"fill\":{\"color\":\"#EBF0F8\"},\"line\":{\"color\":\"white\"}},\"header\":{\"fill\":{\"color\":\"#C8D4E3\"},\"line\":{\"color\":\"white\"}},\"type\":\"table\"}],\"barpolar\":[{\"marker\":{\"line\":{\"color\":\"#E5ECF6\",\"width\":0.5},\"pattern\":{\"fillmode\":\"overlay\",\"size\":10,\"solidity\":0.2}},\"type\":\"barpolar\"}],\"pie\":[{\"automargin\":true,\"type\":\"pie\"}]},\"layout\":{\"autotypenumbers\":\"strict\",\"colorway\":[\"#636efa\",\"#EF553B\",\"#00cc96\",\"#ab63fa\",\"#FFA15A\",\"#19d3f3\",\"#FF6692\",\"#B6E880\",\"#FF97FF\",\"#FECB52\"],\"font\":{\"color\":\"#2a3f5f\"},\"hovermode\":\"closest\",\"hoverlabel\":{\"align\":\"left\"},\"paper_bgcolor\":\"white\",\"plot_bgcolor\":\"#E5ECF6\",\"polar\":{\"bgcolor\":\"#E5ECF6\",\"angularaxis\":{\"gridcolor\":\"white\",\"linecolor\":\"white\",\"ticks\":\"\"},\"radialaxis\":{\"gridcolor\":\"white\",\"linecolor\":\"white\",\"ticks\":\"\"}},\"ternary\":{\"bgcolor\":\"#E5ECF6\",\"aaxis\":{\"gridcolor\":\"white\",\"linecolor\":\"white\",\"ticks\":\"\"},\"baxis\":{\"gridcolor\":\"white\",\"linecolor\":\"white\",\"ticks\":\"\"},\"caxis\":{\"gridcolor\":\"white\",\"linecolor\":\"white\",\"ticks\":\"\"}},\"coloraxis\":{\"colorbar\":{\"outlinewidth\":0,\"ticks\":\"\"}},\"colorscale\":{\"sequential\":[[0.0,\"#0d0887\"],[0.1111111111111111,\"#46039f\"],[0.2222222222222222,\"#7201a8\"],[0.3333333333333333,\"#9c179e\"],[0.4444444444444444,\"#bd3786\"],[0.5555555555555556,\"#d8576b\"],[0.6666666666666666,\"#ed7953\"],[0.7777777777777778,\"#fb9f3a\"],[0.8888888888888888,\"#fdca26\"],[1.0,\"#f0f921\"]],\"sequentialminus\":[[0.0,\"#0d0887\"],[0.1111111111111111,\"#46039f\"],[0.2222222222222222,\"#7201a8\"],[0.3333333333333333,\"#9c179e\"],[0.4444444444444444,\"#bd3786\"],[0.5555555555555556,\"#d8576b\"],[0.6666666666666666,\"#ed7953\"],[0.7777777777777778,\"#fb9f3a\"],[0.8888888888888888,\"#fdca26\"],[1.0,\"#f0f921\"]],\"diverging\":[[0,\"#8e0152\"],[0.1,\"#c51b7d\"],[0.2,\"#de77ae\"],[0.3,\"#f1b6da\"],[0.4,\"#fde0ef\"],[0.5,\"#f7f7f7\"],[0.6,\"#e6f5d0\"],[0.7,\"#b8e186\"],[0.8,\"#7fbc41\"],[0.9,\"#4d9221\"],[1,\"#276419\"]]},\"xaxis\":{\"gridcolor\":\"white\",\"linecolor\":\"white\",\"ticks\":\"\",\"title\":{\"standoff\":15},\"zerolinecolor\":\"white\",\"automargin\":true,\"zerolinewidth\":2},\"yaxis\":{\"gridcolor\":\"white\",\"linecolor\":\"white\",\"ticks\":\"\",\"title\":{\"standoff\":15},\"zerolinecolor\":\"white\",\"automargin\":true,\"zerolinewidth\":2},\"scene\":{\"xaxis\":{\"backgroundcolor\":\"#E5ECF6\",\"gridcolor\":\"white\",\"linecolor\":\"white\",\"showbackground\":true,\"ticks\":\"\",\"zerolinecolor\":\"white\",\"gridwidth\":2},\"yaxis\":{\"backgroundcolor\":\"#E5ECF6\",\"gridcolor\":\"white\",\"linecolor\":\"white\",\"showbackground\":true,\"ticks\":\"\",\"zerolinecolor\":\"white\",\"gridwidth\":2},\"zaxis\":{\"backgroundcolor\":\"#E5ECF6\",\"gridcolor\":\"white\",\"linecolor\":\"white\",\"showbackground\":true,\"ticks\":\"\",\"zerolinecolor\":\"white\",\"gridwidth\":2}},\"shapedefaults\":{\"line\":{\"color\":\"#2a3f5f\"}},\"annotationdefaults\":{\"arrowcolor\":\"#2a3f5f\",\"arrowhead\":0,\"arrowwidth\":1},\"geo\":{\"bgcolor\":\"white\",\"landcolor\":\"#E5ECF6\",\"subunitcolor\":\"white\",\"showland\":true,\"showlakes\":true,\"lakecolor\":\"white\"},\"title\":{\"x\":0.05},\"mapbox\":{\"style\":\"light\"}}}},                        {\"responsive\": true}                    ).then(function(){\n",
       "                            \n",
       "var gd = document.getElementById('071f4523-30ea-4077-9099-9fb3afc846d0');\n",
       "var x = new MutationObserver(function (mutations, observer) {{\n",
       "        var display = window.getComputedStyle(gd).display;\n",
       "        if (!display || display === 'none') {{\n",
       "            console.log([gd, 'removed!']);\n",
       "            Plotly.purge(gd);\n",
       "            observer.disconnect();\n",
       "        }}\n",
       "}});\n",
       "\n",
       "// Listen for the removal of the full notebook cells\n",
       "var notebookContainer = gd.closest('#notebook-container');\n",
       "if (notebookContainer) {{\n",
       "    x.observe(notebookContainer, {childList: true});\n",
       "}}\n",
       "\n",
       "// Listen for the clearing of the current output cell\n",
       "var outputEl = gd.closest('.output');\n",
       "if (outputEl) {{\n",
       "    x.observe(outputEl, {childList: true});\n",
       "}}\n",
       "\n",
       "                        })                };                });            </script>        </div>"
      ]
     },
     "metadata": {},
     "output_type": "display_data"
    }
   ],
   "source": [
    "# Compare the pretrained and non-pretrained results\n",
    "#\n",
    "\n",
    "def get_final_metrics(history):\n",
    "    return {key: value['loss'][-1][0] for key, value in history.items()}\n",
    "\n",
    "def get_final_val_metrics(evaluations):\n",
    "    return evaluations.copy()\n",
    "\n",
    "def create_trace(x_data, y_data, name):\n",
    "    return go.Scatter(x=list(x_data.keys()), y=list(y_data.values()), mode='lines', name=name)\n",
    "\n",
    "def create_layout(title, x_title, y_title):\n",
    "    return go.Layout(\n",
    "        title=title,\n",
    "        xaxis=dict(title=x_title),\n",
    "        yaxis=dict(title=y_title),\n",
    "        legend=dict(x=1, y=1, traceorder='normal', orientation='v')  # Adjusted legend position\n",
    "    )\n",
    "\n",
    "def create_and_show_figure(traces, layout):\n",
    "    fig = go.Figure(data=traces, layout=layout)\n",
    "    fig.show()\n",
    "\n",
    "# Get final metrics\n",
    "losses = get_final_metrics(train_histories)\n",
    "val_losses = get_final_val_metrics(evaluations)\n",
    "\n",
    "# Create figures and traces\n",
    "#\n",
    "trace_train_loss = create_trace(losses, losses, 'train_loss_with_pretraining')\n",
    "trace_val_loss = create_trace(val_losses, val_losses, 'val_loss_with_pretraining')\n",
    "layout_train_loss = create_layout('Training Loss', 'Days', 'MSE')\n",
    "layout_val_loss = create_layout('Validation Loss', 'Days', 'MSE')\n",
    "fig_train_loss = go.Figure(data=[trace_train_loss], layout=layout_train_loss)\n",
    "fig_val_loss = go.Figure(data=[trace_val_loss], layout=layout_val_loss)\n",
    "create_and_show_figure([trace_train_loss], layout_train_loss)\n",
    "create_and_show_figure([trace_val_loss], layout_val_loss)\n"
   ]
  },
  {
   "cell_type": "code",
   "execution_count": 102,
   "metadata": {},
   "outputs": [
    {
     "data": {
      "text/html": [
       "\n",
       "        <iframe\n",
       "            width=\"100%\"\n",
       "            height=\"650\"\n",
       "            src=\"http://127.0.0.1:8050/\"\n",
       "            frameborder=\"0\"\n",
       "            allowfullscreen\n",
       "            \n",
       "        ></iframe>\n",
       "        "
      ],
      "text/plain": [
       "<IPython.lib.display.IFrame at 0x7f88201085d0>"
      ]
     },
     "metadata": {},
     "output_type": "display_data"
    }
   ],
   "source": [
    "importlib.reload(visualization)\n",
    "\n",
    "# Evaluate the finetuned models\n",
    "#\n",
    "plotlyApp = visualization.PlotlyApp(X_model, Y_model, None, lstmAdapter, predictions, )#Y_model_pretrain, lstmAdapter_pretrain)\n",
    "plotlyApp.run(myport=8050)\n",
    "\n"
   ]
  },
  {
   "cell_type": "code",
   "execution_count": 103,
   "metadata": {},
   "outputs": [
    {
     "data": {
      "application/vnd.plotly.v1+json": {
       "config": {
        "plotlyServerURL": "https://plot.ly"
       },
       "data": [
        {
         "mode": "lines",
         "name": "Day 1",
         "showlegend": false,
         "type": "scatter",
         "x": [
          0,
          1,
          2,
          3,
          4,
          5,
          6,
          7,
          8,
          9,
          10,
          11,
          12,
          13,
          14,
          15,
          16,
          17,
          18,
          19,
          20,
          21,
          22,
          23,
          24,
          25,
          26,
          27,
          28,
          29,
          30,
          31,
          32,
          33,
          34,
          35,
          36,
          37,
          38,
          39,
          40,
          41,
          42,
          43,
          44,
          45,
          46,
          47,
          48,
          49,
          50,
          51,
          52,
          53,
          54,
          55,
          56,
          57,
          58,
          59,
          60,
          61,
          62,
          63,
          64,
          65,
          66,
          67,
          68,
          69,
          70,
          71,
          72,
          73,
          74,
          75,
          76,
          77,
          78,
          79,
          80,
          81,
          82,
          83,
          84,
          85,
          86,
          87,
          88,
          89,
          90,
          91,
          92,
          93,
          94,
          95,
          96,
          97,
          98
         ],
         "xaxis": "x2",
         "y": [
          [
           11.826045989990234
          ],
          [
           11.584888458251953
          ],
          [
           11.44571590423584
          ],
          [
           11.279258728027344
          ],
          [
           11.12564754486084
          ],
          [
           10.920154571533203
          ],
          [
           10.525195121765137
          ],
          [
           9.652652740478516
          ],
          [
           8.73025131225586
          ],
          [
           7.920444011688232
          ],
          [
           7.153014183044434
          ],
          [
           6.391311168670654
          ],
          [
           5.647003650665283
          ],
          [
           4.884533882141113
          ],
          [
           4.093874454498291
          ],
          [
           3.3478078842163086
          ],
          [
           2.6762993335723877
          ],
          [
           2.140613555908203
          ],
          [
           1.8164321184158325
          ],
          [
           1.7681113481521606
          ],
          [
           1.9976686239242554
          ],
          [
           2.3706464767456055
          ],
          [
           2.6362521648406982
          ],
          [
           2.596619129180908
          ],
          [
           2.2410354614257812
          ],
          [
           1.82486891746521
          ],
          [
           1.9438825845718384
          ],
          [
           1.9373294115066528
          ],
          [
           1.833432912826538
          ],
          [
           1.7682939767837524
          ],
          [
           1.751387119293213
          ],
          [
           1.758702278137207
          ],
          [
           1.769504427909851
          ],
          [
           1.7738385200500488
          ],
          [
           1.7703906297683716
          ],
          [
           1.762652039527893
          ],
          [
           1.7552844285964966
          ],
          [
           1.7515435218811035
          ],
          [
           1.7521809339523315
          ],
          [
           1.7557363510131836
          ],
          [
           1.7597171068191528
          ],
          [
           1.7619595527648926
          ],
          [
           1.7615357637405396
          ],
          [
           1.7589064836502075
          ],
          [
           1.7554304599761963
          ],
          [
           1.752593994140625
          ],
          [
           1.751340389251709
          ],
          [
           1.7517592906951904
          ],
          [
           1.7531975507736206
          ],
          [
           1.7546792030334473
          ],
          [
           1.7554008960723877
          ],
          [
           1.755066156387329
          ],
          [
           1.7539294958114624
          ],
          [
           1.7525776624679565
          ],
          [
           1.7515974044799805
          ],
          [
           1.7513043880462646
          ],
          [
           1.7516465187072754
          ],
          [
           1.7522929906845093
          ],
          [
           1.7528382539749146
          ],
          [
           1.7529999017715454
          ],
          [
           1.7527289390563965
          ],
          [
           1.752191424369812
          ],
          [
           1.7516539096832275
          ],
          [
           1.7513408660888672
          ],
          [
           1.7513349056243896
          ],
          [
           1.7515581846237183
          ],
          [
           1.7518373727798462
          ],
          [
           1.752002477645874
          ],
          [
           1.7519720792770386
          ],
          [
           1.751778483390808
          ],
          [
           1.7515312433242798
          ],
          [
           1.7513507604599
          ],
          [
           1.7513024806976318
          ],
          [
           1.7513755559921265
          ],
          [
           1.7514994144439697
          ],
          [
           1.751591682434082
          ],
          [
           1.7516008615493774
          ],
          [
           1.7515292167663574
          ],
          [
           1.7514206171035767
          ],
          [
           1.7513318061828613
          ],
          [
           1.7513008117675781
          ],
          [
           1.751327395439148
          ],
          [
           1.7513827085494995
          ],
          [
           1.7514264583587646
          ],
          [
           1.75143301486969
          ],
          [
           1.751401424407959
          ],
          [
           1.7513525485992432
          ],
          [
           1.7513130903244019
          ],
          [
           1.751300573348999
          ],
          [
           1.7513145208358765
          ],
          [
           1.7513399124145508
          ],
          [
           1.7513582706451416
          ],
          [
           1.7513585090637207
          ],
          [
           1.7513420581817627
          ],
          [
           1.7513195276260376
          ],
          [
           1.7513035535812378
          ],
          [
           1.7513010501861572
          ],
          [
           1.7513097524642944
          ],
          [
           1.7513213157653809
          ]
         ],
         "yaxis": "y2"
        },
        {
         "mode": "lines",
         "name": "Day 32",
         "showlegend": false,
         "type": "scatter",
         "x": [
          0,
          1,
          2,
          3,
          4,
          5,
          6,
          7,
          8,
          9,
          10,
          11,
          12,
          13,
          14,
          15,
          16,
          17,
          18,
          19,
          20,
          21,
          22,
          23,
          24,
          25,
          26,
          27,
          28,
          29,
          30,
          31,
          32,
          33,
          34,
          35,
          36,
          37,
          38,
          39,
          40,
          41,
          42,
          43,
          44,
          45,
          46,
          47,
          48,
          49,
          50,
          51,
          52,
          53,
          54,
          55,
          56,
          57,
          58,
          59,
          60,
          61,
          62,
          63,
          64,
          65,
          66,
          67,
          68,
          69,
          70,
          71,
          72,
          73,
          74,
          75,
          76,
          77,
          78,
          79,
          80,
          81,
          82,
          83,
          84,
          85,
          86,
          87,
          88,
          89,
          90,
          91,
          92,
          93,
          94,
          95,
          96,
          97,
          98
         ],
         "xaxis": "x2",
         "y": [
          [
           10.30674934387207
          ],
          [
           8.959223747253418
          ],
          [
           7.797005653381348
          ],
          [
           6.783552169799805
          ],
          [
           5.851532459259033
          ],
          [
           4.911632061004639
          ],
          [
           3.987471580505371
          ],
          [
           3.1120314598083496
          ],
          [
           2.298706531524658
          ],
          [
           1.6645570993423462
          ],
          [
           1.331889033317566
          ],
          [
           1.3830512762069702
          ],
          [
           1.7521415948867798
          ],
          [
           2.1268463134765625
          ],
          [
           2.209294557571411
          ],
          [
           1.958894968032837
          ],
          [
           1.5457817316055298
          ],
          [
           1.3115429878234863
          ],
          [
           1.459023118019104
          ],
          [
           1.3351898193359375
          ],
          [
           1.3485615253448486
          ],
          [
           1.3434786796569824
          ],
          [
           1.3256990909576416
          ],
          [
           1.3101980686187744
          ],
          [
           1.305390477180481
          ],
          [
           1.3101155757904053
          ],
          [
           1.3154828548431396
          ],
          [
           1.3154842853546143
          ],
          [
           1.3111141920089722
          ],
          [
           1.3064260482788086
          ],
          [
           1.3043780326843262
          ],
          [
           1.305467128753662
          ],
          [
           1.307995319366455
          ],
          [
           1.3097281455993652
          ],
          [
           1.3094555139541626
          ],
          [
           1.3075318336486816
          ],
          [
           1.305342197418213
          ],
          [
           1.3042595386505127
          ],
          [
           1.304795742034912
          ],
          [
           1.3061819076538086
          ],
          [
           1.3070850372314453
          ],
          [
           1.3067731857299805
          ],
          [
           1.3055970668792725
          ],
          [
           1.304516315460205
          ],
          [
           1.304244041442871
          ],
          [
           1.3047536611557007
          ],
          [
           1.3054426908493042
          ],
          [
           1.3056976795196533
          ],
          [
           1.305346965789795
          ],
          [
           1.3047047853469849
          ],
          [
           1.3042644262313843
          ],
          [
           1.3042913675308228
          ],
          [
           1.3046444654464722
          ],
          [
           1.3049451112747192
          ],
          [
           1.3049217462539673
          ],
          [
           1.3046190738677979
          ],
          [
           1.3043076992034912
          ],
          [
           1.304219126701355
          ],
          [
           1.3043622970581055
          ],
          [
           1.3045551776885986
          ],
          [
           1.3046098947525024
          ],
          [
           1.3044884204864502
          ],
          [
           1.3043065071105957
          ],
          [
           1.3042142391204834
          ],
          [
           1.3042616844177246
          ],
          [
           1.3043713569641113
          ],
          [
           1.3044253587722778
          ],
          [
           1.3043756484985352
          ],
          [
           1.3042755126953125
          ],
          [
           1.3042142391204834
          ],
          [
           1.3042320013046265
          ],
          [
           1.3042912483215332
          ],
          [
           1.3043254613876343
          ],
          [
           1.3043022155761719
          ],
          [
           1.3042476177215576
          ],
          [
           1.3042123317718506
          ],
          [
           1.3042209148406982
          ],
          [
           1.3042539358139038
          ],
          [
           1.304272174835205
          ],
          [
           1.3042579889297485
          ],
          [
           1.304227352142334
          ],
          [
           1.3042097091674805
          ],
          [
           1.304216980934143
          ],
          [
           1.3042354583740234
          ],
          [
           1.3042430877685547
          ],
          [
           1.3042328357696533
          ],
          [
           1.304215669631958
          ],
          [
           1.3042082786560059
          ],
          [
           1.304214596748352
          ],
          [
           1.3042244911193848
          ],
          [
           1.3042263984680176
          ],
          [
           1.3042182922363281
          ],
          [
           1.304209589958191
          ],
          [
           1.304207682609558
          ],
          [
           1.3042129278182983
          ],
          [
           1.3042174577713013
          ],
          [
           1.3042160272598267
          ],
          [
           1.3042106628417969
          ],
          [
           1.3042066097259521
          ]
         ],
         "yaxis": "y2"
        },
        {
         "mode": "lines",
         "name": "Day 63",
         "showlegend": false,
         "type": "scatter",
         "x": [
          0,
          1,
          2,
          3,
          4,
          5,
          6,
          7,
          8,
          9,
          10,
          11,
          12,
          13,
          14,
          15,
          16,
          17,
          18,
          19,
          20,
          21,
          22,
          23,
          24,
          25,
          26,
          27,
          28,
          29,
          30,
          31,
          32,
          33,
          34,
          35,
          36,
          37,
          38,
          39,
          40,
          41,
          42,
          43,
          44,
          45,
          46,
          47,
          48,
          49,
          50,
          51,
          52,
          53,
          54,
          55,
          56,
          57,
          58,
          59,
          60,
          61,
          62,
          63,
          64,
          65,
          66,
          67,
          68,
          69,
          70,
          71,
          72,
          73,
          74,
          75,
          76,
          77,
          78,
          79,
          80,
          81,
          82,
          83,
          84,
          85,
          86,
          87,
          88,
          89,
          90,
          91,
          92,
          93,
          94,
          95,
          96,
          97,
          98
         ],
         "xaxis": "x2",
         "y": [
          [
           11.038872718811035
          ],
          [
           9.168540954589844
          ],
          [
           8.011480331420898
          ],
          [
           7.013214111328125
          ],
          [
           6.051184177398682
          ],
          [
           5.220701694488525
          ],
          [
           4.410154342651367
          ],
          [
           3.590289354324341
          ],
          [
           2.795381784439087
          ],
          [
           2.0897183418273926
          ],
          [
           1.5500456094741821
          ],
          [
           1.259326457977295
          ],
          [
           1.276843786239624
          ],
          [
           1.5689976215362549
          ],
          [
           1.9440068006515503
          ],
          [
           2.158513069152832
          ],
          [
           2.104827404022217
          ],
          [
           1.8320119380950928
          ],
          [
           1.4860886335372925
          ],
          [
           1.2530055046081543
          ],
          [
           1.2735975980758667
          ],
          [
           1.4428608417510986
          ],
          [
           1.5070956945419312
          ],
          [
           1.4562445878982544
          ],
          [
           1.365950345993042
          ],
          [
           1.2878806591033936
          ],
          [
           1.2405754327774048
          ],
          [
           1.2279375791549683
          ],
          [
           1.2411973476409912
          ],
          [
           1.2634634971618652
          ],
          [
           1.2777905464172363
          ],
          [
           1.2767071723937988
          ],
          [
           1.2632867097854614
          ],
          [
           1.245923399925232
          ],
          [
           1.2326886653900146
          ],
          [
           1.2278153896331787
          ],
          [
           1.2309181690216064
          ],
          [
           1.2383819818496704
          ],
          [
           1.2456752061843872
          ],
          [
           1.2493772506713867
          ],
          [
           1.248234748840332
          ],
          [
           1.2431669235229492
          ],
          [
           1.236494779586792
          ],
          [
           1.2308241128921509
          ],
          [
           1.2279937267303467
          ],
          [
           1.2284289598464966
          ],
          [
           1.2311205863952637
          ],
          [
           1.2342294454574585
          ],
          [
           1.2360305786132812
          ],
          [
           1.235713005065918
          ],
          [
           1.2336180210113525
          ],
          [
           1.230868935585022
          ],
          [
           1.2286872863769531
          ],
          [
           1.2278084754943848
          ],
          [
           1.2282483577728271
          ],
          [
           1.2294456958770752
          ],
          [
           1.2306277751922607
          ],
          [
           1.2311854362487793
          ],
          [
           1.2309035062789917
          ],
          [
           1.229981541633606
          ],
          [
           1.228875756263733
          ],
          [
           1.2280579805374146
          ],
          [
           1.227799415588379
          ],
          [
           1.2280751466751099
          ],
          [
           1.228615641593933
          ],
          [
           1.2290712594985962
          ],
          [
           1.2291948795318604
          ],
          [
           1.2289485931396484
          ],
          [
           1.2284873723983765
          ],
          [
           1.2280479669570923
          ],
          [
           1.227815866470337
          ],
          [
           1.2278435230255127
          ],
          [
           1.2280471324920654
          ],
          [
           1.2282744646072388
          ],
          [
           1.2283904552459717
          ],
          [
           1.2283414602279663
          ],
          [
           1.228166103363037
          ],
          [
           1.2279618978500366
          ],
          [
           1.2278252840042114
          ],
          [
           1.2278034687042236
          ],
          [
           1.2278776168823242
          ],
          [
           1.227982759475708
          ],
          [
           1.228049635887146
          ],
          [
           1.228041648864746
          ],
          [
           1.2279692888259888
          ],
          [
           1.2278770208358765
          ],
          [
           1.2278120517730713
          ],
          [
           1.227799654006958
          ],
          [
           1.2278320789337158
          ],
          [
           1.227879285812378
          ],
          [
           1.2279092073440552
          ],
          [
           1.2279046773910522
          ],
          [
           1.2278716564178467
          ],
          [
           1.2278302907943726
          ],
          [
           1.2278025150299072
          ],
          [
           1.2277992963790894
          ],
          [
           1.227815866470337
          ],
          [
           1.2278369665145874
          ],
          [
           1.2278485298156738
          ]
         ],
         "yaxis": "y2"
        },
        {
         "mode": "lines",
         "name": "Day 94",
         "showlegend": false,
         "type": "scatter",
         "x": [
          0,
          1,
          2,
          3,
          4,
          5,
          6,
          7,
          8,
          9,
          10,
          11,
          12,
          13,
          14,
          15,
          16,
          17,
          18,
          19,
          20,
          21,
          22,
          23,
          24,
          25,
          26,
          27,
          28,
          29,
          30,
          31,
          32,
          33,
          34,
          35,
          36,
          37,
          38,
          39,
          40,
          41,
          42,
          43,
          44,
          45,
          46,
          47,
          48,
          49,
          50,
          51,
          52,
          53,
          54,
          55,
          56,
          57,
          58,
          59,
          60,
          61,
          62,
          63,
          64,
          65,
          66,
          67,
          68,
          69,
          70,
          71,
          72,
          73,
          74,
          75,
          76,
          77,
          78,
          79,
          80,
          81,
          82,
          83,
          84,
          85,
          86,
          87,
          88,
          89,
          90,
          91,
          92,
          93,
          94,
          95,
          96,
          97,
          98
         ],
         "xaxis": "x2",
         "y": [
          [
           8.74398136138916
          ],
          [
           8.168585777282715
          ],
          [
           7.8057780265808105
          ],
          [
           7.327324867248535
          ],
          [
           6.824880123138428
          ],
          [
           6.308468341827393
          ],
          [
           5.770962238311768
          ],
          [
           5.209506034851074
          ],
          [
           4.650713920593262
          ],
          [
           4.052816390991211
          ],
          [
           3.358536720275879
          ],
          [
           2.6690430641174316
          ],
          [
           2.0494935512542725
          ],
          [
           1.538118839263916
          ],
          [
           1.202688217163086
          ],
          [
           1.1262307167053223
          ],
          [
           1.3331212997436523
          ],
          [
           1.6653947830200195
          ],
          [
           1.8446272611618042
          ],
          [
           1.7411202192306519
          ],
          [
           1.430027961730957
          ],
          [
           1.144227147102356
          ],
          [
           1.2443554401397705
          ],
          [
           1.2994779348373413
          ],
          [
           1.2161509990692139
          ],
          [
           1.1465789079666138
          ],
          [
           1.123644232749939
          ],
          [
           1.1176598072052002
          ],
          [
           1.1214386224746704
          ],
          [
           1.1276686191558838
          ],
          [
           1.1312872171401978
          ],
          [
           1.1301906108856201
          ],
          [
           1.12639319896698
          ],
          [
           1.1217029094696045
          ],
          [
           1.1184197664260864
          ],
          [
           1.1176997423171997
          ],
          [
           1.1192063093185425
          ],
          [
           1.1216018199920654
          ],
          [
           1.1233899593353271
          ],
          [
           1.1236591339111328
          ],
          [
           1.1223995685577393
          ],
          [
           1.120335578918457
          ],
          [
           1.118531346321106
          ],
          [
           1.1176652908325195
          ],
          [
           1.1178778409957886
          ],
          [
           1.118769884109497
          ],
          [
           1.1196880340576172
          ],
          [
           1.12008798122406
          ],
          [
           1.119791865348816
          ],
          [
           1.1190145015716553
          ],
          [
           1.1181846857070923
          ],
          [
           1.117685079574585
          ],
          [
           1.1176646947860718
          ],
          [
           1.1180059909820557
          ],
          [
           1.118431568145752
          ],
          [
           1.1186740398406982
          ],
          [
           1.118610143661499
          ],
          [
           1.118299126625061
          ],
          [
           1.1179211139678955
          ],
          [
           1.117664098739624
          ],
          [
           1.1176220178604126
          ],
          [
           1.1177611351013184
          ],
          [
           1.1179559230804443
          ],
          [
           1.1180740594863892
          ],
          [
           1.118049144744873
          ],
          [
           1.1179070472717285
          ],
          [
           1.1177358627319336
          ],
          [
           1.1176257133483887
          ],
          [
           1.1176176071166992
          ],
          [
           1.117688775062561
          ],
          [
           1.1177761554718018
          ],
          [
           1.1178200244903564
          ],
          [
           1.1177958250045776
          ],
          [
           1.1177233457565308
          ],
          [
           1.1176478862762451
          ],
          [
           1.1176085472106934
          ],
          [
           1.1176177263259888
          ],
          [
           1.1176568269729614
          ],
          [
           1.117693543434143
          ],
          [
           1.1177024841308594
          ],
          [
           1.1176798343658447
          ],
          [
           1.1176421642303467
          ],
          [
           1.117612600326538
          ],
          [
           1.117605209350586
          ],
          [
           1.117618441581726
          ],
          [
           1.117638349533081
          ],
          [
           1.1176494359970093
          ],
          [
           1.1176446676254272
          ],
          [
           1.1176283359527588
          ],
          [
           1.117611289024353
          ],
          [
           1.1176033020019531
          ],
          [
           1.1176068782806396
          ],
          [
           1.1176161766052246
          ],
          [
           1.1176234483718872
          ],
          [
           1.117623209953308
          ],
          [
           1.1176161766052246
          ],
          [
           1.1176074743270874
          ],
          [
           1.1176023483276367
          ],
          [
           1.117603063583374
          ]
         ],
         "yaxis": "y2"
        },
        {
         "mode": "lines",
         "name": "Day 125",
         "showlegend": false,
         "type": "scatter",
         "x": [
          0,
          1,
          2,
          3,
          4,
          5,
          6,
          7,
          8,
          9,
          10,
          11,
          12,
          13,
          14,
          15,
          16,
          17,
          18,
          19,
          20,
          21,
          22,
          23,
          24,
          25,
          26,
          27,
          28,
          29,
          30,
          31,
          32,
          33,
          34,
          35,
          36,
          37,
          38,
          39,
          40,
          41,
          42,
          43,
          44,
          45,
          46,
          47,
          48,
          49,
          50,
          51,
          52,
          53,
          54,
          55,
          56,
          57,
          58,
          59,
          60,
          61,
          62,
          63,
          64,
          65,
          66,
          67,
          68,
          69,
          70,
          71,
          72,
          73,
          74,
          75,
          76,
          77,
          78,
          79,
          80,
          81,
          82,
          83,
          84,
          85,
          86,
          87,
          88,
          89,
          90,
          91,
          92,
          93,
          94,
          95,
          96,
          97,
          98
         ],
         "xaxis": "x2",
         "y": [
          [
           8.642631530761719
          ],
          [
           7.6483988761901855
          ],
          [
           6.622541427612305
          ],
          [
           5.834095001220703
          ],
          [
           5.116307258605957
          ],
          [
           4.400346755981445
          ],
          [
           3.6884124279022217
          ],
          [
           2.9819018840789795
          ],
          [
           2.312857151031494
          ],
          [
           1.7246131896972656
          ],
          [
           1.2830592393875122
          ],
          [
           1.0602922439575195
          ],
          [
           1.1143057346343994
          ],
          [
           1.3962827920913696
          ],
          [
           1.7124238014221191
          ],
          [
           1.8524025678634644
          ],
          [
           1.7524144649505615
          ],
          [
           1.4811468124389648
          ],
          [
           1.166414499282837
          ],
          [
           1.0538259744644165
          ],
          [
           1.1776319742202759
          ],
          [
           1.1579344272613525
          ],
          [
           1.1124309301376343
          ],
          [
           1.0799918174743652
          ],
          [
           1.0610271692276
          ],
          [
           1.05097234249115
          ],
          [
           1.0467220544815063
          ],
          [
           1.0460445880889893
          ],
          [
           1.0470167398452759
          ],
          [
           1.0482079982757568
          ],
          [
           1.0488029718399048
          ],
          [
           1.0486189126968384
          ],
          [
           1.0478577613830566
          ],
          [
           1.0469272136688232
          ],
          [
           1.0462149381637573
          ],
          [
           1.0459381341934204
          ],
          [
           1.0460984706878662
          ],
          [
           1.0465266704559326
          ],
          [
           1.0469799041748047
          ],
          [
           1.0472426414489746
          ],
          [
           1.0471688508987427
          ],
          [
           1.0466135740280151
          ],
          [
           1.0460171699523926
          ],
          [
           1.0459940433502197
          ],
          [
           1.0464110374450684
          ],
          [
           1.04666006565094
          ],
          [
           1.0464674234390259
          ],
          [
           1.046094536781311
          ],
          [
           1.045920968055725
          ],
          [
           1.0460522174835205
          ],
          [
           1.0462695360183716
          ],
          [
           1.0463147163391113
          ],
          [
           1.0461575984954834
          ],
          [
           1.0459703207015991
          ],
          [
           1.0459247827529907
          ],
          [
           1.0460249185562134
          ],
          [
           1.0461291074752808
          ],
          [
           1.0461184978485107
          ],
          [
           1.0460138320922852
          ],
          [
           1.0459275245666504
          ],
          [
           1.045932412147522
          ],
          [
           1.0459980964660645
          ],
          [
           1.0460400581359863
          ],
          [
           1.0460140705108643
          ],
          [
           1.0459524393081665
          ],
          [
           1.0459175109863281
          ],
          [
           1.0459345579147339
          ],
          [
           1.0459723472595215
          ],
          [
           1.045984148979187
          ],
          [
           1.0459585189819336
          ],
          [
           1.045925498008728
          ],
          [
           1.0459171533584595
          ],
          [
           1.0459345579147339
          ],
          [
           1.0459527969360352
          ],
          [
           1.0459500551223755
          ],
          [
           1.0459309816360474
          ],
          [
           1.0459166765213013
          ],
          [
           1.0459191799163818
          ],
          [
           1.0459315776824951
          ],
          [
           1.0459370613098145
          ],
          [
           1.0459299087524414
          ],
          [
           1.0459188222885132
          ],
          [
           1.0459153652191162
          ],
          [
           1.045920729637146
          ],
          [
           1.0459266901016235
          ],
          [
           1.0459256172180176
          ],
          [
           1.0459192991256714
          ],
          [
           1.0459147691726685
          ],
          [
           1.045916199684143
          ],
          [
           1.0459202527999878
          ],
          [
           1.0459214448928833
          ],
          [
           1.045918345451355
          ],
          [
           1.045914888381958
          ],
          [
           1.0459145307540894
          ],
          [
           1.0459167957305908
          ],
          [
           1.0459182262420654
          ],
          [
           1.0459171533584595
          ],
          [
           1.0459147691726685
          ],
          [
           1.0459140539169312
          ]
         ],
         "yaxis": "y2"
        },
        {
         "mode": "lines",
         "name": "Day 156",
         "showlegend": false,
         "type": "scatter",
         "x": [
          0,
          1,
          2,
          3,
          4,
          5,
          6,
          7,
          8,
          9,
          10,
          11,
          12,
          13,
          14,
          15,
          16,
          17,
          18,
          19,
          20,
          21,
          22,
          23,
          24,
          25,
          26,
          27,
          28,
          29,
          30,
          31,
          32,
          33,
          34,
          35,
          36,
          37,
          38,
          39,
          40,
          41,
          42,
          43,
          44,
          45,
          46,
          47,
          48,
          49,
          50,
          51,
          52,
          53,
          54,
          55,
          56,
          57,
          58,
          59,
          60,
          61,
          62,
          63,
          64,
          65,
          66,
          67,
          68,
          69,
          70,
          71,
          72,
          73,
          74,
          75,
          76,
          77,
          78,
          79,
          80,
          81,
          82,
          83,
          84,
          85,
          86,
          87,
          88,
          89,
          90,
          91,
          92,
          93,
          94,
          95,
          96,
          97,
          98
         ],
         "xaxis": "x2",
         "y": [
          [
           6.959569454193115
          ],
          [
           6.323851585388184
          ],
          [
           5.681726455688477
          ],
          [
           5.0027008056640625
          ],
          [
           4.238992214202881
          ],
          [
           3.40397310256958
          ],
          [
           2.55855131149292
          ],
          [
           1.719337821006775
          ],
          [
           1.1324372291564941
          ],
          [
           0.989173412322998
          ],
          [
           1.2611708641052246
          ],
          [
           1.5579780340194702
          ],
          [
           1.5417494773864746
          ],
          [
           1.2765388488769531
          ],
          [
           1.0205155611038208
          ],
          [
           1.0357036590576172
          ],
          [
           1.1336708068847656
          ],
          [
           1.114905595779419
          ],
          [
           1.0536680221557617
          ],
          [
           1.0092225074768066
          ],
          [
           0.984983503818512
          ],
          [
           0.980305016040802
          ],
          [
           0.9878957867622375
          ],
          [
           0.9971833229064941
          ],
          [
           0.9981004595756531
          ],
          [
           0.9920226335525513
          ],
          [
           0.9855424761772156
          ],
          [
           0.9807837605476379
          ],
          [
           0.9800437688827515
          ],
          [
           0.9826366901397705
          ],
          [
           0.9860077500343323
          ],
          [
           0.9876824021339417
          ],
          [
           0.9867175817489624
          ],
          [
           0.983940601348877
          ],
          [
           0.9811203479766846
          ],
          [
           0.9800448417663574
          ],
          [
           0.9814037084579468
          ],
          [
           0.9828519225120544
          ],
          [
           0.9833377003669739
          ],
          [
           0.9826018214225769
          ],
          [
           0.9812277555465698
          ],
          [
           0.9801159501075745
          ],
          [
           0.9798412322998047
          ],
          [
           0.9803436398506165
          ],
          [
           0.9810866713523865
          ],
          [
           0.9814860224723816
          ],
          [
           0.981286883354187
          ],
          [
           0.9806692004203796
          ],
          [
           0.9800609946250916
          ],
          [
           0.9798215627670288
          ],
          [
           0.9800102710723877
          ],
          [
           0.9803884029388428
          ],
          [
           0.980627179145813
          ],
          [
           0.9805517196655273
          ],
          [
           0.9802418351173401
          ],
          [
           0.9799328446388245
          ],
          [
           0.979820966720581
          ],
          [
           0.9799291491508484
          ],
          [
           0.9801209568977356
          ],
          [
           0.9802263379096985
          ],
          [
           0.980168342590332
          ],
          [
           0.9800029993057251
          ],
          [
           0.979857325553894
          ],
          [
           0.9798238277435303
          ],
          [
           0.9798974394798279
          ],
          [
           0.9799936413764954
          ],
          [
           0.9800256490707397
          ],
          [
           0.9799715876579285
          ],
          [
           0.9798809289932251
          ],
          [
           0.9798240661621094
          ],
          [
           0.9798329472541809
          ],
          [
           0.9798832535743713
          ],
          [
           0.9799225926399231
          ],
          [
           0.9799168705940247
          ],
          [
           0.9798744320869446
          ],
          [
           0.9798319935798645
          ],
          [
           0.9798202514648438
          ],
          [
           0.9798403382301331
          ],
          [
           0.9798669219017029
          ],
          [
           0.9798742532730103
          ],
          [
           0.9798570871353149
          ],
          [
           0.9798319935798645
          ],
          [
           0.9798195362091064
          ],
          [
           0.9798261523246765
          ],
          [
           0.9798411726951599
          ],
          [
           0.9798485040664673
          ],
          [
           0.9798421263694763
          ],
          [
           0.9798285365104675
          ],
          [
           0.9798197150230408
          ],
          [
           0.9798215627670288
          ],
          [
           0.9798295497894287
          ],
          [
           0.9798346161842346
          ],
          [
           0.9798320531845093
          ],
          [
           0.9798247218132019
          ],
          [
           0.9798194169998169
          ],
          [
           0.9798201322555542
          ],
          [
           0.979824423789978
          ],
          [
           0.979827344417572
          ],
          [
           0.9798259139060974
          ]
         ],
         "yaxis": "y2"
        },
        {
         "mode": "lines",
         "name": "Day 187",
         "showlegend": false,
         "type": "scatter",
         "x": [
          0,
          1,
          2,
          3,
          4,
          5,
          6,
          7,
          8,
          9,
          10,
          11,
          12,
          13,
          14,
          15,
          16,
          17,
          18,
          19,
          20,
          21,
          22,
          23,
          24,
          25,
          26,
          27,
          28,
          29,
          30,
          31,
          32,
          33,
          34,
          35,
          36,
          37,
          38,
          39,
          40,
          41,
          42,
          43,
          44,
          45,
          46,
          47,
          48,
          49,
          50,
          51,
          52,
          53,
          54,
          55,
          56,
          57,
          58,
          59,
          60,
          61,
          62,
          63,
          64,
          65,
          66,
          67,
          68,
          69,
          70,
          71,
          72,
          73,
          74,
          75,
          76,
          77,
          78,
          79,
          80,
          81,
          82,
          83,
          84,
          85,
          86,
          87,
          88,
          89,
          90,
          91,
          92,
          93,
          94,
          95,
          96,
          97,
          98
         ],
         "xaxis": "x2",
         "y": [
          [
           6.458298206329346
          ],
          [
           5.066972255706787
          ],
          [
           3.9074203968048096
          ],
          [
           2.815821886062622
          ],
          [
           1.9159421920776367
          ],
          [
           1.2790347337722778
          ],
          [
           0.9510725140571594
          ],
          [
           1.0377116203308105
          ],
          [
           1.2807483673095703
          ],
          [
           1.2489136457443237
          ],
          [
           1.0480988025665283
          ],
          [
           0.9220549464225769
          ],
          [
           1.0325464010238647
          ],
          [
           1.0018703937530518
          ],
          [
           0.9307536482810974
          ],
          [
           0.9233183860778809
          ],
          [
           0.9463669657707214
          ],
          [
           0.9540039300918579
          ],
          [
           0.9398878216743469
          ],
          [
           0.9225708842277527
          ],
          [
           0.9191479086875916
          ],
          [
           0.9287045001983643
          ],
          [
           0.9373738169670105
          ],
          [
           0.9353554248809814
          ],
          [
           0.9258400797843933
          ],
          [
           0.9187732934951782
          ],
          [
           0.9197332859039307
          ],
          [
           0.9254343509674072
          ],
          [
           0.928606390953064
          ],
          [
           0.9259790778160095
          ],
          [
           0.9207466840744019
          ],
          [
           0.9180952906608582
          ],
          [
           0.9197164177894592
          ],
          [
           0.9228347539901733
          ],
          [
           0.9237713813781738
          ],
          [
           0.9216951131820679
          ],
          [
           0.9189131259918213
          ],
          [
           0.9180552959442139
          ],
          [
           0.9194126725196838
          ],
          [
           0.921001136302948
          ],
          [
           0.9209529757499695
          ],
          [
           0.9194340109825134
          ],
          [
           0.9181234240531921
          ],
          [
           0.918194591999054
          ],
          [
           0.9191935062408447
          ],
          [
           0.9197920560836792
          ],
          [
           0.9193267822265625
          ],
          [
           0.9183753132820129
          ],
          [
           0.9179449677467346
          ],
          [
           0.918325662612915
          ],
          [
           0.9188863635063171
          ],
          [
           0.9189119935035706
          ],
          [
           0.9184049963951111
          ],
          [
           0.9179652333259583
          ],
          [
           0.9180193543434143
          ],
          [
           0.918370246887207
          ],
          [
           0.9185278415679932
          ],
          [
           0.9183081984519958
          ],
          [
           0.9179918766021729
          ],
          [
           0.9179264307022095
          ],
          [
           0.9181137681007385
          ],
          [
           0.9182628989219666
          ],
          [
           0.9181790947914124
          ],
          [
           0.9179799556732178
          ],
          [
           0.917902410030365
          ],
          [
           0.917998194694519
          ],
          [
           0.9181035757064819
          ],
          [
           0.9180729985237122
          ],
          [
           0.9179530143737793
          ],
          [
           0.9178932309150696
          ],
          [
           0.9179444909095764
          ],
          [
           0.9180120229721069
          ],
          [
           0.9179975986480713
          ],
          [
           0.9179245233535767
          ],
          [
           0.9178872108459473
          ],
          [
           0.9179187417030334
          ],
          [
           0.9179589748382568
          ],
          [
           0.9179478883743286
          ],
          [
           0.9179024696350098
          ],
          [
           0.9178823232650757
          ],
          [
           0.9179040789604187
          ],
          [
           0.9179263114929199
          ],
          [
           0.9179151058197021
          ],
          [
           0.9178869724273682
          ],
          [
           0.9178789258003235
          ],
          [
           0.917894721031189
          ],
          [
           0.9179052710533142
          ],
          [
           0.9178942441940308
          ],
          [
           0.917877733707428
          ],
          [
           0.9178768396377563
          ],
          [
           0.9178875684738159
          ],
          [
           0.9178906679153442
          ],
          [
           0.9178810119628906
          ],
          [
           0.9178724884986877
          ],
          [
           0.9178751707077026
          ],
          [
           0.917881429195404
          ],
          [
           0.9178800582885742
          ],
          [
           0.9178729057312012
          ],
          [
           0.9178698062896729
          ]
         ],
         "yaxis": "y2"
        },
        {
         "mode": "lines",
         "name": "Day 218",
         "showlegend": false,
         "type": "scatter",
         "x": [
          0,
          1,
          2,
          3,
          4,
          5,
          6,
          7,
          8,
          9,
          10,
          11,
          12,
          13,
          14,
          15,
          16,
          17,
          18,
          19,
          20,
          21,
          22,
          23,
          24,
          25,
          26,
          27,
          28,
          29,
          30,
          31,
          32,
          33,
          34,
          35,
          36,
          37,
          38,
          39,
          40,
          41,
          42,
          43,
          44,
          45,
          46,
          47,
          48,
          49,
          50,
          51,
          52,
          53,
          54,
          55,
          56,
          57,
          58,
          59,
          60,
          61,
          62,
          63,
          64,
          65,
          66,
          67,
          68,
          69,
          70,
          71,
          72,
          73,
          74,
          75,
          76,
          77,
          78,
          79,
          80,
          81,
          82,
          83,
          84,
          85,
          86,
          87,
          88,
          89,
          90,
          91,
          92,
          93,
          94,
          95,
          96,
          97,
          98
         ],
         "xaxis": "x2",
         "y": [
          [
           7.246922492980957
          ],
          [
           6.2080979347229
          ],
          [
           5.002449035644531
          ],
          [
           3.797697067260742
          ],
          [
           2.7040796279907227
          ],
          [
           1.8542616367340088
          ],
          [
           1.217840313911438
          ],
          [
           0.8966957926750183
          ],
          [
           0.9639351963996887
          ],
          [
           1.2922548055648804
          ],
          [
           1.5142581462860107
          ],
          [
           1.3964992761611938
          ],
          [
           1.062632441520691
          ],
          [
           0.8789966702461243
          ],
          [
           1.0807480812072754
          ],
          [
           0.9576160311698914
          ],
          [
           0.8907579183578491
          ],
          [
           0.8759583830833435
          ],
          [
           0.8811593055725098
          ],
          [
           0.8885523676872253
          ],
          [
           0.8899914026260376
          ],
          [
           0.8854029178619385
          ],
          [
           0.8792239427566528
          ],
          [
           0.875848114490509
          ],
          [
           0.8767467141151428
          ],
          [
           0.8802538514137268
          ],
          [
           0.8833601474761963
          ],
          [
           0.8839006423950195
          ],
          [
           0.8817100524902344
          ],
          [
           0.8779314160346985
          ],
          [
           0.8758458495140076
          ],
          [
           0.8760255575180054
          ],
          [
           0.8776251077651978
          ],
          [
           0.8790873289108276
          ],
          [
           0.879195511341095
          ],
          [
           0.8779692053794861
          ],
          [
           0.8764409422874451
          ],
          [
           0.8756821155548096
          ],
          [
           0.8760008811950684
          ],
          [
           0.8768737316131592
          ],
          [
           0.87748783826828
          ],
          [
           0.877372682094574
          ],
          [
           0.8766704201698303
          ],
          [
           0.8759335279464722
          ],
          [
           0.8756633996963501
          ],
          [
           0.8759397268295288
          ],
          [
           0.876408576965332
          ],
          [
           0.8766188621520996
          ],
          [
           0.8764044046401978
          ],
          [
           0.8759770393371582
          ],
          [
           0.8756875991821289
          ],
          [
           0.8757139444351196
          ],
          [
           0.8759490251541138
          ],
          [
           0.8761406540870667
          ],
          [
           0.876119077205658
          ],
          [
           0.875918447971344
          ],
          [
           0.8757157921791077
          ],
          [
           0.8756633996963501
          ],
          [
           0.8757645487785339
          ],
          [
           0.8758921027183533
          ],
          [
           0.8759172558784485
          ],
          [
           0.8758240938186646
          ],
          [
           0.8757044672966003
          ],
          [
           0.8756585717201233
          ],
          [
           0.8757044076919556
          ],
          [
           0.8757767081260681
          ],
          [
           0.8757991790771484
          ],
          [
           0.8757538795471191
          ],
          [
           0.8756873607635498
          ],
          [
           0.8756577968597412
          ],
          [
           0.8756810426712036
          ],
          [
           0.8757215738296509
          ],
          [
           0.875734269618988
          ],
          [
           0.875708281993866
          ],
          [
           0.8756714463233948
          ],
          [
           0.8756574392318726
          ],
          [
           0.8756726384162903
          ],
          [
           0.8756944537162781
          ],
          [
           0.8756983876228333
          ],
          [
           0.8756817579269409
          ],
          [
           0.875662088394165
          ],
          [
           0.8756576180458069
          ],
          [
           0.8756681680679321
          ],
          [
           0.8756791949272156
          ],
          [
           0.8756781220436096
          ],
          [
           0.8756669759750366
          ],
          [
           0.8756575584411621
          ],
          [
           0.8756581544876099
          ],
          [
           0.8756653070449829
          ],
          [
           0.8756697177886963
          ],
          [
           0.8756665587425232
          ],
          [
           0.8756597638130188
          ],
          [
           0.875656247138977
          ],
          [
           0.8756585717201233
          ],
          [
           0.8756626844406128
          ],
          [
           0.8756633400917053
          ],
          [
           0.8756600022315979
          ],
          [
           0.8756565451622009
          ],
          [
           0.8756563067436218
          ]
         ],
         "yaxis": "y2"
        },
        {
         "mode": "lines",
         "name": "Day 249",
         "showlegend": false,
         "type": "scatter",
         "x": [
          0,
          1,
          2,
          3,
          4,
          5,
          6,
          7,
          8,
          9,
          10,
          11,
          12,
          13,
          14,
          15,
          16,
          17,
          18,
          19,
          20,
          21,
          22,
          23,
          24,
          25,
          26,
          27,
          28,
          29,
          30,
          31,
          32,
          33,
          34,
          35,
          36,
          37,
          38,
          39,
          40,
          41,
          42,
          43,
          44,
          45,
          46,
          47,
          48,
          49,
          50,
          51,
          52,
          53,
          54,
          55,
          56,
          57,
          58,
          59,
          60,
          61,
          62,
          63,
          64,
          65,
          66,
          67,
          68,
          69,
          70,
          71,
          72,
          73,
          74,
          75,
          76,
          77,
          78,
          79,
          80,
          81,
          82,
          83,
          84,
          85,
          86,
          87,
          88,
          89,
          90,
          91,
          92,
          93,
          94,
          95,
          96,
          97,
          98
         ],
         "xaxis": "x2",
         "y": [
          [
           6.610946178436279
          ],
          [
           5.639383792877197
          ],
          [
           4.51644229888916
          ],
          [
           3.3471243381500244
          ],
          [
           2.3903584480285645
          ],
          [
           1.7147408723831177
          ],
          [
           1.215580701828003
          ],
          [
           0.9192559123039246
          ],
          [
           0.8712430596351624
          ],
          [
           1.0461292266845703
          ],
          [
           1.249640941619873
          ],
          [
           1.2715003490447998
          ],
          [
           1.1024158000946045
          ],
          [
           0.8901429176330566
          ],
          [
           0.9487294554710388
          ],
          [
           0.959003210067749
          ],
          [
           0.8922716379165649
          ],
          [
           0.8622569441795349
          ],
          [
           0.8580294251441956
          ],
          [
           0.8634918928146362
          ],
          [
           0.8674837946891785
          ],
          [
           0.8674008846282959
          ],
          [
           0.863550066947937
          ],
          [
           0.8592203259468079
          ],
          [
           0.85733562707901
          ],
          [
           0.8588411808013916
          ],
          [
           0.8611215353012085
          ],
          [
           0.8630021214485168
          ],
          [
           0.8627712726593018
          ],
          [
           0.8607909679412842
          ],
          [
           0.8585058450698853
          ],
          [
           0.8572704195976257
          ],
          [
           0.8575106859207153
          ],
          [
           0.8586435914039612
          ],
          [
           0.85964035987854
          ],
          [
           0.8597708940505981
          ],
          [
           0.8590168356895447
          ],
          [
           0.8579481244087219
          ],
          [
           0.857246458530426
          ],
          [
           0.8572404384613037
          ],
          [
           0.8577484488487244
          ],
          [
           0.858284592628479
          ],
          [
           0.8584330677986145
          ],
          [
           0.8581147789955139
          ],
          [
           0.8575852513313293
          ],
          [
           0.8572030067443848
          ],
          [
           0.8571678996086121
          ],
          [
           0.8574100136756897
          ],
          [
           0.8576821088790894
          ],
          [
           0.857761025428772
          ],
          [
           0.8576003909111023
          ],
          [
           0.8573346138000488
          ],
          [
           0.8571521639823914
          ],
          [
           0.8571515083312988
          ],
          [
           0.8572845458984375
          ],
          [
           0.8574153184890747
          ],
          [
           0.8574339747428894
          ],
          [
           0.857333779335022
          ],
          [
           0.8571985363960266
          ],
          [
           0.8571252822875977
          ],
          [
           0.8571487665176392
          ],
          [
           0.8572251796722412
          ],
          [
           0.8572784662246704
          ],
          [
           0.8572639226913452
          ],
          [
           0.8571981191635132
          ],
          [
           0.8571354746818542
          ],
          [
           0.8571190237998962
          ],
          [
           0.8571485280990601
          ],
          [
           0.8571875691413879
          ],
          [
           0.8571985960006714
          ],
          [
           0.8571738004684448
          ],
          [
           0.8571360111236572
          ],
          [
           0.8571149706840515
          ],
          [
           0.8571220636367798
          ],
          [
           0.8571435213088989
          ],
          [
           0.8571562767028809
          ],
          [
           0.8571487665176392
          ],
          [
           0.8571286797523499
          ],
          [
           0.8571133017539978
          ],
          [
           0.8571130037307739
          ],
          [
           0.8571237325668335
          ],
          [
           0.8571324944496155
          ],
          [
           0.8571305871009827
          ],
          [
           0.8571202754974365
          ],
          [
           0.8571107387542725
          ],
          [
           0.8571091890335083
          ],
          [
           0.857114315032959
          ],
          [
           0.8571195006370544
          ],
          [
           0.8571190237998962
          ],
          [
           0.8571134209632874
          ],
          [
           0.857107937335968
          ],
          [
           0.8571068048477173
          ],
          [
           0.8571094870567322
          ],
          [
           0.8571121692657471
          ],
          [
           0.8571118712425232
          ],
          [
           0.8571085929870605
          ],
          [
           0.8571054339408875
          ],
          [
           0.8571048974990845
          ],
          [
           0.8571063876152039
          ]
         ],
         "yaxis": "y2"
        },
        {
         "mode": "lines",
         "name": "Day 280",
         "showlegend": false,
         "type": "scatter",
         "x": [
          0,
          1,
          2,
          3,
          4,
          5,
          6,
          7,
          8,
          9,
          10,
          11,
          12,
          13,
          14,
          15,
          16,
          17,
          18,
          19,
          20,
          21,
          22,
          23,
          24,
          25,
          26,
          27,
          28,
          29,
          30,
          31,
          32,
          33,
          34,
          35,
          36,
          37,
          38,
          39,
          40,
          41,
          42,
          43,
          44,
          45,
          46,
          47,
          48,
          49,
          50,
          51,
          52,
          53,
          54,
          55,
          56,
          57,
          58,
          59,
          60,
          61,
          62,
          63,
          64,
          65,
          66,
          67,
          68,
          69,
          70,
          71,
          72,
          73,
          74,
          75,
          76,
          77,
          78,
          79,
          80,
          81,
          82,
          83,
          84,
          85,
          86,
          87,
          88,
          89,
          90,
          91,
          92,
          93,
          94,
          95,
          96,
          97,
          98
         ],
         "xaxis": "x2",
         "y": [
          [
           7.583564281463623
          ],
          [
           6.935736179351807
          ],
          [
           6.381959915161133
          ],
          [
           5.773106098175049
          ],
          [
           5.108879089355469
          ],
          [
           4.5030012130737305
          ],
          [
           3.9395177364349365
          ],
          [
           3.3802380561828613
          ],
          [
           2.821462631225586
          ],
          [
           2.272101879119873
          ],
          [
           1.768858551979065
          ],
          [
           1.3423311710357666
          ],
          [
           1.0336110591888428
          ],
          [
           0.8994500041007996
          ],
          [
           0.9724273681640625
          ],
          [
           1.1908366680145264
          ],
          [
           1.3827399015426636
          ],
          [
           1.4064587354660034
          ],
          [
           1.2518631219863892
          ],
          [
           1.0194636583328247
          ],
          [
           0.8858503699302673
          ],
          [
           0.9767932295799255
          ],
          [
           1.0339481830596924
          ],
          [
           0.9931066036224365
          ],
          [
           0.9307331442832947
          ],
          [
           0.8875072598457336
          ],
          [
           0.8718208074569702
          ],
          [
           0.8742034435272217
          ],
          [
           0.8822745084762573
          ],
          [
           0.8880025744438171
          ],
          [
           0.8887526392936707
          ],
          [
           0.8856217861175537
          ],
          [
           0.8806003928184509
          ],
          [
           0.8753679394721985
          ],
          [
           0.8715360164642334
          ],
          [
           0.870173454284668
          ],
          [
           0.8713304400444031
          ],
          [
           0.8740283846855164
          ],
          [
           0.8765992522239685
          ],
          [
           0.877615213394165
          ],
          [
           0.8766500949859619
          ],
          [
           0.8742920160293579
          ],
          [
           0.871687650680542
          ],
          [
           0.8699040412902832
          ],
          [
           0.8694515228271484
          ],
          [
           0.8700800538063049
          ],
          [
           0.8711410760879517
          ],
          [
           0.8719884753227234
          ],
          [
           0.8722642064094543
          ],
          [
           0.8719618320465088
          ],
          [
           0.8712567090988159
          ],
          [
           0.8704013228416443
          ],
          [
           0.8696845769882202
          ],
          [
           0.8693568706512451
          ],
          [
           0.8694988489151001
          ],
          [
           0.8699507713317871
          ],
          [
           0.8703989386558533
          ],
          [
           0.8705722689628601
          ],
          [
           0.8704000115394592
          ],
          [
           0.8700153827667236
          ],
          [
           0.8696309924125671
          ],
          [
           0.869398832321167
          ],
          [
           0.869354784488678
          ],
          [
           0.8694491386413574
          ],
          [
           0.8696022629737854
          ],
          [
           0.8697346448898315
          ],
          [
           0.8697808384895325
          ],
          [
           0.8697108626365662
          ],
          [
           0.8695538640022278
          ],
          [
           0.8693879246711731
          ],
          [
           0.8692948222160339
          ],
          [
           0.8693053722381592
          ],
          [
           0.869384765625
          ],
          [
           0.8694658875465393
          ],
          [
           0.8694981336593628
          ],
          [
           0.869472861289978
          ],
          [
           0.869412899017334
          ],
          [
           0.8693492412567139
          ],
          [
           0.8693050146102905
          ],
          [
           0.8692919015884399
          ],
          [
           0.8693090081214905
          ],
          [
           0.869342565536499
          ],
          [
           0.8693695068359375
          ],
          [
           0.8693714737892151
          ],
          [
           0.8693467378616333
          ],
          [
           0.8693113327026367
          ],
          [
           0.8692863583564758
          ],
          [
           0.8692814707756042
          ],
          [
           0.8692925572395325
          ],
          [
           0.8693075180053711
          ],
          [
           0.8693161606788635
          ],
          [
           0.8693150281906128
          ],
          [
           0.8693057298660278
          ],
          [
           0.8692927360534668
          ],
          [
           0.8692816495895386
          ],
          [
           0.8692776560783386
          ],
          [
           0.869281530380249
          ],
          [
           0.8692891597747803
          ],
          [
           0.869294285774231
          ]
         ],
         "yaxis": "y2"
        },
        {
         "mode": "lines",
         "name": "Day 311",
         "showlegend": false,
         "type": "scatter",
         "x": [
          0,
          1,
          2,
          3,
          4,
          5,
          6,
          7,
          8,
          9,
          10,
          11,
          12,
          13,
          14,
          15,
          16,
          17,
          18,
          19,
          20,
          21,
          22,
          23,
          24,
          25,
          26,
          27,
          28,
          29,
          30,
          31,
          32,
          33,
          34,
          35,
          36,
          37,
          38,
          39,
          40,
          41,
          42,
          43,
          44,
          45,
          46,
          47,
          48,
          49,
          50,
          51,
          52,
          53,
          54,
          55,
          56,
          57,
          58,
          59,
          60,
          61,
          62,
          63,
          64,
          65,
          66,
          67,
          68,
          69,
          70,
          71,
          72,
          73,
          74,
          75,
          76,
          77,
          78,
          79,
          80,
          81,
          82,
          83,
          84,
          85,
          86,
          87,
          88,
          89,
          90,
          91,
          92,
          93,
          94,
          95,
          96,
          97,
          98
         ],
         "xaxis": "x2",
         "y": [
          [
           4.970906734466553
          ],
          [
           4.344822406768799
          ],
          [
           3.7850797176361084
          ],
          [
           3.2227110862731934
          ],
          [
           2.643605947494507
          ],
          [
           2.080292224884033
          ],
          [
           1.5895792245864868
          ],
          [
           1.1982933282852173
          ],
          [
           0.9530754685401917
          ],
          [
           0.9277631044387817
          ],
          [
           1.1220518350601196
          ],
          [
           1.3277583122253418
          ],
          [
           1.337211012840271
          ],
          [
           1.1476832628250122
          ],
          [
           0.9326214790344238
          ],
          [
           0.9820983409881592
          ],
          [
           1.0125559568405151
          ],
          [
           0.9620806574821472
          ],
          [
           0.9245349168777466
          ],
          [
           0.9096176028251648
          ],
          [
           0.9083912968635559
          ],
          [
           0.9124055504798889
          ],
          [
           0.9160523414611816
          ],
          [
           0.9167627096176147
          ],
          [
           0.9146028757095337
          ],
          [
           0.9112505912780762
          ],
          [
           0.9086042642593384
          ],
          [
           0.9077715873718262
          ],
          [
           0.908703088760376
          ],
          [
           0.9104679226875305
          ],
          [
           0.9118990898132324
          ],
          [
           0.9122206568717957
          ],
          [
           0.9113576412200928
          ],
          [
           0.9098454117774963
          ],
          [
           0.9084587097167969
          ],
          [
           0.9077861905097961
          ],
          [
           0.9079641103744507
          ],
          [
           0.908676028251648
          ],
          [
           0.9093859195709229
          ],
          [
           0.9096558690071106
          ],
          [
           0.909363865852356
          ],
          [
           0.9087177515029907
          ],
          [
           0.9080858826637268
          ],
          [
           0.9077679514884949
          ],
          [
           0.9078444242477417
          ],
          [
           0.9081696271896362
          ],
          [
           0.908490777015686
          ],
          [
           0.9086039662361145
          ],
          [
           0.9084576964378357
          ],
          [
           0.908155620098114
          ],
          [
           0.907874345779419
          ],
          [
           0.9077512621879578
          ],
          [
           0.9078128337860107
          ],
          [
           0.9079753160476685
          ],
          [
           0.9081109166145325
          ],
          [
           0.9081302881240845
          ],
          [
           0.9080302715301514
          ],
          [
           0.9078804850578308
          ],
          [
           0.907771110534668
          ],
          [
           0.9077518582344055
          ],
          [
           0.9078104496002197
          ],
          [
           0.9078894257545471
          ],
          [
           0.9079294204711914
          ],
          [
           0.9079059362411499
          ],
          [
           0.907839298248291
          ],
          [
           0.9077737927436829
          ],
          [
           0.9077463746070862
          ],
          [
           0.9077634215354919
          ],
          [
           0.9078022241592407
          ],
          [
           0.9078301191329956
          ],
          [
           0.9078269600868225
          ],
          [
           0.9077977538108826
          ],
          [
           0.9077634811401367
          ],
          [
           0.9077455997467041
          ],
          [
           0.9077509641647339
          ],
          [
           0.9077697396278381
          ],
          [
           0.9077847599983215
          ],
          [
           0.9077847599983215
          ],
          [
           0.907770574092865
          ],
          [
           0.9077534079551697
          ],
          [
           0.9077442288398743
          ],
          [
           0.9077469110488892
          ],
          [
           0.9077563285827637
          ],
          [
           0.9077635407447815
          ],
          [
           0.907762885093689
          ],
          [
           0.9077553153038025
          ],
          [
           0.9077468514442444
          ],
          [
           0.9077429175376892
          ],
          [
           0.9077451825141907
          ],
          [
           0.9077500104904175
          ],
          [
           0.9077529907226562
          ],
          [
           0.9077515602111816
          ],
          [
           0.907747209072113
          ],
          [
           0.9077431559562683
          ],
          [
           0.9077421426773071
          ],
          [
           0.9077439308166504
          ],
          [
           0.9077462553977966
          ],
          [
           0.9077470302581787
          ],
          [
           0.9077455401420593
          ]
         ],
         "yaxis": "y2"
        },
        {
         "mode": "lines",
         "name": "Day 342",
         "showlegend": false,
         "type": "scatter",
         "x": [
          0,
          1,
          2,
          3,
          4,
          5,
          6,
          7,
          8,
          9,
          10,
          11,
          12,
          13,
          14,
          15,
          16,
          17,
          18,
          19,
          20,
          21,
          22,
          23,
          24,
          25,
          26,
          27,
          28,
          29,
          30,
          31,
          32,
          33,
          34,
          35,
          36,
          37,
          38,
          39,
          40,
          41,
          42,
          43,
          44,
          45,
          46,
          47,
          48,
          49,
          50,
          51,
          52,
          53,
          54,
          55,
          56,
          57,
          58,
          59,
          60,
          61,
          62,
          63,
          64,
          65,
          66,
          67,
          68,
          69,
          70,
          71,
          72,
          73,
          74,
          75,
          76,
          77,
          78,
          79,
          80,
          81,
          82,
          83,
          84,
          85,
          86,
          87,
          88,
          89,
          90,
          91,
          92,
          93,
          94,
          95,
          96,
          97,
          98
         ],
         "xaxis": "x2",
         "y": [
          [
           5.7327165603637695
          ],
          [
           5.104774475097656
          ],
          [
           4.553974628448486
          ],
          [
           3.9731268882751465
          ],
          [
           3.440674304962158
          ],
          [
           2.953610420227051
          ],
          [
           2.45915150642395
          ],
          [
           1.982110857963562
          ],
          [
           1.5537103414535522
          ],
          [
           1.220418930053711
          ],
          [
           1.0257971286773682
          ],
          [
           1.0202856063842773
          ],
          [
           1.1950627565383911
          ],
          [
           1.377649188041687
          ],
          [
           1.3995612859725952
          ],
          [
           1.2473218441009521
          ],
          [
           1.048439860343933
          ],
          [
           1.0195924043655396
          ],
          [
           1.1242364645004272
          ],
          [
           1.0944291353225708
          ],
          [
           1.0399128198623657
          ],
          [
           1.0060617923736572
          ],
          [
           0.9972591400146484
          ],
          [
           1.002213716506958
          ],
          [
           1.0107150077819824
          ],
          [
           1.0149338245391846
          ],
          [
           1.012467622756958
          ],
          [
           1.0058881044387817
          ],
          [
           0.9996736645698547
          ],
          [
           0.997188925743103
          ],
          [
           0.998742401599884
          ],
          [
           1.0020111799240112
          ],
          [
           1.0046818256378174
          ],
          [
           1.0048346519470215
          ],
          [
           1.0026206970214844
          ],
          [
           0.9996082782745361
          ],
          [
           0.9975473284721375
          ],
          [
           0.9973049759864807
          ],
          [
           0.9985155463218689
          ],
          [
           1.0000154972076416
          ],
          [
           1.0006887912750244
          ],
          [
           1.0001493692398071
          ],
          [
           0.9988498091697693
          ],
          [
           0.9976440072059631
          ],
          [
           0.9971776604652405
          ],
          [
           0.9975266456604004
          ],
          [
           0.9982550144195557
          ],
          [
           0.9987778663635254
          ],
          [
           0.998748779296875
          ],
          [
           0.9982308149337769
          ],
          [
           0.9975881576538086
          ],
          [
           0.9972071051597595
          ],
          [
           0.9972473978996277
          ],
          [
           0.9975728392601013
          ],
          [
           0.9978861212730408
          ],
          [
           0.9979500770568848
          ],
          [
           0.9977381229400635
          ],
          [
           0.9974167943000793
          ],
          [
           0.9972000122070312
          ],
          [
           0.9971950054168701
          ],
          [
           0.9973481893539429
          ],
          [
           0.9975096583366394
          ],
          [
           0.9975516200065613
          ],
          [
           0.9974520802497864
          ],
          [
           0.9972919225692749
          ],
          [
           0.9971821904182434
          ],
          [
           0.9971806406974792
          ],
          [
           0.9972598552703857
          ],
          [
           0.9973393082618713
          ],
          [
           0.9973534345626831
          ],
          [
           0.9972955584526062
          ],
          [
           0.9972144961357117
          ],
          [
           0.997167706489563
          ],
          [
           0.9971778988838196
          ],
          [
           0.9972223043441772
          ],
          [
           0.9972566366195679
          ],
          [
           0.9972528219223022
          ],
          [
           0.997216522693634
          ],
          [
           0.9971773028373718
          ],
          [
           0.9971625804901123
          ],
          [
           0.9971762299537659
          ],
          [
           0.9972000122070312
          ],
          [
           0.997210681438446
          ],
          [
           0.9972001314163208
          ],
          [
           0.9971782565116882
          ],
          [
           0.9971624612808228
          ],
          [
           0.9971624612808228
          ],
          [
           0.9971737265586853
          ],
          [
           0.9971837401390076
          ],
          [
           0.9971830248832703
          ],
          [
           0.997173011302948
          ],
          [
           0.9971621036529541
          ],
          [
           0.9971586465835571
          ],
          [
           0.997162938117981
          ],
          [
           0.9971691370010376
          ],
          [
           0.9971708059310913
          ],
          [
           0.9971665143966675
          ],
          [
           0.9971603155136108
          ],
          [
           0.9971570372581482
          ]
         ],
         "yaxis": "y2"
        }
       ],
       "layout": {
        "annotations": [
         {
          "font": {
           "size": 16
          },
          "showarrow": false,
          "text": "Training Loss during Pretraining",
          "x": 0.5,
          "xanchor": "center",
          "xref": "paper",
          "y": 1,
          "yanchor": "bottom",
          "yref": "paper"
         },
         {
          "font": {
           "size": 16
          },
          "showarrow": false,
          "text": "Training Loss with Transfer Learning",
          "x": 0.5,
          "xanchor": "center",
          "xref": "paper",
          "y": 0.6111111111111112,
          "yanchor": "bottom",
          "yref": "paper"
         },
         {
          "font": {
           "size": 16
          },
          "showarrow": false,
          "text": "Training Loss without Transfer Learning",
          "x": 0.5,
          "xanchor": "center",
          "xref": "paper",
          "y": 0.22222222222222224,
          "yanchor": "bottom",
          "yref": "paper"
         }
        ],
        "height": 800,
        "template": {
         "data": {
          "bar": [
           {
            "error_x": {
             "color": "#2a3f5f"
            },
            "error_y": {
             "color": "#2a3f5f"
            },
            "marker": {
             "line": {
              "color": "#E5ECF6",
              "width": 0.5
             },
             "pattern": {
              "fillmode": "overlay",
              "size": 10,
              "solidity": 0.2
             }
            },
            "type": "bar"
           }
          ],
          "barpolar": [
           {
            "marker": {
             "line": {
              "color": "#E5ECF6",
              "width": 0.5
             },
             "pattern": {
              "fillmode": "overlay",
              "size": 10,
              "solidity": 0.2
             }
            },
            "type": "barpolar"
           }
          ],
          "carpet": [
           {
            "aaxis": {
             "endlinecolor": "#2a3f5f",
             "gridcolor": "white",
             "linecolor": "white",
             "minorgridcolor": "white",
             "startlinecolor": "#2a3f5f"
            },
            "baxis": {
             "endlinecolor": "#2a3f5f",
             "gridcolor": "white",
             "linecolor": "white",
             "minorgridcolor": "white",
             "startlinecolor": "#2a3f5f"
            },
            "type": "carpet"
           }
          ],
          "choropleth": [
           {
            "colorbar": {
             "outlinewidth": 0,
             "ticks": ""
            },
            "type": "choropleth"
           }
          ],
          "contour": [
           {
            "colorbar": {
             "outlinewidth": 0,
             "ticks": ""
            },
            "colorscale": [
             [
              0,
              "#0d0887"
             ],
             [
              0.1111111111111111,
              "#46039f"
             ],
             [
              0.2222222222222222,
              "#7201a8"
             ],
             [
              0.3333333333333333,
              "#9c179e"
             ],
             [
              0.4444444444444444,
              "#bd3786"
             ],
             [
              0.5555555555555556,
              "#d8576b"
             ],
             [
              0.6666666666666666,
              "#ed7953"
             ],
             [
              0.7777777777777778,
              "#fb9f3a"
             ],
             [
              0.8888888888888888,
              "#fdca26"
             ],
             [
              1,
              "#f0f921"
             ]
            ],
            "type": "contour"
           }
          ],
          "contourcarpet": [
           {
            "colorbar": {
             "outlinewidth": 0,
             "ticks": ""
            },
            "type": "contourcarpet"
           }
          ],
          "heatmap": [
           {
            "colorbar": {
             "outlinewidth": 0,
             "ticks": ""
            },
            "colorscale": [
             [
              0,
              "#0d0887"
             ],
             [
              0.1111111111111111,
              "#46039f"
             ],
             [
              0.2222222222222222,
              "#7201a8"
             ],
             [
              0.3333333333333333,
              "#9c179e"
             ],
             [
              0.4444444444444444,
              "#bd3786"
             ],
             [
              0.5555555555555556,
              "#d8576b"
             ],
             [
              0.6666666666666666,
              "#ed7953"
             ],
             [
              0.7777777777777778,
              "#fb9f3a"
             ],
             [
              0.8888888888888888,
              "#fdca26"
             ],
             [
              1,
              "#f0f921"
             ]
            ],
            "type": "heatmap"
           }
          ],
          "heatmapgl": [
           {
            "colorbar": {
             "outlinewidth": 0,
             "ticks": ""
            },
            "colorscale": [
             [
              0,
              "#0d0887"
             ],
             [
              0.1111111111111111,
              "#46039f"
             ],
             [
              0.2222222222222222,
              "#7201a8"
             ],
             [
              0.3333333333333333,
              "#9c179e"
             ],
             [
              0.4444444444444444,
              "#bd3786"
             ],
             [
              0.5555555555555556,
              "#d8576b"
             ],
             [
              0.6666666666666666,
              "#ed7953"
             ],
             [
              0.7777777777777778,
              "#fb9f3a"
             ],
             [
              0.8888888888888888,
              "#fdca26"
             ],
             [
              1,
              "#f0f921"
             ]
            ],
            "type": "heatmapgl"
           }
          ],
          "histogram": [
           {
            "marker": {
             "pattern": {
              "fillmode": "overlay",
              "size": 10,
              "solidity": 0.2
             }
            },
            "type": "histogram"
           }
          ],
          "histogram2d": [
           {
            "colorbar": {
             "outlinewidth": 0,
             "ticks": ""
            },
            "colorscale": [
             [
              0,
              "#0d0887"
             ],
             [
              0.1111111111111111,
              "#46039f"
             ],
             [
              0.2222222222222222,
              "#7201a8"
             ],
             [
              0.3333333333333333,
              "#9c179e"
             ],
             [
              0.4444444444444444,
              "#bd3786"
             ],
             [
              0.5555555555555556,
              "#d8576b"
             ],
             [
              0.6666666666666666,
              "#ed7953"
             ],
             [
              0.7777777777777778,
              "#fb9f3a"
             ],
             [
              0.8888888888888888,
              "#fdca26"
             ],
             [
              1,
              "#f0f921"
             ]
            ],
            "type": "histogram2d"
           }
          ],
          "histogram2dcontour": [
           {
            "colorbar": {
             "outlinewidth": 0,
             "ticks": ""
            },
            "colorscale": [
             [
              0,
              "#0d0887"
             ],
             [
              0.1111111111111111,
              "#46039f"
             ],
             [
              0.2222222222222222,
              "#7201a8"
             ],
             [
              0.3333333333333333,
              "#9c179e"
             ],
             [
              0.4444444444444444,
              "#bd3786"
             ],
             [
              0.5555555555555556,
              "#d8576b"
             ],
             [
              0.6666666666666666,
              "#ed7953"
             ],
             [
              0.7777777777777778,
              "#fb9f3a"
             ],
             [
              0.8888888888888888,
              "#fdca26"
             ],
             [
              1,
              "#f0f921"
             ]
            ],
            "type": "histogram2dcontour"
           }
          ],
          "mesh3d": [
           {
            "colorbar": {
             "outlinewidth": 0,
             "ticks": ""
            },
            "type": "mesh3d"
           }
          ],
          "parcoords": [
           {
            "line": {
             "colorbar": {
              "outlinewidth": 0,
              "ticks": ""
             }
            },
            "type": "parcoords"
           }
          ],
          "pie": [
           {
            "automargin": true,
            "type": "pie"
           }
          ],
          "scatter": [
           {
            "fillpattern": {
             "fillmode": "overlay",
             "size": 10,
             "solidity": 0.2
            },
            "type": "scatter"
           }
          ],
          "scatter3d": [
           {
            "line": {
             "colorbar": {
              "outlinewidth": 0,
              "ticks": ""
             }
            },
            "marker": {
             "colorbar": {
              "outlinewidth": 0,
              "ticks": ""
             }
            },
            "type": "scatter3d"
           }
          ],
          "scattercarpet": [
           {
            "marker": {
             "colorbar": {
              "outlinewidth": 0,
              "ticks": ""
             }
            },
            "type": "scattercarpet"
           }
          ],
          "scattergeo": [
           {
            "marker": {
             "colorbar": {
              "outlinewidth": 0,
              "ticks": ""
             }
            },
            "type": "scattergeo"
           }
          ],
          "scattergl": [
           {
            "marker": {
             "colorbar": {
              "outlinewidth": 0,
              "ticks": ""
             }
            },
            "type": "scattergl"
           }
          ],
          "scattermapbox": [
           {
            "marker": {
             "colorbar": {
              "outlinewidth": 0,
              "ticks": ""
             }
            },
            "type": "scattermapbox"
           }
          ],
          "scatterpolar": [
           {
            "marker": {
             "colorbar": {
              "outlinewidth": 0,
              "ticks": ""
             }
            },
            "type": "scatterpolar"
           }
          ],
          "scatterpolargl": [
           {
            "marker": {
             "colorbar": {
              "outlinewidth": 0,
              "ticks": ""
             }
            },
            "type": "scatterpolargl"
           }
          ],
          "scatterternary": [
           {
            "marker": {
             "colorbar": {
              "outlinewidth": 0,
              "ticks": ""
             }
            },
            "type": "scatterternary"
           }
          ],
          "surface": [
           {
            "colorbar": {
             "outlinewidth": 0,
             "ticks": ""
            },
            "colorscale": [
             [
              0,
              "#0d0887"
             ],
             [
              0.1111111111111111,
              "#46039f"
             ],
             [
              0.2222222222222222,
              "#7201a8"
             ],
             [
              0.3333333333333333,
              "#9c179e"
             ],
             [
              0.4444444444444444,
              "#bd3786"
             ],
             [
              0.5555555555555556,
              "#d8576b"
             ],
             [
              0.6666666666666666,
              "#ed7953"
             ],
             [
              0.7777777777777778,
              "#fb9f3a"
             ],
             [
              0.8888888888888888,
              "#fdca26"
             ],
             [
              1,
              "#f0f921"
             ]
            ],
            "type": "surface"
           }
          ],
          "table": [
           {
            "cells": {
             "fill": {
              "color": "#EBF0F8"
             },
             "line": {
              "color": "white"
             }
            },
            "header": {
             "fill": {
              "color": "#C8D4E3"
             },
             "line": {
              "color": "white"
             }
            },
            "type": "table"
           }
          ]
         },
         "layout": {
          "annotationdefaults": {
           "arrowcolor": "#2a3f5f",
           "arrowhead": 0,
           "arrowwidth": 1
          },
          "autotypenumbers": "strict",
          "coloraxis": {
           "colorbar": {
            "outlinewidth": 0,
            "ticks": ""
           }
          },
          "colorscale": {
           "diverging": [
            [
             0,
             "#8e0152"
            ],
            [
             0.1,
             "#c51b7d"
            ],
            [
             0.2,
             "#de77ae"
            ],
            [
             0.3,
             "#f1b6da"
            ],
            [
             0.4,
             "#fde0ef"
            ],
            [
             0.5,
             "#f7f7f7"
            ],
            [
             0.6,
             "#e6f5d0"
            ],
            [
             0.7,
             "#b8e186"
            ],
            [
             0.8,
             "#7fbc41"
            ],
            [
             0.9,
             "#4d9221"
            ],
            [
             1,
             "#276419"
            ]
           ],
           "sequential": [
            [
             0,
             "#0d0887"
            ],
            [
             0.1111111111111111,
             "#46039f"
            ],
            [
             0.2222222222222222,
             "#7201a8"
            ],
            [
             0.3333333333333333,
             "#9c179e"
            ],
            [
             0.4444444444444444,
             "#bd3786"
            ],
            [
             0.5555555555555556,
             "#d8576b"
            ],
            [
             0.6666666666666666,
             "#ed7953"
            ],
            [
             0.7777777777777778,
             "#fb9f3a"
            ],
            [
             0.8888888888888888,
             "#fdca26"
            ],
            [
             1,
             "#f0f921"
            ]
           ],
           "sequentialminus": [
            [
             0,
             "#0d0887"
            ],
            [
             0.1111111111111111,
             "#46039f"
            ],
            [
             0.2222222222222222,
             "#7201a8"
            ],
            [
             0.3333333333333333,
             "#9c179e"
            ],
            [
             0.4444444444444444,
             "#bd3786"
            ],
            [
             0.5555555555555556,
             "#d8576b"
            ],
            [
             0.6666666666666666,
             "#ed7953"
            ],
            [
             0.7777777777777778,
             "#fb9f3a"
            ],
            [
             0.8888888888888888,
             "#fdca26"
            ],
            [
             1,
             "#f0f921"
            ]
           ]
          },
          "colorway": [
           "#636efa",
           "#EF553B",
           "#00cc96",
           "#ab63fa",
           "#FFA15A",
           "#19d3f3",
           "#FF6692",
           "#B6E880",
           "#FF97FF",
           "#FECB52"
          ],
          "font": {
           "color": "#2a3f5f"
          },
          "geo": {
           "bgcolor": "white",
           "lakecolor": "white",
           "landcolor": "#E5ECF6",
           "showlakes": true,
           "showland": true,
           "subunitcolor": "white"
          },
          "hoverlabel": {
           "align": "left"
          },
          "hovermode": "closest",
          "mapbox": {
           "style": "light"
          },
          "paper_bgcolor": "white",
          "plot_bgcolor": "#E5ECF6",
          "polar": {
           "angularaxis": {
            "gridcolor": "white",
            "linecolor": "white",
            "ticks": ""
           },
           "bgcolor": "#E5ECF6",
           "radialaxis": {
            "gridcolor": "white",
            "linecolor": "white",
            "ticks": ""
           }
          },
          "scene": {
           "xaxis": {
            "backgroundcolor": "#E5ECF6",
            "gridcolor": "white",
            "gridwidth": 2,
            "linecolor": "white",
            "showbackground": true,
            "ticks": "",
            "zerolinecolor": "white"
           },
           "yaxis": {
            "backgroundcolor": "#E5ECF6",
            "gridcolor": "white",
            "gridwidth": 2,
            "linecolor": "white",
            "showbackground": true,
            "ticks": "",
            "zerolinecolor": "white"
           },
           "zaxis": {
            "backgroundcolor": "#E5ECF6",
            "gridcolor": "white",
            "gridwidth": 2,
            "linecolor": "white",
            "showbackground": true,
            "ticks": "",
            "zerolinecolor": "white"
           }
          },
          "shapedefaults": {
           "line": {
            "color": "#2a3f5f"
           }
          },
          "ternary": {
           "aaxis": {
            "gridcolor": "white",
            "linecolor": "white",
            "ticks": ""
           },
           "baxis": {
            "gridcolor": "white",
            "linecolor": "white",
            "ticks": ""
           },
           "bgcolor": "#E5ECF6",
           "caxis": {
            "gridcolor": "white",
            "linecolor": "white",
            "ticks": ""
           }
          },
          "title": {
           "x": 0.05
          },
          "xaxis": {
           "automargin": true,
           "gridcolor": "white",
           "linecolor": "white",
           "ticks": "",
           "title": {
            "standoff": 15
           },
           "zerolinecolor": "white",
           "zerolinewidth": 2
          },
          "yaxis": {
           "automargin": true,
           "gridcolor": "white",
           "linecolor": "white",
           "ticks": "",
           "title": {
            "standoff": 15
           },
           "zerolinecolor": "white",
           "zerolinewidth": 2
          }
         }
        },
        "width": 800,
        "xaxis": {
         "anchor": "y",
         "domain": [
          0,
          1
         ],
         "matches": "x3",
         "showticklabels": false
        },
        "xaxis2": {
         "anchor": "y2",
         "domain": [
          0,
          1
         ],
         "matches": "x3",
         "showticklabels": false
        },
        "xaxis3": {
         "anchor": "y3",
         "domain": [
          0,
          1
         ],
         "title": {
          "text": "Training Epochs"
         }
        },
        "yaxis": {
         "anchor": "x",
         "domain": [
          0.7777777777777778,
          1
         ],
         "range": [
          0,
          0.15
         ],
         "title": {
          "text": "Mean Squared Error"
         }
        },
        "yaxis2": {
         "anchor": "x2",
         "domain": [
          0.3888888888888889,
          0.6111111111111112
         ],
         "range": [
          0,
          0.15
         ],
         "title": {
          "text": "Mean Squared Error"
         }
        },
        "yaxis3": {
         "anchor": "x3",
         "domain": [
          0,
          0.22222222222222224
         ],
         "range": [
          0,
          0.15
         ],
         "title": {
          "text": "Mean Squared Error"
         }
        }
       }
      },
      "text/html": [
       "<div>                            <div id=\"98261284-0209-4f2f-b95c-abc2f8c87c08\" class=\"plotly-graph-div\" style=\"height:800px; width:800px;\"></div>            <script type=\"text/javascript\">                require([\"plotly\"], function(Plotly) {                    window.PLOTLYENV=window.PLOTLYENV || {};                                    if (document.getElementById(\"98261284-0209-4f2f-b95c-abc2f8c87c08\")) {                    Plotly.newPlot(                        \"98261284-0209-4f2f-b95c-abc2f8c87c08\",                        [{\"mode\":\"lines\",\"name\":\"Day 1\",\"showlegend\":false,\"x\":[0,1,2,3,4,5,6,7,8,9,10,11,12,13,14,15,16,17,18,19,20,21,22,23,24,25,26,27,28,29,30,31,32,33,34,35,36,37,38,39,40,41,42,43,44,45,46,47,48,49,50,51,52,53,54,55,56,57,58,59,60,61,62,63,64,65,66,67,68,69,70,71,72,73,74,75,76,77,78,79,80,81,82,83,84,85,86,87,88,89,90,91,92,93,94,95,96,97,98],\"y\":[[11.826045989990234],[11.584888458251953],[11.44571590423584],[11.279258728027344],[11.12564754486084],[10.920154571533203],[10.525195121765137],[9.652652740478516],[8.73025131225586],[7.920444011688232],[7.153014183044434],[6.391311168670654],[5.647003650665283],[4.884533882141113],[4.093874454498291],[3.3478078842163086],[2.6762993335723877],[2.140613555908203],[1.8164321184158325],[1.7681113481521606],[1.9976686239242554],[2.3706464767456055],[2.6362521648406982],[2.596619129180908],[2.2410354614257812],[1.82486891746521],[1.9438825845718384],[1.9373294115066528],[1.833432912826538],[1.7682939767837524],[1.751387119293213],[1.758702278137207],[1.769504427909851],[1.7738385200500488],[1.7703906297683716],[1.762652039527893],[1.7552844285964966],[1.7515435218811035],[1.7521809339523315],[1.7557363510131836],[1.7597171068191528],[1.7619595527648926],[1.7615357637405396],[1.7589064836502075],[1.7554304599761963],[1.752593994140625],[1.751340389251709],[1.7517592906951904],[1.7531975507736206],[1.7546792030334473],[1.7554008960723877],[1.755066156387329],[1.7539294958114624],[1.7525776624679565],[1.7515974044799805],[1.7513043880462646],[1.7516465187072754],[1.7522929906845093],[1.7528382539749146],[1.7529999017715454],[1.7527289390563965],[1.752191424369812],[1.7516539096832275],[1.7513408660888672],[1.7513349056243896],[1.7515581846237183],[1.7518373727798462],[1.752002477645874],[1.7519720792770386],[1.751778483390808],[1.7515312433242798],[1.7513507604599],[1.7513024806976318],[1.7513755559921265],[1.7514994144439697],[1.751591682434082],[1.7516008615493774],[1.7515292167663574],[1.7514206171035767],[1.7513318061828613],[1.7513008117675781],[1.751327395439148],[1.7513827085494995],[1.7514264583587646],[1.75143301486969],[1.751401424407959],[1.7513525485992432],[1.7513130903244019],[1.751300573348999],[1.7513145208358765],[1.7513399124145508],[1.7513582706451416],[1.7513585090637207],[1.7513420581817627],[1.7513195276260376],[1.7513035535812378],[1.7513010501861572],[1.7513097524642944],[1.7513213157653809]],\"type\":\"scatter\",\"xaxis\":\"x2\",\"yaxis\":\"y2\"},{\"mode\":\"lines\",\"name\":\"Day 32\",\"showlegend\":false,\"x\":[0,1,2,3,4,5,6,7,8,9,10,11,12,13,14,15,16,17,18,19,20,21,22,23,24,25,26,27,28,29,30,31,32,33,34,35,36,37,38,39,40,41,42,43,44,45,46,47,48,49,50,51,52,53,54,55,56,57,58,59,60,61,62,63,64,65,66,67,68,69,70,71,72,73,74,75,76,77,78,79,80,81,82,83,84,85,86,87,88,89,90,91,92,93,94,95,96,97,98],\"y\":[[10.30674934387207],[8.959223747253418],[7.797005653381348],[6.783552169799805],[5.851532459259033],[4.911632061004639],[3.987471580505371],[3.1120314598083496],[2.298706531524658],[1.6645570993423462],[1.331889033317566],[1.3830512762069702],[1.7521415948867798],[2.1268463134765625],[2.209294557571411],[1.958894968032837],[1.5457817316055298],[1.3115429878234863],[1.459023118019104],[1.3351898193359375],[1.3485615253448486],[1.3434786796569824],[1.3256990909576416],[1.3101980686187744],[1.305390477180481],[1.3101155757904053],[1.3154828548431396],[1.3154842853546143],[1.3111141920089722],[1.3064260482788086],[1.3043780326843262],[1.305467128753662],[1.307995319366455],[1.3097281455993652],[1.3094555139541626],[1.3075318336486816],[1.305342197418213],[1.3042595386505127],[1.304795742034912],[1.3061819076538086],[1.3070850372314453],[1.3067731857299805],[1.3055970668792725],[1.304516315460205],[1.304244041442871],[1.3047536611557007],[1.3054426908493042],[1.3056976795196533],[1.305346965789795],[1.3047047853469849],[1.3042644262313843],[1.3042913675308228],[1.3046444654464722],[1.3049451112747192],[1.3049217462539673],[1.3046190738677979],[1.3043076992034912],[1.304219126701355],[1.3043622970581055],[1.3045551776885986],[1.3046098947525024],[1.3044884204864502],[1.3043065071105957],[1.3042142391204834],[1.3042616844177246],[1.3043713569641113],[1.3044253587722778],[1.3043756484985352],[1.3042755126953125],[1.3042142391204834],[1.3042320013046265],[1.3042912483215332],[1.3043254613876343],[1.3043022155761719],[1.3042476177215576],[1.3042123317718506],[1.3042209148406982],[1.3042539358139038],[1.304272174835205],[1.3042579889297485],[1.304227352142334],[1.3042097091674805],[1.304216980934143],[1.3042354583740234],[1.3042430877685547],[1.3042328357696533],[1.304215669631958],[1.3042082786560059],[1.304214596748352],[1.3042244911193848],[1.3042263984680176],[1.3042182922363281],[1.304209589958191],[1.304207682609558],[1.3042129278182983],[1.3042174577713013],[1.3042160272598267],[1.3042106628417969],[1.3042066097259521]],\"type\":\"scatter\",\"xaxis\":\"x2\",\"yaxis\":\"y2\"},{\"mode\":\"lines\",\"name\":\"Day 63\",\"showlegend\":false,\"x\":[0,1,2,3,4,5,6,7,8,9,10,11,12,13,14,15,16,17,18,19,20,21,22,23,24,25,26,27,28,29,30,31,32,33,34,35,36,37,38,39,40,41,42,43,44,45,46,47,48,49,50,51,52,53,54,55,56,57,58,59,60,61,62,63,64,65,66,67,68,69,70,71,72,73,74,75,76,77,78,79,80,81,82,83,84,85,86,87,88,89,90,91,92,93,94,95,96,97,98],\"y\":[[11.038872718811035],[9.168540954589844],[8.011480331420898],[7.013214111328125],[6.051184177398682],[5.220701694488525],[4.410154342651367],[3.590289354324341],[2.795381784439087],[2.0897183418273926],[1.5500456094741821],[1.259326457977295],[1.276843786239624],[1.5689976215362549],[1.9440068006515503],[2.158513069152832],[2.104827404022217],[1.8320119380950928],[1.4860886335372925],[1.2530055046081543],[1.2735975980758667],[1.4428608417510986],[1.5070956945419312],[1.4562445878982544],[1.365950345993042],[1.2878806591033936],[1.2405754327774048],[1.2279375791549683],[1.2411973476409912],[1.2634634971618652],[1.2777905464172363],[1.2767071723937988],[1.2632867097854614],[1.245923399925232],[1.2326886653900146],[1.2278153896331787],[1.2309181690216064],[1.2383819818496704],[1.2456752061843872],[1.2493772506713867],[1.248234748840332],[1.2431669235229492],[1.236494779586792],[1.2308241128921509],[1.2279937267303467],[1.2284289598464966],[1.2311205863952637],[1.2342294454574585],[1.2360305786132812],[1.235713005065918],[1.2336180210113525],[1.230868935585022],[1.2286872863769531],[1.2278084754943848],[1.2282483577728271],[1.2294456958770752],[1.2306277751922607],[1.2311854362487793],[1.2309035062789917],[1.229981541633606],[1.228875756263733],[1.2280579805374146],[1.227799415588379],[1.2280751466751099],[1.228615641593933],[1.2290712594985962],[1.2291948795318604],[1.2289485931396484],[1.2284873723983765],[1.2280479669570923],[1.227815866470337],[1.2278435230255127],[1.2280471324920654],[1.2282744646072388],[1.2283904552459717],[1.2283414602279663],[1.228166103363037],[1.2279618978500366],[1.2278252840042114],[1.2278034687042236],[1.2278776168823242],[1.227982759475708],[1.228049635887146],[1.228041648864746],[1.2279692888259888],[1.2278770208358765],[1.2278120517730713],[1.227799654006958],[1.2278320789337158],[1.227879285812378],[1.2279092073440552],[1.2279046773910522],[1.2278716564178467],[1.2278302907943726],[1.2278025150299072],[1.2277992963790894],[1.227815866470337],[1.2278369665145874],[1.2278485298156738]],\"type\":\"scatter\",\"xaxis\":\"x2\",\"yaxis\":\"y2\"},{\"mode\":\"lines\",\"name\":\"Day 94\",\"showlegend\":false,\"x\":[0,1,2,3,4,5,6,7,8,9,10,11,12,13,14,15,16,17,18,19,20,21,22,23,24,25,26,27,28,29,30,31,32,33,34,35,36,37,38,39,40,41,42,43,44,45,46,47,48,49,50,51,52,53,54,55,56,57,58,59,60,61,62,63,64,65,66,67,68,69,70,71,72,73,74,75,76,77,78,79,80,81,82,83,84,85,86,87,88,89,90,91,92,93,94,95,96,97,98],\"y\":[[8.74398136138916],[8.168585777282715],[7.8057780265808105],[7.327324867248535],[6.824880123138428],[6.308468341827393],[5.770962238311768],[5.209506034851074],[4.650713920593262],[4.052816390991211],[3.358536720275879],[2.6690430641174316],[2.0494935512542725],[1.538118839263916],[1.202688217163086],[1.1262307167053223],[1.3331212997436523],[1.6653947830200195],[1.8446272611618042],[1.7411202192306519],[1.430027961730957],[1.144227147102356],[1.2443554401397705],[1.2994779348373413],[1.2161509990692139],[1.1465789079666138],[1.123644232749939],[1.1176598072052002],[1.1214386224746704],[1.1276686191558838],[1.1312872171401978],[1.1301906108856201],[1.12639319896698],[1.1217029094696045],[1.1184197664260864],[1.1176997423171997],[1.1192063093185425],[1.1216018199920654],[1.1233899593353271],[1.1236591339111328],[1.1223995685577393],[1.120335578918457],[1.118531346321106],[1.1176652908325195],[1.1178778409957886],[1.118769884109497],[1.1196880340576172],[1.12008798122406],[1.119791865348816],[1.1190145015716553],[1.1181846857070923],[1.117685079574585],[1.1176646947860718],[1.1180059909820557],[1.118431568145752],[1.1186740398406982],[1.118610143661499],[1.118299126625061],[1.1179211139678955],[1.117664098739624],[1.1176220178604126],[1.1177611351013184],[1.1179559230804443],[1.1180740594863892],[1.118049144744873],[1.1179070472717285],[1.1177358627319336],[1.1176257133483887],[1.1176176071166992],[1.117688775062561],[1.1177761554718018],[1.1178200244903564],[1.1177958250045776],[1.1177233457565308],[1.1176478862762451],[1.1176085472106934],[1.1176177263259888],[1.1176568269729614],[1.117693543434143],[1.1177024841308594],[1.1176798343658447],[1.1176421642303467],[1.117612600326538],[1.117605209350586],[1.117618441581726],[1.117638349533081],[1.1176494359970093],[1.1176446676254272],[1.1176283359527588],[1.117611289024353],[1.1176033020019531],[1.1176068782806396],[1.1176161766052246],[1.1176234483718872],[1.117623209953308],[1.1176161766052246],[1.1176074743270874],[1.1176023483276367],[1.117603063583374]],\"type\":\"scatter\",\"xaxis\":\"x2\",\"yaxis\":\"y2\"},{\"mode\":\"lines\",\"name\":\"Day 125\",\"showlegend\":false,\"x\":[0,1,2,3,4,5,6,7,8,9,10,11,12,13,14,15,16,17,18,19,20,21,22,23,24,25,26,27,28,29,30,31,32,33,34,35,36,37,38,39,40,41,42,43,44,45,46,47,48,49,50,51,52,53,54,55,56,57,58,59,60,61,62,63,64,65,66,67,68,69,70,71,72,73,74,75,76,77,78,79,80,81,82,83,84,85,86,87,88,89,90,91,92,93,94,95,96,97,98],\"y\":[[8.642631530761719],[7.6483988761901855],[6.622541427612305],[5.834095001220703],[5.116307258605957],[4.400346755981445],[3.6884124279022217],[2.9819018840789795],[2.312857151031494],[1.7246131896972656],[1.2830592393875122],[1.0602922439575195],[1.1143057346343994],[1.3962827920913696],[1.7124238014221191],[1.8524025678634644],[1.7524144649505615],[1.4811468124389648],[1.166414499282837],[1.0538259744644165],[1.1776319742202759],[1.1579344272613525],[1.1124309301376343],[1.0799918174743652],[1.0610271692276],[1.05097234249115],[1.0467220544815063],[1.0460445880889893],[1.0470167398452759],[1.0482079982757568],[1.0488029718399048],[1.0486189126968384],[1.0478577613830566],[1.0469272136688232],[1.0462149381637573],[1.0459381341934204],[1.0460984706878662],[1.0465266704559326],[1.0469799041748047],[1.0472426414489746],[1.0471688508987427],[1.0466135740280151],[1.0460171699523926],[1.0459940433502197],[1.0464110374450684],[1.04666006565094],[1.0464674234390259],[1.046094536781311],[1.045920968055725],[1.0460522174835205],[1.0462695360183716],[1.0463147163391113],[1.0461575984954834],[1.0459703207015991],[1.0459247827529907],[1.0460249185562134],[1.0461291074752808],[1.0461184978485107],[1.0460138320922852],[1.0459275245666504],[1.045932412147522],[1.0459980964660645],[1.0460400581359863],[1.0460140705108643],[1.0459524393081665],[1.0459175109863281],[1.0459345579147339],[1.0459723472595215],[1.045984148979187],[1.0459585189819336],[1.045925498008728],[1.0459171533584595],[1.0459345579147339],[1.0459527969360352],[1.0459500551223755],[1.0459309816360474],[1.0459166765213013],[1.0459191799163818],[1.0459315776824951],[1.0459370613098145],[1.0459299087524414],[1.0459188222885132],[1.0459153652191162],[1.045920729637146],[1.0459266901016235],[1.0459256172180176],[1.0459192991256714],[1.0459147691726685],[1.045916199684143],[1.0459202527999878],[1.0459214448928833],[1.045918345451355],[1.045914888381958],[1.0459145307540894],[1.0459167957305908],[1.0459182262420654],[1.0459171533584595],[1.0459147691726685],[1.0459140539169312]],\"type\":\"scatter\",\"xaxis\":\"x2\",\"yaxis\":\"y2\"},{\"mode\":\"lines\",\"name\":\"Day 156\",\"showlegend\":false,\"x\":[0,1,2,3,4,5,6,7,8,9,10,11,12,13,14,15,16,17,18,19,20,21,22,23,24,25,26,27,28,29,30,31,32,33,34,35,36,37,38,39,40,41,42,43,44,45,46,47,48,49,50,51,52,53,54,55,56,57,58,59,60,61,62,63,64,65,66,67,68,69,70,71,72,73,74,75,76,77,78,79,80,81,82,83,84,85,86,87,88,89,90,91,92,93,94,95,96,97,98],\"y\":[[6.959569454193115],[6.323851585388184],[5.681726455688477],[5.0027008056640625],[4.238992214202881],[3.40397310256958],[2.55855131149292],[1.719337821006775],[1.1324372291564941],[0.989173412322998],[1.2611708641052246],[1.5579780340194702],[1.5417494773864746],[1.2765388488769531],[1.0205155611038208],[1.0357036590576172],[1.1336708068847656],[1.114905595779419],[1.0536680221557617],[1.0092225074768066],[0.984983503818512],[0.980305016040802],[0.9878957867622375],[0.9971833229064941],[0.9981004595756531],[0.9920226335525513],[0.9855424761772156],[0.9807837605476379],[0.9800437688827515],[0.9826366901397705],[0.9860077500343323],[0.9876824021339417],[0.9867175817489624],[0.983940601348877],[0.9811203479766846],[0.9800448417663574],[0.9814037084579468],[0.9828519225120544],[0.9833377003669739],[0.9826018214225769],[0.9812277555465698],[0.9801159501075745],[0.9798412322998047],[0.9803436398506165],[0.9810866713523865],[0.9814860224723816],[0.981286883354187],[0.9806692004203796],[0.9800609946250916],[0.9798215627670288],[0.9800102710723877],[0.9803884029388428],[0.980627179145813],[0.9805517196655273],[0.9802418351173401],[0.9799328446388245],[0.979820966720581],[0.9799291491508484],[0.9801209568977356],[0.9802263379096985],[0.980168342590332],[0.9800029993057251],[0.979857325553894],[0.9798238277435303],[0.9798974394798279],[0.9799936413764954],[0.9800256490707397],[0.9799715876579285],[0.9798809289932251],[0.9798240661621094],[0.9798329472541809],[0.9798832535743713],[0.9799225926399231],[0.9799168705940247],[0.9798744320869446],[0.9798319935798645],[0.9798202514648438],[0.9798403382301331],[0.9798669219017029],[0.9798742532730103],[0.9798570871353149],[0.9798319935798645],[0.9798195362091064],[0.9798261523246765],[0.9798411726951599],[0.9798485040664673],[0.9798421263694763],[0.9798285365104675],[0.9798197150230408],[0.9798215627670288],[0.9798295497894287],[0.9798346161842346],[0.9798320531845093],[0.9798247218132019],[0.9798194169998169],[0.9798201322555542],[0.979824423789978],[0.979827344417572],[0.9798259139060974]],\"type\":\"scatter\",\"xaxis\":\"x2\",\"yaxis\":\"y2\"},{\"mode\":\"lines\",\"name\":\"Day 187\",\"showlegend\":false,\"x\":[0,1,2,3,4,5,6,7,8,9,10,11,12,13,14,15,16,17,18,19,20,21,22,23,24,25,26,27,28,29,30,31,32,33,34,35,36,37,38,39,40,41,42,43,44,45,46,47,48,49,50,51,52,53,54,55,56,57,58,59,60,61,62,63,64,65,66,67,68,69,70,71,72,73,74,75,76,77,78,79,80,81,82,83,84,85,86,87,88,89,90,91,92,93,94,95,96,97,98],\"y\":[[6.458298206329346],[5.066972255706787],[3.9074203968048096],[2.815821886062622],[1.9159421920776367],[1.2790347337722778],[0.9510725140571594],[1.0377116203308105],[1.2807483673095703],[1.2489136457443237],[1.0480988025665283],[0.9220549464225769],[1.0325464010238647],[1.0018703937530518],[0.9307536482810974],[0.9233183860778809],[0.9463669657707214],[0.9540039300918579],[0.9398878216743469],[0.9225708842277527],[0.9191479086875916],[0.9287045001983643],[0.9373738169670105],[0.9353554248809814],[0.9258400797843933],[0.9187732934951782],[0.9197332859039307],[0.9254343509674072],[0.928606390953064],[0.9259790778160095],[0.9207466840744019],[0.9180952906608582],[0.9197164177894592],[0.9228347539901733],[0.9237713813781738],[0.9216951131820679],[0.9189131259918213],[0.9180552959442139],[0.9194126725196838],[0.921001136302948],[0.9209529757499695],[0.9194340109825134],[0.9181234240531921],[0.918194591999054],[0.9191935062408447],[0.9197920560836792],[0.9193267822265625],[0.9183753132820129],[0.9179449677467346],[0.918325662612915],[0.9188863635063171],[0.9189119935035706],[0.9184049963951111],[0.9179652333259583],[0.9180193543434143],[0.918370246887207],[0.9185278415679932],[0.9183081984519958],[0.9179918766021729],[0.9179264307022095],[0.9181137681007385],[0.9182628989219666],[0.9181790947914124],[0.9179799556732178],[0.917902410030365],[0.917998194694519],[0.9181035757064819],[0.9180729985237122],[0.9179530143737793],[0.9178932309150696],[0.9179444909095764],[0.9180120229721069],[0.9179975986480713],[0.9179245233535767],[0.9178872108459473],[0.9179187417030334],[0.9179589748382568],[0.9179478883743286],[0.9179024696350098],[0.9178823232650757],[0.9179040789604187],[0.9179263114929199],[0.9179151058197021],[0.9178869724273682],[0.9178789258003235],[0.917894721031189],[0.9179052710533142],[0.9178942441940308],[0.917877733707428],[0.9178768396377563],[0.9178875684738159],[0.9178906679153442],[0.9178810119628906],[0.9178724884986877],[0.9178751707077026],[0.917881429195404],[0.9178800582885742],[0.9178729057312012],[0.9178698062896729]],\"type\":\"scatter\",\"xaxis\":\"x2\",\"yaxis\":\"y2\"},{\"mode\":\"lines\",\"name\":\"Day 218\",\"showlegend\":false,\"x\":[0,1,2,3,4,5,6,7,8,9,10,11,12,13,14,15,16,17,18,19,20,21,22,23,24,25,26,27,28,29,30,31,32,33,34,35,36,37,38,39,40,41,42,43,44,45,46,47,48,49,50,51,52,53,54,55,56,57,58,59,60,61,62,63,64,65,66,67,68,69,70,71,72,73,74,75,76,77,78,79,80,81,82,83,84,85,86,87,88,89,90,91,92,93,94,95,96,97,98],\"y\":[[7.246922492980957],[6.2080979347229],[5.002449035644531],[3.797697067260742],[2.7040796279907227],[1.8542616367340088],[1.217840313911438],[0.8966957926750183],[0.9639351963996887],[1.2922548055648804],[1.5142581462860107],[1.3964992761611938],[1.062632441520691],[0.8789966702461243],[1.0807480812072754],[0.9576160311698914],[0.8907579183578491],[0.8759583830833435],[0.8811593055725098],[0.8885523676872253],[0.8899914026260376],[0.8854029178619385],[0.8792239427566528],[0.875848114490509],[0.8767467141151428],[0.8802538514137268],[0.8833601474761963],[0.8839006423950195],[0.8817100524902344],[0.8779314160346985],[0.8758458495140076],[0.8760255575180054],[0.8776251077651978],[0.8790873289108276],[0.879195511341095],[0.8779692053794861],[0.8764409422874451],[0.8756821155548096],[0.8760008811950684],[0.8768737316131592],[0.87748783826828],[0.877372682094574],[0.8766704201698303],[0.8759335279464722],[0.8756633996963501],[0.8759397268295288],[0.876408576965332],[0.8766188621520996],[0.8764044046401978],[0.8759770393371582],[0.8756875991821289],[0.8757139444351196],[0.8759490251541138],[0.8761406540870667],[0.876119077205658],[0.875918447971344],[0.8757157921791077],[0.8756633996963501],[0.8757645487785339],[0.8758921027183533],[0.8759172558784485],[0.8758240938186646],[0.8757044672966003],[0.8756585717201233],[0.8757044076919556],[0.8757767081260681],[0.8757991790771484],[0.8757538795471191],[0.8756873607635498],[0.8756577968597412],[0.8756810426712036],[0.8757215738296509],[0.875734269618988],[0.875708281993866],[0.8756714463233948],[0.8756574392318726],[0.8756726384162903],[0.8756944537162781],[0.8756983876228333],[0.8756817579269409],[0.875662088394165],[0.8756576180458069],[0.8756681680679321],[0.8756791949272156],[0.8756781220436096],[0.8756669759750366],[0.8756575584411621],[0.8756581544876099],[0.8756653070449829],[0.8756697177886963],[0.8756665587425232],[0.8756597638130188],[0.875656247138977],[0.8756585717201233],[0.8756626844406128],[0.8756633400917053],[0.8756600022315979],[0.8756565451622009],[0.8756563067436218]],\"type\":\"scatter\",\"xaxis\":\"x2\",\"yaxis\":\"y2\"},{\"mode\":\"lines\",\"name\":\"Day 249\",\"showlegend\":false,\"x\":[0,1,2,3,4,5,6,7,8,9,10,11,12,13,14,15,16,17,18,19,20,21,22,23,24,25,26,27,28,29,30,31,32,33,34,35,36,37,38,39,40,41,42,43,44,45,46,47,48,49,50,51,52,53,54,55,56,57,58,59,60,61,62,63,64,65,66,67,68,69,70,71,72,73,74,75,76,77,78,79,80,81,82,83,84,85,86,87,88,89,90,91,92,93,94,95,96,97,98],\"y\":[[6.610946178436279],[5.639383792877197],[4.51644229888916],[3.3471243381500244],[2.3903584480285645],[1.7147408723831177],[1.215580701828003],[0.9192559123039246],[0.8712430596351624],[1.0461292266845703],[1.249640941619873],[1.2715003490447998],[1.1024158000946045],[0.8901429176330566],[0.9487294554710388],[0.959003210067749],[0.8922716379165649],[0.8622569441795349],[0.8580294251441956],[0.8634918928146362],[0.8674837946891785],[0.8674008846282959],[0.863550066947937],[0.8592203259468079],[0.85733562707901],[0.8588411808013916],[0.8611215353012085],[0.8630021214485168],[0.8627712726593018],[0.8607909679412842],[0.8585058450698853],[0.8572704195976257],[0.8575106859207153],[0.8586435914039612],[0.85964035987854],[0.8597708940505981],[0.8590168356895447],[0.8579481244087219],[0.857246458530426],[0.8572404384613037],[0.8577484488487244],[0.858284592628479],[0.8584330677986145],[0.8581147789955139],[0.8575852513313293],[0.8572030067443848],[0.8571678996086121],[0.8574100136756897],[0.8576821088790894],[0.857761025428772],[0.8576003909111023],[0.8573346138000488],[0.8571521639823914],[0.8571515083312988],[0.8572845458984375],[0.8574153184890747],[0.8574339747428894],[0.857333779335022],[0.8571985363960266],[0.8571252822875977],[0.8571487665176392],[0.8572251796722412],[0.8572784662246704],[0.8572639226913452],[0.8571981191635132],[0.8571354746818542],[0.8571190237998962],[0.8571485280990601],[0.8571875691413879],[0.8571985960006714],[0.8571738004684448],[0.8571360111236572],[0.8571149706840515],[0.8571220636367798],[0.8571435213088989],[0.8571562767028809],[0.8571487665176392],[0.8571286797523499],[0.8571133017539978],[0.8571130037307739],[0.8571237325668335],[0.8571324944496155],[0.8571305871009827],[0.8571202754974365],[0.8571107387542725],[0.8571091890335083],[0.857114315032959],[0.8571195006370544],[0.8571190237998962],[0.8571134209632874],[0.857107937335968],[0.8571068048477173],[0.8571094870567322],[0.8571121692657471],[0.8571118712425232],[0.8571085929870605],[0.8571054339408875],[0.8571048974990845],[0.8571063876152039]],\"type\":\"scatter\",\"xaxis\":\"x2\",\"yaxis\":\"y2\"},{\"mode\":\"lines\",\"name\":\"Day 280\",\"showlegend\":false,\"x\":[0,1,2,3,4,5,6,7,8,9,10,11,12,13,14,15,16,17,18,19,20,21,22,23,24,25,26,27,28,29,30,31,32,33,34,35,36,37,38,39,40,41,42,43,44,45,46,47,48,49,50,51,52,53,54,55,56,57,58,59,60,61,62,63,64,65,66,67,68,69,70,71,72,73,74,75,76,77,78,79,80,81,82,83,84,85,86,87,88,89,90,91,92,93,94,95,96,97,98],\"y\":[[7.583564281463623],[6.935736179351807],[6.381959915161133],[5.773106098175049],[5.108879089355469],[4.5030012130737305],[3.9395177364349365],[3.3802380561828613],[2.821462631225586],[2.272101879119873],[1.768858551979065],[1.3423311710357666],[1.0336110591888428],[0.8994500041007996],[0.9724273681640625],[1.1908366680145264],[1.3827399015426636],[1.4064587354660034],[1.2518631219863892],[1.0194636583328247],[0.8858503699302673],[0.9767932295799255],[1.0339481830596924],[0.9931066036224365],[0.9307331442832947],[0.8875072598457336],[0.8718208074569702],[0.8742034435272217],[0.8822745084762573],[0.8880025744438171],[0.8887526392936707],[0.8856217861175537],[0.8806003928184509],[0.8753679394721985],[0.8715360164642334],[0.870173454284668],[0.8713304400444031],[0.8740283846855164],[0.8765992522239685],[0.877615213394165],[0.8766500949859619],[0.8742920160293579],[0.871687650680542],[0.8699040412902832],[0.8694515228271484],[0.8700800538063049],[0.8711410760879517],[0.8719884753227234],[0.8722642064094543],[0.8719618320465088],[0.8712567090988159],[0.8704013228416443],[0.8696845769882202],[0.8693568706512451],[0.8694988489151001],[0.8699507713317871],[0.8703989386558533],[0.8705722689628601],[0.8704000115394592],[0.8700153827667236],[0.8696309924125671],[0.869398832321167],[0.869354784488678],[0.8694491386413574],[0.8696022629737854],[0.8697346448898315],[0.8697808384895325],[0.8697108626365662],[0.8695538640022278],[0.8693879246711731],[0.8692948222160339],[0.8693053722381592],[0.869384765625],[0.8694658875465393],[0.8694981336593628],[0.869472861289978],[0.869412899017334],[0.8693492412567139],[0.8693050146102905],[0.8692919015884399],[0.8693090081214905],[0.869342565536499],[0.8693695068359375],[0.8693714737892151],[0.8693467378616333],[0.8693113327026367],[0.8692863583564758],[0.8692814707756042],[0.8692925572395325],[0.8693075180053711],[0.8693161606788635],[0.8693150281906128],[0.8693057298660278],[0.8692927360534668],[0.8692816495895386],[0.8692776560783386],[0.869281530380249],[0.8692891597747803],[0.869294285774231]],\"type\":\"scatter\",\"xaxis\":\"x2\",\"yaxis\":\"y2\"},{\"mode\":\"lines\",\"name\":\"Day 311\",\"showlegend\":false,\"x\":[0,1,2,3,4,5,6,7,8,9,10,11,12,13,14,15,16,17,18,19,20,21,22,23,24,25,26,27,28,29,30,31,32,33,34,35,36,37,38,39,40,41,42,43,44,45,46,47,48,49,50,51,52,53,54,55,56,57,58,59,60,61,62,63,64,65,66,67,68,69,70,71,72,73,74,75,76,77,78,79,80,81,82,83,84,85,86,87,88,89,90,91,92,93,94,95,96,97,98],\"y\":[[4.970906734466553],[4.344822406768799],[3.7850797176361084],[3.2227110862731934],[2.643605947494507],[2.080292224884033],[1.5895792245864868],[1.1982933282852173],[0.9530754685401917],[0.9277631044387817],[1.1220518350601196],[1.3277583122253418],[1.337211012840271],[1.1476832628250122],[0.9326214790344238],[0.9820983409881592],[1.0125559568405151],[0.9620806574821472],[0.9245349168777466],[0.9096176028251648],[0.9083912968635559],[0.9124055504798889],[0.9160523414611816],[0.9167627096176147],[0.9146028757095337],[0.9112505912780762],[0.9086042642593384],[0.9077715873718262],[0.908703088760376],[0.9104679226875305],[0.9118990898132324],[0.9122206568717957],[0.9113576412200928],[0.9098454117774963],[0.9084587097167969],[0.9077861905097961],[0.9079641103744507],[0.908676028251648],[0.9093859195709229],[0.9096558690071106],[0.909363865852356],[0.9087177515029907],[0.9080858826637268],[0.9077679514884949],[0.9078444242477417],[0.9081696271896362],[0.908490777015686],[0.9086039662361145],[0.9084576964378357],[0.908155620098114],[0.907874345779419],[0.9077512621879578],[0.9078128337860107],[0.9079753160476685],[0.9081109166145325],[0.9081302881240845],[0.9080302715301514],[0.9078804850578308],[0.907771110534668],[0.9077518582344055],[0.9078104496002197],[0.9078894257545471],[0.9079294204711914],[0.9079059362411499],[0.907839298248291],[0.9077737927436829],[0.9077463746070862],[0.9077634215354919],[0.9078022241592407],[0.9078301191329956],[0.9078269600868225],[0.9077977538108826],[0.9077634811401367],[0.9077455997467041],[0.9077509641647339],[0.9077697396278381],[0.9077847599983215],[0.9077847599983215],[0.907770574092865],[0.9077534079551697],[0.9077442288398743],[0.9077469110488892],[0.9077563285827637],[0.9077635407447815],[0.907762885093689],[0.9077553153038025],[0.9077468514442444],[0.9077429175376892],[0.9077451825141907],[0.9077500104904175],[0.9077529907226562],[0.9077515602111816],[0.907747209072113],[0.9077431559562683],[0.9077421426773071],[0.9077439308166504],[0.9077462553977966],[0.9077470302581787],[0.9077455401420593]],\"type\":\"scatter\",\"xaxis\":\"x2\",\"yaxis\":\"y2\"},{\"mode\":\"lines\",\"name\":\"Day 342\",\"showlegend\":false,\"x\":[0,1,2,3,4,5,6,7,8,9,10,11,12,13,14,15,16,17,18,19,20,21,22,23,24,25,26,27,28,29,30,31,32,33,34,35,36,37,38,39,40,41,42,43,44,45,46,47,48,49,50,51,52,53,54,55,56,57,58,59,60,61,62,63,64,65,66,67,68,69,70,71,72,73,74,75,76,77,78,79,80,81,82,83,84,85,86,87,88,89,90,91,92,93,94,95,96,97,98],\"y\":[[5.7327165603637695],[5.104774475097656],[4.553974628448486],[3.9731268882751465],[3.440674304962158],[2.953610420227051],[2.45915150642395],[1.982110857963562],[1.5537103414535522],[1.220418930053711],[1.0257971286773682],[1.0202856063842773],[1.1950627565383911],[1.377649188041687],[1.3995612859725952],[1.2473218441009521],[1.048439860343933],[1.0195924043655396],[1.1242364645004272],[1.0944291353225708],[1.0399128198623657],[1.0060617923736572],[0.9972591400146484],[1.002213716506958],[1.0107150077819824],[1.0149338245391846],[1.012467622756958],[1.0058881044387817],[0.9996736645698547],[0.997188925743103],[0.998742401599884],[1.0020111799240112],[1.0046818256378174],[1.0048346519470215],[1.0026206970214844],[0.9996082782745361],[0.9975473284721375],[0.9973049759864807],[0.9985155463218689],[1.0000154972076416],[1.0006887912750244],[1.0001493692398071],[0.9988498091697693],[0.9976440072059631],[0.9971776604652405],[0.9975266456604004],[0.9982550144195557],[0.9987778663635254],[0.998748779296875],[0.9982308149337769],[0.9975881576538086],[0.9972071051597595],[0.9972473978996277],[0.9975728392601013],[0.9978861212730408],[0.9979500770568848],[0.9977381229400635],[0.9974167943000793],[0.9972000122070312],[0.9971950054168701],[0.9973481893539429],[0.9975096583366394],[0.9975516200065613],[0.9974520802497864],[0.9972919225692749],[0.9971821904182434],[0.9971806406974792],[0.9972598552703857],[0.9973393082618713],[0.9973534345626831],[0.9972955584526062],[0.9972144961357117],[0.997167706489563],[0.9971778988838196],[0.9972223043441772],[0.9972566366195679],[0.9972528219223022],[0.997216522693634],[0.9971773028373718],[0.9971625804901123],[0.9971762299537659],[0.9972000122070312],[0.997210681438446],[0.9972001314163208],[0.9971782565116882],[0.9971624612808228],[0.9971624612808228],[0.9971737265586853],[0.9971837401390076],[0.9971830248832703],[0.997173011302948],[0.9971621036529541],[0.9971586465835571],[0.997162938117981],[0.9971691370010376],[0.9971708059310913],[0.9971665143966675],[0.9971603155136108],[0.9971570372581482]],\"type\":\"scatter\",\"xaxis\":\"x2\",\"yaxis\":\"y2\"}],                        {\"template\":{\"data\":{\"histogram2dcontour\":[{\"type\":\"histogram2dcontour\",\"colorbar\":{\"outlinewidth\":0,\"ticks\":\"\"},\"colorscale\":[[0.0,\"#0d0887\"],[0.1111111111111111,\"#46039f\"],[0.2222222222222222,\"#7201a8\"],[0.3333333333333333,\"#9c179e\"],[0.4444444444444444,\"#bd3786\"],[0.5555555555555556,\"#d8576b\"],[0.6666666666666666,\"#ed7953\"],[0.7777777777777778,\"#fb9f3a\"],[0.8888888888888888,\"#fdca26\"],[1.0,\"#f0f921\"]]}],\"choropleth\":[{\"type\":\"choropleth\",\"colorbar\":{\"outlinewidth\":0,\"ticks\":\"\"}}],\"histogram2d\":[{\"type\":\"histogram2d\",\"colorbar\":{\"outlinewidth\":0,\"ticks\":\"\"},\"colorscale\":[[0.0,\"#0d0887\"],[0.1111111111111111,\"#46039f\"],[0.2222222222222222,\"#7201a8\"],[0.3333333333333333,\"#9c179e\"],[0.4444444444444444,\"#bd3786\"],[0.5555555555555556,\"#d8576b\"],[0.6666666666666666,\"#ed7953\"],[0.7777777777777778,\"#fb9f3a\"],[0.8888888888888888,\"#fdca26\"],[1.0,\"#f0f921\"]]}],\"heatmap\":[{\"type\":\"heatmap\",\"colorbar\":{\"outlinewidth\":0,\"ticks\":\"\"},\"colorscale\":[[0.0,\"#0d0887\"],[0.1111111111111111,\"#46039f\"],[0.2222222222222222,\"#7201a8\"],[0.3333333333333333,\"#9c179e\"],[0.4444444444444444,\"#bd3786\"],[0.5555555555555556,\"#d8576b\"],[0.6666666666666666,\"#ed7953\"],[0.7777777777777778,\"#fb9f3a\"],[0.8888888888888888,\"#fdca26\"],[1.0,\"#f0f921\"]]}],\"heatmapgl\":[{\"type\":\"heatmapgl\",\"colorbar\":{\"outlinewidth\":0,\"ticks\":\"\"},\"colorscale\":[[0.0,\"#0d0887\"],[0.1111111111111111,\"#46039f\"],[0.2222222222222222,\"#7201a8\"],[0.3333333333333333,\"#9c179e\"],[0.4444444444444444,\"#bd3786\"],[0.5555555555555556,\"#d8576b\"],[0.6666666666666666,\"#ed7953\"],[0.7777777777777778,\"#fb9f3a\"],[0.8888888888888888,\"#fdca26\"],[1.0,\"#f0f921\"]]}],\"contourcarpet\":[{\"type\":\"contourcarpet\",\"colorbar\":{\"outlinewidth\":0,\"ticks\":\"\"}}],\"contour\":[{\"type\":\"contour\",\"colorbar\":{\"outlinewidth\":0,\"ticks\":\"\"},\"colorscale\":[[0.0,\"#0d0887\"],[0.1111111111111111,\"#46039f\"],[0.2222222222222222,\"#7201a8\"],[0.3333333333333333,\"#9c179e\"],[0.4444444444444444,\"#bd3786\"],[0.5555555555555556,\"#d8576b\"],[0.6666666666666666,\"#ed7953\"],[0.7777777777777778,\"#fb9f3a\"],[0.8888888888888888,\"#fdca26\"],[1.0,\"#f0f921\"]]}],\"surface\":[{\"type\":\"surface\",\"colorbar\":{\"outlinewidth\":0,\"ticks\":\"\"},\"colorscale\":[[0.0,\"#0d0887\"],[0.1111111111111111,\"#46039f\"],[0.2222222222222222,\"#7201a8\"],[0.3333333333333333,\"#9c179e\"],[0.4444444444444444,\"#bd3786\"],[0.5555555555555556,\"#d8576b\"],[0.6666666666666666,\"#ed7953\"],[0.7777777777777778,\"#fb9f3a\"],[0.8888888888888888,\"#fdca26\"],[1.0,\"#f0f921\"]]}],\"mesh3d\":[{\"type\":\"mesh3d\",\"colorbar\":{\"outlinewidth\":0,\"ticks\":\"\"}}],\"scatter\":[{\"fillpattern\":{\"fillmode\":\"overlay\",\"size\":10,\"solidity\":0.2},\"type\":\"scatter\"}],\"parcoords\":[{\"type\":\"parcoords\",\"line\":{\"colorbar\":{\"outlinewidth\":0,\"ticks\":\"\"}}}],\"scatterpolargl\":[{\"type\":\"scatterpolargl\",\"marker\":{\"colorbar\":{\"outlinewidth\":0,\"ticks\":\"\"}}}],\"bar\":[{\"error_x\":{\"color\":\"#2a3f5f\"},\"error_y\":{\"color\":\"#2a3f5f\"},\"marker\":{\"line\":{\"color\":\"#E5ECF6\",\"width\":0.5},\"pattern\":{\"fillmode\":\"overlay\",\"size\":10,\"solidity\":0.2}},\"type\":\"bar\"}],\"scattergeo\":[{\"type\":\"scattergeo\",\"marker\":{\"colorbar\":{\"outlinewidth\":0,\"ticks\":\"\"}}}],\"scatterpolar\":[{\"type\":\"scatterpolar\",\"marker\":{\"colorbar\":{\"outlinewidth\":0,\"ticks\":\"\"}}}],\"histogram\":[{\"marker\":{\"pattern\":{\"fillmode\":\"overlay\",\"size\":10,\"solidity\":0.2}},\"type\":\"histogram\"}],\"scattergl\":[{\"type\":\"scattergl\",\"marker\":{\"colorbar\":{\"outlinewidth\":0,\"ticks\":\"\"}}}],\"scatter3d\":[{\"type\":\"scatter3d\",\"line\":{\"colorbar\":{\"outlinewidth\":0,\"ticks\":\"\"}},\"marker\":{\"colorbar\":{\"outlinewidth\":0,\"ticks\":\"\"}}}],\"scattermapbox\":[{\"type\":\"scattermapbox\",\"marker\":{\"colorbar\":{\"outlinewidth\":0,\"ticks\":\"\"}}}],\"scatterternary\":[{\"type\":\"scatterternary\",\"marker\":{\"colorbar\":{\"outlinewidth\":0,\"ticks\":\"\"}}}],\"scattercarpet\":[{\"type\":\"scattercarpet\",\"marker\":{\"colorbar\":{\"outlinewidth\":0,\"ticks\":\"\"}}}],\"carpet\":[{\"aaxis\":{\"endlinecolor\":\"#2a3f5f\",\"gridcolor\":\"white\",\"linecolor\":\"white\",\"minorgridcolor\":\"white\",\"startlinecolor\":\"#2a3f5f\"},\"baxis\":{\"endlinecolor\":\"#2a3f5f\",\"gridcolor\":\"white\",\"linecolor\":\"white\",\"minorgridcolor\":\"white\",\"startlinecolor\":\"#2a3f5f\"},\"type\":\"carpet\"}],\"table\":[{\"cells\":{\"fill\":{\"color\":\"#EBF0F8\"},\"line\":{\"color\":\"white\"}},\"header\":{\"fill\":{\"color\":\"#C8D4E3\"},\"line\":{\"color\":\"white\"}},\"type\":\"table\"}],\"barpolar\":[{\"marker\":{\"line\":{\"color\":\"#E5ECF6\",\"width\":0.5},\"pattern\":{\"fillmode\":\"overlay\",\"size\":10,\"solidity\":0.2}},\"type\":\"barpolar\"}],\"pie\":[{\"automargin\":true,\"type\":\"pie\"}]},\"layout\":{\"autotypenumbers\":\"strict\",\"colorway\":[\"#636efa\",\"#EF553B\",\"#00cc96\",\"#ab63fa\",\"#FFA15A\",\"#19d3f3\",\"#FF6692\",\"#B6E880\",\"#FF97FF\",\"#FECB52\"],\"font\":{\"color\":\"#2a3f5f\"},\"hovermode\":\"closest\",\"hoverlabel\":{\"align\":\"left\"},\"paper_bgcolor\":\"white\",\"plot_bgcolor\":\"#E5ECF6\",\"polar\":{\"bgcolor\":\"#E5ECF6\",\"angularaxis\":{\"gridcolor\":\"white\",\"linecolor\":\"white\",\"ticks\":\"\"},\"radialaxis\":{\"gridcolor\":\"white\",\"linecolor\":\"white\",\"ticks\":\"\"}},\"ternary\":{\"bgcolor\":\"#E5ECF6\",\"aaxis\":{\"gridcolor\":\"white\",\"linecolor\":\"white\",\"ticks\":\"\"},\"baxis\":{\"gridcolor\":\"white\",\"linecolor\":\"white\",\"ticks\":\"\"},\"caxis\":{\"gridcolor\":\"white\",\"linecolor\":\"white\",\"ticks\":\"\"}},\"coloraxis\":{\"colorbar\":{\"outlinewidth\":0,\"ticks\":\"\"}},\"colorscale\":{\"sequential\":[[0.0,\"#0d0887\"],[0.1111111111111111,\"#46039f\"],[0.2222222222222222,\"#7201a8\"],[0.3333333333333333,\"#9c179e\"],[0.4444444444444444,\"#bd3786\"],[0.5555555555555556,\"#d8576b\"],[0.6666666666666666,\"#ed7953\"],[0.7777777777777778,\"#fb9f3a\"],[0.8888888888888888,\"#fdca26\"],[1.0,\"#f0f921\"]],\"sequentialminus\":[[0.0,\"#0d0887\"],[0.1111111111111111,\"#46039f\"],[0.2222222222222222,\"#7201a8\"],[0.3333333333333333,\"#9c179e\"],[0.4444444444444444,\"#bd3786\"],[0.5555555555555556,\"#d8576b\"],[0.6666666666666666,\"#ed7953\"],[0.7777777777777778,\"#fb9f3a\"],[0.8888888888888888,\"#fdca26\"],[1.0,\"#f0f921\"]],\"diverging\":[[0,\"#8e0152\"],[0.1,\"#c51b7d\"],[0.2,\"#de77ae\"],[0.3,\"#f1b6da\"],[0.4,\"#fde0ef\"],[0.5,\"#f7f7f7\"],[0.6,\"#e6f5d0\"],[0.7,\"#b8e186\"],[0.8,\"#7fbc41\"],[0.9,\"#4d9221\"],[1,\"#276419\"]]},\"xaxis\":{\"gridcolor\":\"white\",\"linecolor\":\"white\",\"ticks\":\"\",\"title\":{\"standoff\":15},\"zerolinecolor\":\"white\",\"automargin\":true,\"zerolinewidth\":2},\"yaxis\":{\"gridcolor\":\"white\",\"linecolor\":\"white\",\"ticks\":\"\",\"title\":{\"standoff\":15},\"zerolinecolor\":\"white\",\"automargin\":true,\"zerolinewidth\":2},\"scene\":{\"xaxis\":{\"backgroundcolor\":\"#E5ECF6\",\"gridcolor\":\"white\",\"linecolor\":\"white\",\"showbackground\":true,\"ticks\":\"\",\"zerolinecolor\":\"white\",\"gridwidth\":2},\"yaxis\":{\"backgroundcolor\":\"#E5ECF6\",\"gridcolor\":\"white\",\"linecolor\":\"white\",\"showbackground\":true,\"ticks\":\"\",\"zerolinecolor\":\"white\",\"gridwidth\":2},\"zaxis\":{\"backgroundcolor\":\"#E5ECF6\",\"gridcolor\":\"white\",\"linecolor\":\"white\",\"showbackground\":true,\"ticks\":\"\",\"zerolinecolor\":\"white\",\"gridwidth\":2}},\"shapedefaults\":{\"line\":{\"color\":\"#2a3f5f\"}},\"annotationdefaults\":{\"arrowcolor\":\"#2a3f5f\",\"arrowhead\":0,\"arrowwidth\":1},\"geo\":{\"bgcolor\":\"white\",\"landcolor\":\"#E5ECF6\",\"subunitcolor\":\"white\",\"showland\":true,\"showlakes\":true,\"lakecolor\":\"white\"},\"title\":{\"x\":0.05},\"mapbox\":{\"style\":\"light\"}}},\"xaxis\":{\"anchor\":\"y\",\"domain\":[0.0,1.0],\"matches\":\"x3\",\"showticklabels\":false},\"yaxis\":{\"anchor\":\"x\",\"domain\":[0.7777777777777778,1.0],\"title\":{\"text\":\"Mean Squared Error\"},\"range\":[0,0.15]},\"xaxis2\":{\"anchor\":\"y2\",\"domain\":[0.0,1.0],\"matches\":\"x3\",\"showticklabels\":false},\"yaxis2\":{\"anchor\":\"x2\",\"domain\":[0.3888888888888889,0.6111111111111112],\"title\":{\"text\":\"Mean Squared Error\"},\"range\":[0,0.15]},\"xaxis3\":{\"anchor\":\"y3\",\"domain\":[0.0,1.0],\"title\":{\"text\":\"Training Epochs\"}},\"yaxis3\":{\"anchor\":\"x3\",\"domain\":[0.0,0.22222222222222224],\"title\":{\"text\":\"Mean Squared Error\"},\"range\":[0,0.15]},\"annotations\":[{\"font\":{\"size\":16},\"showarrow\":false,\"text\":\"Training Loss during Pretraining\",\"x\":0.5,\"xanchor\":\"center\",\"xref\":\"paper\",\"y\":1.0,\"yanchor\":\"bottom\",\"yref\":\"paper\"},{\"font\":{\"size\":16},\"showarrow\":false,\"text\":\"Training Loss with Transfer Learning\",\"x\":0.5,\"xanchor\":\"center\",\"xref\":\"paper\",\"y\":0.6111111111111112,\"yanchor\":\"bottom\",\"yref\":\"paper\"},{\"font\":{\"size\":16},\"showarrow\":false,\"text\":\"Training Loss without Transfer Learning\",\"x\":0.5,\"xanchor\":\"center\",\"xref\":\"paper\",\"y\":0.22222222222222224,\"yanchor\":\"bottom\",\"yref\":\"paper\"}],\"height\":800,\"width\":800},                        {\"responsive\": true}                    ).then(function(){\n",
       "                            \n",
       "var gd = document.getElementById('98261284-0209-4f2f-b95c-abc2f8c87c08');\n",
       "var x = new MutationObserver(function (mutations, observer) {{\n",
       "        var display = window.getComputedStyle(gd).display;\n",
       "        if (!display || display === 'none') {{\n",
       "            console.log([gd, 'removed!']);\n",
       "            Plotly.purge(gd);\n",
       "            observer.disconnect();\n",
       "        }}\n",
       "}});\n",
       "\n",
       "// Listen for the removal of the full notebook cells\n",
       "var notebookContainer = gd.closest('#notebook-container');\n",
       "if (notebookContainer) {{\n",
       "    x.observe(notebookContainer, {childList: true});\n",
       "}}\n",
       "\n",
       "// Listen for the clearing of the current output cell\n",
       "var outputEl = gd.closest('.output');\n",
       "if (outputEl) {{\n",
       "    x.observe(outputEl, {childList: true});\n",
       "}}\n",
       "\n",
       "                        })                };                });            </script>        </div>"
      ]
     },
     "metadata": {},
     "output_type": "display_data"
    }
   ],
   "source": [
    "import plotly.subplots as sp\n",
    "import plotly.graph_objects as go\n",
    "import numpy as np\n",
    "\n",
    "def plot_loss(fig, row_num, histories, first_epoch, last_epoch, skip_first_days):\n",
    "    for run, history in histories.items():\n",
    "        if run < skip_first_days:\n",
    "            print(\"Day skipped!\")\n",
    "            continue\n",
    "        loss = np.array(history['loss'][first_epoch:last_epoch])\n",
    "        fig.add_trace(go.Scatter(x=np.arange(len(loss)), y=loss, mode='lines', name=f'Day {run}', showlegend=False), row=row_num, col=1)\n",
    "\n",
    "first_epoch = 0\n",
    "last_epoch = -1\n",
    "first_day = 0\n",
    "\n",
    "# Create Training\n",
    "fig = sp.make_subplots(rows=3, cols=1, \n",
    "                       subplot_titles=['Training Loss during Pretraining', \n",
    "                                       'Training Loss with Transfer Learning',\n",
    "                                       'Training Loss without Transfer Learning'], \n",
    "                        shared_xaxes=True)\n",
    "# Set the same scale on the y-axis for all subplots\n",
    "fig.update_yaxes(title_text=\"Mean Squared Error\", row=1, col=1, range=[0, 0.15])     # type='log'\n",
    "fig.update_yaxes(title_text=\"Mean Squared Error\", row=2, col=1, range=[0, 0.15])\n",
    "fig.update_yaxes(title_text=\"Mean Squared Error\", row=3, col=1, range=[0, 0.15])\n",
    "fig.update_xaxes(title_text=\"Training Epochs\", row=3, col=1)\n",
    "fig.update_layout(height=800, width=800)\n",
    "\n",
    "# Plot training loss for each history object\n",
    "plot_loss(fig, 2, train_histories, first_epoch, last_epoch, first_day)\n",
    "\n",
    "fig.write_image('training_loss.png', scale=4)\n",
    "\n",
    "fig.show()\n"
   ]
  },
  {
   "cell_type": "code",
   "execution_count": null,
   "metadata": {},
   "outputs": [],
   "source": []
  }
 ],
 "metadata": {
  "kernelspec": {
   "display_name": "EEG_1",
   "language": "python",
   "name": "python3"
  },
  "language_info": {
   "codemirror_mode": {
    "name": "ipython",
    "version": 3
   },
   "file_extension": ".py",
   "mimetype": "text/x-python",
   "name": "python",
   "nbconvert_exporter": "python",
   "pygments_lexer": "ipython3",
   "version": "3.11.9"
  }
 },
 "nbformat": 4,
 "nbformat_minor": 2
}
